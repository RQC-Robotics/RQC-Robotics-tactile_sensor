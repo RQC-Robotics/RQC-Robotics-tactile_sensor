{
 "cells": [
  {
   "cell_type": "code",
   "execution_count": 1,
   "id": "476e7b38-a35c-4459-95fe-ea28c1a98662",
   "metadata": {},
   "outputs": [],
   "source": [
    "import tensorflow as tf\n",
    "from tensorflow.keras import layers\n",
    "from tensorflow.keras import regularizers\n",
    "from tensorflow.keras.models import Model\n",
    "from tensorflow.keras import Sequential\n",
    "import matplotlib.pyplot as plt\n",
    "import numpy as np\n",
    "import random\n",
    "import math\n",
    "import tensorflow_docs as tfdocs\n",
    "import tensorflow_docs.modeling\n",
    "import tensorflow_docs.plots\n",
    "from numba import jit\n",
    "import numba"
   ]
  },
  {
   "cell_type": "code",
   "execution_count": 2,
   "id": "5879dcf9-32c9-411f-8bc3-862923b0dd65",
   "metadata": {},
   "outputs": [],
   "source": [
    "from numba import cuda"
   ]
  },
  {
   "cell_type": "code",
   "execution_count": 55,
   "id": "526f2de4-dd72-4957-9c3d-6fa1ae40d6a8",
   "metadata": {},
   "outputs": [],
   "source": [
    "from numba import njit"
   ]
  },
  {
   "cell_type": "code",
   "execution_count": 2,
   "id": "519aa617-b3e2-4390-9596-3974b70eabaa",
   "metadata": {},
   "outputs": [
    {
     "data": {
      "text/plain": [
       "'0.51.2'"
      ]
     },
     "execution_count": 2,
     "metadata": {},
     "output_type": "execute_result"
    }
   ],
   "source": [
    "numba.__version__"
   ]
  },
  {
   "cell_type": "code",
   "execution_count": null,
   "id": "ec769b7e-8cab-40fd-b097-d8c1231dd7e0",
   "metadata": {},
   "outputs": [],
   "source": [
    "# x=10\n",
    "# y=10\n",
    "# M, mu = generate_gaus_params(float(x),float(y))\n",
    "# M = tf.constant(M,dtype=tf.float32)\n",
    "# mu = tf.constant(mu,dtype=tf.float32)\n",
    "# vec_mat = tf.constant([ [ [[i, j]] for i in range(int(x))] for j in range(int(y))], dtype=tf.float32)"
   ]
  },
  {
   "cell_type": "code",
   "execution_count": null,
   "id": "16a61e50-35a9-466c-b43b-da12f2c05ffa",
   "metadata": {},
   "outputs": [],
   "source": [
    "# def generate_gaus_params2(x,y):\n",
    "#     theta = tf.random.uniform(shape=[1],minval=0,maxval=np.pi,dtype=tf.float32)\n",
    "#     # theta = np.pi*np.random.random()\n",
    "#     # x1 = tf.random.uniform(shape=[2],minval=0,maxval=tf.reduce_sum(x)*2,dtype=tf.float32)\n",
    "#     a = np.random.random()/(x+y)*2.0\n",
    "#     b = np.random.random()/(x+y)*2.0\n",
    "#     c, s = np.cos(theta), np.sin(theta)\n",
    "#     R = tf.constant(((c, -s), (s, c)),dtype=tf.float32)\n",
    "#     M = tf.constant(((a, 0), (0, b)),dtype=tf.float32)\n",
    "#     print(M)\n",
    "#     r=tf.constant((x,y),dtype=tf.float32)\n",
    "#     return tf.tensordot(tf.tensordot(R, M,axes=1), tf.trenspose(R),axes=1), tf.random.uniform(shape=[1,2],minval=0,maxval=1,dtype=tf.float32)*r"
   ]
  },
  {
   "cell_type": "code",
   "execution_count": null,
   "id": "a25b368a-4438-442d-b044-8b56030e4d72",
   "metadata": {},
   "outputs": [],
   "source": [
    "# print(vec_mat.shape)\n",
    "# x = vec_mat - mu\n",
    "# print(x.shape)\n",
    "# f = tf.tensordot( M,  tf.transpose(x, (0, 1, 3, 2)) , axes=(0, 2))\n",
    "# print(f.shape)\n",
    "# f = tf.transpose(f, (1, 2, 3, 0))\n",
    "# print(f.shape)\n",
    "# f=tf.reduce_sum(x*f, axis=3)\n",
    "# print(f.shape)\n",
    "# resalt = tf.exp(-1*f)\n",
    "# resalt.shape"
   ]
  },
  {
   "cell_type": "code",
   "execution_count": null,
   "id": "3bc7728d-ae0e-4627-ae0c-3b193e86fe4d",
   "metadata": {},
   "outputs": [],
   "source": [
    "# def gaussian_func2(M, mu, vec_mat):\n",
    "#     M = tf.constant(M,dtype=tf.float32)\n",
    "#     mu = tf.constant(mu,dtype=tf.float32)\n",
    "#     x = vec_mat - mu\n",
    "#     f = tf.tensordot( M,  tf.transpose(x, (0, 1, 3, 2)) , axes=(0, 2))\n",
    "#     f = tf.transpose(f, (1, 2, 3, 0))\n",
    "#     f=tf.reduce_sum(x*f, axis=3)\n",
    "#     resalt = tf.exp(-1*f)\n",
    "#     return resalt"
   ]
  },
  {
   "cell_type": "code",
   "execution_count": null,
   "id": "3581e946-6352-473b-9480-4fca69b756ae",
   "metadata": {},
   "outputs": [],
   "source": [
    "# def get_vec_mat(x,y):\n",
    "#     return tf.constant([ [ [[i, j]] for i in range(int(x))] for j in range(int(y))], dtype=tf.float32)"
   ]
  },
  {
   "cell_type": "code",
   "execution_count": 14,
   "id": "52d1697e-0bb4-4a0b-b8f9-35ad702d54d5",
   "metadata": {},
   "outputs": [],
   "source": [
    "@jit(nopython=True)\n",
    "def get_vec_mat2(x,y):\n",
    "    mas=np.zeros((x,y,2,1),dtype=np.float32)\n",
    "    for i in range(x):\n",
    "        for j in range(y):\n",
    "            mas[i,j,:,0]=[i,j]\n",
    "    return mas        \n",
    "    # return np.array([ [ [[i, j]] for i in range(int(x))] for j in range(int(y))], dtype=np.float32)"
   ]
  },
  {
   "cell_type": "code",
   "execution_count": 89,
   "id": "f4d613af-db01-4dc0-82cc-9a040fd11a09",
   "metadata": {},
   "outputs": [
    {
     "data": {
      "text/plain": [
       "(100, 100, 2, 1)"
      ]
     },
     "execution_count": 89,
     "metadata": {},
     "output_type": "execute_result"
    }
   ],
   "source": [
    "get_vec_mat2(100,100).shape"
   ]
  },
  {
   "cell_type": "code",
   "execution_count": null,
   "id": "f45f28a4-ed69-406e-bd4c-a42591e9cc8f",
   "metadata": {},
   "outputs": [],
   "source": [
    "# def generate_multi_gaussian2(x, y, n, vec_mat):\n",
    "#     n2=int(n)\n",
    "#     mat = tf.zeros([x, y], dtype=tf.float32)\n",
    "#     for i in range(n2):\n",
    "#       M, mu = generate_gaus_params(float(x),float(y))\n",
    "#       gauss_mat = tf.reshape(gaussian_func2(M, mu, vec_mat), [int(x), int(y)])\n",
    "#       mat = mat + gauss_mat*random.random()\n",
    "#     #plt.imshow(mat)\n",
    "#     return mat\n"
   ]
  },
  {
   "cell_type": "code",
   "execution_count": 4,
   "id": "602826c0-d26b-4db1-a0be-9490419ae3a2",
   "metadata": {},
   "outputs": [],
   "source": [
    "@jit(nopython=True)\n",
    "def generate_gaus_params(x, y):\n",
    "    theta = np.pi*np.random.random()\n",
    "    a = np.random.random()/(x+y)*2.0*4\n",
    "    b = np.random.random()/(x+y)*2.0*4\n",
    "\n",
    "    c, s = np.cos(theta), np.sin(theta)\n",
    "    R = np.array(((c, -s), (s, c)))\n",
    "    M = np.array(((a, 0), (0, b)))\n",
    "    # print(np.random.rand(1,2)*np.array([x, y])/3 + np.array([x, y])/6)\n",
    "    return np.dot(np.dot(R, M), R.transpose()), np.random.rand(1,2)*np.array([x, y])/3 + np.array([x, y])/3\n",
    "\n",
    "# @jit(nopython=True)\n",
    "# def gaussian_func(M, mu, vec_mat):\n",
    "#     x = vec_mat - mu\n",
    "#     # x = np.transpose(x, (0, 1, 3, 2))\n",
    "    \n",
    "#     f = np.tensordot(M, x, axes=(0, 2))\n",
    "#     f = np.transpose(f, (1, 2, 3, 0))\n",
    "#     final = np.exp( -1* np.sum(x*f, axis=3))\n",
    "\n",
    "    # return final\n",
    "\n",
    "@jit(nopython=True)\n",
    "def generate_multi_gaussian(x, y, n,vec_mat):\n",
    "    # vec_mat = np.array([ [ [[i, j]] for i in range(int(x))] for j in range(int(y))], dtype=np.float32)\n",
    "    mat = np.zeros((x, y), dtype=np.float32)\n",
    "    for i in range(n):\n",
    "        M, mu = generate_gaus_params(float(x),float(y))\n",
    "        gauss_mat = gaussian_func2(M, mu, vec_mat) #.reshape(int(x), int(y))\n",
    "        mat += gauss_mat*random.random()\n",
    "    #plt.imshow(mat)\n",
    "    return mat"
   ]
  },
  {
   "cell_type": "code",
   "execution_count": 3,
   "id": "9d2ec08c-f111-40cc-af40-7e8238a3400a",
   "metadata": {},
   "outputs": [
    {
     "name": "stdout",
     "output_type": "stream",
     "text": [
      "(100, 100, 2, 1)\n"
     ]
    },
    {
     "ename": "NameError",
     "evalue": "name 'mu' is not defined",
     "output_type": "error",
     "traceback": [
      "\u001b[0;31m---------------------------------------------------------------------------\u001b[0m",
      "\u001b[0;31mNameError\u001b[0m                                 Traceback (most recent call last)",
      "\u001b[0;32m/tmp/ipykernel_17288/200645402.py\u001b[0m in \u001b[0;36m<module>\u001b[0;34m\u001b[0m\n\u001b[1;32m      1\u001b[0m \u001b[0mvec_mat\u001b[0m\u001b[0;34m=\u001b[0m\u001b[0mget_vec_mat2\u001b[0m\u001b[0;34m(\u001b[0m\u001b[0;36m100\u001b[0m\u001b[0;34m,\u001b[0m\u001b[0;36m100\u001b[0m\u001b[0;34m)\u001b[0m\u001b[0;34m\u001b[0m\u001b[0;34m\u001b[0m\u001b[0m\n\u001b[1;32m      2\u001b[0m \u001b[0mprint\u001b[0m\u001b[0;34m(\u001b[0m\u001b[0mvec_mat\u001b[0m\u001b[0;34m.\u001b[0m\u001b[0mshape\u001b[0m\u001b[0;34m)\u001b[0m\u001b[0;34m\u001b[0m\u001b[0;34m\u001b[0m\u001b[0m\n\u001b[0;32m----> 3\u001b[0;31m \u001b[0mx\u001b[0m \u001b[0;34m=\u001b[0m \u001b[0mvec_mat\u001b[0m \u001b[0;34m-\u001b[0m \u001b[0mmu\u001b[0m\u001b[0;34m.\u001b[0m\u001b[0mtranspose\u001b[0m\u001b[0;34m(\u001b[0m\u001b[0;34m)\u001b[0m\u001b[0;34m\u001b[0m\u001b[0;34m\u001b[0m\u001b[0m\n\u001b[0m\u001b[1;32m      4\u001b[0m \u001b[0mprint\u001b[0m\u001b[0;34m(\u001b[0m\u001b[0mx\u001b[0m\u001b[0;34m.\u001b[0m\u001b[0mshape\u001b[0m\u001b[0;34m)\u001b[0m\u001b[0;34m\u001b[0m\u001b[0;34m\u001b[0m\u001b[0m\n\u001b[1;32m      5\u001b[0m \u001b[0mprint\u001b[0m\u001b[0;34m(\u001b[0m\u001b[0mM\u001b[0m\u001b[0;34m.\u001b[0m\u001b[0mshape\u001b[0m\u001b[0;34m)\u001b[0m\u001b[0;34m\u001b[0m\u001b[0;34m\u001b[0m\u001b[0m\n",
      "\u001b[0;31mNameError\u001b[0m: name 'mu' is not defined"
     ]
    }
   ],
   "source": [
    "vec_mat=get_vec_mat2(100,100)\n",
    "print(vec_mat.shape)\n",
    "x = vec_mat - mu.transpose()\n",
    "print(x.shape)\n",
    "print(M.shape)\n",
    "f=np.zeros((100,100,1))\n",
    "for i in range(100):\n",
    "    for j in range(100):\n",
    "        r=np.dot(M,x[i,j,:,:])\n",
    "        r2=np.dot(x[i,j,:,:].transpose(),r)\n",
    "        f[i,j,:]=r2\n",
    "print(f.shape)"
   ]
  },
  {
   "cell_type": "code",
   "execution_count": 4,
   "id": "e4b9c4b4-11dd-4b0b-8592-fcca8f242d36",
   "metadata": {},
   "outputs": [],
   "source": [
    "@jit(nopython=True)\n",
    "def gaussian_func2(M, mu, vec_mat):\n",
    "    vec_mat=get_vec_mat2(100,100)\n",
    "    # print(vec_mat.shape)\n",
    "    x = vec_mat - mu.transpose()\n",
    "    # print(x.shape)\n",
    "    # print(M.shape)\n",
    "    f=np.zeros((100,100,1))\n",
    "    for i in range(100):\n",
    "        for j in range(100):\n",
    "            r=np.dot(M,x[i,j,:,:])\n",
    "            r2=np.dot(x[i,j,:,:].transpose(),r)\n",
    "            f[i,j,:]=r2\n",
    "    # print(f.shape)\n",
    "    return np.exp(f*-1)[:,:,0]"
   ]
  },
  {
   "cell_type": "code",
   "execution_count": 30,
   "id": "d4a1441d-0746-4767-8619-cbc39cf82e87",
   "metadata": {},
   "outputs": [
    {
     "ename": "NameError",
     "evalue": "name 'x' is not defined",
     "output_type": "error",
     "traceback": [
      "\u001b[0;31m---------------------------------------------------------------------------\u001b[0m",
      "\u001b[0;31mNameError\u001b[0m                                 Traceback (most recent call last)",
      "\u001b[0;32m/tmp/ipykernel_8039/1911548150.py\u001b[0m in \u001b[0;36m<module>\u001b[0;34m\u001b[0m\n\u001b[0;32m----> 1\u001b[0;31m \u001b[0mM\u001b[0m\u001b[0;34m,\u001b[0m \u001b[0mmu\u001b[0m \u001b[0;34m=\u001b[0m \u001b[0mgenerate_gaus_params\u001b[0m\u001b[0;34m(\u001b[0m\u001b[0mfloat\u001b[0m\u001b[0;34m(\u001b[0m\u001b[0mx\u001b[0m\u001b[0;34m)\u001b[0m\u001b[0;34m,\u001b[0m\u001b[0mfloat\u001b[0m\u001b[0;34m(\u001b[0m\u001b[0my\u001b[0m\u001b[0;34m)\u001b[0m\u001b[0;34m)\u001b[0m\u001b[0;34m\u001b[0m\u001b[0;34m\u001b[0m\u001b[0m\n\u001b[0m\u001b[1;32m      2\u001b[0m \u001b[0mmat\u001b[0m\u001b[0;34m=\u001b[0m\u001b[0mgaussian_func2\u001b[0m\u001b[0;34m(\u001b[0m\u001b[0mM\u001b[0m\u001b[0;34m,\u001b[0m \u001b[0mmu\u001b[0m\u001b[0;34m,\u001b[0m \u001b[0mvec_mat\u001b[0m\u001b[0;34m)\u001b[0m\u001b[0;34m\u001b[0m\u001b[0;34m\u001b[0m\u001b[0m\n\u001b[1;32m      3\u001b[0m \u001b[0mplt\u001b[0m\u001b[0;34m.\u001b[0m\u001b[0mimshow\u001b[0m\u001b[0;34m(\u001b[0m\u001b[0mmat\u001b[0m\u001b[0;34m)\u001b[0m\u001b[0;34m\u001b[0m\u001b[0;34m\u001b[0m\u001b[0m\n\u001b[1;32m      4\u001b[0m \u001b[0mplt\u001b[0m\u001b[0;34m.\u001b[0m\u001b[0mshow\u001b[0m\u001b[0;34m(\u001b[0m\u001b[0;34m)\u001b[0m\u001b[0;34m\u001b[0m\u001b[0;34m\u001b[0m\u001b[0m\n",
      "\u001b[0;31mNameError\u001b[0m: name 'x' is not defined"
     ]
    }
   ],
   "source": [
    "M, mu = generate_gaus_params(float(x),float(y))\n",
    "mat=gaussian_func2(M, mu, vec_mat)\n",
    "plt.imshow(mat)\n",
    "plt.show()"
   ]
  },
  {
   "cell_type": "code",
   "execution_count": 31,
   "id": "29248fe1-1c23-4ebb-bc65-91af03979fa1",
   "metadata": {},
   "outputs": [
    {
     "data": {
      "text/plain": [
       "(100, 100)"
      ]
     },
     "execution_count": 31,
     "metadata": {},
     "output_type": "execute_result"
    }
   ],
   "source": [
    "x=100\n",
    "y=100\n",
    "n=10\n",
    "vec_mat=get_vec_mat2(x,y)\n",
    "mat = np.zeros([x, y], dtype=np.float32)\n",
    "for i in range(n):\n",
    "    M, mu = generate_gaus_params(float(x),float(y))\n",
    "    gauss_mat = gaussian_func2(M, mu, vec_mat) #.reshape(int(x), int(y))\n",
    "    mat += gauss_mat*random.random()\n",
    "#plt.imshow(mat)\n",
    "mat.shape"
   ]
  },
  {
   "cell_type": "code",
   "execution_count": 40,
   "id": "cddd04ad-2b0f-45f5-bad2-ddff1ae35bcc",
   "metadata": {},
   "outputs": [
    {
     "data": {
      "text/plain": [
       "(array([[ 0.00278826, -0.00065051],\n",
       "        [-0.00065051,  0.01958624]]),\n",
       " array([[4.4617818 , 7.07582124]]))"
      ]
     },
     "execution_count": 40,
     "metadata": {},
     "output_type": "execute_result"
    }
   ],
   "source": [
    "generate_gaus_params(10, 10)"
   ]
  },
  {
   "cell_type": "code",
   "execution_count": 29,
   "id": "a3f9a5b5-18e9-4d01-b8fc-7808cec95bae",
   "metadata": {},
   "outputs": [
    {
     "data": {
      "text/plain": [
       "(100, 100)"
      ]
     },
     "execution_count": 29,
     "metadata": {},
     "output_type": "execute_result"
    }
   ],
   "source": [
    "X=100\n",
    "Y=100\n",
    "vec_mat=get_vec_mat2(X,Y)\n",
    "generate_multi_gaussian(X, Y, 10,vec_mat).shape"
   ]
  },
  {
   "cell_type": "code",
   "execution_count": 12,
   "id": "37c455c7-c39c-4a20-9642-2821020f3052",
   "metadata": {},
   "outputs": [],
   "source": [
    "@jit(parallel = True)\n",
    "def generate_multi_gaussian_alot(X,Y,n_images, n=5):\n",
    "    vec_mat=get_vec_mat2(X,Y)\n",
    "    pressure_mat=np.zeros((n_images,X,Y),dtype=np.float32)\n",
    "    # hat_mat=round_fun((X, Y), (int(X/2), int(Y/2)), lambda x: hat(x,int(X/3)))\n",
    "    for i in range(n_images):\n",
    "        pressure_mat[i,:,:]=generate_multi_gaussian(X, Y, n,vec_mat) #*hat_mat\n",
    "    return pressure_mat"
   ]
  },
  {
   "cell_type": "code",
   "execution_count": 83,
   "id": "23e6216c-451d-4150-99bf-2667b2c3e9ec",
   "metadata": {},
   "outputs": [
    {
     "name": "stderr",
     "output_type": "stream",
     "text": [
      "/tmp/ipykernel_8039/1600292012.py:7: NumbaPerformanceWarning: np.dot() is faster on contiguous arrays, called on (array(float64, 2d, A), array(float64, 2d, C))\n",
      "  pressure_mat[i,:,:]=generate_multi_gaussian(X, Y, n,vec_mat) #*hat_mat\n",
      "/tmp/ipykernel_8039/1600292012.py:7: NumbaPerformanceWarning: np.dot() is faster on contiguous arrays, called on (array(float64, 2d, C), array(float64, 2d, A))\n",
      "  pressure_mat[i,:,:]=generate_multi_gaussian(X, Y, n,vec_mat) #*hat_mat\n"
     ]
    }
   ],
   "source": [
    "mas=generate_multi_gaussian_alot(92,92,5)"
   ]
  },
  {
   "cell_type": "code",
   "execution_count": 86,
   "id": "304f274a-5a08-420a-821e-b86a9bacaa81",
   "metadata": {},
   "outputs": [
    {
     "data": {
      "image/png": "[encoded data removed]",
      "text/plain": [
       "<Figure size 432x288 with 1 Axes>"
      ]
     },
     "metadata": {
      "needs_background": "light"
     },
     "output_type": "display_data"
    }
   ],
   "source": [
    "plt.imshow(mas[4])\n",
    "plt.show()"
   ]
  },
  {
   "cell_type": "code",
   "execution_count": 6,
   "id": "8d15f65c-3652-4167-b47d-bcd90c7a6c00",
   "metadata": {},
   "outputs": [],
   "source": [
    "def Convolution(input, filter, padding=\"SAME\"):\n",
    "  convolved = tf.nn.conv2d(input, filter, strides=[1, 1, 1, 1], padding=padding)\n",
    "  return convolved\n",
    "\n",
    "def gauss_blur(input, num_angles, kern_size=40, fwhm=20):\n",
    "    gauss_kernel = makeGaussian(size=kern_size, fwhm=fwhm)\n",
    "    gauss_kernel = tf.tile(gauss_kernel, [1, 1, 1, num_angles])\n",
    "    return Convolution(input, gauss_kernel, padding=\"SAME\")\n",
    "\n",
    "def makeGaussian(size, fwhm = 3, center=None):\n",
    "    \"\"\" Make a square gaussian kernel.\n",
    "\n",
    "    size is the length of a side of the square\n",
    "    fwhm is full-width-half-maximum, which\n",
    "    can be thought of as an effective radius.\n",
    "    \"\"\"\n",
    "    x = np.arange(0, size, 1, float)\n",
    "    y = x[:,np.newaxis]\n",
    "\n",
    "    if center is None:\n",
    "        x0 = y0 = size // 2\n",
    "    else:\n",
    "        x0 = center[0]\n",
    "        y0 = center[1]\n",
    "\n",
    "    gauss = np.exp(-4*np.log(2) * ((x-x0)**2 + (y-y0)**2) / fwhm**2)\n",
    "    #plt.imshow(gauss)\n",
    "    gauss = tf.constant(gauss, dtype=tf.float32)[:-1, :-1, tf.newaxis, tf.newaxis]\n",
    "    return gauss\n",
    "\n",
    "def rotate(input, theta):\n",
    "    rot_layer = tf.keras.layers.RandomRotation(\n",
    "      (theta, theta), fill_mode='constant', interpolation='bilinear',\n",
    "      seed=None, fill_value=0.0)\n",
    "    return rot_layer(input)\n",
    "\n",
    "def derivate(input, num_angles):\n",
    "    derivative_kernel = tf.constant(np.array([[1, -2, 1]]).transpose(), dtype=tf.float32)\n",
    "    derivative_kernel = derivative_kernel[:, :, tf.newaxis, tf.newaxis]\n",
    "    derivative_kernel = tf.tile(derivative_kernel, [1, 1, 1, num_angles])\n",
    "    derivative_mat = Convolution(input, derivative_kernel, padding='VALID')\n",
    "    return derivative_mat\n",
    "\n",
    "def square(input):\n",
    "    return tf.keras.layers.Activation(tf.math.square)(input)\n",
    "\n",
    "def summ(input):\n",
    "    return tf.math.reduce_sum(input, axis=1, keepdims=False)\n",
    "\n",
    "def round_fun(shape,centr,fun):\n",
    "  center=np.array(centr)\n",
    "  mas=np.zeros(shape)\n",
    "  for x in range(shape[0]):\n",
    "    for y in range(shape[1]):\n",
    "      p=np.array((x,y))\n",
    "      mas[x,y]=fun(np.linalg.norm(p-center))\n",
    "  return mas\n",
    "\n",
    "def hat(x,r):\n",
    "  if abs(x)<r:\n",
    "    resalt=math.exp(1/8/((x/r)**2-1**2))\n",
    "  else:\n",
    "    resalt=0\n",
    "  return resalt"
   ]
  },
  {
   "cell_type": "code",
   "execution_count": 12,
   "id": "5709f06c-469e-4fae-8b10-16407b06e014",
   "metadata": {},
   "outputs": [],
   "source": [
    "X=100\n",
    "Y=100\n",
    "hat_mat=round_fun((X, Y), (int(X/2), int(Y/2)), lambda x: hat(x,int(X/3)))"
   ]
  },
  {
   "cell_type": "code",
   "execution_count": 13,
   "id": "c8305b34-3c2d-432a-8c38-031afd5abe0c",
   "metadata": {},
   "outputs": [
    {
     "data": {
      "image/png": "[encoded data removed]",
      "text/plain": [
       "<Figure size 432x288 with 1 Axes>"
      ]
     },
     "metadata": {
      "needs_background": "light"
     },
     "output_type": "display_data"
    }
   ],
   "source": [
    "plt.imshow(hat_mat)\n",
    "plt.show()"
   ]
  },
  {
   "cell_type": "code",
   "execution_count": 14,
   "id": "9a8e7cb2-74b2-435f-8b65-5dcbc793bd49",
   "metadata": {},
   "outputs": [
    {
     "data": {
      "image/png": "[encoded data removed]",
      "text/plain": [
       "<Figure size 432x288 with 1 Axes>"
      ]
     },
     "metadata": {
      "needs_background": "light"
     },
     "output_type": "display_data"
    }
   ],
   "source": [
    "plt.plot(hat_mat[50])\n",
    "plt.show()"
   ]
  },
  {
   "cell_type": "code",
   "execution_count": 7,
   "id": "efefe1d1-0fe9-474e-9c16-a42b0546ed6a",
   "metadata": {},
   "outputs": [],
   "source": [
    "def generate_dataset(n_images, n_angles, X = 91, Y = 91):\n",
    "    hat_mat=round_fun((X, Y), (int(X/2), int(Y/2)), lambda x: hat(x,int(X/3)))\n",
    "    # ars=tf.constant(np.ones(n_images)*10, dtype=tf.float32)\n",
    "    # vec_mat = get_vec_mat(X,Y)\n",
    "    # with tf.device(tf.DeviceSpec(device_type=\"GPU\", device_index=0)):\n",
    "    #     pressure_mat = tf.map_fn(lambda n: generate_multi_gaussian2(X,Y,n,vec_mat),ars)\n",
    "\n",
    "    # for i in range(n_images):\n",
    "    #     pressure_mat.append(generate_multi_gaussian(X, Y, 10)*hat_mat)\n",
    "    # print (\"Gauss_generated\")\n",
    "    pressure_mat = generate_multi_gaussian_alot(X,Y,n_images)\n",
    "    pressure_mat = tf.constant(pressure_mat*hat_mat, dtype=tf.float32)\n",
    "    print (pressure_mat.shape)\n",
    "    pressure_mat = pressure_mat[:, :, :, tf.newaxis]\n",
    "    print (pressure_mat.shape)\n",
    "    pressure_mat2=tf.tile(pressure_mat,[10,1,1,1])\n",
    "    pressure_mat_angl=tf.keras.layers.RandomRotation(\n",
    "      (0, 2*np.pi), fill_mode='constant', interpolation='bilinear',\n",
    "      seed=None, fill_value=0.0)(pressure_mat2)\n",
    "    pressure_tensor = pressure_mat_angl[:,:,:,0]\n",
    "    rotated_array = []\n",
    "    for i in range (n_angles):\n",
    "      rot_mat = rotate(pressure_mat_angl, i*np.pi/n_angles)\n",
    "      rotated_array.append(rot_mat)\n",
    "\n",
    "    rot_tensor = tf.concat(rotated_array, axis=-1)\n",
    "    print (rot_tensor.shape)\n",
    "\n",
    "    \n",
    "    pressure_tensor = tf.slice(pressure_tensor, [0, int(X/6.0), int(Y/6.0)], [n_images*10, int(X*(1.0 - 2.0/6.0)), int(Y*(1.0 - 2.0/6.0))])\n",
    "    sliced_tensor = tf.slice(rot_tensor, [0, int(X/6.0), int(Y/6.0), 0], [n_images*10, int(X*(1.0 - 2.0/6.0)), int(Y*(1.0 - 2.0/6.0)), n_angles])\n",
    "    \n",
    "    blured_mat = gauss_blur(sliced_tensor, n_angles, kern_size=50, fwhm=20)\n",
    "    print (blured_mat.shape)\n",
    "\n",
    "    print (blured_mat.shape)\n",
    "\n",
    "    sq_deriv_tensor =  square(derivate(blured_mat,n_angles))\n",
    "\n",
    "    sum_tensor = summ(sq_deriv_tensor)\n",
    "\n",
    "    print(sum_tensor.shape)\n",
    "\n",
    "    return sum_tensor, pressure_tensor, sliced_tensor, sq_deriv_tensor"
   ]
  },
  {
   "cell_type": "code",
   "execution_count": 8,
   "id": "d79cc5fd-7c9a-4c00-96fe-ac77eb4a0383",
   "metadata": {},
   "outputs": [],
   "source": [
    "def ferst_dataset(n_images, X = 92, Y = 92):\n",
    "  hat_mat=round_fun((X, Y), (int(X/2), int(Y/2)), lambda x: hat(x,int(X/3)))\n",
    "  pressure_mat = generate_multi_gaussian_alot(X,Y,n_images)\n",
    "  pressure_mat_a = pressure_mat*hat_mat\n",
    "  with open('fresh_gauss.npy', 'wb') as f:\n",
    "    np.save(f, pressure_mat_a)"
   ]
  },
  {
   "cell_type": "code",
   "execution_count": 13,
   "id": "47afc11d-43c0-4369-bd76-a61d51f77c78",
   "metadata": {},
   "outputs": [
    {
     "name": "stderr",
     "output_type": "stream",
     "text": [
      "/tmp/ipykernel_17288/1600292012.py:1: NumbaWarning: \n",
      "Compilation is falling back to object mode WITH looplifting enabled because Function \"generate_multi_gaussian_alot\" failed type inference due to: NameError: name 'generate_multi_gaussian' is not defined\n",
      "  @jit(parallel = True)\n",
      "/tmp/ipykernel_17288/1600292012.py:1: NumbaWarning: \n",
      "Compilation is falling back to object mode WITHOUT looplifting enabled because Function \"generate_multi_gaussian_alot\" failed type inference due to: cannot determine Numba type of <class 'numba.core.dispatcher.LiftedLoop'>\n",
      "\n",
      "File \"../../../tmp/ipykernel_17288/1600292012.py\", line 6:\n",
      "<source missing, REPL/exec in use?>\n",
      "\n",
      "  @jit(parallel = True)\n",
      "/home/ai/miniconda3/envs/rlgpu2/lib/python3.7/site-packages/numba/core/object_mode_passes.py:178: NumbaWarning: Function \"generate_multi_gaussian_alot\" was compiled in object mode without forceobj=True, but has lifted loops.\n",
      "\n",
      "File \"../../../tmp/ipykernel_17288/1600292012.py\", line 3:\n",
      "<source missing, REPL/exec in use?>\n",
      "\n",
      "  state.func_ir.loc))\n",
      "/home/ai/miniconda3/envs/rlgpu2/lib/python3.7/site-packages/numba/core/object_mode_passes.py:188: NumbaDeprecationWarning: \n",
      "Fall-back from the nopython compilation path to the object mode compilation path has been detected, this is deprecated behaviour.\n",
      "\n",
      "For more information visit https://numba.pydata.org/numba-doc/latest/reference/deprecation.html#deprecation-of-object-mode-fall-back-behaviour-when-using-jit\n",
      "\n",
      "File \"../../../tmp/ipykernel_17288/1600292012.py\", line 3:\n",
      "<source missing, REPL/exec in use?>\n",
      "\n",
      "  state.func_ir.loc))\n",
      "/tmp/ipykernel_17288/1600292012.py:1: NumbaWarning: \n",
      "Compilation is falling back to object mode WITHOUT looplifting enabled because Function \"generate_multi_gaussian_alot\" failed type inference due to: NameError: name 'generate_multi_gaussian' is not defined\n",
      "  @jit(parallel = True)\n",
      "/home/ai/miniconda3/envs/rlgpu2/lib/python3.7/site-packages/numba/core/object_mode_passes.py:178: NumbaWarning: Function \"generate_multi_gaussian_alot\" was compiled in object mode without forceobj=True.\n",
      "\n",
      "File \"../../../tmp/ipykernel_17288/1600292012.py\", line 6:\n",
      "<source missing, REPL/exec in use?>\n",
      "\n",
      "  state.func_ir.loc))\n",
      "/home/ai/miniconda3/envs/rlgpu2/lib/python3.7/site-packages/numba/core/object_mode_passes.py:188: NumbaDeprecationWarning: \n",
      "Fall-back from the nopython compilation path to the object mode compilation path has been detected, this is deprecated behaviour.\n",
      "\n",
      "For more information visit https://numba.pydata.org/numba-doc/latest/reference/deprecation.html#deprecation-of-object-mode-fall-back-behaviour-when-using-jit\n",
      "\n",
      "File \"../../../tmp/ipykernel_17288/1600292012.py\", line 6:\n",
      "<source missing, REPL/exec in use?>\n",
      "\n",
      "  state.func_ir.loc))\n"
     ]
    },
    {
     "ename": "NameError",
     "evalue": "global name 'generate_multi_gaussian' is not defined",
     "output_type": "error",
     "traceback": [
      "\u001b[0;31m---------------------------------------------------------------------------\u001b[0m",
      "\u001b[0;31mNameError\u001b[0m                                 Traceback (most recent call last)",
      "\u001b[0;32m/tmp/ipykernel_17288/1229591462.py\u001b[0m in \u001b[0;36m<module>\u001b[0;34m\u001b[0m\n\u001b[0;32m----> 1\u001b[0;31m \u001b[0minputt\u001b[0m\u001b[0;34m,\u001b[0m \u001b[0moutput\u001b[0m\u001b[0;34m,\u001b[0m \u001b[0msliced_tensor\u001b[0m\u001b[0;34m,\u001b[0m \u001b[0msq_deriv_tensor\u001b[0m \u001b[0;34m=\u001b[0m \u001b[0mgenerate_dataset\u001b[0m\u001b[0;34m(\u001b[0m\u001b[0;36m10\u001b[0m\u001b[0;34m,\u001b[0m \u001b[0;36m4\u001b[0m\u001b[0;34m,\u001b[0m \u001b[0mX\u001b[0m \u001b[0;34m=\u001b[0m \u001b[0;36m92\u001b[0m\u001b[0;34m,\u001b[0m \u001b[0mY\u001b[0m \u001b[0;34m=\u001b[0m \u001b[0;36m92\u001b[0m\u001b[0;34m)\u001b[0m\u001b[0;34m\u001b[0m\u001b[0;34m\u001b[0m\u001b[0m\n\u001b[0m",
      "\u001b[0;32m/tmp/ipykernel_17288/3601431236.py\u001b[0m in \u001b[0;36mgenerate_dataset\u001b[0;34m(n_images, n_angles, X, Y)\u001b[0m\n\u001b[1;32m      9\u001b[0m     \u001b[0;31m#     pressure_mat.append(generate_multi_gaussian(X, Y, 10)*hat_mat)\u001b[0m\u001b[0;34m\u001b[0m\u001b[0;34m\u001b[0m\u001b[0;34m\u001b[0m\u001b[0m\n\u001b[1;32m     10\u001b[0m     \u001b[0;31m# print (\"Gauss_generated\")\u001b[0m\u001b[0;34m\u001b[0m\u001b[0;34m\u001b[0m\u001b[0;34m\u001b[0m\u001b[0m\n\u001b[0;32m---> 11\u001b[0;31m     \u001b[0mpressure_mat\u001b[0m \u001b[0;34m=\u001b[0m \u001b[0mgenerate_multi_gaussian_alot\u001b[0m\u001b[0;34m(\u001b[0m\u001b[0mX\u001b[0m\u001b[0;34m,\u001b[0m\u001b[0mY\u001b[0m\u001b[0;34m,\u001b[0m\u001b[0mn_images\u001b[0m\u001b[0;34m)\u001b[0m\u001b[0;34m\u001b[0m\u001b[0;34m\u001b[0m\u001b[0m\n\u001b[0m\u001b[1;32m     12\u001b[0m     \u001b[0mpressure_mat\u001b[0m \u001b[0;34m=\u001b[0m \u001b[0mtf\u001b[0m\u001b[0;34m.\u001b[0m\u001b[0mconstant\u001b[0m\u001b[0;34m(\u001b[0m\u001b[0mpressure_mat\u001b[0m\u001b[0;34m*\u001b[0m\u001b[0mhat_mat\u001b[0m\u001b[0;34m,\u001b[0m \u001b[0mdtype\u001b[0m\u001b[0;34m=\u001b[0m\u001b[0mtf\u001b[0m\u001b[0;34m.\u001b[0m\u001b[0mfloat32\u001b[0m\u001b[0;34m)\u001b[0m\u001b[0;34m\u001b[0m\u001b[0;34m\u001b[0m\u001b[0m\n\u001b[1;32m     13\u001b[0m     \u001b[0mprint\u001b[0m \u001b[0;34m(\u001b[0m\u001b[0mpressure_mat\u001b[0m\u001b[0;34m.\u001b[0m\u001b[0mshape\u001b[0m\u001b[0;34m)\u001b[0m\u001b[0;34m\u001b[0m\u001b[0;34m\u001b[0m\u001b[0m\n",
      "\u001b[0;31mNameError\u001b[0m: global name 'generate_multi_gaussian' is not defined"
     ]
    }
   ],
   "source": [
    "inputt, output, sliced_tensor, sq_deriv_tensor = generate_dataset(10, 4, X = 92, Y = 92)"
   ]
  },
  {
   "cell_type": "code",
   "execution_count": 37,
   "id": "4aee5f83-8e25-436d-aede-b372bcfec52c",
   "metadata": {},
   "outputs": [],
   "source": [
    "with open('gausses.npy', 'wb') as f:\n",
    "    np.save(f, inputt.numpy())\n",
    "    np.save(f, output.numpy())\n",
    "    np.save(f, sliced_tensor.numpy())\n",
    "    np.save(f, sq_deriv_tensor.numpy())"
   ]
  },
  {
   "cell_type": "code",
   "execution_count": 41,
   "id": "aec13f01-9088-4c74-8bfd-dd90b86b0228",
   "metadata": {},
   "outputs": [],
   "source": [
    "del output, sliced_tensor, sq_deriv_tensor"
   ]
  },
  {
   "cell_type": "code",
   "execution_count": 105,
   "id": "37c0aa58-cd23-4c00-ac49-f5b821654785",
   "metadata": {},
   "outputs": [
    {
     "data": {
      "text/plain": [
       "(10000, 61, 61)"
      ]
     },
     "execution_count": 105,
     "metadata": {},
     "output_type": "execute_result"
    }
   ],
   "source": [
    "output.numpy().shape"
   ]
  },
  {
   "cell_type": "code",
   "execution_count": null,
   "id": "f4d3f3c1-2a62-40ac-a801-fa0251ca2657",
   "metadata": {},
   "outputs": [],
   "source": [
    "input2=[input[:,::2,i] for i in range(4)]\n",
    "output2=output[:,::2,::2]"
   ]
  },
  {
   "cell_type": "code",
   "execution_count": 107,
   "id": "c1b6860a-4f87-44f7-92a8-4a09269dfea6",
   "metadata": {},
   "outputs": [
    {
     "name": "stdout",
     "output_type": "stream",
     "text": [
      "(10000, 16, 16)\n",
      "(10000, 16)\n"
     ]
    }
   ],
   "source": [
    "print(output2.shape)\n",
    "print(input2[0].shape)"
   ]
  },
  {
   "cell_type": "code",
   "execution_count": 26,
   "id": "d0e174ef-4554-49fc-b7ea-72c113a097ec",
   "metadata": {},
   "outputs": [
    {
     "data": {
      "image/png": "[encoded data removed]",
      "text/plain": [
       "<Figure size 432x288 with 1 Axes>"
      ]
     },
     "metadata": {
      "needs_background": "light"
     },
     "output_type": "display_data"
    },
    {
     "data": {
      "image/png": "[encoded data removed]",
      "text/plain": [
       "<Figure size 432x288 with 1 Axes>"
      ]
     },
     "metadata": {
      "needs_background": "light"
     },
     "output_type": "display_data"
    }
   ],
   "source": [
    "plt.imshow(output[49])\n",
    "plt.show()\n",
    "plt.imshow(sq_deriv_tensor[49,:,:,0])\n",
    "plt.show()"
   ]
  },
  {
   "cell_type": "code",
   "execution_count": null,
   "id": "23a02848-0a9c-4ba1-8fe3-cbaf3134973e",
   "metadata": {},
   "outputs": [],
   "source": [
    "def get_siamese_model(input_shape,n_angl):\n",
    "    \"\"\"\n",
    "        Model architecture\n",
    "    \"\"\"\n",
    "    inputs=[layers.Input(input_shape) for _ in range(n_angl)]\n",
    "    # inputs=tf.tile(layers.Input(input_shape)[tf.newaxis,:,:,:],[n_angl,1,1,1,])\n",
    "    # Define the tensors for the two input images\n",
    "    \n",
    "    # Convolutional Neural Network\n",
    "    model = Sequential()\n",
    "    model.add(layers.Conv1D(4, 5, activation='relu', input_shape=input_shape)) # kernel_initializer=initialize_weights, kernel_regularizer=l2(2e-4)\n",
    "    model.add(layers.MaxPooling1D())\n",
    "    model.add(layers.Conv1D(8, 3, activation='relu', input_shape=input_shape))\n",
    "    model.add(layers.MaxPooling1D())\n",
    "    # model.add(layers.Conv1D(16, 3, activation='relu', input_shape=input_shape))\n",
    "    # model.add(layers.MaxPooling1D())\n",
    "    # model.add(layers.Conv1D(32, 3, activation='relu', input_shape=input_shape))\n",
    "    # model.add(layers.MaxPooling1D())\n",
    "    model.add(layers.Flatten())\n",
    "    model.add(layers.Dense(8, activation='relu'))\n",
    "    \n",
    "    # Generate the encodings (feature vectors) for the two images\n",
    "    encodeds = tf.stack([model(input) for input in inputs], axis=1)\n",
    "    # encodeds = tf.map_fn(model, inputs)\n",
    "    # encodeds = tf.transpose(encodeds, perm=[1,0,2,3])\n",
    "    flat_layer = layers.Flatten()(encodeds)\n",
    "    dense_layer = layers.Dense(32, activation='relu')(flat_layer)\n",
    "    flat_resalt = layers.Dense(16*16, activation='relu')(dense_layer)\n",
    "    resalt = layers.Reshape((16, 16))(flat_resalt)\n",
    "    # print(tf.stack(inputs,axis=3))\n",
    "    # Connect the inputs with the outputs\n",
    "    siamese_net = Model(inputs=inputs,outputs=resalt)\n",
    "    \n",
    "    # return the model\n",
    "    return siamese_net"
   ]
  },
  {
   "cell_type": "code",
   "execution_count": null,
   "id": "373c948b-6524-4b44-b692-24e0e5ed7ff7",
   "metadata": {},
   "outputs": [],
   "source": [
    "model = get_siamese_model((16,1),4)\n",
    "model.summary()\n",
    "model.compile(optimizer=tf.keras.optimizers.Adam(1e-4), loss=tf.keras.losses.MeanSquaredError(), metrics=['accuracy'])"
   ]
  },
  {
   "cell_type": "code",
   "execution_count": null,
   "id": "e0b69f3c-f621-4787-b6bf-e7ddc5ba08b1",
   "metadata": {},
   "outputs": [],
   "source": [
    "model.fit(input2, output2, epochs = 100, validation_split=0.1, verbose=1)"
   ]
  },
  {
   "cell_type": "code",
   "execution_count": null,
   "id": "db262af0-53ab-4762-b9e1-0c063ef5fd63",
   "metadata": {},
   "outputs": [],
   "source": [
    "predictions = model.predict(input2)"
   ]
  },
  {
   "cell_type": "code",
   "execution_count": null,
   "id": "ef913847-050f-4a09-a025-1ff6c3195ee1",
   "metadata": {},
   "outputs": [],
   "source": [
    "N = 901\n",
    "plt.imshow(predictions[N])\n",
    "plt.show()\n",
    "plt.imshow(output.numpy()[N])"
   ]
  },
  {
   "cell_type": "code",
   "execution_count": null,
   "id": "fc8de4fb-1a9c-46af-a7f4-47e3d6aad73d",
   "metadata": {},
   "outputs": [],
   "source": []
  }
 ],
 "metadata": {
  "kernelspec": {
   "display_name": "rlgpu2",
   "language": "python",
   "name": "rlgpu2"
  },
  "language_info": {
   "codemirror_mode": {
    "name": "ipython",
    "version": 3
   },
   "file_extension": ".py",
   "mimetype": "text/x-python",
   "name": "python",
   "nbconvert_exporter": "python",
   "pygments_lexer": "ipython3",
   "version": "3.7.12"
  }
 },
 "nbformat": 4,
 "nbformat_minor": 5
}
