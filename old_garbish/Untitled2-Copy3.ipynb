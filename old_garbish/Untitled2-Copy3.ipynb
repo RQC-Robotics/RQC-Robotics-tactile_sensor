{
 "cells": [
  {
   "cell_type": "code",
   "execution_count": 1,
   "id": "476e7b38-a35c-4459-95fe-ea28c1a98662",
   "metadata": {},
   "outputs": [],
   "source": [
    "import tensorflow as tf\n",
    "from tensorflow.keras import layers\n",
    "from tensorflow.keras import regularizers\n",
    "from tensorflow.keras.models import Model\n",
    "from tensorflow.keras import Sequential\n",
    "import matplotlib.pyplot as plt\n",
    "import numpy as np\n",
    "import random\n",
    "import math\n",
    "import tensorflow_docs as tfdocs\n",
    "import tensorflow_docs.modeling\n",
    "import tensorflow_docs.plots\n",
    "from numba import jit\n",
    "import numba"
   ]
  },
  {
   "cell_type": "code",
   "execution_count": 2,
   "id": "52d1697e-0bb4-4a0b-b8f9-35ad702d54d5",
   "metadata": {},
   "outputs": [],
   "source": [
    "@jit(nopython=True)\n",
    "def get_vec_mat2(x,y):\n",
    "    mas=np.zeros((x,y,2,1),dtype=np.float32)\n",
    "    for i in range(x):\n",
    "        for j in range(y):\n",
    "            mas[i,j,:,0]=[i,j]\n",
    "    return mas        \n",
    "    # return np.array([ [ [[i, j]] for i in range(int(x))] for j in range(int(y))], dtype=np.float32)"
   ]
  },
  {
   "cell_type": "code",
   "execution_count": 3,
   "id": "602826c0-d26b-4db1-a0be-9490419ae3a2",
   "metadata": {},
   "outputs": [],
   "source": [
    "@jit(nopython=True)\n",
    "def generate_gaus_params(x, y):\n",
    "    theta = np.pi*np.random.random()\n",
    "    a = np.random.random()/(x+y)*2.0*4\n",
    "    b = np.random.random()/(x+y)*2.0*4\n",
    "\n",
    "    c, s = np.cos(theta), np.sin(theta)\n",
    "    R = np.array(((c, -s), (s, c)))\n",
    "    M = np.array(((a, 0), (0, b)))\n",
    "    # print(np.random.rand(1,2)*np.array([x, y])/3 + np.array([x, y])/6)\n",
    "    return np.dot(np.dot(R, M), R.transpose()), np.random.rand(1,2)*np.array([x, y])/3 + np.array([x, y])/3\n",
    "\n",
    "# @jit(nopython=True)\n",
    "# def gaussian_func(M, mu, vec_mat):\n",
    "#     x = vec_mat - mu\n",
    "#     # x = np.transpose(x, (0, 1, 3, 2))\n",
    "    \n",
    "#     f = np.tensordot(M, x, axes=(0, 2))\n",
    "#     f = np.transpose(f, (1, 2, 3, 0))\n",
    "#     final = np.exp( -1* np.sum(x*f, axis=3))\n",
    "\n",
    "    # return final\n",
    "\n",
    "@jit(nopython=True)\n",
    "def generate_multi_gaussian(x, y, n,vec_mat):\n",
    "    # vec_mat = np.array([ [ [[i, j]] for i in range(int(x))] for j in range(int(y))], dtype=np.float32)\n",
    "    mat = np.zeros((x, y), dtype=np.float32)\n",
    "    for i in range(n):\n",
    "        M, mu = generate_gaus_params(float(x),float(y))\n",
    "        gauss_mat = gaussian_func2(M, mu, vec_mat) #.reshape(int(x), int(y))\n",
    "        mat += gauss_mat*random.random()\n",
    "    #plt.imshow(mat)\n",
    "    return mat"
   ]
  },
  {
   "cell_type": "code",
   "execution_count": 4,
   "id": "e4b9c4b4-11dd-4b0b-8592-fcca8f242d36",
   "metadata": {},
   "outputs": [],
   "source": [
    "@jit(nopython=True)\n",
    "def gaussian_func2(M, mu, vec_mat):\n",
    "    vec_mat=get_vec_mat2(100,100)\n",
    "    # print(vec_mat.shape)\n",
    "    x = vec_mat - mu.transpose()\n",
    "    # print(x.shape)\n",
    "    # print(M.shape)\n",
    "    f=np.zeros((100,100,1))\n",
    "    for i in range(100):\n",
    "        for j in range(100):\n",
    "            r=np.dot(M,x[i,j,:,:])\n",
    "            r2=np.dot(x[i,j,:,:].transpose(),r)\n",
    "            f[i,j,:]=r2\n",
    "    # print(f.shape)\n",
    "    return np.exp(f*-1)[:,:,0]"
   ]
  },
  {
   "cell_type": "code",
   "execution_count": 5,
   "id": "37c455c7-c39c-4a20-9642-2821020f3052",
   "metadata": {},
   "outputs": [],
   "source": [
    "@jit(parallel = True)\n",
    "def generate_multi_gaussian_alot(X,Y,n_images, n=15):\n",
    "    vec_mat=get_vec_mat2(X,Y)\n",
    "    pressure_mat=np.zeros((n_images,X,Y),dtype=np.float32)\n",
    "    # hat_mat=round_fun((X, Y), (int(X/2), int(Y/2)), lambda x: hat(x,int(X/3)))\n",
    "    for i in range(n_images):\n",
    "        pressure_mat[i,:,:]=generate_multi_gaussian(X, Y, n,vec_mat) #*hat_mat\n",
    "    return pressure_mat"
   ]
  },
  {
   "cell_type": "code",
   "execution_count": 6,
   "id": "8d15f65c-3652-4167-b47d-bcd90c7a6c00",
   "metadata": {},
   "outputs": [],
   "source": [
    "def Convolution(input, filter, padding=\"SAME\"):\n",
    "  convolved = tf.nn.conv2d(input, filter, strides=[1, 1, 1, 1], padding=padding)\n",
    "  return convolved\n",
    "\n",
    "def gauss_blur(input, num_angles, kern_size=40, fwhm=20):\n",
    "    gauss_kernel = makeGaussian(size=kern_size, fwhm=fwhm)\n",
    "    gauss_kernel = tf.tile(gauss_kernel, [1, 1, 1, num_angles])\n",
    "    return Convolution(input, gauss_kernel, padding=\"SAME\")\n",
    "\n",
    "def makeGaussian(size, fwhm = 3, center=None):\n",
    "    \"\"\" Make a square gaussian kernel.\n",
    "\n",
    "    size is the length of a side of the square\n",
    "    fwhm is full-width-half-maximum, which\n",
    "    can be thought of as an effective radius.\n",
    "    \"\"\"\n",
    "    x = np.arange(0, size, 1, float)\n",
    "    y = x[:,np.newaxis]\n",
    "\n",
    "    if center is None:\n",
    "        x0 = y0 = size // 2\n",
    "    else:\n",
    "        x0 = center[0]\n",
    "        y0 = center[1]\n",
    "\n",
    "    gauss = np.exp(-4*np.log(2) * ((x-x0)**2 + (y-y0)**2) / fwhm**2)\n",
    "    #plt.imshow(gauss)\n",
    "    gauss = tf.constant(gauss, dtype=tf.float32)[:-1, :-1, tf.newaxis, tf.newaxis]\n",
    "    return gauss\n",
    "\n",
    "def rotate(input, theta):\n",
    "    rot_layer = tf.keras.layers.RandomRotation(\n",
    "      (theta, theta), fill_mode='constant', interpolation='bilinear',\n",
    "      seed=None, fill_value=0.0)\n",
    "    return rot_layer(input)\n",
    "\n",
    "def derivate(input, num_angles):\n",
    "    derivative_kernel = tf.constant(np.array([[1, -2, 1]]).transpose(), dtype=tf.float32)\n",
    "    derivative_kernel = derivative_kernel[:, :, tf.newaxis, tf.newaxis]\n",
    "    derivative_kernel = tf.tile(derivative_kernel, [1, 1, 1, num_angles])\n",
    "    derivative_mat = Convolution(input, derivative_kernel, padding='VALID')\n",
    "    return derivative_mat\n",
    "\n",
    "def square(input):\n",
    "    return tf.keras.layers.Activation(tf.math.square)(input)\n",
    "\n",
    "def summ(input):\n",
    "    return tf.math.reduce_sum(input, axis=1, keepdims=False)\n",
    "\n",
    "def round_fun(shape,centr,fun):\n",
    "  center=np.array(centr)\n",
    "  mas=np.zeros(shape)\n",
    "  for x in range(shape[0]):\n",
    "    for y in range(shape[1]):\n",
    "      p=np.array((x,y))\n",
    "      mas[x,y]=fun(np.linalg.norm(p-center))\n",
    "  return mas\n",
    "\n",
    "def hat(x,r):\n",
    "  if abs(x)<r:\n",
    "    resalt=math.exp(1/8/((x/r)**2-1**2))\n",
    "  else:\n",
    "    resalt=0\n",
    "  return resalt"
   ]
  },
  {
   "cell_type": "code",
   "execution_count": 7,
   "id": "efefe1d1-0fe9-474e-9c16-a42b0546ed6a",
   "metadata": {},
   "outputs": [],
   "source": [
    "def generate_dataset(n_images, n_angles, X = 91, Y = 91):\n",
    "    hat_mat=round_fun((X, Y), (int(X/2), int(Y/2)), lambda x: hat(x,int(X/3)))\n",
    "    # ars=tf.constant(np.ones(n_images)*10, dtype=tf.float32)\n",
    "    # vec_mat = get_vec_mat(X,Y)\n",
    "    # with tf.device(tf.DeviceSpec(device_type=\"GPU\", device_index=0)):\n",
    "    #     pressure_mat = tf.map_fn(lambda n: generate_multi_gaussian2(X,Y,n,vec_mat),ars)\n",
    "\n",
    "    # for i in range(n_images):\n",
    "    #     pressure_mat.append(generate_multi_gaussian(X, Y, 10)*hat_mat)\n",
    "    # print (\"Gauss_generated\")\n",
    "    pressure_mat = generate_multi_gaussian_alot(X,Y,n_images)\n",
    "    pressure_mat = tf.constant(pressure_mat*hat_mat, dtype=tf.float32)\n",
    "    print (pressure_mat.shape)\n",
    "    pressure_mat = pressure_mat[:, :, :, tf.newaxis]\n",
    "    print (pressure_mat.shape)\n",
    "    pressure_mat2=tf.tile(pressure_mat,[10,1,1,1])\n",
    "    pressure_mat_angl=tf.keras.layers.RandomRotation(\n",
    "      (0, 2*np.pi), fill_mode='constant', interpolation='bilinear',\n",
    "      seed=None, fill_value=0.0)(pressure_mat2)\n",
    "    pressure_tensor = pressure_mat_angl[:,:,:,0]\n",
    "    rotated_array = []\n",
    "    for i in range (n_angles):\n",
    "      rot_mat = rotate(pressure_mat_angl, i*np.pi/n_angles)\n",
    "      rotated_array.append(rot_mat)\n",
    "\n",
    "    rot_tensor = tf.concat(rotated_array, axis=-1)\n",
    "    print (rot_tensor.shape)\n",
    "\n",
    "    \n",
    "    pressure_tensor = tf.slice(pressure_tensor, [0, int(X/6.0), int(Y/6.0)], [n_images*10, int(X*(1.0 - 2.0/6.0)), int(Y*(1.0 - 2.0/6.0))])\n",
    "    sliced_tensor = tf.slice(rot_tensor, [0, int(X/6.0), int(Y/6.0), 0], [n_images*10, int(X*(1.0 - 2.0/6.0)), int(Y*(1.0 - 2.0/6.0)), n_angles])\n",
    "    \n",
    "    blured_mat = gauss_blur(sliced_tensor, n_angles, kern_size=50, fwhm=20)\n",
    "    print (blured_mat.shape)\n",
    "\n",
    "    print (blured_mat.shape)\n",
    "\n",
    "    sq_deriv_tensor =  square(derivate(blured_mat,n_angles))\n",
    "\n",
    "    sum_tensor = summ(sq_deriv_tensor)\n",
    "\n",
    "    print(sum_tensor.shape)\n",
    "\n",
    "    return sum_tensor, pressure_tensor, sliced_tensor, sq_deriv_tensor"
   ]
  },
  {
   "cell_type": "code",
   "execution_count": 8,
   "id": "d79cc5fd-7c9a-4c00-96fe-ac77eb4a0383",
   "metadata": {},
   "outputs": [],
   "source": [
    "def ferst_dataset(n_images, X = 97, Y = 97):\n",
    "    hat_mat=round_fun((X, Y), (int(X/2), int(Y/2)), lambda x: hat(x,int(X/3)))\n",
    "    pressure_mat = generate_multi_gaussian_alot(X,Y,n_images)\n",
    "    pressure_mat_a = pressure_mat*hat_mat\n",
    "    # with open('fresh_gauss15.npy', 'rb') as f:\n",
    "    #     pressure_mat_old = np.load(f)\n",
    "    # pressure_mat_new = np.concatenate([pressure_mat_old, pressure_mat_a], axis=0)\n",
    "    with open('fresh_gauss15_100000.npy', 'wb') as f:\n",
    "        np.save(f, pressure_mat_a)"
   ]
  },
  {
   "cell_type": "code",
   "execution_count": 9,
   "id": "f1afe9ea-6ed6-4809-a41a-d8a4b436145f",
   "metadata": {},
   "outputs": [
    {
     "name": "stderr",
     "output_type": "stream",
     "text": [
      "/tmp/ipykernel_5191/2868327652.py:7: NumbaPerformanceWarning: np.dot() is faster on contiguous arrays, called on (array(float64, 2d, A), array(float64, 2d, C))\n",
      "  pressure_mat[i,:,:]=generate_multi_gaussian(X, Y, n,vec_mat) #*hat_mat\n",
      "/tmp/ipykernel_5191/2868327652.py:7: NumbaPerformanceWarning: np.dot() is faster on contiguous arrays, called on (array(float64, 2d, C), array(float64, 2d, A))\n",
      "  pressure_mat[i,:,:]=generate_multi_gaussian(X, Y, n,vec_mat) #*hat_mat\n",
      "OMP: Info #271: omp_set_nested routine deprecated, please use omp_set_max_active_levels instead.\n"
     ]
    }
   ],
   "source": [
    "ferst_dataset(100000)"
   ]
  },
  {
   "cell_type": "code",
   "execution_count": 53,
   "id": "3fb463e3-bbff-4db1-935a-5cc5489a0c38",
   "metadata": {},
   "outputs": [],
   "source": [
    "with open('fresh_gauss.npy', 'rb') as f:\n",
    "      pressure_mat = np.load(f)"
   ]
  },
  {
   "cell_type": "code",
   "execution_count": 54,
   "id": "82bf7efc-4d4c-4333-8f7d-01f0ab7aaa21",
   "metadata": {},
   "outputs": [
    {
     "data": {
      "text/plain": [
       "(10000, 97, 97)"
      ]
     },
     "execution_count": 54,
     "metadata": {},
     "output_type": "execute_result"
    }
   ],
   "source": [
    "pressure_mat.shape"
   ]
  },
  {
   "cell_type": "code",
   "execution_count": null,
   "id": "47afc11d-43c0-4369-bd76-a61d51f77c78",
   "metadata": {},
   "outputs": [],
   "source": [
    "# inputt, output, sliced_tensor, sq_deriv_tensor = generate_dataset(10, 4, X = 97, Y = 97)"
   ]
  },
  {
   "cell_type": "code",
   "execution_count": 37,
   "id": "4aee5f83-8e25-436d-aede-b372bcfec52c",
   "metadata": {},
   "outputs": [],
   "source": [
    "with open('gausses.npy', 'wb') as f:\n",
    "    np.save(f, inputt.numpy())\n",
    "    np.save(f, output.numpy())\n",
    "    np.save(f, sliced_tensor.numpy())\n",
    "    np.save(f, sq_deriv_tensor.numpy())"
   ]
  },
  {
   "cell_type": "code",
   "execution_count": 41,
   "id": "aec13f01-9088-4c74-8bfd-dd90b86b0228",
   "metadata": {},
   "outputs": [],
   "source": [
    "del output, sliced_tensor, sq_deriv_tensor"
   ]
  },
  {
   "cell_type": "code",
   "execution_count": 105,
   "id": "37c0aa58-cd23-4c00-ac49-f5b821654785",
   "metadata": {},
   "outputs": [
    {
     "data": {
      "text/plain": [
       "(10000, 61, 61)"
      ]
     },
     "execution_count": 105,
     "metadata": {},
     "output_type": "execute_result"
    }
   ],
   "source": [
    "output.numpy().shape"
   ]
  },
  {
   "cell_type": "code",
   "execution_count": 24,
   "id": "f4d3f3c1-2a62-40ac-a801-fa0251ca2657",
   "metadata": {},
   "outputs": [],
   "source": [
    "input2=[inputt[:,::2,i] for i in range(4)]\n",
    "output2=output[:,::2,::2]"
   ]
  },
  {
   "cell_type": "code",
   "execution_count": 26,
   "id": "c1b6860a-4f87-44f7-92a8-4a09269dfea6",
   "metadata": {},
   "outputs": [
    {
     "name": "stdout",
     "output_type": "stream",
     "text": [
      "(100, 32, 32)\n",
      "(100, 32)\n"
     ]
    }
   ],
   "source": [
    "print(output2.shape)\n",
    "print(input2[0].shape)"
   ]
  },
  {
   "cell_type": "code",
   "execution_count": 26,
   "id": "d0e174ef-4554-49fc-b7ea-72c113a097ec",
   "metadata": {},
   "outputs": [
    {
     "data": {
      "image/png": "[encoded data removed]",
      "text/plain": [
       "<Figure size 432x288 with 1 Axes>"
      ]
     },
     "metadata": {
      "needs_background": "light"
     },
     "output_type": "display_data"
    },
    {
     "data": {
      "image/png": "[encoded data removed]",
      "text/plain": [
       "<Figure size 432x288 with 1 Axes>"
      ]
     },
     "metadata": {
      "needs_background": "light"
     },
     "output_type": "display_data"
    }
   ],
   "source": [
    "plt.imshow(output[49])\n",
    "plt.show()\n",
    "plt.imshow(sq_deriv_tensor[49,:,:,0])\n",
    "plt.show()"
   ]
  },
  {
   "cell_type": "code",
   "execution_count": null,
   "id": "23a02848-0a9c-4ba1-8fe3-cbaf3134973e",
   "metadata": {},
   "outputs": [],
   "source": [
    "def get_siamese_model(input_shape,n_angl):\n",
    "    \"\"\"\n",
    "        Model architecture\n",
    "    \"\"\"\n",
    "    inputs=[layers.Input(input_shape) for _ in range(n_angl)]\n",
    "    # inputs=tf.tile(layers.Input(input_shape)[tf.newaxis,:,:,:],[n_angl,1,1,1,])\n",
    "    # Define the tensors for the two input images\n",
    "    \n",
    "    # Convolutional Neural Network\n",
    "    model = Sequential()\n",
    "    model.add(layers.Conv1D(4, 5, activation='relu', input_shape=input_shape)) # kernel_initializer=initialize_weights, kernel_regularizer=l2(2e-4)\n",
    "    model.add(layers.MaxPooling1D())\n",
    "    model.add(layers.Conv1D(8, 3, activation='relu', input_shape=input_shape))\n",
    "    model.add(layers.MaxPooling1D())\n",
    "    # model.add(layers.Conv1D(16, 3, activation='relu', input_shape=input_shape))\n",
    "    # model.add(layers.MaxPooling1D())\n",
    "    # model.add(layers.Conv1D(32, 3, activation='relu', input_shape=input_shape))\n",
    "    # model.add(layers.MaxPooling1D())\n",
    "    model.add(layers.Flatten())\n",
    "    model.add(layers.Dense(8, activation='relu'))\n",
    "    \n",
    "    # Generate the encodings (feature vectors) for the two images\n",
    "    encodeds = tf.stack([model(input) for input in inputs], axis=1)\n",
    "    # encodeds = tf.map_fn(model, inputs)\n",
    "    # encodeds = tf.transpose(encodeds, perm=[1,0,2,3])\n",
    "    flat_layer = layers.Flatten()(encodeds)\n",
    "    dense_layer = layers.Dense(32, activation='relu')(flat_layer)\n",
    "    flat_resalt = layers.Dense(16*16, activation='relu')(dense_layer)\n",
    "    resalt = layers.Reshape((16, 16))(flat_resalt)\n",
    "    # print(tf.stack(inputs,axis=3))\n",
    "    # Connect the inputs with the outputs\n",
    "    siamese_net = Model(inputs=inputs,outputs=resalt)\n",
    "    \n",
    "    # return the model\n",
    "    return siamese_net"
   ]
  },
  {
   "cell_type": "code",
   "execution_count": null,
   "id": "373c948b-6524-4b44-b692-24e0e5ed7ff7",
   "metadata": {},
   "outputs": [],
   "source": [
    "model = get_siamese_model((16,1),4)\n",
    "model.summary()\n",
    "model.compile(optimizer=tf.keras.optimizers.Adam(1e-4), loss=tf.keras.losses.MeanSquaredError(), metrics=['accuracy'])"
   ]
  },
  {
   "cell_type": "code",
   "execution_count": null,
   "id": "e0b69f3c-f621-4787-b6bf-e7ddc5ba08b1",
   "metadata": {},
   "outputs": [],
   "source": [
    "model.fit(input2, output2, epochs = 100, validation_split=0.1, verbose=1)"
   ]
  },
  {
   "cell_type": "code",
   "execution_count": null,
   "id": "db262af0-53ab-4762-b9e1-0c063ef5fd63",
   "metadata": {},
   "outputs": [],
   "source": [
    "predictions = model.predict(input2)"
   ]
  },
  {
   "cell_type": "code",
   "execution_count": null,
   "id": "ef913847-050f-4a09-a025-1ff6c3195ee1",
   "metadata": {},
   "outputs": [],
   "source": [
    "N = 901\n",
    "plt.imshow(predictions[N])\n",
    "plt.show()\n",
    "plt.imshow(output.numpy()[N])"
   ]
  },
  {
   "cell_type": "code",
   "execution_count": null,
   "id": "fc8de4fb-1a9c-46af-a7f4-47e3d6aad73d",
   "metadata": {},
   "outputs": [],
   "source": []
  }
 ],
 "metadata": {
  "kernelspec": {
   "display_name": "rlgpu2",
   "language": "python",
   "name": "rlgpu2"
  },
  "language_info": {
   "codemirror_mode": {
    "name": "ipython",
    "version": 3
   },
   "file_extension": ".py",
   "mimetype": "text/x-python",
   "name": "python",
   "nbconvert_exporter": "python",
   "pygments_lexer": "ipython3",
   "version": "3.7.12"
  }
 },
 "nbformat": 4,
 "nbformat_minor": 5
}
