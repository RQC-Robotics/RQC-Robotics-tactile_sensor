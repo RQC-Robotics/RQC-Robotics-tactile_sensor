{
 "cells": [
  {
   "cell_type": "code",
   "execution_count": 1,
   "metadata": {},
   "outputs": [
    {
     "name": "stdout",
     "output_type": "stream",
     "text": [
      "/home/amir/PycharmProjects/rqc_internship/RQC-Robotics-tactile_sensor\n"
     ]
    }
   ],
   "source": [
    "%cd ..\n",
    "%load_ext autoreload\n",
    "%autoreload 2"
   ]
  },
  {
   "cell_type": "code",
   "execution_count": 2,
   "metadata": {
    "cellId": "p5k153ekggp9r7wh6i7ej6",
    "id": "EPNxeZi7MnUO"
   },
   "outputs": [],
   "source": [
    "import numpy as np\n",
    "import matplotlib.pyplot as plt\n",
    "from os.path import join as jn\n",
    "import os\n",
    "import yaml\n",
    "import torch\n",
    "from torchinfo import summary\n",
    "from tqdm.notebook import tqdm\n",
    "from torch.utils.data import DataLoader, Dataset"
   ]
  },
  {
   "cell_type": "code",
   "execution_count": 3,
   "metadata": {},
   "outputs": [],
   "source": [
    "with open('params.yaml') as conf_file:\n",
    "    config = yaml.safe_load(conf_file)\n",
    "with open('pathes.yaml') as conf_file:\n",
    "    path_config = yaml.safe_load(conf_file)\n"
   ]
  },
  {
   "cell_type": "code",
   "execution_count": 12,
   "metadata": {},
   "outputs": [],
   "source": [
    "device = 'cuda' if torch.cuda.is_available() else 'cpu'\n",
    "\n",
    "base_model_path = path_config['base_model_path']\n",
    "base_model = torch.load(base_model_path, map_location=device)"
   ]
  },
  {
   "cell_type": "code",
   "execution_count": 13,
   "metadata": {},
   "outputs": [],
   "source": [
    "pressure_path = path_config['p_video_path']\n",
    "signal_path = path_config['s_video_path']\n",
    "\n",
    "\n",
    "video_names = [x for x in os.listdir(pressure_path) if x.endswith('.npy')]\n",
    "name = video_names[0]\n",
    "pressure = np.load(jn(pressure_path, name))\n",
    "signal = np.load(jn(signal_path, name))"
   ]
  },
  {
   "cell_type": "code",
   "execution_count": 14,
   "metadata": {},
   "outputs": [],
   "source": [
    "predicted_pressure = []\n",
    "sig_dataloader = DataLoader(signal, batch_size=30)\n",
    "with torch.no_grad():\n",
    "    for inputs in sig_dataloader:\n",
    "        inputs = inputs.to(device)\n",
    "        base_model.eval()\n",
    "        outputs = base_model(inputs).cpu()\n",
    "        predicted_pressure.append(outputs)\n",
    "\n",
    "predicted_pressure = torch.cat(predicted_pressure).numpy()"
   ]
  },
  {
   "cell_type": "code",
   "execution_count": 15,
   "metadata": {},
   "outputs": [],
   "source": [
    "def pack_learn_dataset(pres, sign, pred_pre):\n",
    "    result = []\n",
    "    for i in range(1, len(pres)):\n",
    "        input = np.concatenate([\n",
    "            pred_pre[i].flatten(),\n",
    "            pred_pre[i-1].flatten(),\n",
    "            sign[i-1].flatten(), \n",
    "            (sign[i] - sign[i-1]).flatten()\n",
    "        ])\n",
    "        result.append((input, pres[i]))\n",
    "    return result"
   ]
  },
  {
   "cell_type": "code",
   "execution_count": 16,
   "metadata": {},
   "outputs": [],
   "source": [
    "batchsize = config['train']['batch_size']\n",
    "\n",
    "train_dataset = pack_learn_dataset(pressure, signal, predicted_pressure) \n",
    "train_dataloader = DataLoader(train_dataset, batch_size=batchsize)\n",
    "\n",
    "inp, outp = next(iter(train_dataloader))\n"
   ]
  },
  {
   "cell_type": "code",
   "execution_count": 17,
   "metadata": {},
   "outputs": [],
   "source": [
    "name = video_names[1]\n",
    "pressure = np.load(jn(pressure_path, name))\n",
    "signal = np.load(jn(signal_path, name))\n",
    "predicted_pressure = []\n",
    "sig_dataloader = DataLoader(signal, batch_size=30)\n",
    "with torch.no_grad():\n",
    "    for inputs in sig_dataloader:\n",
    "        inputs = inputs.to(device)\n",
    "        base_model.eval()\n",
    "        outputs = base_model(inputs).cpu()\n",
    "        predicted_pressure.append(outputs)\n",
    "\n",
    "predicted_pressure = torch.cat(predicted_pressure).numpy()"
   ]
  },
  {
   "cell_type": "code",
   "execution_count": 18,
   "metadata": {},
   "outputs": [],
   "source": [
    "test_dataset = pack_learn_dataset(pressure, signal, predicted_pressure) \n",
    "test_dataloader = DataLoader(test_dataset, batch_size=batchsize)\n"
   ]
  },
  {
   "cell_type": "code",
   "execution_count": 19,
   "metadata": {},
   "outputs": [],
   "source": [
    "import models_src\n",
    "model = models_src.FullyConnectedImprover(inp.shape, outp.shape)\n",
    "summary(model, inp.shape)\n",
    "tr = config['train']\n",
    "optim = torch.optim.Adam(model.parameters(), lr=tr['learning_rate'])\n",
    "loss_fn = torch.nn.MSELoss()\n"
   ]
  },
  {
   "cell_type": "code",
   "execution_count": 10,
   "metadata": {},
   "outputs": [],
   "source": [
    "\n",
    "# training functions\n",
    "\n",
    "\n",
    "def fit_epoch(model, train_loader, criterion, optimizer, pbar=None):\n",
    "    running_loss = 0.0\n",
    "    processed_data = 0\n",
    "    for inputs, labels in train_loader:\n",
    "        if pbar is not None:\n",
    "            pbar.update(1)\n",
    "        inputs = inputs.to(device)\n",
    "        labels = labels.to(device)\n",
    "        optimizer.zero_grad()\n",
    "\n",
    "        outputs = model(inputs)\n",
    "        loss = criterion(outputs, labels)\n",
    "        loss.backward()\n",
    "        optimizer.step()\n",
    "        running_loss += loss.item() * inputs.size(0)\n",
    "        processed_data += inputs.size(0)\n",
    "\n",
    "    train_loss = running_loss / processed_data\n",
    "    return train_loss\n",
    "\n",
    "\n",
    "def eval_epoch(model, test_loader, criterion, pbar=None):\n",
    "    model.eval()\n",
    "    running_loss = 0.0\n",
    "    processed_size = 0\n",
    "\n",
    "    for inputs, labels in test_loader:\n",
    "        if pbar is not None:\n",
    "            pbar.update(1)\n",
    "        inputs = inputs.to(device)\n",
    "        labels = labels.to(device)\n",
    "\n",
    "        with torch.set_grad_enabled(False):\n",
    "            outputs = model(inputs)\n",
    "            loss = criterion(outputs, labels)\n",
    "\n",
    "        running_loss += loss.item() * inputs.size(0)\n",
    "        processed_size += inputs.size(0)\n",
    "    val_loss = running_loss / processed_size\n",
    "    return val_loss\n",
    "\n",
    "\n",
    "def predict(model, test_loader):\n",
    "\n",
    "    with torch.no_grad():\n",
    "        result = []\n",
    "        for inputs, _ in test_loader:\n",
    "            inputs = inputs.to(device)\n",
    "            model.eval()\n",
    "            outputs = model(inputs).cpu()\n",
    "            result.append(outputs)\n",
    "\n",
    "    return torch.cat(result).numpy()\n",
    "\n",
    "\n",
    "def iter_train(train_loader, test_loader, model, epochs, optimizer, criterion):\n",
    "    with tqdm(total=epochs * (len(train_dataloader) + len(test_dataloader)),\n",
    "              desc=\"Learning\",\n",
    "              unit='batch') as pbar:\n",
    "        for epoch in range(epochs):\n",
    "            train_loss = fit_epoch(model,\n",
    "                                   train_loader,\n",
    "                                   criterion,\n",
    "                                   optimizer,\n",
    "                                   pbar=pbar)\n",
    "            test_loss = eval_epoch(model, test_loader, criterion, pbar=pbar)\n",
    "            # print(\"loss\", f\"{train_loss:.3f}\")\n",
    "            pbar.set_postfix(train_loss=train_loss, test_loss=test_loss)\n",
    "            yield epoch, (train_loss, test_loss)\n",
    "\n"
   ]
  },
  {
   "cell_type": "code",
   "execution_count": 11,
   "metadata": {},
   "outputs": [],
   "source": [
    "\n",
    "# %%\n",
    "history = []\n"
   ]
  },
  {
   "cell_type": "code",
   "execution_count": 22,
   "metadata": {},
   "outputs": [
    {
     "data": {
      "application/vnd.jupyter.widget-view+json": {
       "model_id": "370db827fb774363b7c9e7dab99736ab",
       "version_major": 2,
       "version_minor": 0
      },
      "text/plain": [
       "Learning:   0%|          | 0/1430 [00:00<?, ?batch/s]"
      ]
     },
     "metadata": {},
     "output_type": "display_data"
    }
   ],
   "source": [
    "\n",
    "# %%\n",
    "for i, h in iter_train(train_dataloader,\n",
    "                       test_dataloader,\n",
    "                       model=model,\n",
    "                       epochs=5, #config['train']['n_epochs'],\n",
    "                       optimizer=optim,\n",
    "                       criterion=loss_fn):\n",
    "    history.append(h)\n",
    "    # train_loss, test_loss = zip(*history)\n",
    "    # if i%10 == 0:\n",
    "    #     # clear_output(wait=True)\n",
    "    #     plt.figure(figsize=(12, 8))\n",
    "    #     plt.plot(train_loss, label=\"train_loss\")\n",
    "    #     plt.plot(test_loss, label=\"test_loss\")\n",
    "    #     plt.legend(loc='best')\n",
    "    #     plt.xlabel(\"epochs\")\n",
    "    #     plt.ylabel(\"loss\")\n",
    "    #     plt.show()\n",
    "    np.savetxt(jn(path_config['reports_path'], 'learning_curve.csv'),\n",
    "               [['train_loss', 'test_loss']] + history,\n",
    "               delimiter=',',\n",
    "               fmt='%s')\n",
    "    os.system(\n",
    "        'dvc plots diff gausses_exp --x-label \"epochs\" --y-label \"loss\" -q')\n"
   ]
  },
  {
   "cell_type": "code",
   "execution_count": 23,
   "metadata": {},
   "outputs": [
    {
     "data": {
      "image/png": "[encoded data removed]",
      "text/plain": [
       "<Figure size 864x576 with 1 Axes>"
      ]
     },
     "metadata": {
      "needs_background": "light"
     },
     "output_type": "display_data"
    }
   ],
   "source": [
    "\n",
    "train_loss, test_loss = zip(*history)\n",
    "plt.figure(figsize=(12, 8))\n",
    "plt.plot(train_loss, label=\"train_loss\")\n",
    "plt.plot(test_loss, label=\"test_loss\")\n",
    "plt.legend(loc='best')\n",
    "plt.xlabel(\"epochs\")\n",
    "plt.ylabel(\"loss\")\n",
    "plt.show()\n"
   ]
  },
  {
   "cell_type": "code",
   "execution_count": null,
   "metadata": {},
   "outputs": [],
   "source": []
  },
  {
   "cell_type": "code",
   "execution_count": 33,
   "metadata": {},
   "outputs": [
    {
     "data": {
      "text/plain": [
       "<matplotlib.image.AxesImage at 0x7f5935b7b880>"
      ]
     },
     "execution_count": 33,
     "metadata": {},
     "output_type": "execute_result"
    },
    {
     "data": {
      "image/png": "[encoded data removed]",
      "text/plain": [
       "<Figure size 864x288 with 3 Axes>"
      ]
     },
     "metadata": {
      "needs_background": "light"
     },
     "output_type": "display_data"
    }
   ],
   "source": [
    "# work visualisation\n",
    "i = 31\n",
    "input, pressure = train_dataset[i]\n",
    "prediction = input[:64*64].reshape(64, 64)\n",
    "with torch.no_grad():\n",
    "    improvement = model(torch.tensor(np.expand_dims(input, 0), device=device)).numpy()\n",
    "plt.figure(figsize=(12, 4))\n",
    "plt.subplot(1, 3, 1)\n",
    "plt.imshow(pressure)\n",
    "plt.subplot(1, 3, 2)\n",
    "plt.imshow(prediction)\n",
    "plt.subplot(1, 3, 3)\n",
    "plt.imshow(improvement[0])"
   ]
  }
 ],
 "metadata": {
  "kernelspec": {
   "display_name": "Python 3.9.12 ('rqc_env')",
   "language": "python",
   "name": "python3"
  },
  "language_info": {
   "codemirror_mode": {
    "name": "ipython",
    "version": 3
   },
   "file_extension": ".py",
   "mimetype": "text/x-python",
   "name": "python",
   "nbconvert_exporter": "python",
   "pygments_lexer": "ipython3",
   "version": "3.9.12"
  },
  "orig_nbformat": 4,
  "vscode": {
   "interpreter": {
    "hash": "22975e861a4488f94634044a20ded97cfffd19315dfee221a4082522e37b8267"
   }
  }
 },
 "nbformat": 4,
 "nbformat_minor": 2
}
