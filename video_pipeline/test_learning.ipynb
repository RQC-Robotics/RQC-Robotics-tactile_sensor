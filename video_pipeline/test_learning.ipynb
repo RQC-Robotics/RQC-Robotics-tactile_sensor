{
 "cells": [
  {
   "cell_type": "code",
   "execution_count": 1,
   "metadata": {},
   "outputs": [
    {
     "name": "stdout",
     "output_type": "stream",
     "text": [
      "/home/amir/projects/frame_stack\n"
     ]
    }
   ],
   "source": [
    "\n",
    "from pathlib import Path\n",
    "import sys\n",
    "import os\n",
    "\n",
    "# path_root = Path(__file__).parents[1]\n",
    "# sys.path.append(str(path_root))\n",
    "# os.chdir('..')\n",
    "%cd ..\n",
    "%load_ext autoreload\n",
    "%autoreload 2\n",
    "\n",
    "import numpy as np\n",
    "import matplotlib.pyplot as plt\n",
    "from os.path import join as jn\n",
    "import yaml\n",
    "\n",
    "import torch\n",
    "from torch.utils.data import DataLoader\n",
    "from tqdm.autonotebook import tqdm\n",
    "import json\n",
    "\n",
    "from video_module import Stack_dataset, \\\n",
    "    fit_epoch, eval_epoch, predict, eval_dataset"
   ]
  },
  {
   "cell_type": "code",
   "execution_count": 2,
   "metadata": {},
   "outputs": [],
   "source": [
    "with open('params.yaml') as conf_file:\n",
    "    config = yaml.safe_load(conf_file)\n",
    "with open('pathes.yaml') as conf_file:\n",
    "    path_config = yaml.safe_load(conf_file)\n",
    "\n",
    "if not os.path.exists(path_config['reports_path']):\n",
    "    os.makedirs(path_config['reports_path'])"
   ]
  },
  {
   "cell_type": "code",
   "execution_count": 3,
   "metadata": {},
   "outputs": [],
   "source": [
    "torch.manual_seed(config['random_seed'])\n",
    "np.random.seed(config['random_seed'])\n"
   ]
  },
  {
   "cell_type": "code",
   "execution_count": 4,
   "metadata": {},
   "outputs": [
    {
     "data": {
      "application/vnd.jupyter.widget-view+json": {
       "model_id": "e3eb83e5f47c476393945cbadc046c73",
       "version_major": 2,
       "version_minor": 0
      },
      "text/plain": [
       "Dataset loading:   0%|          | 0/1 [00:00<?, ?video/s]"
      ]
     },
     "metadata": {},
     "output_type": "display_data"
    },
    {
     "data": {
      "application/vnd.jupyter.widget-view+json": {
       "model_id": "3063733c35cb416ebf739b1c66f176b2",
       "version_major": 2,
       "version_minor": 0
      },
      "text/plain": [
       "  0%|          | 0/1024 [00:00<?, ?it/s]"
      ]
     },
     "metadata": {},
     "output_type": "display_data"
    },
    {
     "data": {
      "application/vnd.jupyter.widget-view+json": {
       "model_id": "3e838126a52149ff941fb0ecb4fc36bb",
       "version_major": 2,
       "version_minor": 0
      },
      "text/plain": [
       "Dataset loading:   0%|          | 0/1 [00:00<?, ?video/s]"
      ]
     },
     "metadata": {},
     "output_type": "display_data"
    },
    {
     "data": {
      "application/vnd.jupyter.widget-view+json": {
       "model_id": "3436fb3f47d34943b265886ff45c9c69",
       "version_major": 2,
       "version_minor": 0
      },
      "text/plain": [
       "  0%|          | 0/5568 [00:00<?, ?it/s]"
      ]
     },
     "metadata": {},
     "output_type": "display_data"
    }
   ],
   "source": [
    "\n",
    "input_path = path_config['s_video_path']\n",
    "output_path = path_config['p_video_path']\n",
    "\n",
    "tr = config['video_train']\n",
    "frames_number, frames_interval = tr[\"frames_number\"], tr[\"frames_interval\"]\n",
    "\n",
    "test_dataset = Stack_dataset(jn(output_path, 'test'), jn(input_path, 'test'), frames_number,\n",
    "                             frames_interval)\n",
    "train_dataset = Stack_dataset(jn(output_path, 'train'), jn(input_path, 'train'), frames_number,\n",
    "                              frames_interval)\n",
    "\n"
   ]
  },
  {
   "cell_type": "code",
   "execution_count": 5,
   "metadata": {},
   "outputs": [
    {
     "name": "stdout",
     "output_type": "stream",
     "text": [
      "CUDA is available!  Training on GPU ...\n"
     ]
    }
   ],
   "source": [
    "\n",
    "if not torch.cuda.is_available():\n",
    "    print('CUDA is NOT available.  Training on CPU ...')\n",
    "else:\n",
    "    print('CUDA is available!  Training on GPU ...')\n",
    "device = 'cuda' if torch.cuda.is_available() else 'cpu'\n"
   ]
  },
  {
   "cell_type": "code",
   "execution_count": 6,
   "metadata": {},
   "outputs": [
    {
     "name": "stdout",
     "output_type": "stream",
     "text": [
      "input chain shape:  (1, 32, 64) \n",
      "output chain shape:  (64, 64)\n"
     ]
    }
   ],
   "source": [
    "with open('params.yaml') as conf_file:\n",
    "    config = yaml.safe_load(conf_file)\n",
    "    \n",
    "signal_shape, pressure_shape = (x.shape for x in train_dataset[0])\n",
    "print('input chain shape: ', signal_shape, '\\noutput chain shape: ',\n",
    "      pressure_shape)\n",
    "\n",
    "model_name = tr['model_name']\n",
    "import models_src\n",
    "\n",
    "model_class = eval(f\"models_src.{model_name}\")\n",
    "\n",
    "args = []\n",
    "if model_name.startswith(\"Param\"):\n",
    "    layers = tr['layers']\n",
    "    args.append(layers)\n",
    "args.append(frames_number)\n",
    "args.append(frames_interval)\n",
    "model = model_class(pressure_shape[-2:], signal_shape[-2:], *args)\n",
    "model = model.to(device)\n",
    "\n",
    "# print(model)\n",
    "optim = torch.optim.Adam(model.parameters(), lr=tr['learning_rate'])\n",
    "loss_fn = torch.nn.MSELoss()\n"
   ]
  },
  {
   "cell_type": "code",
   "execution_count": 7,
   "metadata": {},
   "outputs": [],
   "source": [
    "def iter_train(train_dataset, test_dataset, model, epochs, optimizer,\n",
    "               criterion):\n",
    "    for epoch in range(epochs):\n",
    "        train_loss = fit_epoch(model, train_dataset, criterion, optimizer,\n",
    "                               tr['batch_size'], device)\n",
    "        test_loss = eval_epoch(model, test_dataset, criterion,\n",
    "                               config['test_batch_size'], device)\n",
    "        # print(\"loss\", f\"{train_loss:.3f}\")\n",
    "        # pbar.set_postfix(train_loss=train_loss, test_loss=test_loss)\n",
    "        # full_train_loss = eval_dataset(model, train_dataset, criterion, config['test_batch_size'], device)\n",
    "        # full_test_loss = eval_dataset(model, test_dataset, criterion, config['test_batch_size'], device)\n",
    "        yield (train_loss, test_loss)"
   ]
  },
  {
   "cell_type": "code",
   "execution_count": 8,
   "metadata": {},
   "outputs": [],
   "source": [
    "history = []"
   ]
  },
  {
   "cell_type": "code",
   "execution_count": 9,
   "metadata": {},
   "outputs": [],
   "source": [
    "epochs = 30 # config['video_train']['epochs']"
   ]
  },
  {
   "cell_type": "code",
   "execution_count": 10,
   "metadata": {},
   "outputs": [
    {
     "data": {
      "application/vnd.jupyter.widget-view+json": {
       "model_id": "c49cc047d8b240609eaf2683919fe0ac",
       "version_major": 2,
       "version_minor": 0
      },
      "text/plain": [
       "Learning:   0%|          | 0/30 [00:00<?, ?epoch/s]"
      ]
     },
     "metadata": {},
     "output_type": "display_data"
    },
    {
     "data": {
      "application/vnd.jupyter.widget-view+json": {
       "model_id": "0bffb5fec7ae41f69b1753368791f6ec",
       "version_major": 2,
       "version_minor": 0
      },
      "text/plain": [
       "fit_epoch:   0%|          | 0/1671 [00:00<?, ?batch/s]"
      ]
     },
     "metadata": {},
     "output_type": "display_data"
    },
    {
     "data": {
      "application/vnd.jupyter.widget-view+json": {
       "model_id": "65462cd210414473904954b37b02b332",
       "version_major": 2,
       "version_minor": 0
      },
      "text/plain": [
       "eval_epoch:   0%|          | 0/308 [00:00<?, ?batch/s]"
      ]
     },
     "metadata": {},
     "output_type": "display_data"
    },
    {
     "data": {
      "application/vnd.jupyter.widget-view+json": {
       "model_id": "ed274f432caf4c3fa1a3199e63ec0937",
       "version_major": 2,
       "version_minor": 0
      },
      "text/plain": [
       "fit_epoch:   0%|          | 0/1671 [00:00<?, ?batch/s]"
      ]
     },
     "metadata": {},
     "output_type": "display_data"
    },
    {
     "data": {
      "application/vnd.jupyter.widget-view+json": {
       "model_id": "7192da2029c54f759d4ddda4fd1b60d6",
       "version_major": 2,
       "version_minor": 0
      },
      "text/plain": [
       "eval_epoch:   0%|          | 0/308 [00:00<?, ?batch/s]"
      ]
     },
     "metadata": {},
     "output_type": "display_data"
    },
    {
     "data": {
      "application/vnd.jupyter.widget-view+json": {
       "model_id": "8de5452dc71d4cc4a030d632a66a3dda",
       "version_major": 2,
       "version_minor": 0
      },
      "text/plain": [
       "fit_epoch:   0%|          | 0/1671 [00:00<?, ?batch/s]"
      ]
     },
     "metadata": {},
     "output_type": "display_data"
    },
    {
     "data": {
      "application/vnd.jupyter.widget-view+json": {
       "model_id": "02a0ceeacea345d6a82bd08b3771741b",
       "version_major": 2,
       "version_minor": 0
      },
      "text/plain": [
       "eval_epoch:   0%|          | 0/308 [00:00<?, ?batch/s]"
      ]
     },
     "metadata": {},
     "output_type": "display_data"
    },
    {
     "data": {
      "application/vnd.jupyter.widget-view+json": {
       "model_id": "54664141ad4048ea8e314112fcdf6074",
       "version_major": 2,
       "version_minor": 0
      },
      "text/plain": [
       "fit_epoch:   0%|          | 0/1671 [00:00<?, ?batch/s]"
      ]
     },
     "metadata": {},
     "output_type": "display_data"
    },
    {
     "data": {
      "application/vnd.jupyter.widget-view+json": {
       "model_id": "5d5ad3a12f8d4da597873cde67e8589b",
       "version_major": 2,
       "version_minor": 0
      },
      "text/plain": [
       "eval_epoch:   0%|          | 0/308 [00:00<?, ?batch/s]"
      ]
     },
     "metadata": {},
     "output_type": "display_data"
    },
    {
     "data": {
      "application/vnd.jupyter.widget-view+json": {
       "model_id": "2de4671abc174f628bc41de9b6b17398",
       "version_major": 2,
       "version_minor": 0
      },
      "text/plain": [
       "fit_epoch:   0%|          | 0/1671 [00:00<?, ?batch/s]"
      ]
     },
     "metadata": {},
     "output_type": "display_data"
    },
    {
     "data": {
      "application/vnd.jupyter.widget-view+json": {
       "model_id": "21d8ad5c2abb47859abd8245f7992844",
       "version_major": 2,
       "version_minor": 0
      },
      "text/plain": [
       "eval_epoch:   0%|          | 0/308 [00:00<?, ?batch/s]"
      ]
     },
     "metadata": {},
     "output_type": "display_data"
    },
    {
     "data": {
      "application/vnd.jupyter.widget-view+json": {
       "model_id": "0aea038e83e84af98ed562117555ecc3",
       "version_major": 2,
       "version_minor": 0
      },
      "text/plain": [
       "fit_epoch:   0%|          | 0/1671 [00:00<?, ?batch/s]"
      ]
     },
     "metadata": {},
     "output_type": "display_data"
    },
    {
     "data": {
      "application/vnd.jupyter.widget-view+json": {
       "model_id": "4f52ccb90a6e47d38c6c37d10adea293",
       "version_major": 2,
       "version_minor": 0
      },
      "text/plain": [
       "eval_epoch:   0%|          | 0/308 [00:00<?, ?batch/s]"
      ]
     },
     "metadata": {},
     "output_type": "display_data"
    },
    {
     "data": {
      "application/vnd.jupyter.widget-view+json": {
       "model_id": "3099f104eb4640d0b74a7f22288cc1dc",
       "version_major": 2,
       "version_minor": 0
      },
      "text/plain": [
       "fit_epoch:   0%|          | 0/1671 [00:00<?, ?batch/s]"
      ]
     },
     "metadata": {},
     "output_type": "display_data"
    },
    {
     "data": {
      "application/vnd.jupyter.widget-view+json": {
       "model_id": "71dadc2ed42147afa210e8263eee0037",
       "version_major": 2,
       "version_minor": 0
      },
      "text/plain": [
       "eval_epoch:   0%|          | 0/308 [00:00<?, ?batch/s]"
      ]
     },
     "metadata": {},
     "output_type": "display_data"
    },
    {
     "data": {
      "application/vnd.jupyter.widget-view+json": {
       "model_id": "645245e90a0145459dd9da729ad2edf0",
       "version_major": 2,
       "version_minor": 0
      },
      "text/plain": [
       "fit_epoch:   0%|          | 0/1671 [00:00<?, ?batch/s]"
      ]
     },
     "metadata": {},
     "output_type": "display_data"
    },
    {
     "data": {
      "application/vnd.jupyter.widget-view+json": {
       "model_id": "77044bf854f647ac9211964025172acb",
       "version_major": 2,
       "version_minor": 0
      },
      "text/plain": [
       "eval_epoch:   0%|          | 0/308 [00:00<?, ?batch/s]"
      ]
     },
     "metadata": {},
     "output_type": "display_data"
    },
    {
     "data": {
      "application/vnd.jupyter.widget-view+json": {
       "model_id": "cb1252e1b9fb4db58bf17d6de5f6a750",
       "version_major": 2,
       "version_minor": 0
      },
      "text/plain": [
       "fit_epoch:   0%|          | 0/1671 [00:00<?, ?batch/s]"
      ]
     },
     "metadata": {},
     "output_type": "display_data"
    },
    {
     "data": {
      "application/vnd.jupyter.widget-view+json": {
       "model_id": "10efc258fbc44b33b420c9ab70e644d2",
       "version_major": 2,
       "version_minor": 0
      },
      "text/plain": [
       "eval_epoch:   0%|          | 0/308 [00:00<?, ?batch/s]"
      ]
     },
     "metadata": {},
     "output_type": "display_data"
    },
    {
     "data": {
      "application/vnd.jupyter.widget-view+json": {
       "model_id": "48cb64be7e8548f2962e43019882b9b7",
       "version_major": 2,
       "version_minor": 0
      },
      "text/plain": [
       "fit_epoch:   0%|          | 0/1671 [00:00<?, ?batch/s]"
      ]
     },
     "metadata": {},
     "output_type": "display_data"
    },
    {
     "data": {
      "application/vnd.jupyter.widget-view+json": {
       "model_id": "885d1121c46649508c4191021a81a416",
       "version_major": 2,
       "version_minor": 0
      },
      "text/plain": [
       "eval_epoch:   0%|          | 0/308 [00:00<?, ?batch/s]"
      ]
     },
     "metadata": {},
     "output_type": "display_data"
    },
    {
     "data": {
      "application/vnd.jupyter.widget-view+json": {
       "model_id": "80f063c4201c4d5d8ae7b55fe7d733be",
       "version_major": 2,
       "version_minor": 0
      },
      "text/plain": [
       "fit_epoch:   0%|          | 0/1671 [00:00<?, ?batch/s]"
      ]
     },
     "metadata": {},
     "output_type": "display_data"
    },
    {
     "data": {
      "application/vnd.jupyter.widget-view+json": {
       "model_id": "b546ce3a32e64233991a442c36b4163c",
       "version_major": 2,
       "version_minor": 0
      },
      "text/plain": [
       "eval_epoch:   0%|          | 0/308 [00:00<?, ?batch/s]"
      ]
     },
     "metadata": {},
     "output_type": "display_data"
    },
    {
     "data": {
      "application/vnd.jupyter.widget-view+json": {
       "model_id": "fac94c2567d441cf88fd95daf0860504",
       "version_major": 2,
       "version_minor": 0
      },
      "text/plain": [
       "fit_epoch:   0%|          | 0/1671 [00:00<?, ?batch/s]"
      ]
     },
     "metadata": {},
     "output_type": "display_data"
    },
    {
     "data": {
      "application/vnd.jupyter.widget-view+json": {
       "model_id": "e980e3ca66fb44b4889f50e45914ff85",
       "version_major": 2,
       "version_minor": 0
      },
      "text/plain": [
       "eval_epoch:   0%|          | 0/308 [00:00<?, ?batch/s]"
      ]
     },
     "metadata": {},
     "output_type": "display_data"
    },
    {
     "data": {
      "application/vnd.jupyter.widget-view+json": {
       "model_id": "7a470cb609ff41b4a12f4ec7b15845af",
       "version_major": 2,
       "version_minor": 0
      },
      "text/plain": [
       "fit_epoch:   0%|          | 0/1671 [00:00<?, ?batch/s]"
      ]
     },
     "metadata": {},
     "output_type": "display_data"
    },
    {
     "data": {
      "application/vnd.jupyter.widget-view+json": {
       "model_id": "8ab51125fc314746b903e297b0a17451",
       "version_major": 2,
       "version_minor": 0
      },
      "text/plain": [
       "eval_epoch:   0%|          | 0/308 [00:00<?, ?batch/s]"
      ]
     },
     "metadata": {},
     "output_type": "display_data"
    },
    {
     "data": {
      "application/vnd.jupyter.widget-view+json": {
       "model_id": "52d874abe28c43f5abdd3f556d18f010",
       "version_major": 2,
       "version_minor": 0
      },
      "text/plain": [
       "fit_epoch:   0%|          | 0/1671 [00:00<?, ?batch/s]"
      ]
     },
     "metadata": {},
     "output_type": "display_data"
    },
    {
     "data": {
      "application/vnd.jupyter.widget-view+json": {
       "model_id": "6fea428b0be649359e15d4f07e5a3c3a",
       "version_major": 2,
       "version_minor": 0
      },
      "text/plain": [
       "eval_epoch:   0%|          | 0/308 [00:00<?, ?batch/s]"
      ]
     },
     "metadata": {},
     "output_type": "display_data"
    },
    {
     "data": {
      "application/vnd.jupyter.widget-view+json": {
       "model_id": "af9258df9a4d4872886b9845ee2a5412",
       "version_major": 2,
       "version_minor": 0
      },
      "text/plain": [
       "fit_epoch:   0%|          | 0/1671 [00:00<?, ?batch/s]"
      ]
     },
     "metadata": {},
     "output_type": "display_data"
    },
    {
     "data": {
      "application/vnd.jupyter.widget-view+json": {
       "model_id": "840f91de2799427fa4f30970be447e3f",
       "version_major": 2,
       "version_minor": 0
      },
      "text/plain": [
       "eval_epoch:   0%|          | 0/308 [00:00<?, ?batch/s]"
      ]
     },
     "metadata": {},
     "output_type": "display_data"
    },
    {
     "data": {
      "application/vnd.jupyter.widget-view+json": {
       "model_id": "4c1695dbf35c4ea59f5fc182858ca890",
       "version_major": 2,
       "version_minor": 0
      },
      "text/plain": [
       "fit_epoch:   0%|          | 0/1671 [00:00<?, ?batch/s]"
      ]
     },
     "metadata": {},
     "output_type": "display_data"
    },
    {
     "data": {
      "application/vnd.jupyter.widget-view+json": {
       "model_id": "71df6107b4764359b967f18b68932b9f",
       "version_major": 2,
       "version_minor": 0
      },
      "text/plain": [
       "eval_epoch:   0%|          | 0/308 [00:00<?, ?batch/s]"
      ]
     },
     "metadata": {},
     "output_type": "display_data"
    },
    {
     "data": {
      "application/vnd.jupyter.widget-view+json": {
       "model_id": "819f6d99ec8b4afc80f05b049a872d52",
       "version_major": 2,
       "version_minor": 0
      },
      "text/plain": [
       "fit_epoch:   0%|          | 0/1671 [00:00<?, ?batch/s]"
      ]
     },
     "metadata": {},
     "output_type": "display_data"
    },
    {
     "data": {
      "application/vnd.jupyter.widget-view+json": {
       "model_id": "15a6cd58b8c24683af34d239522c02bb",
       "version_major": 2,
       "version_minor": 0
      },
      "text/plain": [
       "eval_epoch:   0%|          | 0/308 [00:00<?, ?batch/s]"
      ]
     },
     "metadata": {},
     "output_type": "display_data"
    },
    {
     "data": {
      "application/vnd.jupyter.widget-view+json": {
       "model_id": "d282fb331786403da48aec0c45a41cfd",
       "version_major": 2,
       "version_minor": 0
      },
      "text/plain": [
       "fit_epoch:   0%|          | 0/1671 [00:00<?, ?batch/s]"
      ]
     },
     "metadata": {},
     "output_type": "display_data"
    },
    {
     "data": {
      "application/vnd.jupyter.widget-view+json": {
       "model_id": "01a43a8906d14691b2015e7ba6d59db7",
       "version_major": 2,
       "version_minor": 0
      },
      "text/plain": [
       "eval_epoch:   0%|          | 0/308 [00:00<?, ?batch/s]"
      ]
     },
     "metadata": {},
     "output_type": "display_data"
    },
    {
     "data": {
      "application/vnd.jupyter.widget-view+json": {
       "model_id": "82ac70433dde4d3281b2ee9594b0043f",
       "version_major": 2,
       "version_minor": 0
      },
      "text/plain": [
       "fit_epoch:   0%|          | 0/1671 [00:00<?, ?batch/s]"
      ]
     },
     "metadata": {},
     "output_type": "display_data"
    },
    {
     "data": {
      "application/vnd.jupyter.widget-view+json": {
       "model_id": "1b8949f097cf44bebb3bca6458d9e61d",
       "version_major": 2,
       "version_minor": 0
      },
      "text/plain": [
       "eval_epoch:   0%|          | 0/308 [00:00<?, ?batch/s]"
      ]
     },
     "metadata": {},
     "output_type": "display_data"
    },
    {
     "data": {
      "application/vnd.jupyter.widget-view+json": {
       "model_id": "6e7c4a74cfae42b89bba6f3acfaca6e3",
       "version_major": 2,
       "version_minor": 0
      },
      "text/plain": [
       "fit_epoch:   0%|          | 0/1671 [00:00<?, ?batch/s]"
      ]
     },
     "metadata": {},
     "output_type": "display_data"
    },
    {
     "data": {
      "application/vnd.jupyter.widget-view+json": {
       "model_id": "82732a447be24de9abcfa2f7e756f870",
       "version_major": 2,
       "version_minor": 0
      },
      "text/plain": [
       "eval_epoch:   0%|          | 0/308 [00:00<?, ?batch/s]"
      ]
     },
     "metadata": {},
     "output_type": "display_data"
    },
    {
     "data": {
      "application/vnd.jupyter.widget-view+json": {
       "model_id": "8aedfbfaa7c547c882a00dd2c988fb3e",
       "version_major": 2,
       "version_minor": 0
      },
      "text/plain": [
       "fit_epoch:   0%|          | 0/1671 [00:00<?, ?batch/s]"
      ]
     },
     "metadata": {},
     "output_type": "display_data"
    },
    {
     "data": {
      "application/vnd.jupyter.widget-view+json": {
       "model_id": "f2d3da63c1914b6d8fa8541e67d6929d",
       "version_major": 2,
       "version_minor": 0
      },
      "text/plain": [
       "eval_epoch:   0%|          | 0/308 [00:00<?, ?batch/s]"
      ]
     },
     "metadata": {},
     "output_type": "display_data"
    },
    {
     "data": {
      "application/vnd.jupyter.widget-view+json": {
       "model_id": "5cd9ba9b5fe94de592b1fae33e119f6d",
       "version_major": 2,
       "version_minor": 0
      },
      "text/plain": [
       "fit_epoch:   0%|          | 0/1671 [00:00<?, ?batch/s]"
      ]
     },
     "metadata": {},
     "output_type": "display_data"
    },
    {
     "ename": "KeyboardInterrupt",
     "evalue": "",
     "output_type": "error",
     "traceback": [
      "\u001b[0;31m---------------------------------------------------------------------------\u001b[0m",
      "\u001b[0;31mKeyboardInterrupt\u001b[0m                         Traceback (most recent call last)",
      "\u001b[1;32m/home/amir/projects/frame_stack/video_pipeline/test_learning.ipynb Cell 10\u001b[0m in \u001b[0;36m<cell line: 1>\u001b[0;34m()\u001b[0m\n\u001b[1;32m      <a href='vscode-notebook-cell://ssh-remote%2Bamirvm/home/amir/projects/frame_stack/video_pipeline/test_learning.ipynb#X12sdnNjb2RlLXJlbW90ZQ%3D%3D?line=0'>1</a>\u001b[0m \u001b[39mwith\u001b[39;00m tqdm(total\u001b[39m=\u001b[39mepochs,\n\u001b[1;32m      <a href='vscode-notebook-cell://ssh-remote%2Bamirvm/home/amir/projects/frame_stack/video_pipeline/test_learning.ipynb#X12sdnNjb2RlLXJlbW90ZQ%3D%3D?line=1'>2</a>\u001b[0m           position\u001b[39m=\u001b[39m\u001b[39m0\u001b[39m,\n\u001b[1;32m      <a href='vscode-notebook-cell://ssh-remote%2Bamirvm/home/amir/projects/frame_stack/video_pipeline/test_learning.ipynb#X12sdnNjb2RlLXJlbW90ZQ%3D%3D?line=2'>3</a>\u001b[0m           unit\u001b[39m=\u001b[39m\u001b[39m'\u001b[39m\u001b[39mepoch\u001b[39m\u001b[39m'\u001b[39m,\n\u001b[1;32m      <a href='vscode-notebook-cell://ssh-remote%2Bamirvm/home/amir/projects/frame_stack/video_pipeline/test_learning.ipynb#X12sdnNjb2RlLXJlbW90ZQ%3D%3D?line=3'>4</a>\u001b[0m           desc\u001b[39m=\u001b[39m\u001b[39m\"\u001b[39m\u001b[39mLearning\u001b[39m\u001b[39m\"\u001b[39m,\n\u001b[1;32m      <a href='vscode-notebook-cell://ssh-remote%2Bamirvm/home/amir/projects/frame_stack/video_pipeline/test_learning.ipynb#X12sdnNjb2RlLXJlbW90ZQ%3D%3D?line=4'>5</a>\u001b[0m           dynamic_ncols\u001b[39m=\u001b[39m\u001b[39mTrue\u001b[39;00m) \u001b[39mas\u001b[39;00m pbar:\n\u001b[0;32m----> <a href='vscode-notebook-cell://ssh-remote%2Bamirvm/home/amir/projects/frame_stack/video_pipeline/test_learning.ipynb#X12sdnNjb2RlLXJlbW90ZQ%3D%3D?line=6'>7</a>\u001b[0m     \u001b[39mfor\u001b[39;00m h \u001b[39min\u001b[39;00m iter_train(train_dataset, test_dataset, model, epochs, optim,\n\u001b[1;32m      <a href='vscode-notebook-cell://ssh-remote%2Bamirvm/home/amir/projects/frame_stack/video_pipeline/test_learning.ipynb#X12sdnNjb2RlLXJlbW90ZQ%3D%3D?line=7'>8</a>\u001b[0m                         loss_fn):\n\u001b[1;32m      <a href='vscode-notebook-cell://ssh-remote%2Bamirvm/home/amir/projects/frame_stack/video_pipeline/test_learning.ipynb#X12sdnNjb2RlLXJlbW90ZQ%3D%3D?line=8'>9</a>\u001b[0m         history\u001b[39m.\u001b[39mappend(h)\n\u001b[1;32m     <a href='vscode-notebook-cell://ssh-remote%2Bamirvm/home/amir/projects/frame_stack/video_pipeline/test_learning.ipynb#X12sdnNjb2RlLXJlbW90ZQ%3D%3D?line=9'>10</a>\u001b[0m         train_loss, test_loss \u001b[39m=\u001b[39m h\n",
      "\u001b[1;32m/home/amir/projects/frame_stack/video_pipeline/test_learning.ipynb Cell 10\u001b[0m in \u001b[0;36miter_train\u001b[0;34m(train_dataset, test_dataset, model, epochs, optimizer, criterion)\u001b[0m\n\u001b[1;32m      <a href='vscode-notebook-cell://ssh-remote%2Bamirvm/home/amir/projects/frame_stack/video_pipeline/test_learning.ipynb#X12sdnNjb2RlLXJlbW90ZQ%3D%3D?line=0'>1</a>\u001b[0m \u001b[39mdef\u001b[39;00m \u001b[39miter_train\u001b[39m(train_dataset, test_dataset, model, epochs, optimizer,\n\u001b[1;32m      <a href='vscode-notebook-cell://ssh-remote%2Bamirvm/home/amir/projects/frame_stack/video_pipeline/test_learning.ipynb#X12sdnNjb2RlLXJlbW90ZQ%3D%3D?line=1'>2</a>\u001b[0m                criterion):\n\u001b[1;32m      <a href='vscode-notebook-cell://ssh-remote%2Bamirvm/home/amir/projects/frame_stack/video_pipeline/test_learning.ipynb#X12sdnNjb2RlLXJlbW90ZQ%3D%3D?line=2'>3</a>\u001b[0m     \u001b[39mfor\u001b[39;00m epoch \u001b[39min\u001b[39;00m \u001b[39mrange\u001b[39m(epochs):\n\u001b[0;32m----> <a href='vscode-notebook-cell://ssh-remote%2Bamirvm/home/amir/projects/frame_stack/video_pipeline/test_learning.ipynb#X12sdnNjb2RlLXJlbW90ZQ%3D%3D?line=3'>4</a>\u001b[0m         train_loss \u001b[39m=\u001b[39m fit_epoch(model, train_dataset, criterion, optimizer,\n\u001b[1;32m      <a href='vscode-notebook-cell://ssh-remote%2Bamirvm/home/amir/projects/frame_stack/video_pipeline/test_learning.ipynb#X12sdnNjb2RlLXJlbW90ZQ%3D%3D?line=4'>5</a>\u001b[0m                                tr[\u001b[39m'\u001b[39;49m\u001b[39mbatch_size\u001b[39;49m\u001b[39m'\u001b[39;49m], device)\n\u001b[1;32m      <a href='vscode-notebook-cell://ssh-remote%2Bamirvm/home/amir/projects/frame_stack/video_pipeline/test_learning.ipynb#X12sdnNjb2RlLXJlbW90ZQ%3D%3D?line=5'>6</a>\u001b[0m         test_loss \u001b[39m=\u001b[39m eval_epoch(model, test_dataset, criterion,\n\u001b[1;32m      <a href='vscode-notebook-cell://ssh-remote%2Bamirvm/home/amir/projects/frame_stack/video_pipeline/test_learning.ipynb#X12sdnNjb2RlLXJlbW90ZQ%3D%3D?line=6'>7</a>\u001b[0m                                config[\u001b[39m'\u001b[39m\u001b[39mtest_batch_size\u001b[39m\u001b[39m'\u001b[39m], device)\n\u001b[1;32m      <a href='vscode-notebook-cell://ssh-remote%2Bamirvm/home/amir/projects/frame_stack/video_pipeline/test_learning.ipynb#X12sdnNjb2RlLXJlbW90ZQ%3D%3D?line=7'>8</a>\u001b[0m         \u001b[39m# print(\"loss\", f\"{train_loss:.3f}\")\u001b[39;00m\n\u001b[1;32m      <a href='vscode-notebook-cell://ssh-remote%2Bamirvm/home/amir/projects/frame_stack/video_pipeline/test_learning.ipynb#X12sdnNjb2RlLXJlbW90ZQ%3D%3D?line=8'>9</a>\u001b[0m         \u001b[39m# pbar.set_postfix(train_loss=train_loss, test_loss=test_loss)\u001b[39;00m\n\u001b[1;32m     <a href='vscode-notebook-cell://ssh-remote%2Bamirvm/home/amir/projects/frame_stack/video_pipeline/test_learning.ipynb#X12sdnNjb2RlLXJlbW90ZQ%3D%3D?line=9'>10</a>\u001b[0m         \u001b[39m# full_train_loss = eval_dataset(model, train_dataset, criterion, config['test_batch_size'], device)\u001b[39;00m\n\u001b[1;32m     <a href='vscode-notebook-cell://ssh-remote%2Bamirvm/home/amir/projects/frame_stack/video_pipeline/test_learning.ipynb#X12sdnNjb2RlLXJlbW90ZQ%3D%3D?line=10'>11</a>\u001b[0m         \u001b[39m# full_test_loss = eval_dataset(model, test_dataset, criterion, config['test_batch_size'], device)\u001b[39;00m\n",
      "File \u001b[0;32m~/projects/frame_stack/video_pipeline/video_module.py:252\u001b[0m, in \u001b[0;36mfit_epoch\u001b[0;34m(model, stack_dataset, criterion, optimizer, batch_size, device)\u001b[0m\n\u001b[1;32m    250\u001b[0m loss\u001b[39m.\u001b[39mbackward()\n\u001b[1;32m    251\u001b[0m optimizer\u001b[39m.\u001b[39mstep()\n\u001b[0;32m--> 252\u001b[0m running_loss \u001b[39m+\u001b[39m\u001b[39m=\u001b[39m loss\u001b[39m.\u001b[39;49mitem() \u001b[39m*\u001b[39m signal\u001b[39m.\u001b[39mshape[\u001b[39m0\u001b[39m]\n\u001b[1;32m    253\u001b[0m processed_data \u001b[39m+\u001b[39m\u001b[39m=\u001b[39m signal\u001b[39m.\u001b[39mshape[\u001b[39m0\u001b[39m]\n\u001b[1;32m    255\u001b[0m pbar\u001b[39m.\u001b[39mupdate(\u001b[39m1\u001b[39m)\n",
      "\u001b[0;31mKeyboardInterrupt\u001b[0m: "
     ]
    }
   ],
   "source": [
    "with tqdm(total=epochs,\n",
    "          position=0,\n",
    "          unit='epoch',\n",
    "          desc=\"Learning\",\n",
    "          dynamic_ncols=True) as pbar:\n",
    "    \n",
    "    for h in iter_train(train_dataset, test_dataset, model, epochs, optim,\n",
    "                        loss_fn):\n",
    "        history.append(h)\n",
    "        train_loss, test_loss = h\n",
    "        # print(f\"Epoch {i+1}/{total_epochs}\",\n",
    "        #       f\"train loss: {full_train_loss:.5f}, test_loss: {full_test_loss:.5f}\")\n",
    "        pbar.update()\n",
    "        pbar.set_postfix(train_loss=train_loss, test_loss=test_loss)\n",
    "\n",
    "        titles = [\"full_train_loss\", \"full_test_loss\"]\n",
    "        res = np.array([titles] + history)\n",
    "        for j, title in enumerate(titles):\n",
    "            np.savetxt(jn(path_config['reports_path'], title + '.csv'),\n",
    "                        res[:, j],\n",
    "                        delimiter=',',\n",
    "                        fmt='%s')\n",
    "        \n",
    "        # checkpoint saving\n",
    "        torch.save({\n",
    "            'model_state_dict': model.state_dict(),\n",
    "            'optimizer_state_dict': optim.state_dict()\n",
    "            }, f'checkpoint{len(history)}.pt')\n",
    "\n",
    "        os.system('dvc plots show -q')"
   ]
  },
  {
   "cell_type": "code",
   "execution_count": 11,
   "metadata": {},
   "outputs": [],
   "source": [
    "full_train_loss, full_test_loss = zip(*history)\n",
    "res = {\n",
    "    'train': {\n",
    "        'loss': full_train_loss[np.argmin(full_test_loss)]\n",
    "    },\n",
    "    'test': {\n",
    "        'loss': min(full_test_loss)\n",
    "    }\n",
    "}\n",
    "with open(jn(path_config['reports_path'], \"v_summary.json\"), \"w\") as f:\n",
    "    json.dump(res, f)"
   ]
  },
  {
   "cell_type": "code",
   "execution_count": 12,
   "metadata": {
    "scrolled": true
   },
   "outputs": [
    {
     "name": "stdout",
     "output_type": "stream",
     "text": [
      "INFO - fiber_sensor_SensorGeom - Running command 'send_csv'\n",
      "INFO - fiber_sensor_SensorGeom - Started run with ID \"343\"\n",
      "INFO - fiber_sensor_SensorGeom - Completed after 0:00:00\n"
     ]
    }
   ],
   "source": [
    "!python csv_logger.py"
   ]
  },
  {
   "cell_type": "code",
   "execution_count": 22,
   "metadata": {},
   "outputs": [],
   "source": [
    "if not os.path.exists(path_config['v_model_path']):\n",
    "    os.makedirs(path_config['v_model_path'])\n",
    "torch.save(model, jn(path_config['v_model_path'], model_name + '.pt'))\n"
   ]
  },
  {
   "cell_type": "code",
   "execution_count": 21,
   "metadata": {},
   "outputs": [
    {
     "data": {
      "application/vnd.jupyter.widget-view+json": {
       "model_id": "a00fb9e1b9af41c99408c8e7684f40be",
       "version_major": 2,
       "version_minor": 0
      },
      "text/plain": [
       "  0%|          | 0/32 [00:00<?, ?it/s]"
      ]
     },
     "metadata": {},
     "output_type": "display_data"
    }
   ],
   "source": [
    "from video_module import Dynamic_video_dataset, predict, visual_chains\n",
    "\n",
    "v_model = model\n",
    "\n",
    "save_path = path_config['video_predict_vis_path']\n",
    "if not os.path.exists(save_path):\n",
    "    os.makedirs(save_path)\n",
    "\n",
    "\n",
    "def visual_dataset(dataset, step, max_items, begin=0):\n",
    "    prev_id = ''\n",
    "    total=min(len(dataset.files) // step, max_items)\n",
    "    for pressure, signal, file_name in tqdm(\n",
    "            zip(dataset.pressure[:total*step:step], dataset.signal[:total*step:step],\n",
    "                dataset.files[:total*step:step]), total=total):\n",
    "        file_name = file_name[:-4]\n",
    "        id = file_name[:file_name.rfind('/')]\n",
    "        id = id[:id.rfind('/')]\n",
    "        if id != prev_id:\n",
    "            print(f\"\\n#### id = {id}\", file=file)\n",
    "            prev_id = id\n",
    "        prediction = predict(v_model,\n",
    "                             signal[begin:],\n",
    "                             device)\n",
    "        pressure = pressure[-prediction.shape[0]:]\n",
    "        visual_chains([pressure, prediction],\n",
    "                      jn(save_path, file_name.replace('/', '_')))\n",
    "        print(f\"<img src={file_name.replace('/', '_')+'.gif'} width=400>\",\n",
    "              file=file)\n",
    "\n",
    "\n",
    "\n",
    "file = open(jn(save_path, \"view.md\"), 'w')\n",
    "print(\"# Visualization\", file=file)\n",
    "\n",
    "# pred_test_dataset = Dynamic_video_dataset(output_path, test_input_path)\n",
    "pred_test_dataset = test_dataset\n",
    "print(\"# Test dataset\", file=file)\n",
    "visual_dataset(pred_test_dataset, **config['visual']['test'])\n",
    "\n",
    "file.close()"
   ]
  },
  {
   "cell_type": "code",
   "execution_count": 24,
   "metadata": {},
   "outputs": [],
   "source": [
    "# checkpoint saving\n",
    "torch.save({\n",
    "            'model_state_dict': model.state_dict(),\n",
    "            'optimizer_state_dict': optim.state_dict()\n",
    "            }, 'checkpoint.pt')"
   ]
  },
  {
   "cell_type": "code",
   "execution_count": 27,
   "metadata": {},
   "outputs": [
    {
     "data": {
      "text/plain": [
       "Unet1(\n",
       "  (step1): Sequential(\n",
       "    (0): Conv2d(4, 16, kernel_size=(3, 3), stride=(1, 1), padding=same)\n",
       "    (1): ReLU()\n",
       "    (2): Conv2d(16, 16, kernel_size=(3, 3), stride=(1, 1), padding=same)\n",
       "    (3): ReLU()\n",
       "    (4): ReLU()\n",
       "    (5): Conv2d(16, 16, kernel_size=(3, 3), stride=(1, 1), padding=same)\n",
       "    (6): ReLU()\n",
       "  )\n",
       "  (down1): Sequential(\n",
       "    (0): Conv2d(16, 32, kernel_size=(3, 3), stride=(2, 2), padding=(1, 1))\n",
       "    (1): ReLU()\n",
       "    (2): Conv2d(32, 32, kernel_size=(3, 3), stride=(1, 1), padding=same)\n",
       "    (3): ReLU()\n",
       "    (4): Conv2d(32, 32, kernel_size=(3, 3), stride=(1, 1), padding=same)\n",
       "    (5): ReLU()\n",
       "  )\n",
       "  (down2): Sequential(\n",
       "    (0): Conv2d(32, 32, kernel_size=(3, 3), stride=(2, 2), padding=(1, 1))\n",
       "    (1): ReLU()\n",
       "    (2): Conv2d(32, 32, kernel_size=(3, 3), stride=(1, 1), padding=same)\n",
       "    (3): ReLU()\n",
       "    (4): Conv2d(32, 32, kernel_size=(3, 3), stride=(1, 1), padding=same)\n",
       "    (5): ReLU()\n",
       "  )\n",
       "  (down3): Sequential(\n",
       "    (0): Conv2d(32, 64, kernel_size=(3, 3), stride=(2, 2), padding=(1, 1))\n",
       "    (1): ReLU()\n",
       "    (2): Conv2d(64, 64, kernel_size=(3, 3), stride=(1, 1), padding=same)\n",
       "    (3): ReLU()\n",
       "    (4): Conv2d(64, 64, kernel_size=(3, 3), stride=(1, 1), padding=same)\n",
       "    (5): ReLU()\n",
       "  )\n",
       "  (down4): Sequential(\n",
       "    (0): Conv2d(64, 128, kernel_size=(3, 3), stride=(2, 2), padding=(1, 1))\n",
       "    (1): ReLU()\n",
       "    (2): Conv2d(128, 128, kernel_size=(3, 3), stride=(1, 1), padding=same)\n",
       "    (3): ReLU()\n",
       "    (4): Conv2d(128, 128, kernel_size=(3, 3), stride=(1, 1), padding=same)\n",
       "    (5): ReLU()\n",
       "    (6): Conv2d(128, 128, kernel_size=(3, 3), stride=(1, 1), padding=same)\n",
       "    (7): ReLU()\n",
       "  )\n",
       "  (up4): Sequential(\n",
       "    (0): Conv2d(128, 64, kernel_size=(3, 3), stride=(1, 1), padding=same)\n",
       "    (1): ReLU()\n",
       "    (2): Conv2d(64, 64, kernel_size=(3, 3), stride=(1, 1), padding=same)\n",
       "    (3): ReLU()\n",
       "    (4): ConvTranspose2d(64, 32, kernel_size=(2, 2), stride=(2, 2))\n",
       "    (5): ReLU()\n",
       "  )\n",
       "  (up3): Sequential(\n",
       "    (0): Conv2d(96, 32, kernel_size=(3, 3), stride=(1, 1), padding=same)\n",
       "    (1): ReLU()\n",
       "    (2): Conv2d(32, 32, kernel_size=(3, 3), stride=(1, 1), padding=same)\n",
       "    (3): ReLU()\n",
       "    (4): ConvTranspose2d(32, 16, kernel_size=(2, 2), stride=(2, 2))\n",
       "    (5): ReLU()\n",
       "  )\n",
       "  (up2): Sequential(\n",
       "    (0): Conv2d(48, 16, kernel_size=(3, 3), stride=(1, 1), padding=same)\n",
       "    (1): ReLU()\n",
       "    (2): Conv2d(16, 16, kernel_size=(3, 3), stride=(1, 1), padding=same)\n",
       "    (3): ReLU()\n",
       "    (4): ConvTranspose2d(16, 16, kernel_size=(2, 2), stride=(2, 2))\n",
       "    (5): ReLU()\n",
       "  )\n",
       "  (up1): Sequential(\n",
       "    (0): Conv2d(48, 16, kernel_size=(3, 3), stride=(1, 1), padding=same)\n",
       "    (1): ReLU()\n",
       "    (2): Conv2d(16, 16, kernel_size=(3, 3), stride=(1, 1), padding=same)\n",
       "    (3): ReLU()\n",
       "    (4): ConvTranspose2d(16, 16, kernel_size=(2, 2), stride=(2, 2))\n",
       "    (5): ReLU()\n",
       "  )\n",
       "  (finalConv): Sequential(\n",
       "    (0): Conv2d(32, 16, kernel_size=(3, 3), stride=(1, 1), padding=same)\n",
       "    (1): ReLU()\n",
       "    (2): Conv2d(16, 16, kernel_size=(3, 3), stride=(1, 1), padding=same)\n",
       "    (3): ReLU()\n",
       "    (4): Conv2d(16, 1, kernel_size=(1, 1), stride=(1, 1), padding=same)\n",
       "  )\n",
       ")"
      ]
     },
     "execution_count": 27,
     "metadata": {},
     "output_type": "execute_result"
    }
   ],
   "source": [
    "# checkpoint loading\n",
    "checkpoint = torch.load('checkpoint.pt')\n",
    "model.load_state_dict(checkpoint['model_state_dict'])\n",
    "optim.load_state_dict(checkpoint['optimizer_state_dict'])\n",
    "\n",
    "model.train()"
   ]
  }
 ],
 "metadata": {
  "kernelspec": {
   "display_name": "Python 3 (ipykernel)",
   "language": "python",
   "name": "python3"
  },
  "language_info": {
   "codemirror_mode": {
    "name": "ipython",
    "version": 3
   },
   "file_extension": ".py",
   "mimetype": "text/x-python",
   "name": "python",
   "nbconvert_exporter": "python",
   "pygments_lexer": "ipython3",
   "version": "3.10.4"
  },
  "vscode": {
   "interpreter": {
    "hash": "ae424894b80e9463c1aae6f9281394155b7f546f61432797e3fc48fe93c4b561"
   }
  }
 },
 "nbformat": 4,
 "nbformat_minor": 2
}
