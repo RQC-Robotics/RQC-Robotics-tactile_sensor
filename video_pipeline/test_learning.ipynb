{
 "cells": [
  {
   "cell_type": "code",
   "execution_count": 1,
   "metadata": {},
   "outputs": [
    {
     "name": "stdout",
     "output_type": "stream",
     "text": [
      "/home/amir/projects/frame_stack\n"
     ]
    }
   ],
   "source": [
    "\n",
    "from pathlib import Path\n",
    "import sys\n",
    "import os\n",
    "\n",
    "# path_root = Path(__file__).parents[1]\n",
    "# sys.path.append(str(path_root))\n",
    "# os.chdir('..')\n",
    "%cd ..\n",
    "%load_ext autoreload\n",
    "%autoreload 2\n",
    "\n",
    "import numpy as np\n",
    "import matplotlib.pyplot as plt\n",
    "from os.path import join as jn\n",
    "import yaml\n",
    "\n",
    "import torch\n",
    "from torch.utils.data import DataLoader\n",
    "from tqdm.autonotebook import tqdm\n",
    "import json\n",
    "from natsort import natsorted\n",
    "\n",
    "\n",
    "from video_module import Stack_dataset, \\\n",
    "    fit_epoch, eval_epoch, predict, eval_dataset"
   ]
  },
  {
   "cell_type": "code",
   "execution_count": 2,
   "metadata": {},
   "outputs": [],
   "source": [
    "with open('params.yaml') as conf_file:\n",
    "    config = yaml.safe_load(conf_file)\n",
    "with open('pathes.yaml') as conf_file:\n",
    "    path_config = yaml.safe_load(conf_file)\n",
    "\n",
    "if not os.path.exists(path_config['reports_path']):\n",
    "    os.makedirs(path_config['reports_path'])"
   ]
  },
  {
   "cell_type": "code",
   "execution_count": 3,
   "metadata": {},
   "outputs": [],
   "source": [
    "torch.manual_seed(config['random_seed'])\n",
    "np.random.seed(config['random_seed'])\n"
   ]
  },
  {
   "cell_type": "code",
   "execution_count": 7,
   "metadata": {},
   "outputs": [
    {
     "data": {
      "application/vnd.jupyter.widget-view+json": {
       "model_id": "",
       "version_major": 2,
       "version_minor": 0
      },
      "text/plain": [
       "Dataset loading:   0%|                                                                                        …"
      ]
     },
     "metadata": {},
     "output_type": "display_data"
    },
    {
     "data": {
      "application/vnd.jupyter.widget-view+json": {
       "model_id": "",
       "version_major": 2,
       "version_minor": 0
      },
      "text/plain": [
       "  0%|                                                                                                         …"
      ]
     },
     "metadata": {},
     "output_type": "display_data"
    },
    {
     "data": {
      "application/vnd.jupyter.widget-view+json": {
       "model_id": "",
       "version_major": 2,
       "version_minor": 0
      },
      "text/plain": [
       "Dataset loading:   0%|                                                                                        …"
      ]
     },
     "metadata": {},
     "output_type": "display_data"
    },
    {
     "data": {
      "application/vnd.jupyter.widget-view+json": {
       "model_id": "",
       "version_major": 2,
       "version_minor": 0
      },
      "text/plain": [
       "  0%|                                                                                                         …"
      ]
     },
     "metadata": {},
     "output_type": "display_data"
    }
   ],
   "source": [
    "\n",
    "input_path = path_config['s_video_path']\n",
    "output_path = path_config['p_video_path']\n",
    "\n",
    "tr = config['video_train']\n",
    "frames_number, frames_interval = tr[\"frames_number\"], tr[\"frames_interval\"]\n",
    "\n",
    "test_dataset = Stack_dataset(jn(output_path, 'test'), jn(input_path, 'test'), frames_number,\n",
    "                             frames_interval)\n",
    "train_dataset = Stack_dataset(jn(output_path, 'train'), jn(input_path, 'train'), frames_number,\n",
    "                              frames_interval)\n",
    "\n"
   ]
  },
  {
   "cell_type": "code",
   "execution_count": 4,
   "metadata": {},
   "outputs": [
    {
     "name": "stdout",
     "output_type": "stream",
     "text": [
      "CUDA is available!  Training on GPU ...\n"
     ]
    }
   ],
   "source": [
    "\n",
    "if not torch.cuda.is_available():\n",
    "    print('CUDA is NOT available.  Training on CPU ...')\n",
    "else:\n",
    "    print('CUDA is available!  Training on GPU ...')\n",
    "device = 'cuda' if torch.cuda.is_available() else 'cpu'\n"
   ]
  },
  {
   "cell_type": "code",
   "execution_count": 8,
   "metadata": {},
   "outputs": [
    {
     "name": "stdout",
     "output_type": "stream",
     "text": [
      "input chain shape:  (1, 4, 64) \n",
      "output chain shape:  (64, 64)\n"
     ]
    }
   ],
   "source": [
    "with open('params.yaml') as conf_file:\n",
    "    config = yaml.safe_load(conf_file)\n",
    "    \n",
    "signal_shape, pressure_shape = (x.shape for x in train_dataset[0])\n",
    "print('input chain shape: ', signal_shape, '\\noutput chain shape: ',\n",
    "      pressure_shape)\n",
    "\n",
    "model_name = tr['model_name']\n",
    "import models_src\n",
    "\n",
    "model_class = eval(f\"models_src.{model_name}\")\n",
    "\n",
    "args = []\n",
    "if model_name.startswith(\"Param\"):\n",
    "    layers = tr['layers']\n",
    "    args.append(layers)\n",
    "args.append(frames_number)\n",
    "args.append(frames_interval)\n",
    "model = model_class(pressure_shape[-2:], signal_shape[-2:], *args)\n",
    "model = model.to(device)\n",
    "\n",
    "# print(model)\n",
    "optim = torch.optim.Adam(model.parameters(), lr=tr['learning_rate'])\n",
    "loss_fn = torch.nn.MSELoss()\n"
   ]
  },
  {
   "cell_type": "code",
   "execution_count": 9,
   "metadata": {},
   "outputs": [],
   "source": [
    "checkp_dir = 'logdir/checkpoints/'\n",
    "if not os.path.exists(checkp_dir):\n",
    "    os.makedirs(checkp_dir)\n",
    "\n",
    "def iter_train(train_dataset, test_dataset, model, epochs, optimizer,\n",
    "               criterion):\n",
    "    for epoch in range(epochs):\n",
    "        train_loss = fit_epoch(model, train_dataset, criterion, optimizer,\n",
    "                               tr['batch_size'], device)\n",
    "        test_loss = eval_epoch(model, test_dataset, criterion,\n",
    "                               config['test_batch_size'], device)\n",
    "        # print(\"loss\", f\"{train_loss:.3f}\")\n",
    "        # pbar.set_postfix(train_loss=train_loss, test_loss=test_loss)\n",
    "        # full_train_loss = eval_dataset(model, train_dataset, criterion, config['test_batch_size'], device)\n",
    "        # full_test_loss = eval_dataset(model, test_dataset, criterion, config['test_batch_size'], device)\n",
    "        yield (train_loss, test_loss)\n",
    "        \n",
    "from video_module import Dynamic_video_dataset, predict, visual_chains\n",
    "import h5py\n",
    "\n",
    "def make_visualization(save_path):\n",
    "    from video_module import Dynamic_video_dataset, predict, visual_chains\n",
    "\n",
    "    v_model = model\n",
    "\n",
    "    if not os.path.exists(save_path):\n",
    "        os.makedirs(save_path)\n",
    "\n",
    "    def visual_dataset(pres_file, signal_file, step, max_items, begin=0, end=None, duration=30):\n",
    "        prev_id = ''\n",
    "        total=min(len(signal_file.keys()) // step, max_items)\n",
    "        for key in tqdm(natsorted(signal_file.keys())[:total*step:step], total=total, leave=False):\n",
    "            \n",
    "            pressure = pres_file[key][begin:end]\n",
    "            signal = signal_file[key][begin:end]\n",
    "            \n",
    "            id = key[:key.rfind('_')]\n",
    "            if id != prev_id:\n",
    "                print(f\"\\n#### id = {id}\", file=file)\n",
    "                prev_id = id\n",
    "            prediction = predict(v_model,\n",
    "                                signal,\n",
    "                                device)     \n",
    "            pressure = pressure[-prediction.shape[0]:]\n",
    "            visual_chains([pressure, prediction],\n",
    "                        jn(save_path, key), duration=duration)\n",
    "            print(f\"<img src={key+'.gif'} width=400>\",\n",
    "                file=file)\n",
    "\n",
    "    file = open(jn(save_path, \"view.md\"), 'w')\n",
    "    print(\"# Visualization\", file=file)\n",
    "\n",
    "    for data_path in config['visual']:\n",
    "        with h5py.File(jn(output_path, data_path + '.hdf5')) as pres_file, \\\n",
    "            h5py.File(jn(input_path, data_path + '.hdf5')) as signal_file:\n",
    "            print(f\"\\n# {data_path}\", file=file)\n",
    "            visual_dataset(pres_file, signal_file, **config['visual'][data_path])\n",
    "    \n",
    "    \n"
   ]
  },
  {
   "cell_type": "code",
   "execution_count": 14,
   "metadata": {},
   "outputs": [],
   "source": [
    "history = []"
   ]
  },
  {
   "cell_type": "code",
   "execution_count": 10,
   "metadata": {},
   "outputs": [],
   "source": [
    "epochs = 30 # config['video_train']['epochs']"
   ]
  },
  {
   "cell_type": "code",
   "execution_count": null,
   "metadata": {},
   "outputs": [
    {
     "data": {
      "application/vnd.jupyter.widget-view+json": {
       "model_id": "822dd56b09cf4411b988066b677e984d",
       "version_major": 2,
       "version_minor": 0
      },
      "text/plain": [
       "Learning:   0%|                                                                                               …"
      ]
     },
     "metadata": {},
     "output_type": "display_data"
    },
    {
     "data": {
      "application/vnd.jupyter.widget-view+json": {
       "model_id": "53169c14a00e427c995ae622c84ab5b0",
       "version_major": 2,
       "version_minor": 0
      },
      "text/plain": [
       "fit_epoch:   0%|                                                                                              …"
      ]
     },
     "metadata": {},
     "output_type": "display_data"
    }
   ],
   "source": [
    "with tqdm(total=epochs,\n",
    "          position=0,\n",
    "          unit='epoch',\n",
    "          desc=\"Learning\",\n",
    "          dynamic_ncols=True) as pbar:\n",
    "    \n",
    "    for h in iter_train(train_dataset, test_dataset, model, epochs, optim,\n",
    "                        loss_fn):\n",
    "        history.append(h)\n",
    "        train_loss, test_loss = h\n",
    "        # print(f\"Epoch {i+1}/{total_epochs}\",\n",
    "        #       f\"train loss: {full_train_loss:.5f}, test_loss: {full_test_loss:.5f}\")\n",
    "        pbar.update()\n",
    "        pbar.set_postfix(train_loss=train_loss, test_loss=test_loss)\n",
    "\n",
    "        titles = [\"full_train_loss\", \"full_test_loss\"]\n",
    "        res = np.array([titles] + history)\n",
    "        for j, title in enumerate(titles):\n",
    "            np.savetxt(jn(path_config['reports_path'], title + '.csv'),\n",
    "                        res[:, j],\n",
    "                        delimiter=',',\n",
    "                        fmt='%s')\n",
    "        \n",
    "        # checkpoint saving\n",
    "        torch.save({\n",
    "            'model_state_dict': model.state_dict(),\n",
    "            'optimizer_state_dict': optim.state_dict()\n",
    "            }, jn(checkp_dir, f'checkpoint{len(history)}.pt'))\n",
    "        # visualizing progress\n",
    "        make_visualization(jn(checkp_dir, f'visual{len(history)}'))\n",
    "\n",
    "        os.system('dvc plots show -q')"
   ]
  },
  {
   "cell_type": "code",
   "execution_count": 12,
   "metadata": {},
   "outputs": [],
   "source": [
    "full_train_loss, full_test_loss = zip(*history)\n",
    "res = {\n",
    "    'train': {\n",
    "        'loss': full_train_loss[np.argmin(full_test_loss)]\n",
    "    },\n",
    "    'test': {\n",
    "        'loss': min(full_test_loss)\n",
    "    }\n",
    "}\n",
    "with open(jn(path_config['reports_path'], \"v_summary.json\"), \"w\") as f:\n",
    "    json.dump(res, f)"
   ]
  },
  {
   "cell_type": "code",
   "execution_count": null,
   "metadata": {
    "scrolled": true
   },
   "outputs": [],
   "source": [
    "!python csv_logger.py"
   ]
  },
  {
   "cell_type": "code",
   "execution_count": 22,
   "metadata": {},
   "outputs": [],
   "source": [
    "if not os.path.exists(path_config['v_model_path']):\n",
    "    os.makedirs(path_config['v_model_path'])\n",
    "torch.save(model, jn(path_config['v_model_path'], model_name + '.pt'))\n"
   ]
  },
  {
   "cell_type": "code",
   "execution_count": 13,
   "metadata": {},
   "outputs": [
    {
     "data": {
      "application/vnd.jupyter.widget-view+json": {
       "model_id": "",
       "version_major": 2,
       "version_minor": 0
      },
      "text/plain": [
       "  0%|          | 0/32 [00:00<?, ?it/s]"
      ]
     },
     "metadata": {},
     "output_type": "display_data"
    },
    {
     "data": {
      "application/vnd.jupyter.widget-view+json": {
       "model_id": "",
       "version_major": 2,
       "version_minor": 0
      },
      "text/plain": [
       "  0%|          | 0/300 [00:00<?, ?it/s]"
      ]
     },
     "metadata": {},
     "output_type": "display_data"
    }
   ],
   "source": [
    "save_path = path_config['video_predict_vis_path']\n",
    "make_visualization(save_path)"
   ]
  },
  {
   "cell_type": "code",
   "execution_count": 24,
   "metadata": {},
   "outputs": [],
   "source": [
    "# checkpoint saving\n",
    "torch.save({\n",
    "            'model_state_dict': model.state_dict(),\n",
    "            'optimizer_state_dict': optim.state_dict()\n",
    "            }, 'checkpoint.pt')"
   ]
  },
  {
   "cell_type": "code",
   "execution_count": 10,
   "metadata": {},
   "outputs": [],
   "source": [
    "# history loading\n",
    "train_loss = np.loadtxt(jn(path_config['reports_path'], 'full_train_loss.csv'), skiprows=1)\n",
    "test_loss = np.loadtxt(jn(path_config['reports_path'], 'full_test_loss.csv'), skiprows=1)\n",
    "history = [ [train, test] for train, test in zip(train_loss, test_loss)]"
   ]
  },
  {
   "cell_type": "code",
   "execution_count": 11,
   "metadata": {},
   "outputs": [
    {
     "data": {
      "text/plain": [
       "ParamUnet(\n",
       "  (step1): Sequential(\n",
       "    (0): Conv2d(4, 16, kernel_size=(3, 3), stride=(1, 1), padding=same)\n",
       "    (1): ReLU()\n",
       "    (2): Conv2d(16, 16, kernel_size=(3, 3), stride=(1, 1), padding=same)\n",
       "    (3): ReLU()\n",
       "    (4): Conv2d(16, 16, kernel_size=(3, 3), stride=(1, 1), padding=same)\n",
       "    (5): ReLU()\n",
       "  )\n",
       "  (finalConv): Sequential(\n",
       "    (0): Conv2d(32, 16, kernel_size=(3, 3), stride=(1, 1), padding=same)\n",
       "    (1): ReLU()\n",
       "    (2): Conv2d(16, 16, kernel_size=(3, 3), stride=(1, 1), padding=same)\n",
       "    (3): ReLU()\n",
       "    (4): Conv2d(16, 1, kernel_size=(1, 1), stride=(1, 1), padding=same)\n",
       "  )\n",
       "  (bottom): Sequential(\n",
       "    (0): Sequential(\n",
       "      (0): Conv2d(4, 16, kernel_size=(3, 3), stride=(1, 1), padding=same)\n",
       "      (1): ReLU()\n",
       "      (2): Conv2d(16, 16, kernel_size=(3, 3), stride=(1, 1), padding=same)\n",
       "      (3): ReLU()\n",
       "      (4): Conv2d(16, 16, kernel_size=(3, 3), stride=(1, 1), padding=same)\n",
       "      (5): ReLU()\n",
       "    )\n",
       "    (1): Sequential(\n",
       "      (0): Conv2d(16, 32, kernel_size=(3, 3), stride=(2, 2), padding=(1, 1))\n",
       "      (1): ReLU()\n",
       "      (2): Conv2d(32, 32, kernel_size=(3, 3), stride=(1, 1), padding=same)\n",
       "      (3): ReLU()\n",
       "      (4): Conv2d(32, 32, kernel_size=(3, 3), stride=(1, 1), padding=same)\n",
       "      (5): ReLU()\n",
       "      (6): Conv2d(32, 32, kernel_size=(3, 3), stride=(1, 1), padding=same)\n",
       "      (7): ReLU()\n",
       "    )\n",
       "    (2): Sequential(\n",
       "      (0): Conv2d(32, 64, kernel_size=(3, 3), stride=(2, 2), padding=(1, 1))\n",
       "      (1): ReLU()\n",
       "      (2): Conv2d(64, 64, kernel_size=(3, 3), stride=(1, 1), padding=same)\n",
       "      (3): ReLU()\n",
       "      (4): Conv2d(64, 64, kernel_size=(3, 3), stride=(1, 1), padding=same)\n",
       "      (5): ReLU()\n",
       "      (6): Conv2d(64, 64, kernel_size=(3, 3), stride=(1, 1), padding=same)\n",
       "      (7): ReLU()\n",
       "    )\n",
       "    (3): Sequential(\n",
       "      (0): Conv2d(64, 64, kernel_size=(3, 3), stride=(2, 2), padding=(1, 1))\n",
       "      (1): ReLU()\n",
       "      (2): Conv2d(64, 64, kernel_size=(3, 3), stride=(1, 1), padding=same)\n",
       "      (3): ReLU()\n",
       "      (4): Conv2d(64, 64, kernel_size=(3, 3), stride=(1, 1), padding=same)\n",
       "      (5): ReLU()\n",
       "    )\n",
       "    (4): Sequential(\n",
       "      (0): Conv2d(64, 64, kernel_size=(3, 3), stride=(1, 1), padding=same)\n",
       "      (1): ReLU()\n",
       "      (2): Conv2d(64, 64, kernel_size=(3, 3), stride=(1, 1), padding=same)\n",
       "      (3): ReLU()\n",
       "      (4): ConvTranspose2d(64, 64, kernel_size=(2, 2), stride=(2, 2))\n",
       "      (5): ReLU()\n",
       "    )\n",
       "    (5): Sequential(\n",
       "      (0): Conv2d(128, 64, kernel_size=(3, 3), stride=(1, 1), padding=same)\n",
       "      (1): ReLU()\n",
       "      (2): Conv2d(64, 64, kernel_size=(3, 3), stride=(1, 1), padding=same)\n",
       "      (3): ReLU()\n",
       "      (4): Conv2d(64, 64, kernel_size=(3, 3), stride=(1, 1), padding=same)\n",
       "      (5): ReLU()\n",
       "      (6): ConvTranspose2d(64, 32, kernel_size=(2, 2), stride=(2, 2))\n",
       "      (7): ReLU()\n",
       "    )\n",
       "    (6): Sequential(\n",
       "      (0): Conv2d(64, 32, kernel_size=(3, 3), stride=(1, 1), padding=same)\n",
       "      (1): ReLU()\n",
       "      (2): Conv2d(32, 32, kernel_size=(3, 3), stride=(1, 1), padding=same)\n",
       "      (3): ReLU()\n",
       "      (4): Conv2d(32, 32, kernel_size=(3, 3), stride=(1, 1), padding=same)\n",
       "      (5): ReLU()\n",
       "      (6): ConvTranspose2d(32, 16, kernel_size=(2, 2), stride=(2, 2))\n",
       "      (7): ReLU()\n",
       "    )\n",
       "    (7): Sequential(\n",
       "      (0): Conv2d(32, 16, kernel_size=(3, 3), stride=(1, 1), padding=same)\n",
       "      (1): ReLU()\n",
       "      (2): Conv2d(16, 16, kernel_size=(3, 3), stride=(1, 1), padding=same)\n",
       "      (3): ReLU()\n",
       "      (4): Conv2d(16, 1, kernel_size=(1, 1), stride=(1, 1), padding=same)\n",
       "    )\n",
       "  )\n",
       "  (upsample): Upsample(size=(64, 64), mode=bilinear)\n",
       ")"
      ]
     },
     "execution_count": 11,
     "metadata": {},
     "output_type": "execute_result"
    }
   ],
   "source": [
    "# checkpoint loading\n",
    "checkpoint = torch.load(jn(checkp_dir, f'checkpoint{len(history)}.pt'))\n",
    "model.load_state_dict(checkpoint['model_state_dict'])\n",
    "optim.load_state_dict(checkpoint['optimizer_state_dict'])\n",
    "\n",
    "model.train()"
   ]
  }
 ],
 "metadata": {
  "kernelspec": {
   "display_name": "Python 3 (ipykernel)",
   "language": "python",
   "name": "python3"
  },
  "language_info": {
   "codemirror_mode": {
    "name": "ipython",
    "version": 3
   },
   "file_extension": ".py",
   "mimetype": "text/x-python",
   "name": "python",
   "nbconvert_exporter": "python",
   "pygments_lexer": "ipython3",
   "version": "3.10.5"
  },
  "vscode": {
   "interpreter": {
    "hash": "c6baf878489f10e977bf9426eaa34ffff09577aa5975e8f6098bd62b06bd69aa"
   }
  }
 },
 "nbformat": 4,
 "nbformat_minor": 2
}
