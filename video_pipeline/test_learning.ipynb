{
 "cells": [
  {
   "cell_type": "code",
   "execution_count": 1,
   "metadata": {},
   "outputs": [
    {
     "name": "stdout",
     "output_type": "stream",
     "text": [
      "/home/amir/projects/frame_stack\n"
     ]
    }
   ],
   "source": [
    "\n",
    "from pathlib import Path\n",
    "import sys\n",
    "import os\n",
    "\n",
    "# path_root = Path(__file__).parents[1]\n",
    "# sys.path.append(str(path_root))\n",
    "# os.chdir('..')\n",
    "%cd ..\n",
    "%load_ext autoreload\n",
    "%autoreload 2\n",
    "\n",
    "import numpy as np\n",
    "import matplotlib.pyplot as plt\n",
    "from os.path import join as jn\n",
    "import yaml\n",
    "\n",
    "import torch\n",
    "from torch.utils.data import DataLoader\n",
    "from tqdm.autonotebook import tqdm\n",
    "import json\n",
    "\n",
    "from video_module import Stack_dataset, \\\n",
    "    fit_epoch, eval_epoch, predict, eval_dataset"
   ]
  },
  {
   "cell_type": "code",
   "execution_count": 2,
   "metadata": {},
   "outputs": [],
   "source": [
    "with open('params.yaml') as conf_file:\n",
    "    config = yaml.safe_load(conf_file)\n",
    "with open('pathes.yaml') as conf_file:\n",
    "    path_config = yaml.safe_load(conf_file)\n",
    "\n",
    "if not os.path.exists(path_config['reports_path']):\n",
    "    os.makedirs(path_config['reports_path'])"
   ]
  },
  {
   "cell_type": "code",
   "execution_count": 3,
   "metadata": {},
   "outputs": [],
   "source": [
    "torch.manual_seed(config['random_seed'])\n",
    "np.random.seed(config['random_seed'])\n"
   ]
  },
  {
   "cell_type": "code",
   "execution_count": 4,
   "metadata": {},
   "outputs": [
    {
     "data": {
      "application/vnd.jupyter.widget-view+json": {
       "model_id": "",
       "version_major": 2,
       "version_minor": 0
      },
      "text/plain": [
       "Dataset loading:   0%|                                                                                        …"
      ]
     },
     "metadata": {},
     "output_type": "display_data"
    },
    {
     "data": {
      "application/vnd.jupyter.widget-view+json": {
       "model_id": "",
       "version_major": 2,
       "version_minor": 0
      },
      "text/plain": [
       "Dataset loading:   0%|                                                                                        …"
      ]
     },
     "metadata": {},
     "output_type": "display_data"
    }
   ],
   "source": [
    "\n",
    "input_path = path_config['train_s_video_path']\n",
    "test_input_path = path_config['test_s_video_path']\n",
    "output_path = path_config['p_video_path']\n",
    "\n",
    "tr = config['video_train']\n",
    "frames_number, frames_interval = tr[\"frames_number\"], tr[\"frames_interval\"]\n",
    "\n",
    "test_dataset = Stack_dataset(output_path, test_input_path, frames_number,\n",
    "                             frames_interval)\n",
    "train_dataset = Stack_dataset(output_path, input_path, frames_number,\n",
    "                              frames_interval)\n"
   ]
  },
  {
   "cell_type": "code",
   "execution_count": 5,
   "metadata": {},
   "outputs": [
    {
     "name": "stdout",
     "output_type": "stream",
     "text": [
      "CUDA is available!  Training on GPU ...\n"
     ]
    }
   ],
   "source": [
    "\n",
    "if not torch.cuda.is_available():\n",
    "    print('CUDA is NOT available.  Training on CPU ...')\n",
    "else:\n",
    "    print('CUDA is available!  Training on GPU ...')\n",
    "device = 'cuda' if torch.cuda.is_available() else 'cpu'\n"
   ]
  },
  {
   "cell_type": "code",
   "execution_count": 16,
   "metadata": {},
   "outputs": [
    {
     "name": "stdout",
     "output_type": "stream",
     "text": [
      "input chain shape:  (1, 4, 64) \n",
      "output chain shape:  (64, 64)\n"
     ]
    }
   ],
   "source": [
    "with open('params.yaml') as conf_file:\n",
    "    config = yaml.safe_load(conf_file)\n",
    "    \n",
    "signal_shape, pressure_shape = (x.shape for x in train_dataset[0])\n",
    "print('input chain shape: ', signal_shape, '\\noutput chain shape: ',\n",
    "      pressure_shape)\n",
    "\n",
    "model_name = tr['model_name']\n",
    "import models_src\n",
    "\n",
    "model_class = eval(f\"models_src.{model_name}\")\n",
    "\n",
    "args = []\n",
    "if model_name.startswith(\"Param\"):\n",
    "    layers = tr['layers']\n",
    "    args.append(layers)\n",
    "args.append(frames_number)\n",
    "args.append(frames_interval)\n",
    "model = model_class(pressure_shape[-2:], signal_shape[-2:], *args)\n",
    "model = model.to(device)\n",
    "\n",
    "# print(model)\n",
    "optim = torch.optim.Adam(model.parameters(), lr=tr['learning_rate'])\n",
    "loss_fn = torch.nn.MSELoss()\n"
   ]
  },
  {
   "cell_type": "code",
   "execution_count": 17,
   "metadata": {},
   "outputs": [],
   "source": [
    "def iter_train(train_dataset, test_dataset, model, epochs, optimizer,\n",
    "               criterion):\n",
    "    for epoch in range(epochs):\n",
    "        train_loss = fit_epoch(model, train_dataset, criterion, optimizer,\n",
    "                               tr['batch_size'], device)\n",
    "        test_loss = eval_epoch(model, test_dataset, criterion,\n",
    "                               config['test_batch_size'], device)\n",
    "        # print(\"loss\", f\"{train_loss:.3f}\")\n",
    "        # pbar.set_postfix(train_loss=train_loss, test_loss=test_loss)\n",
    "        # full_train_loss = eval_dataset(model, train_dataset, criterion, config['test_batch_size'], device)\n",
    "        # full_test_loss = eval_dataset(model, test_dataset, criterion, config['test_batch_size'], device)\n",
    "        yield (train_loss, test_loss)"
   ]
  },
  {
   "cell_type": "code",
   "execution_count": 18,
   "metadata": {},
   "outputs": [],
   "source": [
    "history = []"
   ]
  },
  {
   "cell_type": "code",
   "execution_count": 19,
   "metadata": {},
   "outputs": [],
   "source": [
    "epochs = 30 # config['video_train']['epochs']"
   ]
  },
  {
   "cell_type": "code",
   "execution_count": 20,
   "metadata": {},
   "outputs": [
    {
     "data": {
      "application/vnd.jupyter.widget-view+json": {
       "model_id": "6ef6ae553166450eaaa333d34ba36786",
       "version_major": 2,
       "version_minor": 0
      },
      "text/plain": [
       "Learning:   0%|                                                                                               …"
      ]
     },
     "metadata": {},
     "output_type": "display_data"
    },
    {
     "data": {
      "application/vnd.jupyter.widget-view+json": {
       "model_id": "",
       "version_major": 2,
       "version_minor": 0
      },
      "text/plain": [
       "eval_epoch:   0%|                                                                                             …"
      ]
     },
     "metadata": {},
     "output_type": "display_data"
    },
    {
     "data": {
      "application/vnd.jupyter.widget-view+json": {
       "model_id": "",
       "version_major": 2,
       "version_minor": 0
      },
      "text/plain": [
       "eval_epoch:   0%|                                                                                             …"
      ]
     },
     "metadata": {},
     "output_type": "display_data"
    },
    {
     "data": {
      "application/vnd.jupyter.widget-view+json": {
       "model_id": "",
       "version_major": 2,
       "version_minor": 0
      },
      "text/plain": [
       "eval_epoch:   0%|                                                                                             …"
      ]
     },
     "metadata": {},
     "output_type": "display_data"
    },
    {
     "data": {
      "application/vnd.jupyter.widget-view+json": {
       "model_id": "",
       "version_major": 2,
       "version_minor": 0
      },
      "text/plain": [
       "eval_epoch:   0%|                                                                                             …"
      ]
     },
     "metadata": {},
     "output_type": "display_data"
    },
    {
     "data": {
      "application/vnd.jupyter.widget-view+json": {
       "model_id": "",
       "version_major": 2,
       "version_minor": 0
      },
      "text/plain": [
       "eval_epoch:   0%|                                                                                             …"
      ]
     },
     "metadata": {},
     "output_type": "display_data"
    },
    {
     "data": {
      "application/vnd.jupyter.widget-view+json": {
       "model_id": "",
       "version_major": 2,
       "version_minor": 0
      },
      "text/plain": [
       "eval_epoch:   0%|                                                                                             …"
      ]
     },
     "metadata": {},
     "output_type": "display_data"
    },
    {
     "data": {
      "application/vnd.jupyter.widget-view+json": {
       "model_id": "",
       "version_major": 2,
       "version_minor": 0
      },
      "text/plain": [
       "eval_epoch:   0%|                                                                                             …"
      ]
     },
     "metadata": {},
     "output_type": "display_data"
    },
    {
     "data": {
      "application/vnd.jupyter.widget-view+json": {
       "model_id": "",
       "version_major": 2,
       "version_minor": 0
      },
      "text/plain": [
       "eval_epoch:   0%|                                                                                             …"
      ]
     },
     "metadata": {},
     "output_type": "display_data"
    },
    {
     "data": {
      "application/vnd.jupyter.widget-view+json": {
       "model_id": "",
       "version_major": 2,
       "version_minor": 0
      },
      "text/plain": [
       "eval_epoch:   0%|                                                                                             …"
      ]
     },
     "metadata": {},
     "output_type": "display_data"
    },
    {
     "data": {
      "application/vnd.jupyter.widget-view+json": {
       "model_id": "",
       "version_major": 2,
       "version_minor": 0
      },
      "text/plain": [
       "eval_epoch:   0%|                                                                                             …"
      ]
     },
     "metadata": {},
     "output_type": "display_data"
    },
    {
     "data": {
      "application/vnd.jupyter.widget-view+json": {
       "model_id": "",
       "version_major": 2,
       "version_minor": 0
      },
      "text/plain": [
       "eval_epoch:   0%|                                                                                             …"
      ]
     },
     "metadata": {},
     "output_type": "display_data"
    },
    {
     "data": {
      "application/vnd.jupyter.widget-view+json": {
       "model_id": "",
       "version_major": 2,
       "version_minor": 0
      },
      "text/plain": [
       "eval_epoch:   0%|                                                                                             …"
      ]
     },
     "metadata": {},
     "output_type": "display_data"
    },
    {
     "data": {
      "application/vnd.jupyter.widget-view+json": {
       "model_id": "",
       "version_major": 2,
       "version_minor": 0
      },
      "text/plain": [
       "eval_epoch:   0%|                                                                                             …"
      ]
     },
     "metadata": {},
     "output_type": "display_data"
    },
    {
     "data": {
      "application/vnd.jupyter.widget-view+json": {
       "model_id": "",
       "version_major": 2,
       "version_minor": 0
      },
      "text/plain": [
       "eval_epoch:   0%|                                                                                             …"
      ]
     },
     "metadata": {},
     "output_type": "display_data"
    },
    {
     "data": {
      "application/vnd.jupyter.widget-view+json": {
       "model_id": "",
       "version_major": 2,
       "version_minor": 0
      },
      "text/plain": [
       "eval_epoch:   0%|                                                                                             …"
      ]
     },
     "metadata": {},
     "output_type": "display_data"
    },
    {
     "data": {
      "application/vnd.jupyter.widget-view+json": {
       "model_id": "",
       "version_major": 2,
       "version_minor": 0
      },
      "text/plain": [
       "eval_epoch:   0%|                                                                                             …"
      ]
     },
     "metadata": {},
     "output_type": "display_data"
    },
    {
     "data": {
      "application/vnd.jupyter.widget-view+json": {
       "model_id": "",
       "version_major": 2,
       "version_minor": 0
      },
      "text/plain": [
       "eval_epoch:   0%|                                                                                             …"
      ]
     },
     "metadata": {},
     "output_type": "display_data"
    },
    {
     "data": {
      "application/vnd.jupyter.widget-view+json": {
       "model_id": "",
       "version_major": 2,
       "version_minor": 0
      },
      "text/plain": [
       "eval_epoch:   0%|                                                                                             …"
      ]
     },
     "metadata": {},
     "output_type": "display_data"
    },
    {
     "data": {
      "application/vnd.jupyter.widget-view+json": {
       "model_id": "",
       "version_major": 2,
       "version_minor": 0
      },
      "text/plain": [
       "eval_epoch:   0%|                                                                                             …"
      ]
     },
     "metadata": {},
     "output_type": "display_data"
    },
    {
     "data": {
      "application/vnd.jupyter.widget-view+json": {
       "model_id": "",
       "version_major": 2,
       "version_minor": 0
      },
      "text/plain": [
       "eval_epoch:   0%|                                                                                             …"
      ]
     },
     "metadata": {},
     "output_type": "display_data"
    },
    {
     "data": {
      "application/vnd.jupyter.widget-view+json": {
       "model_id": "",
       "version_major": 2,
       "version_minor": 0
      },
      "text/plain": [
       "eval_epoch:   0%|                                                                                             …"
      ]
     },
     "metadata": {},
     "output_type": "display_data"
    },
    {
     "data": {
      "application/vnd.jupyter.widget-view+json": {
       "model_id": "",
       "version_major": 2,
       "version_minor": 0
      },
      "text/plain": [
       "eval_epoch:   0%|                                                                                             …"
      ]
     },
     "metadata": {},
     "output_type": "display_data"
    },
    {
     "data": {
      "application/vnd.jupyter.widget-view+json": {
       "model_id": "",
       "version_major": 2,
       "version_minor": 0
      },
      "text/plain": [
       "eval_epoch:   0%|                                                                                             …"
      ]
     },
     "metadata": {},
     "output_type": "display_data"
    },
    {
     "data": {
      "application/vnd.jupyter.widget-view+json": {
       "model_id": "",
       "version_major": 2,
       "version_minor": 0
      },
      "text/plain": [
       "eval_epoch:   0%|                                                                                             …"
      ]
     },
     "metadata": {},
     "output_type": "display_data"
    },
    {
     "data": {
      "application/vnd.jupyter.widget-view+json": {
       "model_id": "",
       "version_major": 2,
       "version_minor": 0
      },
      "text/plain": [
       "eval_epoch:   0%|                                                                                             …"
      ]
     },
     "metadata": {},
     "output_type": "display_data"
    },
    {
     "name": "stderr",
     "output_type": "stream",
     "text": [
      "IOPub message rate exceeded.\n",
      "The notebook server will temporarily stop sending output\n",
      "to the client in order to avoid crashing it.\n",
      "To change this limit, set the config variable\n",
      "`--NotebookApp.iopub_msg_rate_limit`.\n",
      "\n",
      "Current values:\n",
      "NotebookApp.iopub_msg_rate_limit=1000.0 (msgs/sec)\n",
      "NotebookApp.rate_limit_window=3.0 (secs)\n",
      "\n"
     ]
    },
    {
     "data": {
      "application/vnd.jupyter.widget-view+json": {
       "model_id": "",
       "version_major": 2,
       "version_minor": 0
      },
      "text/plain": [
       "eval_epoch:   0%|                                                                                             …"
      ]
     },
     "metadata": {},
     "output_type": "display_data"
    },
    {
     "data": {
      "application/vnd.jupyter.widget-view+json": {
       "model_id": "e24fecd23b9b4a8c98137417c4596963",
       "version_major": 2,
       "version_minor": 0
      },
      "text/plain": [
       "eval_epoch:   0%|                                                                                             …"
      ]
     },
     "metadata": {},
     "output_type": "display_data"
    },
    {
     "ename": "KeyboardInterrupt",
     "evalue": "",
     "output_type": "error",
     "traceback": [
      "\u001b[0;31m---------------------------------------------------------------------------\u001b[0m",
      "\u001b[0;31mKeyboardInterrupt\u001b[0m                         Traceback (most recent call last)",
      "Input \u001b[0;32mIn [20]\u001b[0m, in \u001b[0;36m<cell line: 1>\u001b[0;34m()\u001b[0m\n\u001b[1;32m      1\u001b[0m \u001b[38;5;28;01mwith\u001b[39;00m tqdm(total\u001b[38;5;241m=\u001b[39mepochs,\n\u001b[1;32m      2\u001b[0m           position\u001b[38;5;241m=\u001b[39m\u001b[38;5;241m0\u001b[39m,\n\u001b[1;32m      3\u001b[0m           unit\u001b[38;5;241m=\u001b[39m\u001b[38;5;124m'\u001b[39m\u001b[38;5;124mepoch\u001b[39m\u001b[38;5;124m'\u001b[39m,\n\u001b[1;32m      4\u001b[0m           desc\u001b[38;5;241m=\u001b[39m\u001b[38;5;124m\"\u001b[39m\u001b[38;5;124mLearning\u001b[39m\u001b[38;5;124m\"\u001b[39m,\n\u001b[1;32m      5\u001b[0m           dynamic_ncols\u001b[38;5;241m=\u001b[39m\u001b[38;5;28;01mTrue\u001b[39;00m) \u001b[38;5;28;01mas\u001b[39;00m pbar:\n\u001b[0;32m----> 7\u001b[0m     \u001b[38;5;28;01mfor\u001b[39;00m h \u001b[38;5;129;01min\u001b[39;00m iter_train(train_dataset, test_dataset, model, epochs, optim,\n\u001b[1;32m      8\u001b[0m                         loss_fn):\n\u001b[1;32m      9\u001b[0m         history\u001b[38;5;241m.\u001b[39mappend(h)\n\u001b[1;32m     10\u001b[0m         train_loss, test_loss \u001b[38;5;241m=\u001b[39m h\n",
      "Input \u001b[0;32mIn [17]\u001b[0m, in \u001b[0;36miter_train\u001b[0;34m(train_dataset, test_dataset, model, epochs, optimizer, criterion)\u001b[0m\n\u001b[1;32m      1\u001b[0m \u001b[38;5;28;01mdef\u001b[39;00m \u001b[38;5;21miter_train\u001b[39m(train_dataset, test_dataset, model, epochs, optimizer,\n\u001b[1;32m      2\u001b[0m                criterion):\n\u001b[1;32m      3\u001b[0m     \u001b[38;5;28;01mfor\u001b[39;00m epoch \u001b[38;5;129;01min\u001b[39;00m \u001b[38;5;28mrange\u001b[39m(epochs):\n\u001b[0;32m----> 4\u001b[0m         train_loss \u001b[38;5;241m=\u001b[39m \u001b[43mfit_epoch\u001b[49m\u001b[43m(\u001b[49m\u001b[43mmodel\u001b[49m\u001b[43m,\u001b[49m\u001b[43m \u001b[49m\u001b[43mtrain_dataset\u001b[49m\u001b[43m,\u001b[49m\u001b[43m \u001b[49m\u001b[43mcriterion\u001b[49m\u001b[43m,\u001b[49m\u001b[43m \u001b[49m\u001b[43moptimizer\u001b[49m\u001b[43m,\u001b[49m\n\u001b[1;32m      5\u001b[0m \u001b[43m                               \u001b[49m\u001b[43mtr\u001b[49m\u001b[43m[\u001b[49m\u001b[38;5;124;43m'\u001b[39;49m\u001b[38;5;124;43mbatch_size\u001b[39;49m\u001b[38;5;124;43m'\u001b[39;49m\u001b[43m]\u001b[49m\u001b[43m,\u001b[49m\u001b[43m \u001b[49m\u001b[43mdevice\u001b[49m\u001b[43m)\u001b[49m\n\u001b[1;32m      6\u001b[0m         test_loss \u001b[38;5;241m=\u001b[39m eval_epoch(model, test_dataset, criterion,\n\u001b[1;32m      7\u001b[0m                                config[\u001b[38;5;124m'\u001b[39m\u001b[38;5;124mtest_batch_size\u001b[39m\u001b[38;5;124m'\u001b[39m], device)\n\u001b[1;32m      8\u001b[0m         \u001b[38;5;66;03m# print(\"loss\", f\"{train_loss:.3f}\")\u001b[39;00m\n\u001b[1;32m      9\u001b[0m         \u001b[38;5;66;03m# pbar.set_postfix(train_loss=train_loss, test_loss=test_loss)\u001b[39;00m\n\u001b[1;32m     10\u001b[0m         \u001b[38;5;66;03m# full_train_loss = eval_dataset(model, train_dataset, criterion, config['test_batch_size'], device)\u001b[39;00m\n\u001b[1;32m     11\u001b[0m         \u001b[38;5;66;03m# full_test_loss = eval_dataset(model, test_dataset, criterion, config['test_batch_size'], device)\u001b[39;00m\n",
      "File \u001b[0;32m~/projects/frame_stack/video_pipeline/video_module.py:241\u001b[0m, in \u001b[0;36mfit_epoch\u001b[0;34m(model, stack_dataset, criterion, optimizer, batch_size, device)\u001b[0m\n\u001b[1;32m    239\u001b[0m loss\u001b[38;5;241m.\u001b[39mbackward()\n\u001b[1;32m    240\u001b[0m optimizer\u001b[38;5;241m.\u001b[39mstep()\n\u001b[0;32m--> 241\u001b[0m running_loss \u001b[38;5;241m+\u001b[39m\u001b[38;5;241m=\u001b[39m \u001b[43mloss\u001b[49m\u001b[38;5;241;43m.\u001b[39;49m\u001b[43mitem\u001b[49m\u001b[43m(\u001b[49m\u001b[43m)\u001b[49m \u001b[38;5;241m*\u001b[39m signal\u001b[38;5;241m.\u001b[39mshape[\u001b[38;5;241m0\u001b[39m]\n\u001b[1;32m    242\u001b[0m processed_data \u001b[38;5;241m+\u001b[39m\u001b[38;5;241m=\u001b[39m signal\u001b[38;5;241m.\u001b[39mshape[\u001b[38;5;241m0\u001b[39m]\n\u001b[1;32m    244\u001b[0m pbar\u001b[38;5;241m.\u001b[39mupdate(\u001b[38;5;241m1\u001b[39m)\n",
      "\u001b[0;31mKeyboardInterrupt\u001b[0m: "
     ]
    }
   ],
   "source": [
    "with tqdm(total=epochs,\n",
    "          position=0,\n",
    "          unit='epoch',\n",
    "          desc=\"Learning\",\n",
    "          dynamic_ncols=True) as pbar:\n",
    "    \n",
    "    for h in iter_train(train_dataset, test_dataset, model, epochs, optim,\n",
    "                        loss_fn):\n",
    "        history.append(h)\n",
    "        train_loss, test_loss = h\n",
    "        # print(f\"Epoch {i+1}/{total_epochs}\",\n",
    "        #       f\"train loss: {full_train_loss:.5f}, test_loss: {full_test_loss:.5f}\")\n",
    "        pbar.update()\n",
    "        pbar.set_postfix(train_loss=train_loss, test_loss=test_loss)\n",
    "\n",
    "        titles = [\"full_train_loss\", \"full_test_loss\"]\n",
    "        res = np.array([titles] + history)\n",
    "        for j, title in enumerate(titles):\n",
    "            np.savetxt(jn(path_config['reports_path'], title + '.csv'),\n",
    "                        res[:, j],\n",
    "                        delimiter=',',\n",
    "                        fmt='%s')\n",
    "        \n",
    "        # checkpoint saving\n",
    "        torch.save({\n",
    "            'model_state_dict': model.state_dict(),\n",
    "            'optimizer_state_dict': optim.state_dict()\n",
    "            }, f'checkpoint{len(history)}.pt')\n",
    "\n",
    "        os.system('dvc plots show -q')"
   ]
  },
  {
   "cell_type": "code",
   "execution_count": 29,
   "metadata": {},
   "outputs": [],
   "source": [
    "full_train_loss, full_test_loss = zip(*history)\n",
    "res = {\n",
    "    'train': {\n",
    "        'loss': full_train_loss[np.argmin(full_test_loss)]\n",
    "    },\n",
    "    'test': {\n",
    "        'loss': min(full_test_loss)\n",
    "    }\n",
    "}\n",
    "with open(jn(path_config['reports_path'], \"v_summary.json\"), \"w\") as f:\n",
    "    json.dump(res, f)"
   ]
  },
  {
   "cell_type": "code",
   "execution_count": 23,
   "metadata": {
    "scrolled": true
   },
   "outputs": [
    {
     "name": "stdout",
     "output_type": "stream",
     "text": [
      "INFO - fiber_sensor_frame_stack - Running command 'send_csv'\n",
      "INFO - fiber_sensor_frame_stack - Started run with ID \"256\"\n",
      "INFO - fiber_sensor_frame_stack - Completed after 0:00:00\n"
     ]
    }
   ],
   "source": [
    "!python csv_logger.py"
   ]
  },
  {
   "cell_type": "code",
   "execution_count": 22,
   "metadata": {},
   "outputs": [],
   "source": [
    "if not os.path.exists(path_config['v_model_path']):\n",
    "    os.makedirs(path_config['v_model_path'])\n",
    "torch.save(model, jn(path_config['v_model_path'], model_name + '.pt'))\n"
   ]
  },
  {
   "cell_type": "code",
   "execution_count": 21,
   "metadata": {},
   "outputs": [
    {
     "data": {
      "application/vnd.jupyter.widget-view+json": {
       "model_id": "a00fb9e1b9af41c99408c8e7684f40be",
       "version_major": 2,
       "version_minor": 0
      },
      "text/plain": [
       "  0%|          | 0/32 [00:00<?, ?it/s]"
      ]
     },
     "metadata": {},
     "output_type": "display_data"
    }
   ],
   "source": [
    "from video_module import Dynamic_video_dataset, predict, visual_chains\n",
    "\n",
    "v_model = model\n",
    "\n",
    "save_path = path_config['video_predict_vis_path']\n",
    "if not os.path.exists(save_path):\n",
    "    os.makedirs(save_path)\n",
    "\n",
    "\n",
    "def visual_dataset(dataset, step, max_items, begin=0):\n",
    "    prev_id = ''\n",
    "    total=min(len(dataset.files) // step, max_items)\n",
    "    for pressure, signal, file_name in tqdm(\n",
    "            zip(dataset.pressure[:total*step:step], dataset.signal[:total*step:step],\n",
    "                dataset.files[:total*step:step]), total=total):\n",
    "        file_name = file_name[:-4]\n",
    "        id = file_name[:file_name.rfind('/')]\n",
    "        id = id[:id.rfind('/')]\n",
    "        if id != prev_id:\n",
    "            print(f\"\\n#### id = {id}\", file=file)\n",
    "            prev_id = id\n",
    "        prediction = predict(v_model,\n",
    "                             signal[begin:],\n",
    "                             device)\n",
    "        pressure = pressure[-prediction.shape[0]:]\n",
    "        visual_chains([pressure, prediction],\n",
    "                      jn(save_path, file_name.replace('/', '_')))\n",
    "        print(f\"<img src={file_name.replace('/', '_')+'.gif'} width=400>\",\n",
    "              file=file)\n",
    "\n",
    "\n",
    "\n",
    "file = open(jn(save_path, \"view.md\"), 'w')\n",
    "print(\"# Visualization\", file=file)\n",
    "\n",
    "# pred_test_dataset = Dynamic_video_dataset(output_path, test_input_path)\n",
    "pred_test_dataset = test_dataset\n",
    "print(\"# Test dataset\", file=file)\n",
    "visual_dataset(pred_test_dataset, **config['visual']['test'])\n",
    "\n",
    "file.close()"
   ]
  },
  {
   "cell_type": "code",
   "execution_count": 24,
   "metadata": {},
   "outputs": [],
   "source": [
    "# checkpoint saving\n",
    "torch.save({\n",
    "            'model_state_dict': model.state_dict(),\n",
    "            'optimizer_state_dict': optim.state_dict()\n",
    "            }, 'checkpoint.pt')"
   ]
  },
  {
   "cell_type": "code",
   "execution_count": 27,
   "metadata": {},
   "outputs": [
    {
     "data": {
      "text/plain": [
       "Unet1(\n",
       "  (step1): Sequential(\n",
       "    (0): Conv2d(4, 16, kernel_size=(3, 3), stride=(1, 1), padding=same)\n",
       "    (1): ReLU()\n",
       "    (2): Conv2d(16, 16, kernel_size=(3, 3), stride=(1, 1), padding=same)\n",
       "    (3): ReLU()\n",
       "    (4): ReLU()\n",
       "    (5): Conv2d(16, 16, kernel_size=(3, 3), stride=(1, 1), padding=same)\n",
       "    (6): ReLU()\n",
       "  )\n",
       "  (down1): Sequential(\n",
       "    (0): Conv2d(16, 32, kernel_size=(3, 3), stride=(2, 2), padding=(1, 1))\n",
       "    (1): ReLU()\n",
       "    (2): Conv2d(32, 32, kernel_size=(3, 3), stride=(1, 1), padding=same)\n",
       "    (3): ReLU()\n",
       "    (4): Conv2d(32, 32, kernel_size=(3, 3), stride=(1, 1), padding=same)\n",
       "    (5): ReLU()\n",
       "  )\n",
       "  (down2): Sequential(\n",
       "    (0): Conv2d(32, 32, kernel_size=(3, 3), stride=(2, 2), padding=(1, 1))\n",
       "    (1): ReLU()\n",
       "    (2): Conv2d(32, 32, kernel_size=(3, 3), stride=(1, 1), padding=same)\n",
       "    (3): ReLU()\n",
       "    (4): Conv2d(32, 32, kernel_size=(3, 3), stride=(1, 1), padding=same)\n",
       "    (5): ReLU()\n",
       "  )\n",
       "  (down3): Sequential(\n",
       "    (0): Conv2d(32, 64, kernel_size=(3, 3), stride=(2, 2), padding=(1, 1))\n",
       "    (1): ReLU()\n",
       "    (2): Conv2d(64, 64, kernel_size=(3, 3), stride=(1, 1), padding=same)\n",
       "    (3): ReLU()\n",
       "    (4): Conv2d(64, 64, kernel_size=(3, 3), stride=(1, 1), padding=same)\n",
       "    (5): ReLU()\n",
       "  )\n",
       "  (down4): Sequential(\n",
       "    (0): Conv2d(64, 128, kernel_size=(3, 3), stride=(2, 2), padding=(1, 1))\n",
       "    (1): ReLU()\n",
       "    (2): Conv2d(128, 128, kernel_size=(3, 3), stride=(1, 1), padding=same)\n",
       "    (3): ReLU()\n",
       "    (4): Conv2d(128, 128, kernel_size=(3, 3), stride=(1, 1), padding=same)\n",
       "    (5): ReLU()\n",
       "    (6): Conv2d(128, 128, kernel_size=(3, 3), stride=(1, 1), padding=same)\n",
       "    (7): ReLU()\n",
       "  )\n",
       "  (up4): Sequential(\n",
       "    (0): Conv2d(128, 64, kernel_size=(3, 3), stride=(1, 1), padding=same)\n",
       "    (1): ReLU()\n",
       "    (2): Conv2d(64, 64, kernel_size=(3, 3), stride=(1, 1), padding=same)\n",
       "    (3): ReLU()\n",
       "    (4): ConvTranspose2d(64, 32, kernel_size=(2, 2), stride=(2, 2))\n",
       "    (5): ReLU()\n",
       "  )\n",
       "  (up3): Sequential(\n",
       "    (0): Conv2d(96, 32, kernel_size=(3, 3), stride=(1, 1), padding=same)\n",
       "    (1): ReLU()\n",
       "    (2): Conv2d(32, 32, kernel_size=(3, 3), stride=(1, 1), padding=same)\n",
       "    (3): ReLU()\n",
       "    (4): ConvTranspose2d(32, 16, kernel_size=(2, 2), stride=(2, 2))\n",
       "    (5): ReLU()\n",
       "  )\n",
       "  (up2): Sequential(\n",
       "    (0): Conv2d(48, 16, kernel_size=(3, 3), stride=(1, 1), padding=same)\n",
       "    (1): ReLU()\n",
       "    (2): Conv2d(16, 16, kernel_size=(3, 3), stride=(1, 1), padding=same)\n",
       "    (3): ReLU()\n",
       "    (4): ConvTranspose2d(16, 16, kernel_size=(2, 2), stride=(2, 2))\n",
       "    (5): ReLU()\n",
       "  )\n",
       "  (up1): Sequential(\n",
       "    (0): Conv2d(48, 16, kernel_size=(3, 3), stride=(1, 1), padding=same)\n",
       "    (1): ReLU()\n",
       "    (2): Conv2d(16, 16, kernel_size=(3, 3), stride=(1, 1), padding=same)\n",
       "    (3): ReLU()\n",
       "    (4): ConvTranspose2d(16, 16, kernel_size=(2, 2), stride=(2, 2))\n",
       "    (5): ReLU()\n",
       "  )\n",
       "  (finalConv): Sequential(\n",
       "    (0): Conv2d(32, 16, kernel_size=(3, 3), stride=(1, 1), padding=same)\n",
       "    (1): ReLU()\n",
       "    (2): Conv2d(16, 16, kernel_size=(3, 3), stride=(1, 1), padding=same)\n",
       "    (3): ReLU()\n",
       "    (4): Conv2d(16, 1, kernel_size=(1, 1), stride=(1, 1), padding=same)\n",
       "  )\n",
       ")"
      ]
     },
     "execution_count": 27,
     "metadata": {},
     "output_type": "execute_result"
    }
   ],
   "source": [
    "# checkpoint loading\n",
    "checkpoint = torch.load('checkpoint.pt')\n",
    "model.load_state_dict(checkpoint['model_state_dict'])\n",
    "optim.load_state_dict(checkpoint['optimizer_state_dict'])\n",
    "\n",
    "model.train()"
   ]
  }
 ],
 "metadata": {
  "kernelspec": {
   "display_name": "Python 3 (ipykernel)",
   "language": "python",
   "name": "python3"
  },
  "language_info": {
   "codemirror_mode": {
    "name": "ipython",
    "version": 3
   },
   "file_extension": ".py",
   "mimetype": "text/x-python",
   "name": "python",
   "nbconvert_exporter": "python",
   "pygments_lexer": "ipython3",
   "version": "3.10.4"
  },
  "vscode": {
   "interpreter": {
    "hash": "ae424894b80e9463c1aae6f9281394155b7f546f61432797e3fc48fe93c4b561"
   }
  }
 },
 "nbformat": 4,
 "nbformat_minor": 2
}
