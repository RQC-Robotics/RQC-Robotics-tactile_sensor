{
 "cells": [
  {
   "cell_type": "code",
   "execution_count": 1,
   "metadata": {},
   "outputs": [
    {
     "name": "stdout",
     "output_type": "stream",
     "text": [
      "/home/amir/projects/frame_stack\n"
     ]
    }
   ],
   "source": [
    "\n",
    "from pathlib import Path\n",
    "import sys\n",
    "import os\n",
    "\n",
    "# path_root = Path(__file__).parents[1]\n",
    "# sys.path.append(str(path_root))\n",
    "# os.chdir('..')\n",
    "%cd ..\n",
    "%load_ext autoreload\n",
    "%autoreload 2\n",
    "\n",
    "import numpy as np\n",
    "import matplotlib.pyplot as plt\n",
    "from os.path import join as jn\n",
    "import yaml\n",
    "\n",
    "import torch\n",
    "from torch.utils.data import DataLoader\n",
    "from tqdm.autonotebook import tqdm\n",
    "import json\n",
    "from natsort import natsorted\n",
    "\n",
    "\n",
    "from video_module import Stack_dataset, \\\n",
    "    fit_epoch, eval_epoch, predict, eval_dataset"
   ]
  },
  {
   "cell_type": "code",
   "execution_count": 2,
   "metadata": {},
   "outputs": [],
   "source": [
    "with open('params.yaml') as conf_file:\n",
    "    config = yaml.safe_load(conf_file)\n",
    "with open('pathes.yaml') as conf_file:\n",
    "    path_config = yaml.safe_load(conf_file)\n",
    "\n",
    "if not os.path.exists(path_config['reports_path']):\n",
    "    os.makedirs(path_config['reports_path'])"
   ]
  },
  {
   "cell_type": "code",
   "execution_count": 3,
   "metadata": {},
   "outputs": [],
   "source": [
    "torch.manual_seed(config['random_seed'])\n",
    "np.random.seed(config['random_seed'])\n"
   ]
  },
  {
   "cell_type": "code",
   "execution_count": 4,
   "metadata": {},
   "outputs": [
    {
     "data": {
      "application/vnd.jupyter.widget-view+json": {
       "model_id": "19be7531457c4db2aeba7dca6a2bcb2f",
       "version_major": 2,
       "version_minor": 0
      },
      "text/plain": [
       "Dataset loading:   0%|          | 0/1 [00:00<?, ?video/s]"
      ]
     },
     "metadata": {},
     "output_type": "display_data"
    },
    {
     "data": {
      "application/vnd.jupyter.widget-view+json": {
       "model_id": "8f90a3e970e84fbea1f6ad21789fc2c0",
       "version_major": 2,
       "version_minor": 0
      },
      "text/plain": [
       "  0%|          | 0/1024 [00:00<?, ?it/s]"
      ]
     },
     "metadata": {},
     "output_type": "display_data"
    },
    {
     "data": {
      "application/vnd.jupyter.widget-view+json": {
       "model_id": "42d5ef314957499c9392ea1608ca0c4b",
       "version_major": 2,
       "version_minor": 0
      },
      "text/plain": [
       "Dataset loading:   0%|          | 0/1 [00:00<?, ?video/s]"
      ]
     },
     "metadata": {},
     "output_type": "display_data"
    },
    {
     "data": {
      "application/vnd.jupyter.widget-view+json": {
       "model_id": "8b54e981bb9e46898db235ccfaf62f04",
       "version_major": 2,
       "version_minor": 0
      },
      "text/plain": [
       "  0%|          | 0/11136 [00:00<?, ?it/s]"
      ]
     },
     "metadata": {},
     "output_type": "display_data"
    }
   ],
   "source": [
    "\n",
    "input_path = path_config['s_video_path']\n",
    "output_path = path_config['p_video_path']\n",
    "\n",
    "tr = config['video_train']\n",
    "frames_number, frames_interval = tr[\"frames_number\"], tr[\"frames_interval\"]\n",
    "\n",
    "test_dataset = Stack_dataset(jn(output_path, 'test'), jn(input_path, 'test'), frames_number,\n",
    "                             frames_interval)\n",
    "train_dataset = Stack_dataset(jn(output_path, 'train'), jn(input_path, 'train'), frames_number,\n",
    "                              frames_interval)\n",
    "\n"
   ]
  },
  {
   "cell_type": "code",
   "execution_count": 5,
   "metadata": {},
   "outputs": [
    {
     "name": "stdout",
     "output_type": "stream",
     "text": [
      "CUDA is available!  Training on GPU ...\n"
     ]
    }
   ],
   "source": [
    "\n",
    "if not torch.cuda.is_available():\n",
    "    print('CUDA is NOT available.  Training on CPU ...')\n",
    "else:\n",
    "    print('CUDA is available!  Training on GPU ...')\n",
    "device = 'cuda' if torch.cuda.is_available() else 'cpu'\n"
   ]
  },
  {
   "cell_type": "code",
   "execution_count": 13,
   "metadata": {},
   "outputs": [
    {
     "name": "stdout",
     "output_type": "stream",
     "text": [
      "input chain shape:  (1, 4, 64) \n",
      "output chain shape:  (64, 64)\n"
     ]
    }
   ],
   "source": [
    "with open('params.yaml') as conf_file:\n",
    "    config = yaml.safe_load(conf_file)\n",
    "    \n",
    "signal_shape, pressure_shape = (x.shape for x in train_dataset[0])\n",
    "print('input chain shape: ', signal_shape, '\\noutput chain shape: ',\n",
    "      pressure_shape)\n",
    "\n",
    "model_name = tr['model_name']\n",
    "import models_src\n",
    "\n",
    "model_class = eval(f\"models_src.{model_name}\")\n",
    "\n",
    "args = []\n",
    "if model_name.startswith(\"Param\"):\n",
    "    layers = tr['layers']\n",
    "    args.append(layers)\n",
    "args.append(frames_number)\n",
    "args.append(frames_interval)\n",
    "model = model_class(pressure_shape[-2:], signal_shape[-2:], *args)\n",
    "model = model.to(device)\n",
    "\n",
    "# print(model)\n",
    "optim = torch.optim.Adam(model.parameters(), lr=tr['learning_rate'])\n",
    "loss_fn = torch.nn.MSELoss()\n"
   ]
  },
  {
   "cell_type": "code",
   "execution_count": 7,
   "metadata": {},
   "outputs": [],
   "source": [
    "checkp_dir = 'logdir/checkpoints/'\n",
    "if not os.path.exists(checkp_dir):\n",
    "    os.makedirs(checkp_dir)\n",
    "\n",
    "def iter_train(train_dataset, test_dataset, model, epochs, optimizer,\n",
    "               criterion):\n",
    "    for epoch in range(epochs):\n",
    "        train_loss = fit_epoch(model, train_dataset, criterion, optimizer,\n",
    "                               tr['batch_size'], device)\n",
    "        test_loss = eval_epoch(model, test_dataset, criterion,\n",
    "                               config['test_batch_size'], device)\n",
    "        # print(\"loss\", f\"{train_loss:.3f}\")\n",
    "        # pbar.set_postfix(train_loss=train_loss, test_loss=test_loss)\n",
    "        # full_train_loss = eval_dataset(model, train_dataset, criterion, config['test_batch_size'], device)\n",
    "        # full_test_loss = eval_dataset(model, test_dataset, criterion, config['test_batch_size'], device)\n",
    "        yield (train_loss, test_loss)\n",
    "        \n",
    "from video_module import Dynamic_video_dataset, predict, visual_chains\n",
    "import h5py\n",
    "\n",
    "def make_visualization(save_path):\n",
    "    from video_module import Dynamic_video_dataset, predict, visual_chains\n",
    "\n",
    "    v_model = model\n",
    "\n",
    "    if not os.path.exists(save_path):\n",
    "        os.makedirs(save_path)\n",
    "\n",
    "    def visual_dataset(pres_file, signal_file, step, max_items, begin=0, end=None, duration=30):\n",
    "        prev_id = ''\n",
    "        total=min(len(signal_file.keys()) // step, max_items)\n",
    "        for key in tqdm(natsorted(signal_file.keys())[:total*step:step], total=total, leave=False):\n",
    "            \n",
    "            pressure = pres_file[key][begin:end]\n",
    "            signal = signal_file[key][begin:end]\n",
    "            \n",
    "            id = key[:key.rfind('_')]\n",
    "            if id != prev_id:\n",
    "                print(f\"\\n#### id = {id}\", file=file)\n",
    "                prev_id = id\n",
    "            prediction = predict(v_model,\n",
    "                                signal,\n",
    "                                device)     \n",
    "            pressure = pressure[-prediction.shape[0]:]\n",
    "            visual_chains([pressure, prediction],\n",
    "                        jn(save_path, key), duration=duration)\n",
    "            print(f\"<img src={key+'.gif'} width=400>\",\n",
    "                file=file)\n",
    "\n",
    "    file = open(jn(save_path, \"view.md\"), 'w')\n",
    "    print(\"# Visualization\", file=file)\n",
    "\n",
    "    for data_path in config['visual']:\n",
    "        with h5py.File(jn(output_path, data_path + '.hdf5')) as pres_file, \\\n",
    "            h5py.File(jn(input_path, data_path + '.hdf5')) as signal_file:\n",
    "            print(f\"\\n# {data_path}\", file=file)\n",
    "            visual_dataset(pres_file, signal_file, **config['visual'][data_path])\n",
    "    \n",
    "    \n"
   ]
  },
  {
   "cell_type": "code",
   "execution_count": 14,
   "metadata": {},
   "outputs": [],
   "source": [
    "history = []"
   ]
  },
  {
   "cell_type": "code",
   "execution_count": 9,
   "metadata": {},
   "outputs": [],
   "source": [
    "epochs = 30 # config['video_train']['epochs']"
   ]
  },
  {
   "cell_type": "code",
   "execution_count": 15,
   "metadata": {},
   "outputs": [
    {
     "data": {
      "application/vnd.jupyter.widget-view+json": {
       "model_id": "be7582ec321d4af5a26764cf96236d53",
       "version_major": 2,
       "version_minor": 0
      },
      "text/plain": [
       "Learning:   0%|          | 0/30 [00:00<?, ?epoch/s]"
      ]
     },
     "metadata": {},
     "output_type": "display_data"
    },
    {
     "data": {
      "application/vnd.jupyter.widget-view+json": {
       "model_id": "0f4ede231796414d84c6fe88aea1e0a8",
       "version_major": 2,
       "version_minor": 0
      },
      "text/plain": [
       "fit_epoch:   0%|          | 0/3341 [00:00<?, ?batch/s]"
      ]
     },
     "metadata": {},
     "output_type": "display_data"
    },
    {
     "data": {
      "application/vnd.jupyter.widget-view+json": {
       "model_id": "69ce4e86f6eb4e9f988018a0f0fc5710",
       "version_major": 2,
       "version_minor": 0
      },
      "text/plain": [
       "eval_epoch:   0%|          | 0/308 [00:00<?, ?batch/s]"
      ]
     },
     "metadata": {},
     "output_type": "display_data"
    },
    {
     "data": {
      "application/vnd.jupyter.widget-view+json": {
       "model_id": "edebbd7dfc504b6183dfafb6b6f855d9",
       "version_major": 2,
       "version_minor": 0
      },
      "text/plain": [
       "  0%|          | 0/32 [00:00<?, ?it/s]"
      ]
     },
     "metadata": {},
     "output_type": "display_data"
    },
    {
     "data": {
      "application/vnd.jupyter.widget-view+json": {
       "model_id": "7781f7586d0b40ae84ac73fec592b9ab",
       "version_major": 2,
       "version_minor": 0
      },
      "text/plain": [
       "  0%|          | 0/32 [00:00<?, ?it/s]"
      ]
     },
     "metadata": {},
     "output_type": "display_data"
    },
    {
     "data": {
      "application/vnd.jupyter.widget-view+json": {
       "model_id": "a0c3997837e34e3c820dc31be583b968",
       "version_major": 2,
       "version_minor": 0
      },
      "text/plain": [
       "fit_epoch:   0%|          | 0/3341 [00:00<?, ?batch/s]"
      ]
     },
     "metadata": {},
     "output_type": "display_data"
    },
    {
     "data": {
      "application/vnd.jupyter.widget-view+json": {
       "model_id": "d5fce348172747f9ab9ef052dd310a04",
       "version_major": 2,
       "version_minor": 0
      },
      "text/plain": [
       "eval_epoch:   0%|          | 0/308 [00:00<?, ?batch/s]"
      ]
     },
     "metadata": {},
     "output_type": "display_data"
    },
    {
     "data": {
      "application/vnd.jupyter.widget-view+json": {
       "model_id": "1129a9cb5aec4088825aca2708790fe2",
       "version_major": 2,
       "version_minor": 0
      },
      "text/plain": [
       "  0%|          | 0/32 [00:00<?, ?it/s]"
      ]
     },
     "metadata": {},
     "output_type": "display_data"
    },
    {
     "data": {
      "application/vnd.jupyter.widget-view+json": {
       "model_id": "5b22dc852f7042b4ac15b7883c1ea7b1",
       "version_major": 2,
       "version_minor": 0
      },
      "text/plain": [
       "  0%|          | 0/32 [00:00<?, ?it/s]"
      ]
     },
     "metadata": {},
     "output_type": "display_data"
    },
    {
     "data": {
      "application/vnd.jupyter.widget-view+json": {
       "model_id": "3f6897688e6c4e45a40fcffeedb584d8",
       "version_major": 2,
       "version_minor": 0
      },
      "text/plain": [
       "fit_epoch:   0%|          | 0/3341 [00:00<?, ?batch/s]"
      ]
     },
     "metadata": {},
     "output_type": "display_data"
    },
    {
     "data": {
      "application/vnd.jupyter.widget-view+json": {
       "model_id": "54a910be548f4ec297e5d3a6a4b82641",
       "version_major": 2,
       "version_minor": 0
      },
      "text/plain": [
       "eval_epoch:   0%|          | 0/308 [00:00<?, ?batch/s]"
      ]
     },
     "metadata": {},
     "output_type": "display_data"
    },
    {
     "data": {
      "application/vnd.jupyter.widget-view+json": {
       "model_id": "a059660946604884af4a5306fc0e6b5c",
       "version_major": 2,
       "version_minor": 0
      },
      "text/plain": [
       "  0%|          | 0/32 [00:00<?, ?it/s]"
      ]
     },
     "metadata": {},
     "output_type": "display_data"
    },
    {
     "data": {
      "application/vnd.jupyter.widget-view+json": {
       "model_id": "c2d632720420456cb43ae9e56a62bd34",
       "version_major": 2,
       "version_minor": 0
      },
      "text/plain": [
       "  0%|          | 0/32 [00:00<?, ?it/s]"
      ]
     },
     "metadata": {},
     "output_type": "display_data"
    },
    {
     "data": {
      "application/vnd.jupyter.widget-view+json": {
       "model_id": "67876ec2f8234eec9457bbe60954bb82",
       "version_major": 2,
       "version_minor": 0
      },
      "text/plain": [
       "fit_epoch:   0%|          | 0/3341 [00:00<?, ?batch/s]"
      ]
     },
     "metadata": {},
     "output_type": "display_data"
    },
    {
     "data": {
      "application/vnd.jupyter.widget-view+json": {
       "model_id": "dc86c12e34fb4146afb8b25463b785ee",
       "version_major": 2,
       "version_minor": 0
      },
      "text/plain": [
       "eval_epoch:   0%|          | 0/308 [00:00<?, ?batch/s]"
      ]
     },
     "metadata": {},
     "output_type": "display_data"
    },
    {
     "data": {
      "application/vnd.jupyter.widget-view+json": {
       "model_id": "52a8ac058add469896b2cdaca0a07236",
       "version_major": 2,
       "version_minor": 0
      },
      "text/plain": [
       "  0%|          | 0/32 [00:00<?, ?it/s]"
      ]
     },
     "metadata": {},
     "output_type": "display_data"
    },
    {
     "data": {
      "application/vnd.jupyter.widget-view+json": {
       "model_id": "fd3f4e1652984a3b98055340f76bda6b",
       "version_major": 2,
       "version_minor": 0
      },
      "text/plain": [
       "  0%|          | 0/32 [00:00<?, ?it/s]"
      ]
     },
     "metadata": {},
     "output_type": "display_data"
    },
    {
     "data": {
      "application/vnd.jupyter.widget-view+json": {
       "model_id": "3599ab11fc264c5a903fde80c35bf0a1",
       "version_major": 2,
       "version_minor": 0
      },
      "text/plain": [
       "fit_epoch:   0%|          | 0/3341 [00:00<?, ?batch/s]"
      ]
     },
     "metadata": {},
     "output_type": "display_data"
    },
    {
     "data": {
      "application/vnd.jupyter.widget-view+json": {
       "model_id": "3b48a91ec4454cc58bad9e05778b557a",
       "version_major": 2,
       "version_minor": 0
      },
      "text/plain": [
       "eval_epoch:   0%|          | 0/308 [00:00<?, ?batch/s]"
      ]
     },
     "metadata": {},
     "output_type": "display_data"
    },
    {
     "data": {
      "application/vnd.jupyter.widget-view+json": {
       "model_id": "3f9d9f066fcd4f1dabaeb04f381e2287",
       "version_major": 2,
       "version_minor": 0
      },
      "text/plain": [
       "  0%|          | 0/32 [00:00<?, ?it/s]"
      ]
     },
     "metadata": {},
     "output_type": "display_data"
    },
    {
     "data": {
      "application/vnd.jupyter.widget-view+json": {
       "model_id": "e74b6caa9453466994756903260b88b2",
       "version_major": 2,
       "version_minor": 0
      },
      "text/plain": [
       "  0%|          | 0/32 [00:00<?, ?it/s]"
      ]
     },
     "metadata": {},
     "output_type": "display_data"
    },
    {
     "data": {
      "application/vnd.jupyter.widget-view+json": {
       "model_id": "de6f46831e7c472c8eb50aff964add97",
       "version_major": 2,
       "version_minor": 0
      },
      "text/plain": [
       "fit_epoch:   0%|          | 0/3341 [00:00<?, ?batch/s]"
      ]
     },
     "metadata": {},
     "output_type": "display_data"
    },
    {
     "data": {
      "application/vnd.jupyter.widget-view+json": {
       "model_id": "328b07ad9062469d94f5390affd708b2",
       "version_major": 2,
       "version_minor": 0
      },
      "text/plain": [
       "eval_epoch:   0%|          | 0/308 [00:00<?, ?batch/s]"
      ]
     },
     "metadata": {},
     "output_type": "display_data"
    },
    {
     "data": {
      "application/vnd.jupyter.widget-view+json": {
       "model_id": "d5965c9d0c5e41e5accc654e16313330",
       "version_major": 2,
       "version_minor": 0
      },
      "text/plain": [
       "  0%|          | 0/32 [00:00<?, ?it/s]"
      ]
     },
     "metadata": {},
     "output_type": "display_data"
    },
    {
     "data": {
      "application/vnd.jupyter.widget-view+json": {
       "model_id": "8f95fa19ac9644bba54f54071b81e677",
       "version_major": 2,
       "version_minor": 0
      },
      "text/plain": [
       "  0%|          | 0/32 [00:00<?, ?it/s]"
      ]
     },
     "metadata": {},
     "output_type": "display_data"
    },
    {
     "data": {
      "application/vnd.jupyter.widget-view+json": {
       "model_id": "31eda6d4867a4fea94d62c3aa2bd1b5d",
       "version_major": 2,
       "version_minor": 0
      },
      "text/plain": [
       "fit_epoch:   0%|          | 0/3341 [00:00<?, ?batch/s]"
      ]
     },
     "metadata": {},
     "output_type": "display_data"
    },
    {
     "data": {
      "application/vnd.jupyter.widget-view+json": {
       "model_id": "529f30790cee46cd8af650b8bd5b5ceb",
       "version_major": 2,
       "version_minor": 0
      },
      "text/plain": [
       "eval_epoch:   0%|          | 0/308 [00:00<?, ?batch/s]"
      ]
     },
     "metadata": {},
     "output_type": "display_data"
    },
    {
     "data": {
      "application/vnd.jupyter.widget-view+json": {
       "model_id": "45f4e6eb87ad4d08839bc817d8407915",
       "version_major": 2,
       "version_minor": 0
      },
      "text/plain": [
       "  0%|          | 0/32 [00:00<?, ?it/s]"
      ]
     },
     "metadata": {},
     "output_type": "display_data"
    },
    {
     "data": {
      "application/vnd.jupyter.widget-view+json": {
       "model_id": "aa56c6f9391e442b8fa0b2acb0318f39",
       "version_major": 2,
       "version_minor": 0
      },
      "text/plain": [
       "  0%|          | 0/32 [00:00<?, ?it/s]"
      ]
     },
     "metadata": {},
     "output_type": "display_data"
    },
    {
     "data": {
      "application/vnd.jupyter.widget-view+json": {
       "model_id": "4e29bdf38a05444ba0d4a6175e2d0e79",
       "version_major": 2,
       "version_minor": 0
      },
      "text/plain": [
       "fit_epoch:   0%|          | 0/3341 [00:00<?, ?batch/s]"
      ]
     },
     "metadata": {},
     "output_type": "display_data"
    },
    {
     "data": {
      "application/vnd.jupyter.widget-view+json": {
       "model_id": "72e9590723de450786839f7c6d6d6d1f",
       "version_major": 2,
       "version_minor": 0
      },
      "text/plain": [
       "eval_epoch:   0%|          | 0/308 [00:00<?, ?batch/s]"
      ]
     },
     "metadata": {},
     "output_type": "display_data"
    },
    {
     "data": {
      "application/vnd.jupyter.widget-view+json": {
       "model_id": "b9c2a307800943c1812875c6d23843ba",
       "version_major": 2,
       "version_minor": 0
      },
      "text/plain": [
       "  0%|          | 0/32 [00:00<?, ?it/s]"
      ]
     },
     "metadata": {},
     "output_type": "display_data"
    },
    {
     "data": {
      "application/vnd.jupyter.widget-view+json": {
       "model_id": "2e6fb8ffc20548ef86901a2204c54c3c",
       "version_major": 2,
       "version_minor": 0
      },
      "text/plain": [
       "  0%|          | 0/32 [00:00<?, ?it/s]"
      ]
     },
     "metadata": {},
     "output_type": "display_data"
    },
    {
     "data": {
      "application/vnd.jupyter.widget-view+json": {
       "model_id": "0079182c209a4f4bb7341dcb4cf54806",
       "version_major": 2,
       "version_minor": 0
      },
      "text/plain": [
       "fit_epoch:   0%|          | 0/3341 [00:00<?, ?batch/s]"
      ]
     },
     "metadata": {},
     "output_type": "display_data"
    },
    {
     "data": {
      "application/vnd.jupyter.widget-view+json": {
       "model_id": "546a621bb934422c80ff6758981693c1",
       "version_major": 2,
       "version_minor": 0
      },
      "text/plain": [
       "eval_epoch:   0%|          | 0/308 [00:00<?, ?batch/s]"
      ]
     },
     "metadata": {},
     "output_type": "display_data"
    },
    {
     "data": {
      "application/vnd.jupyter.widget-view+json": {
       "model_id": "372c0033160a4202b8e2615d775683e1",
       "version_major": 2,
       "version_minor": 0
      },
      "text/plain": [
       "  0%|          | 0/32 [00:00<?, ?it/s]"
      ]
     },
     "metadata": {},
     "output_type": "display_data"
    },
    {
     "data": {
      "application/vnd.jupyter.widget-view+json": {
       "model_id": "a6bbad6561c74ba9bf83e3b8b9cda6da",
       "version_major": 2,
       "version_minor": 0
      },
      "text/plain": [
       "  0%|          | 0/32 [00:00<?, ?it/s]"
      ]
     },
     "metadata": {},
     "output_type": "display_data"
    },
    {
     "data": {
      "application/vnd.jupyter.widget-view+json": {
       "model_id": "eacbeb4cb13d4a06be6054c10d2222f6",
       "version_major": 2,
       "version_minor": 0
      },
      "text/plain": [
       "fit_epoch:   0%|          | 0/3341 [00:00<?, ?batch/s]"
      ]
     },
     "metadata": {},
     "output_type": "display_data"
    },
    {
     "data": {
      "application/vnd.jupyter.widget-view+json": {
       "model_id": "85134897790e48879ba9dc572efc3cc7",
       "version_major": 2,
       "version_minor": 0
      },
      "text/plain": [
       "eval_epoch:   0%|          | 0/308 [00:00<?, ?batch/s]"
      ]
     },
     "metadata": {},
     "output_type": "display_data"
    },
    {
     "data": {
      "application/vnd.jupyter.widget-view+json": {
       "model_id": "78f0ab78fbae47528abe20d051c66a76",
       "version_major": 2,
       "version_minor": 0
      },
      "text/plain": [
       "  0%|          | 0/32 [00:00<?, ?it/s]"
      ]
     },
     "metadata": {},
     "output_type": "display_data"
    },
    {
     "data": {
      "application/vnd.jupyter.widget-view+json": {
       "model_id": "af6bb670e7ca47a79b27e47538109de5",
       "version_major": 2,
       "version_minor": 0
      },
      "text/plain": [
       "  0%|          | 0/32 [00:00<?, ?it/s]"
      ]
     },
     "metadata": {},
     "output_type": "display_data"
    },
    {
     "data": {
      "application/vnd.jupyter.widget-view+json": {
       "model_id": "30c2ef3883ad4eeca1364ea4995bb135",
       "version_major": 2,
       "version_minor": 0
      },
      "text/plain": [
       "fit_epoch:   0%|          | 0/3341 [00:00<?, ?batch/s]"
      ]
     },
     "metadata": {},
     "output_type": "display_data"
    },
    {
     "data": {
      "application/vnd.jupyter.widget-view+json": {
       "model_id": "e34d4e141f49478aa01cb5cc663c3d7b",
       "version_major": 2,
       "version_minor": 0
      },
      "text/plain": [
       "eval_epoch:   0%|          | 0/308 [00:00<?, ?batch/s]"
      ]
     },
     "metadata": {},
     "output_type": "display_data"
    },
    {
     "data": {
      "application/vnd.jupyter.widget-view+json": {
       "model_id": "08f3fd68dfd443beaf8f136a9938ccd2",
       "version_major": 2,
       "version_minor": 0
      },
      "text/plain": [
       "  0%|          | 0/32 [00:00<?, ?it/s]"
      ]
     },
     "metadata": {},
     "output_type": "display_data"
    },
    {
     "data": {
      "application/vnd.jupyter.widget-view+json": {
       "model_id": "d195a3f7e3784ca282d849a2959bb3a1",
       "version_major": 2,
       "version_minor": 0
      },
      "text/plain": [
       "  0%|          | 0/32 [00:00<?, ?it/s]"
      ]
     },
     "metadata": {},
     "output_type": "display_data"
    },
    {
     "data": {
      "application/vnd.jupyter.widget-view+json": {
       "model_id": "d809986fc4aa4ea7bd897eec6c5f2845",
       "version_major": 2,
       "version_minor": 0
      },
      "text/plain": [
       "fit_epoch:   0%|          | 0/3341 [00:00<?, ?batch/s]"
      ]
     },
     "metadata": {},
     "output_type": "display_data"
    },
    {
     "data": {
      "application/vnd.jupyter.widget-view+json": {
       "model_id": "b3ac701ad1404fd0a627a18fdb0f5bb6",
       "version_major": 2,
       "version_minor": 0
      },
      "text/plain": [
       "eval_epoch:   0%|          | 0/308 [00:00<?, ?batch/s]"
      ]
     },
     "metadata": {},
     "output_type": "display_data"
    },
    {
     "data": {
      "application/vnd.jupyter.widget-view+json": {
       "model_id": "396244e509d742369ad489568117a4b3",
       "version_major": 2,
       "version_minor": 0
      },
      "text/plain": [
       "  0%|          | 0/32 [00:00<?, ?it/s]"
      ]
     },
     "metadata": {},
     "output_type": "display_data"
    },
    {
     "data": {
      "application/vnd.jupyter.widget-view+json": {
       "model_id": "2652cfa3d305422da09f205d0b9942d1",
       "version_major": 2,
       "version_minor": 0
      },
      "text/plain": [
       "  0%|          | 0/32 [00:00<?, ?it/s]"
      ]
     },
     "metadata": {},
     "output_type": "display_data"
    },
    {
     "data": {
      "application/vnd.jupyter.widget-view+json": {
       "model_id": "014db222a9d8464289188fdb1905b878",
       "version_major": 2,
       "version_minor": 0
      },
      "text/plain": [
       "fit_epoch:   0%|          | 0/3341 [00:00<?, ?batch/s]"
      ]
     },
     "metadata": {},
     "output_type": "display_data"
    },
    {
     "data": {
      "application/vnd.jupyter.widget-view+json": {
       "model_id": "5e555dea82d046c19498b5c3e8d569da",
       "version_major": 2,
       "version_minor": 0
      },
      "text/plain": [
       "eval_epoch:   0%|          | 0/308 [00:00<?, ?batch/s]"
      ]
     },
     "metadata": {},
     "output_type": "display_data"
    },
    {
     "data": {
      "application/vnd.jupyter.widget-view+json": {
       "model_id": "8ed76ccfc0d34b65a323d7cc0e87c9bf",
       "version_major": 2,
       "version_minor": 0
      },
      "text/plain": [
       "  0%|          | 0/32 [00:00<?, ?it/s]"
      ]
     },
     "metadata": {},
     "output_type": "display_data"
    },
    {
     "data": {
      "application/vnd.jupyter.widget-view+json": {
       "model_id": "d52cc0d39c304c378f0cda29e8880626",
       "version_major": 2,
       "version_minor": 0
      },
      "text/plain": [
       "  0%|          | 0/32 [00:00<?, ?it/s]"
      ]
     },
     "metadata": {},
     "output_type": "display_data"
    },
    {
     "data": {
      "application/vnd.jupyter.widget-view+json": {
       "model_id": "919199ea504b4697acac254c9b89b601",
       "version_major": 2,
       "version_minor": 0
      },
      "text/plain": [
       "fit_epoch:   0%|          | 0/3341 [00:00<?, ?batch/s]"
      ]
     },
     "metadata": {},
     "output_type": "display_data"
    },
    {
     "data": {
      "application/vnd.jupyter.widget-view+json": {
       "model_id": "77f82e3e573c46fb856a94cd14bf4c34",
       "version_major": 2,
       "version_minor": 0
      },
      "text/plain": [
       "eval_epoch:   0%|          | 0/308 [00:00<?, ?batch/s]"
      ]
     },
     "metadata": {},
     "output_type": "display_data"
    },
    {
     "data": {
      "application/vnd.jupyter.widget-view+json": {
       "model_id": "044807967a3140019454b87fe2d54480",
       "version_major": 2,
       "version_minor": 0
      },
      "text/plain": [
       "  0%|          | 0/32 [00:00<?, ?it/s]"
      ]
     },
     "metadata": {},
     "output_type": "display_data"
    },
    {
     "data": {
      "application/vnd.jupyter.widget-view+json": {
       "model_id": "965a0352a9e1472487ed0e2c5dfa047e",
       "version_major": 2,
       "version_minor": 0
      },
      "text/plain": [
       "  0%|          | 0/32 [00:00<?, ?it/s]"
      ]
     },
     "metadata": {},
     "output_type": "display_data"
    },
    {
     "data": {
      "application/vnd.jupyter.widget-view+json": {
       "model_id": "c0f4ad12616d450e9221acbe857f27e1",
       "version_major": 2,
       "version_minor": 0
      },
      "text/plain": [
       "fit_epoch:   0%|          | 0/3341 [00:00<?, ?batch/s]"
      ]
     },
     "metadata": {},
     "output_type": "display_data"
    },
    {
     "data": {
      "application/vnd.jupyter.widget-view+json": {
       "model_id": "1831f44bc4d544f9a000e5ab850ec569",
       "version_major": 2,
       "version_minor": 0
      },
      "text/plain": [
       "eval_epoch:   0%|          | 0/308 [00:00<?, ?batch/s]"
      ]
     },
     "metadata": {},
     "output_type": "display_data"
    },
    {
     "data": {
      "application/vnd.jupyter.widget-view+json": {
       "model_id": "7beb5fe054a34fc4aa82bb97c2460020",
       "version_major": 2,
       "version_minor": 0
      },
      "text/plain": [
       "  0%|          | 0/32 [00:00<?, ?it/s]"
      ]
     },
     "metadata": {},
     "output_type": "display_data"
    },
    {
     "data": {
      "application/vnd.jupyter.widget-view+json": {
       "model_id": "b0140ceb846f4d6ab9a335a74e340a60",
       "version_major": 2,
       "version_minor": 0
      },
      "text/plain": [
       "  0%|          | 0/32 [00:00<?, ?it/s]"
      ]
     },
     "metadata": {},
     "output_type": "display_data"
    },
    {
     "data": {
      "application/vnd.jupyter.widget-view+json": {
       "model_id": "feeb357fb5894ed09e9318920ee9c3f8",
       "version_major": 2,
       "version_minor": 0
      },
      "text/plain": [
       "fit_epoch:   0%|          | 0/3341 [00:00<?, ?batch/s]"
      ]
     },
     "metadata": {},
     "output_type": "display_data"
    },
    {
     "data": {
      "application/vnd.jupyter.widget-view+json": {
       "model_id": "b66c1ea8322a48f3bd63ee9d267c4c0b",
       "version_major": 2,
       "version_minor": 0
      },
      "text/plain": [
       "eval_epoch:   0%|          | 0/308 [00:00<?, ?batch/s]"
      ]
     },
     "metadata": {},
     "output_type": "display_data"
    },
    {
     "data": {
      "application/vnd.jupyter.widget-view+json": {
       "model_id": "daf570a0aa3c4bef8f64d6550238fb78",
       "version_major": 2,
       "version_minor": 0
      },
      "text/plain": [
       "  0%|          | 0/32 [00:00<?, ?it/s]"
      ]
     },
     "metadata": {},
     "output_type": "display_data"
    },
    {
     "data": {
      "application/vnd.jupyter.widget-view+json": {
       "model_id": "b75cca4b952a4cce8bb149f404b36f39",
       "version_major": 2,
       "version_minor": 0
      },
      "text/plain": [
       "  0%|          | 0/32 [00:00<?, ?it/s]"
      ]
     },
     "metadata": {},
     "output_type": "display_data"
    },
    {
     "data": {
      "application/vnd.jupyter.widget-view+json": {
       "model_id": "15aaf2baba5b4dde977481ac53d06b5c",
       "version_major": 2,
       "version_minor": 0
      },
      "text/plain": [
       "fit_epoch:   0%|          | 0/3341 [00:00<?, ?batch/s]"
      ]
     },
     "metadata": {},
     "output_type": "display_data"
    }
   ],
   "source": [
    "with tqdm(total=epochs,\n",
    "          position=0,\n",
    "          unit='epoch',\n",
    "          desc=\"Learning\",\n",
    "          dynamic_ncols=True) as pbar:\n",
    "    \n",
    "    for h in iter_train(train_dataset, test_dataset, model, epochs, optim,\n",
    "                        loss_fn):\n",
    "        history.append(h)\n",
    "        train_loss, test_loss = h\n",
    "        # print(f\"Epoch {i+1}/{total_epochs}\",\n",
    "        #       f\"train loss: {full_train_loss:.5f}, test_loss: {full_test_loss:.5f}\")\n",
    "        pbar.update()\n",
    "        pbar.set_postfix(train_loss=train_loss, test_loss=test_loss)\n",
    "\n",
    "        titles = [\"full_train_loss\", \"full_test_loss\"]\n",
    "        res = np.array([titles] + history)\n",
    "        for j, title in enumerate(titles):\n",
    "            np.savetxt(jn(path_config['reports_path'], title + '.csv'),\n",
    "                        res[:, j],\n",
    "                        delimiter=',',\n",
    "                        fmt='%s')\n",
    "        \n",
    "        # checkpoint saving\n",
    "        torch.save({\n",
    "            'model_state_dict': model.state_dict(),\n",
    "            'optimizer_state_dict': optim.state_dict()\n",
    "            }, jn(checkp_dir, f'checkpoint{len(history)}.pt'))\n",
    "        # visualizing progress\n",
    "        make_visualization(jn(checkp_dir, f'visual{len(history)}'))\n",
    "\n",
    "        os.system('dvc plots show -q')"
   ]
  },
  {
   "cell_type": "code",
   "execution_count": 11,
   "metadata": {},
   "outputs": [],
   "source": [
    "full_train_loss, full_test_loss = zip(*history)\n",
    "res = {\n",
    "    'train': {\n",
    "        'loss': full_train_loss[np.argmin(full_test_loss)]\n",
    "    },\n",
    "    'test': {\n",
    "        'loss': min(full_test_loss)\n",
    "    }\n",
    "}\n",
    "with open(jn(path_config['reports_path'], \"v_summary.json\"), \"w\") as f:\n",
    "    json.dump(res, f)"
   ]
  },
  {
   "cell_type": "code",
   "execution_count": 12,
   "metadata": {
    "scrolled": true
   },
   "outputs": [
    {
     "name": "stdout",
     "output_type": "stream",
     "text": [
      "INFO - fiber_sensor_SensorGeom - Running command 'send_csv'\n",
      "INFO - fiber_sensor_SensorGeom - Started run with ID \"343\"\n",
      "INFO - fiber_sensor_SensorGeom - Completed after 0:00:00\n"
     ]
    }
   ],
   "source": [
    "!python csv_logger.py"
   ]
  },
  {
   "cell_type": "code",
   "execution_count": 22,
   "metadata": {},
   "outputs": [],
   "source": [
    "if not os.path.exists(path_config['v_model_path']):\n",
    "    os.makedirs(path_config['v_model_path'])\n",
    "torch.save(model, jn(path_config['v_model_path'], model_name + '.pt'))\n"
   ]
  },
  {
   "cell_type": "code",
   "execution_count": 21,
   "metadata": {},
   "outputs": [
    {
     "data": {
      "application/vnd.jupyter.widget-view+json": {
       "model_id": "a00fb9e1b9af41c99408c8e7684f40be",
       "version_major": 2,
       "version_minor": 0
      },
      "text/plain": [
       "  0%|          | 0/32 [00:00<?, ?it/s]"
      ]
     },
     "metadata": {},
     "output_type": "display_data"
    }
   ],
   "source": [
    "save_path = path_config['video_predict_vis_path']\n",
    "make_visualization(save_path)"
   ]
  },
  {
   "cell_type": "code",
   "execution_count": 24,
   "metadata": {},
   "outputs": [],
   "source": [
    "# # checkpoint saving\n",
    "# torch.save({\n",
    "#             'model_state_dict': model.state_dict(),\n",
    "#             'optimizer_state_dict': optim.state_dict()\n",
    "#             }, 'checkpoint.pt')"
   ]
  },
  {
   "cell_type": "code",
   "execution_count": 27,
   "metadata": {},
   "outputs": [
    {
     "data": {
      "text/plain": [
       "Unet1(\n",
       "  (step1): Sequential(\n",
       "    (0): Conv2d(4, 16, kernel_size=(3, 3), stride=(1, 1), padding=same)\n",
       "    (1): ReLU()\n",
       "    (2): Conv2d(16, 16, kernel_size=(3, 3), stride=(1, 1), padding=same)\n",
       "    (3): ReLU()\n",
       "    (4): ReLU()\n",
       "    (5): Conv2d(16, 16, kernel_size=(3, 3), stride=(1, 1), padding=same)\n",
       "    (6): ReLU()\n",
       "  )\n",
       "  (down1): Sequential(\n",
       "    (0): Conv2d(16, 32, kernel_size=(3, 3), stride=(2, 2), padding=(1, 1))\n",
       "    (1): ReLU()\n",
       "    (2): Conv2d(32, 32, kernel_size=(3, 3), stride=(1, 1), padding=same)\n",
       "    (3): ReLU()\n",
       "    (4): Conv2d(32, 32, kernel_size=(3, 3), stride=(1, 1), padding=same)\n",
       "    (5): ReLU()\n",
       "  )\n",
       "  (down2): Sequential(\n",
       "    (0): Conv2d(32, 32, kernel_size=(3, 3), stride=(2, 2), padding=(1, 1))\n",
       "    (1): ReLU()\n",
       "    (2): Conv2d(32, 32, kernel_size=(3, 3), stride=(1, 1), padding=same)\n",
       "    (3): ReLU()\n",
       "    (4): Conv2d(32, 32, kernel_size=(3, 3), stride=(1, 1), padding=same)\n",
       "    (5): ReLU()\n",
       "  )\n",
       "  (down3): Sequential(\n",
       "    (0): Conv2d(32, 64, kernel_size=(3, 3), stride=(2, 2), padding=(1, 1))\n",
       "    (1): ReLU()\n",
       "    (2): Conv2d(64, 64, kernel_size=(3, 3), stride=(1, 1), padding=same)\n",
       "    (3): ReLU()\n",
       "    (4): Conv2d(64, 64, kernel_size=(3, 3), stride=(1, 1), padding=same)\n",
       "    (5): ReLU()\n",
       "  )\n",
       "  (down4): Sequential(\n",
       "    (0): Conv2d(64, 128, kernel_size=(3, 3), stride=(2, 2), padding=(1, 1))\n",
       "    (1): ReLU()\n",
       "    (2): Conv2d(128, 128, kernel_size=(3, 3), stride=(1, 1), padding=same)\n",
       "    (3): ReLU()\n",
       "    (4): Conv2d(128, 128, kernel_size=(3, 3), stride=(1, 1), padding=same)\n",
       "    (5): ReLU()\n",
       "    (6): Conv2d(128, 128, kernel_size=(3, 3), stride=(1, 1), padding=same)\n",
       "    (7): ReLU()\n",
       "  )\n",
       "  (up4): Sequential(\n",
       "    (0): Conv2d(128, 64, kernel_size=(3, 3), stride=(1, 1), padding=same)\n",
       "    (1): ReLU()\n",
       "    (2): Conv2d(64, 64, kernel_size=(3, 3), stride=(1, 1), padding=same)\n",
       "    (3): ReLU()\n",
       "    (4): ConvTranspose2d(64, 32, kernel_size=(2, 2), stride=(2, 2))\n",
       "    (5): ReLU()\n",
       "  )\n",
       "  (up3): Sequential(\n",
       "    (0): Conv2d(96, 32, kernel_size=(3, 3), stride=(1, 1), padding=same)\n",
       "    (1): ReLU()\n",
       "    (2): Conv2d(32, 32, kernel_size=(3, 3), stride=(1, 1), padding=same)\n",
       "    (3): ReLU()\n",
       "    (4): ConvTranspose2d(32, 16, kernel_size=(2, 2), stride=(2, 2))\n",
       "    (5): ReLU()\n",
       "  )\n",
       "  (up2): Sequential(\n",
       "    (0): Conv2d(48, 16, kernel_size=(3, 3), stride=(1, 1), padding=same)\n",
       "    (1): ReLU()\n",
       "    (2): Conv2d(16, 16, kernel_size=(3, 3), stride=(1, 1), padding=same)\n",
       "    (3): ReLU()\n",
       "    (4): ConvTranspose2d(16, 16, kernel_size=(2, 2), stride=(2, 2))\n",
       "    (5): ReLU()\n",
       "  )\n",
       "  (up1): Sequential(\n",
       "    (0): Conv2d(48, 16, kernel_size=(3, 3), stride=(1, 1), padding=same)\n",
       "    (1): ReLU()\n",
       "    (2): Conv2d(16, 16, kernel_size=(3, 3), stride=(1, 1), padding=same)\n",
       "    (3): ReLU()\n",
       "    (4): ConvTranspose2d(16, 16, kernel_size=(2, 2), stride=(2, 2))\n",
       "    (5): ReLU()\n",
       "  )\n",
       "  (finalConv): Sequential(\n",
       "    (0): Conv2d(32, 16, kernel_size=(3, 3), stride=(1, 1), padding=same)\n",
       "    (1): ReLU()\n",
       "    (2): Conv2d(16, 16, kernel_size=(3, 3), stride=(1, 1), padding=same)\n",
       "    (3): ReLU()\n",
       "    (4): Conv2d(16, 1, kernel_size=(1, 1), stride=(1, 1), padding=same)\n",
       "  )\n",
       ")"
      ]
     },
     "execution_count": 27,
     "metadata": {},
     "output_type": "execute_result"
    }
   ],
   "source": [
    "# checkpoint loading\n",
    "checkpoint = torch.load(jn(checkp_dir, 'checkpoint.pt'))\n",
    "model.load_state_dict(checkpoint['model_state_dict'])\n",
    "optim.load_state_dict(checkpoint['optimizer_state_dict'])\n",
    "\n",
    "model.train()"
   ]
  }
 ],
 "metadata": {
  "kernelspec": {
   "display_name": "Python 3.10.5 ('sensor')",
   "language": "python",
   "name": "python3"
  },
  "language_info": {
   "codemirror_mode": {
    "name": "ipython",
    "version": 3
   },
   "file_extension": ".py",
   "mimetype": "text/x-python",
   "name": "python",
   "nbconvert_exporter": "python",
   "pygments_lexer": "ipython3",
   "version": "3.10.5"
  },
  "vscode": {
   "interpreter": {
    "hash": "c6baf878489f10e977bf9426eaa34ffff09577aa5975e8f6098bd62b06bd69aa"
   }
  }
 },
 "nbformat": 4,
 "nbformat_minor": 2
}
