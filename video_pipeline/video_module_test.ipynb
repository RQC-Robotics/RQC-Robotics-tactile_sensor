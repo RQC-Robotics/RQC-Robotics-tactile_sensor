{
 "cells": [
  {
   "cell_type": "code",
   "execution_count": 1,
   "metadata": {},
   "outputs": [
    {
     "name": "stdout",
     "output_type": "stream",
     "text": [
      "/home/amir/PycharmProjects/rqc_internship/sensor_repo\n"
     ]
    }
   ],
   "source": [
    "%cd ..\n",
    "%load_ext autoreload\n",
    "%autoreload 2"
   ]
  },
  {
   "cell_type": "code",
   "execution_count": 2,
   "metadata": {},
   "outputs": [],
   "source": [
    "import numpy as np\n",
    "import matplotlib.pyplot as plt\n",
    "from os.path import join as jn\n",
    "import os\n",
    "import yaml\n",
    "import torch\n",
    "from torchinfo import summary\n",
    "from tqdm.notebook import tqdm\n",
    "from torch.utils.data import DataLoader, Dataset\n"
   ]
  },
  {
   "cell_type": "code",
   "execution_count": 50,
   "metadata": {},
   "outputs": [],
   "source": [
    "from video_module import *"
   ]
  },
  {
   "cell_type": "code",
   "execution_count": 7,
   "metadata": {},
   "outputs": [],
   "source": [
    "with open('params.yaml') as conf_file:\n",
    "    config = yaml.safe_load(conf_file)\n",
    "with open('pathes.yaml') as conf_file:\n",
    "    path_config = yaml.safe_load(conf_file)\n",
    "\n",
    "pressure_path = path_config['p_video_path']\n",
    "signal_path = path_config['s_video_path']\n"
   ]
  },
  {
   "cell_type": "code",
   "execution_count": 19,
   "metadata": {},
   "outputs": [],
   "source": [
    "v_ds = Video_dataset(pressure_path, signal_path)\n",
    "v_ds.split_to_chains(30)"
   ]
  },
  {
   "cell_type": "code",
   "execution_count": 21,
   "metadata": {},
   "outputs": [
    {
     "name": "stdout",
     "output_type": "stream",
     "text": [
      "(30, 4, 64) (30, 64, 64)\n",
      "(30, 4, 64) (30, 64, 64)\n",
      "(30, 4, 64) (30, 64, 64)\n",
      "(30, 4, 64) (30, 64, 64)\n",
      "(30, 4, 64) (30, 64, 64)\n",
      "(30, 4, 64) (30, 64, 64)\n",
      "(30, 4, 64) (30, 64, 64)\n",
      "(30, 4, 64) (30, 64, 64)\n",
      "(30, 4, 64) (30, 64, 64)\n",
      "(30, 4, 64) (30, 64, 64)\n",
      "(30, 4, 64) (30, 64, 64)\n",
      "(30, 4, 64) (30, 64, 64)\n",
      "(30, 4, 64) (30, 64, 64)\n",
      "(30, 4, 64) (30, 64, 64)\n",
      "(30, 4, 64) (30, 64, 64)\n",
      "(30, 4, 64) (30, 64, 64)\n",
      "(30, 4, 64) (30, 64, 64)\n",
      "(30, 4, 64) (30, 64, 64)\n",
      "(30, 4, 64) (30, 64, 64)\n",
      "(30, 4, 64) (30, 64, 64)\n",
      "(30, 4, 64) (30, 64, 64)\n",
      "(30, 4, 64) (30, 64, 64)\n",
      "(30, 4, 64) (30, 64, 64)\n",
      "(30, 4, 64) (30, 64, 64)\n",
      "(30, 4, 64) (30, 64, 64)\n",
      "(30, 4, 64) (30, 64, 64)\n",
      "(30, 4, 64) (30, 64, 64)\n",
      "(30, 4, 64) (30, 64, 64)\n",
      "(30, 4, 64) (30, 64, 64)\n",
      "(30, 4, 64) (30, 64, 64)\n",
      "(30, 4, 64) (30, 64, 64)\n",
      "(30, 4, 64) (30, 64, 64)\n",
      "(30, 4, 64) (30, 64, 64)\n",
      "(30, 4, 64) (30, 64, 64)\n",
      "(30, 4, 64) (30, 64, 64)\n",
      "(30, 4, 64) (30, 64, 64)\n",
      "(30, 4, 64) (30, 64, 64)\n",
      "(30, 4, 64) (30, 64, 64)\n",
      "(30, 4, 64) (30, 64, 64)\n",
      "(30, 4, 64) (30, 64, 64)\n",
      "(30, 4, 64) (30, 64, 64)\n",
      "(30, 4, 64) (30, 64, 64)\n"
     ]
    }
   ],
   "source": [
    "for x in v_ds:\n",
    "    print(x[0].shape, x[1].shape)"
   ]
  },
  {
   "cell_type": "code",
   "execution_count": 27,
   "metadata": {},
   "outputs": [
    {
     "data": {
      "text/plain": [
       "torch.Size([5, 30, 4, 64])"
      ]
     },
     "execution_count": 27,
     "metadata": {},
     "output_type": "execute_result"
    }
   ],
   "source": [
    "v_dl = DataLoader(v_ds, batch_size=5)\n",
    "signal, pressure = next(iter(v_dl))\n",
    "signal.shape"
   ]
  },
  {
   "cell_type": "code",
   "execution_count": 31,
   "metadata": {},
   "outputs": [],
   "source": [
    "subDL = SubDataLoader(signal, initial_pressure=pressure[:, 0])\n"
   ]
  },
  {
   "cell_type": "code",
   "execution_count": 33,
   "metadata": {},
   "outputs": [],
   "source": [
    "for i in range(1, len(subDL)):\n",
    "    input = subDL.get_next_batch()\n",
    "    subDL.set_previous_pressure(pressure[:, i])\n",
    "    if i == 7:\n",
    "        break"
   ]
  },
  {
   "cell_type": "code",
   "execution_count": 37,
   "metadata": {},
   "outputs": [
    {
     "data": {
      "text/plain": [
       "(torch.Size([5, 64, 64]), torch.Size([5, 4, 64]), torch.Size([5, 4, 64]))"
      ]
     },
     "execution_count": 37,
     "metadata": {},
     "output_type": "execute_result"
    }
   ],
   "source": [
    "input[0].shape, input[1].shape, input[2].shape"
   ]
  },
  {
   "cell_type": "code",
   "execution_count": 38,
   "metadata": {},
   "outputs": [],
   "source": [
    "from models_src import *"
   ]
  },
  {
   "cell_type": "code",
   "execution_count": 39,
   "metadata": {},
   "outputs": [
    {
     "data": {
      "text/plain": [
       "torch.Size([5, 64, 64])"
      ]
     },
     "execution_count": 39,
     "metadata": {},
     "output_type": "execute_result"
    }
   ],
   "source": [
    "model = TestModel((64, 64), (4, 64))\n",
    "model(*input).shape"
   ]
  },
  {
   "cell_type": "code",
   "execution_count": 47,
   "metadata": {},
   "outputs": [
    {
     "data": {
      "text/plain": [
       "torch.Size([5, 30, 4, 64])"
      ]
     },
     "execution_count": 47,
     "metadata": {},
     "output_type": "execute_result"
    }
   ],
   "source": [
    "signal.shape"
   ]
  },
  {
   "cell_type": "code",
   "execution_count": 46,
   "metadata": {},
   "outputs": [
    {
     "data": {
      "text/plain": [
       "torch.Size([5, 256, 64])"
      ]
     },
     "execution_count": 46,
     "metadata": {},
     "output_type": "execute_result"
    }
   ],
   "source": [
    "predict_chain_batch(model, signal, initial_pressure=pressure[:, 0]).shape"
   ]
  },
  {
   "cell_type": "code",
   "execution_count": 66,
   "metadata": {},
   "outputs": [],
   "source": [
    "from video_module import *"
   ]
  },
  {
   "cell_type": "code",
   "execution_count": 60,
   "metadata": {},
   "outputs": [
    {
     "name": "stdout",
     "output_type": "stream",
     "text": [
      "torch.Size([5, 30, 4, 64])\n",
      "30\n",
      "0.23783138394355774\n",
      "torch.Size([5, 30, 4, 64])\n",
      "30\n",
      "0.25069481134414673\n",
      "torch.Size([5, 30, 4, 64])\n",
      "30\n",
      "0.23790596425533295\n",
      "torch.Size([5, 30, 4, 64])\n",
      "30\n",
      "0.2516731917858124\n",
      "torch.Size([5, 30, 4, 64])\n",
      "30\n",
      "0.23971502482891083\n",
      "torch.Size([5, 30, 4, 64])\n",
      "30\n",
      "0.23799049854278564\n",
      "torch.Size([5, 30, 4, 64])\n",
      "30\n",
      "2677.748046875\n",
      "torch.Size([5, 30, 4, 64])\n",
      "30\n",
      "6886.7255859375\n",
      "torch.Size([2, 30, 4, 64])\n",
      "30\n",
      "7402.98291015625\n"
     ]
    },
    {
     "data": {
      "text/plain": [
       "1491.3241199702024"
      ]
     },
     "execution_count": 60,
     "metadata": {},
     "output_type": "execute_result"
    }
   ],
   "source": [
    "optim = torch.optim.Adam(model.parameters(), lr=1e-4)\n",
    "fit_epoch(model, v_ds, torch.nn.MSELoss(), optim, 30, 5, 'cpu')"
   ]
  },
  {
   "cell_type": "code",
   "execution_count": 49,
   "metadata": {},
   "outputs": [
    {
     "data": {
      "text/plain": [
       "torch.Size([10, 1, 10])"
      ]
     },
     "execution_count": 49,
     "metadata": {},
     "output_type": "execute_result"
    }
   ],
   "source": [
    "torch.rand(10, 10)[:, None].shape"
   ]
  },
  {
   "cell_type": "code",
   "execution_count": 58,
   "metadata": {},
   "outputs": [
    {
     "data": {
      "text/plain": [
       "5"
      ]
     },
     "execution_count": 58,
     "metadata": {},
     "output_type": "execute_result"
    }
   ],
   "source": [
    "signal.size(0)"
   ]
  },
  {
   "cell_type": "code",
   "execution_count": 63,
   "metadata": {},
   "outputs": [
    {
     "data": {
      "text/plain": [
       "torch.Size([1, 5, 30, 4, 64])"
      ]
     },
     "execution_count": 63,
     "metadata": {},
     "output_type": "execute_result"
    }
   ],
   "source": [
    "signal[None].shape"
   ]
  },
  {
   "cell_type": "code",
   "execution_count": 64,
   "metadata": {},
   "outputs": [],
   "source": [
    "signal_np = np.load(jn(signal_path, '0.npy'))"
   ]
  },
  {
   "cell_type": "code",
   "execution_count": 68,
   "metadata": {},
   "outputs": [
    {
     "data": {
      "text/plain": [
       "(297, 4, 64)"
      ]
     },
     "execution_count": 68,
     "metadata": {},
     "output_type": "execute_result"
    }
   ],
   "source": [
    "signal_np.shape"
   ]
  },
  {
   "cell_type": "code",
   "execution_count": 79,
   "metadata": {},
   "outputs": [
    {
     "data": {
      "text/plain": [
       "(296, 64, 64)"
      ]
     },
     "execution_count": 79,
     "metadata": {},
     "output_type": "execute_result"
    }
   ],
   "source": [
    "predict(model, signal_np, 'cpu').shape"
   ]
  },
  {
   "cell_type": "code",
   "execution_count": 73,
   "metadata": {},
   "outputs": [
    {
     "data": {
      "text/plain": [
       "torch.Size([1, 297, 4, 64])"
      ]
     },
     "execution_count": 73,
     "metadata": {},
     "output_type": "execute_result"
    }
   ],
   "source": [
    "torch.tensor(signal_np)[None].shape"
   ]
  }
 ],
 "metadata": {
  "kernelspec": {
   "display_name": "Python 3.9.12 ('rqc_env')",
   "language": "python",
   "name": "python3"
  },
  "language_info": {
   "codemirror_mode": {
    "name": "ipython",
    "version": 3
   },
   "file_extension": ".py",
   "mimetype": "text/x-python",
   "name": "python",
   "nbconvert_exporter": "python",
   "pygments_lexer": "ipython3",
   "version": "3.9.12"
  },
  "orig_nbformat": 4,
  "vscode": {
   "interpreter": {
    "hash": "22975e861a4488f94634044a20ded97cfffd19315dfee221a4082522e37b8267"
   }
  }
 },
 "nbformat": 4,
 "nbformat_minor": 2
}
