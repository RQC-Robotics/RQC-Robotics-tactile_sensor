{
 "cells": [
  {
   "cell_type": "code",
   "execution_count": 7,
   "metadata": {},
   "outputs": [
    {
     "name": "stdout",
     "output_type": "stream",
     "text": [
      "d:\\Documents\\rqc_internship\\RQC-Robotics-tactile_sensor\n"
     ]
    }
   ],
   "source": [
    "%cd ..\n",
    "%load_ext autoreload\n",
    "%autoreload 2"
   ]
  },
  {
   "cell_type": "code",
   "execution_count": 8,
   "metadata": {
    "cellId": "p5k153ekggp9r7wh6i7ej6",
    "id": "EPNxeZi7MnUO"
   },
   "outputs": [],
   "source": [
    "import sensor_lib as sl\n",
    "import tensorflow as tf\n",
    "import numpy as np\n",
    "import matplotlib.pyplot as plt\n",
    "from os.path import join as jn\n",
    "import yaml"
   ]
  },
  {
   "cell_type": "code",
   "execution_count": 9,
   "metadata": {},
   "outputs": [],
   "source": [
    "with open('params.yaml') as conf_file:\n",
    "    config = yaml.safe_load(conf_file)\n",
    "with open('pathes.yaml') as conf_file:\n",
    "    path_config = yaml.safe_load(conf_file)\n",
    "geo = config['env']['sen_geometry']\n",
    "phys = config['env']['phys']"
   ]
  },
  {
   "cell_type": "code",
   "execution_count": 10,
   "metadata": {},
   "outputs": [],
   "source": [
    "np.random.seed(config['random_seed'])\n",
    "seeds = np.random.randint(0, 2**31, size=3)"
   ]
  },
  {
   "cell_type": "code",
   "execution_count": 11,
   "metadata": {},
   "outputs": [],
   "source": [
    "size = None\n",
    "max_possible_size = 1e6 # config['sim']['max_possible_size']\n",
    "test_size = config['sim']['test_size']\n",
    "batch_size = config['sim']['batch_size']\n",
    "mas = np.load(jn(path_config['generated_pic_path'],'5e3maps.npy'), mmap_mode='r')\n",
    "if size == None:\n",
    "    size = min(mas.shape[0], max_possible_size)\n",
    "if test_size == 'None':\n",
    "    test_size = int(size / 10)\n",
    "mas = mas[0:size]\n",
    "mas = mas.astype('float32')"
   ]
  },
  {
   "cell_type": "code",
   "execution_count": 12,
   "metadata": {},
   "outputs": [],
   "source": [
    "config['sim']['test_mod'] = False\n",
    "input_train, output_train, input_test, output_test = sl.sim_on_gpu(\n",
    "    mas, test_size, batch_size, config=config,\n",
    "    seed=seeds[1])  # use random inside"
   ]
  },
  {
   "cell_type": "markdown",
   "metadata": {
    "cellId": "nkd72ry4zcavf15haxeacf",
    "id": "2HBUJ_mMZzqT"
   },
   "source": [
    "# defining and fitting torch net"
   ]
  },
  {
   "cell_type": "code",
   "execution_count": 13,
   "metadata": {},
   "outputs": [
    {
     "name": "stdout",
     "output_type": "stream",
     "text": [
      "input shape:  (4500, 64, 4) \n",
      "output shape:  (4500, 64, 64)\n"
     ]
    }
   ],
   "source": [
    "print('input shape: ', input_train.shape, '\\noutput shape: ', output_train.shape)"
   ]
  },
  {
   "cell_type": "code",
   "execution_count": 14,
   "metadata": {},
   "outputs": [
    {
     "name": "stdout",
     "output_type": "stream",
     "text": [
      "CUDA is available!  Training on GPU ...\n"
     ]
    }
   ],
   "source": [
    "import torch\n",
    "from torchsummary import summary\n",
    "from tqdm.notebook import tqdm\n",
    "from torch.utils.data import DataLoader\n",
    "from IPython.display import clear_output\n",
    "\n",
    "\n",
    "if not torch.cuda.is_available():\n",
    "    print('CUDA is not available.  Training on CPU ...')\n",
    "else:\n",
    "    print('CUDA is available!  Training on GPU ...')\n",
    "device = 'cuda' if torch.cuda.is_available() else 'cpu'"
   ]
  },
  {
   "cell_type": "code",
   "execution_count": 16,
   "metadata": {},
   "outputs": [
    {
     "name": "stdout",
     "output_type": "stream",
     "text": [
      "TorchSensorNN(\n",
      "  (sequential): Sequential(\n",
      "    (0): Flatten(start_dim=1, end_dim=-1)\n",
      "    (1): Linear(in_features=256, out_features=600, bias=True)\n",
      "    (2): ReLU()\n",
      "    (3): Linear(in_features=600, out_features=600, bias=True)\n",
      "    (4): ReLU()\n",
      "    (5): Linear(in_features=600, out_features=600, bias=True)\n",
      "    (6): ReLU()\n",
      "    (7): Linear(in_features=600, out_features=4096, bias=True)\n",
      "    (8): ReLU()\n",
      "    (9): Unflatten(dim=1, unflattened_size=(64, 64))\n",
      "  )\n",
      ")\n"
     ]
    }
   ],
   "source": [
    "tr = config['train']\n",
    "model = sl.TorchSensorNN(input_train.shape[1:], output_train.shape[1:]).to(device)\n",
    "summary(model, (1, *input_train.shape[1:]))\n",
    "# print(model)\n",
    "optim = torch.optim.Adam(model.parameters(), lr=tr['learning_rate'])\n",
    "loss_fn = torch.nn.MSELoss()\n",
    "model_name = 'TorchSensorNN'"
   ]
  },
  {
   "cell_type": "code",
   "execution_count": 17,
   "metadata": {},
   "outputs": [],
   "source": [
    "# training functions\n",
    "\n",
    "def fit_epoch(model, train_loader, criterion, optimizer):\n",
    "    running_loss = 0.0\n",
    "    processed_data = 0\n",
    "    for inputs, labels in train_loader:\n",
    "        inputs = inputs.to(device)\n",
    "        labels = labels.to(device)\n",
    "        optimizer.zero_grad()\n",
    "\n",
    "        outputs = model(inputs)\n",
    "        loss = criterion(outputs, labels)\n",
    "        loss.backward()\n",
    "        optimizer.step()\n",
    "        running_loss += loss.item() * inputs.size(0)\n",
    "        processed_data += inputs.size(0)\n",
    "              \n",
    "    train_loss = running_loss / processed_data\n",
    "    return train_loss\n",
    "    \n",
    "def eval_epoch(model, test_loader, criterion):\n",
    "    model.eval()\n",
    "    running_loss = 0.0\n",
    "    processed_size = 0\n",
    "\n",
    "    for inputs, labels in test_loader:\n",
    "        inputs = inputs.to(device)\n",
    "        labels = labels.to(device)\n",
    "\n",
    "        with torch.set_grad_enabled(False):\n",
    "            outputs = model(inputs)\n",
    "            loss = criterion(outputs, labels)\n",
    "\n",
    "        running_loss += loss.item() * inputs.size(0)\n",
    "        processed_size += inputs.size(0)\n",
    "    val_loss = running_loss / processed_size\n",
    "    return val_loss\n",
    "\n",
    "\n",
    "# def train(train_dataset, val_dataset, model, epochs, batch_size):\n",
    "#     train_loader = DataLoader(train_dataset, batch_size=batch_size, shuffle=True)\n",
    "#     val_loader = DataLoader(val_dataset, batch_size=batch_size, shuffle=False)\n",
    "\n",
    "#     history = []\n",
    "#     log_template = \"\\nEpoch {ep:03d} train_loss: {t_loss:0.4f} \\\n",
    "#     val_loss {v_loss:0.4f} train_acc {t_acc:0.4f} val_acc {v_acc:0.4f}\"\n",
    "\n",
    "#     with tqdm(desc=\"epoch\", total=epochs) as pbar_outer:\n",
    "#         opt = torch.optim.Adam(model.parameters())\n",
    "#         criterion = nn.CrossEntropyLoss()\n",
    "\n",
    "#         for epoch in range(epochs):\n",
    "#             train_loss, train_acc = fit_epoch(model, train_loader, criterion, opt)\n",
    "#             print(\"loss\", f\"{train_loss:.3f}\")\n",
    "            \n",
    "#             val_loss, val_acc = eval_epoch(model, val_loader, criterion)\n",
    "#             history.append((train_loss, train_acc, val_loss, val_acc))\n",
    "            \n",
    "#             pbar_outer.update(1)\n",
    "#             tqdm.write(log_template.format(ep=epoch+1, t_loss=train_loss,\\\n",
    "#                                            v_loss=val_loss, t_acc=train_acc, v_acc=val_acc))\n",
    "            \n",
    "#     return history\n",
    "\n",
    "def predict(model, test_dataset):\n",
    "    with torch.no_grad():\n",
    "        result = []\n",
    "        test_loader = DataLoader(test_dataset, batch_size=batch_size, shuffle=False)\n",
    "        for inputs in test_loader:\n",
    "            inputs = inputs.to(device)\n",
    "            model.eval()\n",
    "            outputs = model(inputs).cpu()\n",
    "            result.append(outputs)\n",
    "            \n",
    "    return torch.cat(result).numpy()\n",
    "     \n",
    "\n",
    "def iter_train(train_dataset, test_dataset, model, epochs, batch_size, optimizer, criterion):\n",
    "    train_loader = DataLoader(train_dataset, batch_size=batch_size, shuffle=True)\n",
    "    test_loader = DataLoader(test_dataset, batch_size=batch_size, shuffle=False)\n",
    "\n",
    "    for epoch in tqdm(range(epochs)):\n",
    "        train_loss = fit_epoch(model, train_loader, criterion, optimizer)\n",
    "        # print(\"loss\", f\"{train_loss:.3f}\")\n",
    "\n",
    "        test_loss = eval_epoch(model, test_loader, criterion)\n",
    "        yield epoch, (train_loss, test_loss)\n"
   ]
  },
  {
   "cell_type": "code",
   "execution_count": 18,
   "metadata": {},
   "outputs": [],
   "source": [
    "history = []"
   ]
  },
  {
   "cell_type": "code",
   "execution_count": 19,
   "metadata": {},
   "outputs": [
    {
     "data": {
      "application/vnd.jupyter.widget-view+json": {
       "model_id": "e6ee87320a6d4480ae65ba2c6e77cb0e",
       "version_major": 2,
       "version_minor": 0
      },
      "text/plain": [
       "  0%|          | 0/20 [00:00<?, ?it/s]"
      ]
     },
     "metadata": {},
     "output_type": "display_data"
    }
   ],
   "source": [
    "for i, h in iter_train(list(zip(input_train, output_train)), list(zip(input_test, output_test)), model=model, \n",
    "epochs=tr['n_epochs'], batch_size=tr['batch_size'], optimizer=optim, criterion=loss_fn):\n",
    "    history.append(h)\n",
    "    # train_loss, test_loss = zip(*history)\n",
    "    # if i%10 == 0:\n",
    "    #     # clear_output(wait=True)\n",
    "    #     plt.figure(figsize=(12, 8))\n",
    "    #     plt.plot(train_loss, label=\"train_loss\")\n",
    "    #     plt.plot(test_loss, label=\"test_loss\")\n",
    "    #     plt.legend(loc='best')\n",
    "    #     plt.xlabel(\"epochs\")\n",
    "    #     plt.ylabel(\"loss\")\n",
    "    #     plt.show()\n"
   ]
  },
  {
   "cell_type": "code",
   "execution_count": 20,
   "metadata": {},
   "outputs": [
    {
     "data": {
      "image/png": "[encoded data removed]",
      "text/plain": [
       "<Figure size 864x576 with 1 Axes>"
      ]
     },
     "metadata": {
      "needs_background": "light"
     },
     "output_type": "display_data"
    }
   ],
   "source": [
    "train_loss, test_loss = zip(*history)\n",
    "plt.figure(figsize=(12, 8))\n",
    "plt.plot(train_loss, label=\"train_loss\")\n",
    "plt.plot(test_loss, label=\"test_loss\")\n",
    "plt.legend(loc='best')\n",
    "plt.xlabel(\"epochs\")\n",
    "plt.ylabel(\"loss\")\n",
    "plt.show()"
   ]
  },
  {
   "cell_type": "code",
   "execution_count": 25,
   "metadata": {},
   "outputs": [],
   "source": [
    "model.eval()\n",
    "torch.save(model, jn(path_config['model_path'], model_name + '.pt'))"
   ]
  },
  {
   "cell_type": "markdown",
   "metadata": {
    "cellId": "5m68q6aecufkzhregwm9",
    "id": "59CcWzTRao6i"
   },
   "source": [
    "# evaluate model on don't seen data"
   ]
  },
  {
   "cell_type": "code",
   "execution_count": 16,
   "metadata": {},
   "outputs": [],
   "source": [
    "model = torch.load(jn(path_config['model_path'], model_name + '.pt'))"
   ]
  },
  {
   "cell_type": "code",
   "execution_count": 21,
   "metadata": {},
   "outputs": [
    {
     "data": {
      "text/plain": [
       "(500, 64, 64)"
      ]
     },
     "execution_count": 21,
     "metadata": {},
     "output_type": "execute_result"
    }
   ],
   "source": [
    "predictions = predict(model, input_test)\n",
    "predictions.shape"
   ]
  },
  {
   "cell_type": "code",
   "execution_count": 22,
   "metadata": {},
   "outputs": [
    {
     "name": "stdout",
     "output_type": "stream",
     "text": [
      "Train loss is 0.0697\n"
     ]
    }
   ],
   "source": [
    "print(f\"Train loss is {loss_fn(torch.from_numpy(predictions), torch.from_numpy(output_test)).item():.4f}\")"
   ]
  },
  {
   "cell_type": "code",
   "execution_count": 23,
   "metadata": {},
   "outputs": [
    {
     "name": "stdout",
     "output_type": "stream",
     "text": [
      "len=  500\n"
     ]
    },
    {
     "data": {
      "image/png": "[encoded data removed]",
      "text/plain": [
       "<Figure size 432x288 with 1 Axes>"
      ]
     },
     "metadata": {
      "needs_background": "light"
     },
     "output_type": "display_data"
    },
    {
     "data": {
      "image/png": "[encoded data removed]",
      "text/plain": [
       "<Figure size 432x288 with 1 Axes>"
      ]
     },
     "metadata": {
      "needs_background": "light"
     },
     "output_type": "display_data"
    }
   ],
   "source": [
    "print('len= ', len(predictions))\n",
    "N = 8  # number of example\n",
    "plt.imshow(predictions[N])\n",
    "plt.show()\n",
    "plt.imshow(output_test[N])\n",
    "plt.show()"
   ]
  },
  {
   "cell_type": "code",
   "execution_count": null,
   "metadata": {},
   "outputs": [],
   "source": []
  }
 ],
 "metadata": {
  "kernelspec": {
   "display_name": "Python 3.9.12 ('rqc_env')",
   "language": "python",
   "name": "python3"
  },
  "language_info": {
   "codemirror_mode": {
    "name": "ipython",
    "version": 3
   },
   "file_extension": ".py",
   "mimetype": "text/x-python",
   "name": "python",
   "nbconvert_exporter": "python",
   "pygments_lexer": "ipython3",
   "version": "3.9.12"
  },
  "orig_nbformat": 4,
  "vscode": {
   "interpreter": {
    "hash": "22975e861a4488f94634044a20ded97cfffd19315dfee221a4082522e37b8267"
   }
  }
 },
 "nbformat": 4,
 "nbformat_minor": 2
}
