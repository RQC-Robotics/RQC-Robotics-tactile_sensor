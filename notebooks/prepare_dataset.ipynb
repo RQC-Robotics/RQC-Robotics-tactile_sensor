{
 "cells": [
  {
   "cell_type": "code",
   "execution_count": 1,
   "id": "6e018f67-38e0-4db6-b917-b38a733cceeb",
   "metadata": {},
   "outputs": [],
   "source": [
    "from os.path import join as jn\n",
    "\n",
    "import pandas as pd\n",
    "import trimesh"
   ]
  },
  {
   "cell_type": "code",
   "execution_count": 2,
   "id": "abdaef91-f409-4251-bb5a-c1c4c9b8cea6",
   "metadata": {},
   "outputs": [
    {
     "name": "stdout",
     "output_type": "stream",
     "text": [
      "/home/jovyan/sensor\n"
     ]
    }
   ],
   "source": [
    "%cd .."
   ]
  },
  {
   "cell_type": "code",
   "execution_count": 3,
   "id": "377f4266-8fba-4f30-a12a-845a75ba2638",
   "metadata": {},
   "outputs": [],
   "source": [
    "db_p = \"data/meshes\""
   ]
  },
  {
   "cell_type": "code",
   "execution_count": 4,
   "id": "2549429c-80df-4fe4-903a-7bcfd967d1ef",
   "metadata": {},
   "outputs": [
    {
     "data": {
      "text/html": [
       "<div>\n",
       "<style scoped>\n",
       "    .dataframe tbody tr th:only-of-type {\n",
       "        vertical-align: middle;\n",
       "    }\n",
       "\n",
       "    .dataframe tbody tr th {\n",
       "        vertical-align: top;\n",
       "    }\n",
       "\n",
       "    .dataframe thead th {\n",
       "        text-align: right;\n",
       "    }\n",
       "</style>\n",
       "<table border=\"1\" class=\"dataframe\">\n",
       "  <thead>\n",
       "    <tr style=\"text-align: right;\">\n",
       "      <th></th>\n",
       "      <th>id</th>\n",
       "      <th>path</th>\n",
       "      <th>type</th>\n",
       "      <th>water</th>\n",
       "    </tr>\n",
       "  </thead>\n",
       "  <tbody>\n",
       "    <tr>\n",
       "      <th>0</th>\n",
       "      <td>0</td>\n",
       "      <td>db/m0/mesh.stl</td>\n",
       "      <td>0</td>\n",
       "      <td>True</td>\n",
       "    </tr>\n",
       "    <tr>\n",
       "      <th>1</th>\n",
       "      <td>1</td>\n",
       "      <td>db/m1/mesh.stl</td>\n",
       "      <td>0</td>\n",
       "      <td>False</td>\n",
       "    </tr>\n",
       "    <tr>\n",
       "      <th>2</th>\n",
       "      <td>2</td>\n",
       "      <td>db/m2/mesh.stl</td>\n",
       "      <td>0</td>\n",
       "      <td>False</td>\n",
       "    </tr>\n",
       "    <tr>\n",
       "      <th>3</th>\n",
       "      <td>3</td>\n",
       "      <td>db/m3/mesh.stl</td>\n",
       "      <td>0</td>\n",
       "      <td>True</td>\n",
       "    </tr>\n",
       "    <tr>\n",
       "      <th>4</th>\n",
       "      <td>4</td>\n",
       "      <td>db/m4/mesh.stl</td>\n",
       "      <td>0</td>\n",
       "      <td>False</td>\n",
       "    </tr>\n",
       "  </tbody>\n",
       "</table>\n",
       "</div>"
      ],
      "text/plain": [
       "   id            path  type  water\n",
       "0   0  db/m0/mesh.stl     0   True\n",
       "1   1  db/m1/mesh.stl     0  False\n",
       "2   2  db/m2/mesh.stl     0  False\n",
       "3   3  db/m3/mesh.stl     0   True\n",
       "4   4  db/m4/mesh.stl     0  False"
      ]
     },
     "execution_count": 4,
     "metadata": {},
     "output_type": "execute_result"
    }
   ],
   "source": [
    "info = pd.read_csv(jn(db_p, \"info.csv\"))\n",
    "info.head()"
   ]
  },
  {
   "cell_type": "code",
   "execution_count": 5,
   "id": "b79aeb88-10b9-449a-9ed1-32ba606c4992",
   "metadata": {},
   "outputs": [],
   "source": [
    "wm = info[info[\"water\"] == True]"
   ]
  },
  {
   "cell_type": "code",
   "execution_count": 6,
   "id": "a5503ef4-816c-43e7-9026-186f6b84370a",
   "metadata": {},
   "outputs": [],
   "source": [
    "meshes = wm[\"path\"].apply(lambda path: trimesh.load_mesh(jn(db_p, path)))"
   ]
  },
  {
   "cell_type": "code",
   "execution_count": 7,
   "id": "25a05ebf-6504-4d6d-b93f-ca07185f11c4",
   "metadata": {
    "tags": []
   },
   "outputs": [],
   "source": [
    "pieces = []\n",
    "for i, m in meshes.iteritems():\n",
    "    try:\n",
    "        pieces.append(\n",
    "            pd.Series({i: len(m.split())})\n",
    "        )\n",
    "    except:\n",
    "        pass\n",
    "pieces = pd.concat(pieces).rename(\"n_pieces\")"
   ]
  },
  {
   "cell_type": "code",
   "execution_count": 8,
   "id": "151766f0-c5c2-4ce3-9a65-95750ffb6454",
   "metadata": {},
   "outputs": [],
   "source": [
    "info2 = pd.concat([info,pieces],axis=1)"
   ]
  },
  {
   "cell_type": "code",
   "execution_count": 9,
   "id": "2aeb69d7-670d-4c5c-a510-4175d3160e26",
   "metadata": {},
   "outputs": [
    {
     "data": {
      "text/html": [
       "<div>\n",
       "<style scoped>\n",
       "    .dataframe tbody tr th:only-of-type {\n",
       "        vertical-align: middle;\n",
       "    }\n",
       "\n",
       "    .dataframe tbody tr th {\n",
       "        vertical-align: top;\n",
       "    }\n",
       "\n",
       "    .dataframe thead th {\n",
       "        text-align: right;\n",
       "    }\n",
       "</style>\n",
       "<table border=\"1\" class=\"dataframe\">\n",
       "  <thead>\n",
       "    <tr style=\"text-align: right;\">\n",
       "      <th></th>\n",
       "      <th>id</th>\n",
       "      <th>path</th>\n",
       "      <th>type</th>\n",
       "      <th>water</th>\n",
       "      <th>n_pieces</th>\n",
       "    </tr>\n",
       "  </thead>\n",
       "  <tbody>\n",
       "    <tr>\n",
       "      <th>34</th>\n",
       "      <td>34</td>\n",
       "      <td>db/m34/mesh.stl</td>\n",
       "      <td>0</td>\n",
       "      <td>True</td>\n",
       "      <td>1.0</td>\n",
       "    </tr>\n",
       "    <tr>\n",
       "      <th>35</th>\n",
       "      <td>35</td>\n",
       "      <td>db/m35/mesh.stl</td>\n",
       "      <td>0</td>\n",
       "      <td>True</td>\n",
       "      <td>1.0</td>\n",
       "    </tr>\n",
       "    <tr>\n",
       "      <th>37</th>\n",
       "      <td>37</td>\n",
       "      <td>db/m37/mesh.stl</td>\n",
       "      <td>0</td>\n",
       "      <td>True</td>\n",
       "      <td>1.0</td>\n",
       "    </tr>\n",
       "    <tr>\n",
       "      <th>44</th>\n",
       "      <td>44</td>\n",
       "      <td>db/m44/mesh.stl</td>\n",
       "      <td>0</td>\n",
       "      <td>True</td>\n",
       "      <td>1.0</td>\n",
       "    </tr>\n",
       "    <tr>\n",
       "      <th>50</th>\n",
       "      <td>50</td>\n",
       "      <td>db/m50/mesh.stl</td>\n",
       "      <td>0</td>\n",
       "      <td>True</td>\n",
       "      <td>1.0</td>\n",
       "    </tr>\n",
       "    <tr>\n",
       "      <th>...</th>\n",
       "      <td>...</td>\n",
       "      <td>...</td>\n",
       "      <td>...</td>\n",
       "      <td>...</td>\n",
       "      <td>...</td>\n",
       "    </tr>\n",
       "    <tr>\n",
       "      <th>1737</th>\n",
       "      <td>1738</td>\n",
       "      <td>db/m1738/mesh.stl</td>\n",
       "      <td>17</td>\n",
       "      <td>True</td>\n",
       "      <td>1.0</td>\n",
       "    </tr>\n",
       "    <tr>\n",
       "      <th>1743</th>\n",
       "      <td>1744</td>\n",
       "      <td>db/m1744/mesh.stl</td>\n",
       "      <td>17</td>\n",
       "      <td>True</td>\n",
       "      <td>1.0</td>\n",
       "    </tr>\n",
       "    <tr>\n",
       "      <th>1744</th>\n",
       "      <td>1745</td>\n",
       "      <td>db/m1745/mesh.stl</td>\n",
       "      <td>17</td>\n",
       "      <td>True</td>\n",
       "      <td>1.0</td>\n",
       "    </tr>\n",
       "    <tr>\n",
       "      <th>1745</th>\n",
       "      <td>1746</td>\n",
       "      <td>db/m1746/mesh.stl</td>\n",
       "      <td>17</td>\n",
       "      <td>True</td>\n",
       "      <td>1.0</td>\n",
       "    </tr>\n",
       "    <tr>\n",
       "      <th>1791</th>\n",
       "      <td>1792</td>\n",
       "      <td>db/m1792/mesh.stl</td>\n",
       "      <td>17</td>\n",
       "      <td>True</td>\n",
       "      <td>1.0</td>\n",
       "    </tr>\n",
       "  </tbody>\n",
       "</table>\n",
       "<p>101 rows × 5 columns</p>\n",
       "</div>"
      ],
      "text/plain": [
       "        id               path  type  water  n_pieces\n",
       "34      34    db/m34/mesh.stl     0   True       1.0\n",
       "35      35    db/m35/mesh.stl     0   True       1.0\n",
       "37      37    db/m37/mesh.stl     0   True       1.0\n",
       "44      44    db/m44/mesh.stl     0   True       1.0\n",
       "50      50    db/m50/mesh.stl     0   True       1.0\n",
       "...    ...                ...   ...    ...       ...\n",
       "1737  1738  db/m1738/mesh.stl    17   True       1.0\n",
       "1743  1744  db/m1744/mesh.stl    17   True       1.0\n",
       "1744  1745  db/m1745/mesh.stl    17   True       1.0\n",
       "1745  1746  db/m1746/mesh.stl    17   True       1.0\n",
       "1791  1792  db/m1792/mesh.stl    17   True       1.0\n",
       "\n",
       "[101 rows x 5 columns]"
      ]
     },
     "execution_count": 9,
     "metadata": {},
     "output_type": "execute_result"
    }
   ],
   "source": [
    "info2[info2['n_pieces']==1]"
   ]
  },
  {
   "cell_type": "code",
   "execution_count": 11,
   "id": "1c92e1e4-409f-41b0-a123-3d906c4d581b",
   "metadata": {},
   "outputs": [],
   "source": [
    "info2.to_csv(jn(db_p,'info.csv'),index=False)"
   ]
  },
  {
   "cell_type": "code",
   "execution_count": null,
   "id": "ee8cf6b6-1f66-4ca8-8a65-d3cb51a2f042",
   "metadata": {},
   "outputs": [],
   "source": []
  }
 ],
 "metadata": {
  "kernelspec": {
   "display_name": "Python 3 (ipykernel)",
   "language": "python",
   "name": "python3"
  },
  "language_info": {
   "codemirror_mode": {
    "name": "ipython",
    "version": 3
   },
   "file_extension": ".py",
   "mimetype": "text/x-python",
   "name": "python",
   "nbconvert_exporter": "python",
   "pygments_lexer": "ipython3",
   "version": "3.9.12"
  }
 },
 "nbformat": 4,
 "nbformat_minor": 5
}
