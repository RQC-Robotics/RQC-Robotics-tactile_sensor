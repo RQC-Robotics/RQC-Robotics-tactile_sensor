{
 "cells": [
  {
   "cell_type": "code",
   "execution_count": 2,
   "metadata": {},
   "outputs": [
    {
     "name": "stdout",
     "output_type": "stream",
     "text": [
      "/home/amir/rqc_internship/gaus_repo\n"
     ]
    }
   ],
   "source": [
    "%cd ..\n",
    "%load_ext autoreload\n",
    "%autoreload 2"
   ]
  },
  {
   "cell_type": "code",
   "execution_count": 3,
   "metadata": {},
   "outputs": [],
   "source": [
    "import numpy as np\n",
    "import matplotlib.pyplot as plt\n",
    "from os.path import join as jn\n",
    "import os\n",
    "import yaml\n",
    "import torch\n",
    "from torchinfo import summary\n",
    "from tqdm.notebook import tqdm\n",
    "from torch.utils.data import DataLoader, Dataset\n"
   ]
  },
  {
   "cell_type": "code",
   "execution_count": 4,
   "metadata": {},
   "outputs": [
    {
     "ename": "ModuleNotFoundError",
     "evalue": "No module named 'video_pipeline'",
     "output_type": "error",
     "traceback": [
      "\u001b[0;31m---------------------------------------------------------------------------\u001b[0m",
      "\u001b[0;31mModuleNotFoundError\u001b[0m                       Traceback (most recent call last)",
      "\u001b[1;32m/home/amir/rqc_internship/gaus_repo/notebooks/cycle_loss.ipynb Cell 3\u001b[0m in \u001b[0;36m<cell line: 1>\u001b[0;34m()\u001b[0m\n\u001b[0;32m----> <a href='vscode-notebook-cell:/home/amir/rqc_internship/gaus_repo/notebooks/cycle_loss.ipynb#ch0000006?line=0'>1</a>\u001b[0m \u001b[39mfrom\u001b[39;00m \u001b[39mvideo_pipeline\u001b[39;00m\u001b[39m.\u001b[39;00m\u001b[39mvideo_module\u001b[39;00m \u001b[39mimport\u001b[39;00m \u001b[39m*\u001b[39m\n",
      "\u001b[0;31mModuleNotFoundError\u001b[0m: No module named 'video_pipeline'"
     ]
    }
   ],
   "source": [
    "from video_pipeline.video_module import *"
   ]
  },
  {
   "cell_type": "code",
   "execution_count": 4,
   "metadata": {},
   "outputs": [
    {
     "ename": "KeyError",
     "evalue": "'p_video_path'",
     "output_type": "error",
     "traceback": [
      "\u001b[0;31m---------------------------------------------------------------------------\u001b[0m",
      "\u001b[0;31mKeyError\u001b[0m                                  Traceback (most recent call last)",
      "\u001b[1;32m/home/amir/rqc_internship/gaus_repo/notebooks/cycle_loss.ipynb Cell 4\u001b[0m in \u001b[0;36m<cell line: 6>\u001b[0;34m()\u001b[0m\n\u001b[1;32m      <a href='vscode-notebook-cell:/home/amir/rqc_internship/gaus_repo/notebooks/cycle_loss.ipynb#ch0000007?line=2'>3</a>\u001b[0m \u001b[39mwith\u001b[39;00m \u001b[39mopen\u001b[39m(\u001b[39m'\u001b[39m\u001b[39mpathes.yaml\u001b[39m\u001b[39m'\u001b[39m) \u001b[39mas\u001b[39;00m conf_file:\n\u001b[1;32m      <a href='vscode-notebook-cell:/home/amir/rqc_internship/gaus_repo/notebooks/cycle_loss.ipynb#ch0000007?line=3'>4</a>\u001b[0m     path_config \u001b[39m=\u001b[39m yaml\u001b[39m.\u001b[39msafe_load(conf_file)\n\u001b[0;32m----> <a href='vscode-notebook-cell:/home/amir/rqc_internship/gaus_repo/notebooks/cycle_loss.ipynb#ch0000007?line=5'>6</a>\u001b[0m pressure_path \u001b[39m=\u001b[39m path_config[\u001b[39m'\u001b[39;49m\u001b[39mp_video_path\u001b[39;49m\u001b[39m'\u001b[39;49m]\n\u001b[1;32m      <a href='vscode-notebook-cell:/home/amir/rqc_internship/gaus_repo/notebooks/cycle_loss.ipynb#ch0000007?line=6'>7</a>\u001b[0m signal_path \u001b[39m=\u001b[39m path_config[\u001b[39m'\u001b[39m\u001b[39mtest_s_video_path\u001b[39m\u001b[39m'\u001b[39m]\n",
      "\u001b[0;31mKeyError\u001b[0m: 'p_video_path'"
     ]
    }
   ],
   "source": [
    "with open('params.yaml') as conf_file:\n",
    "    config = yaml.safe_load(conf_file)\n",
    "with open('pathes.yaml') as conf_file:\n",
    "    path_config = yaml.safe_load(conf_file)\n",
    "\n",
    "pressure_path = path_config['p_video_path']\n",
    "signal_path = path_config['test_s_video_path']\n"
   ]
  },
  {
   "cell_type": "code",
   "execution_count": 5,
   "metadata": {},
   "outputs": [],
   "source": [
    "dataset = np.load('data/pressure/pic/0.npy')"
   ]
  },
  {
   "cell_type": "code",
   "execution_count": 6,
   "metadata": {},
   "outputs": [],
   "source": [
    "test_pressures = [\n",
    "    torch.from_numpy(dataset[0:1]),\n",
    "    torch.from_numpy(dataset[1:2]),\n",
    "    torch.from_numpy(dataset[2:3]),\n",
    "]"
   ]
  },
  {
   "cell_type": "code",
   "execution_count": 26,
   "metadata": {},
   "outputs": [],
   "source": [
    "config['sim']['test_mod'] = False"
   ]
  },
  {
   "cell_type": "code",
   "execution_count": null,
   "metadata": {},
   "outputs": [],
   "source": [
    "# config['env']['phys']['gaus_kernel_size'] = 3"
   ]
  },
  {
   "cell_type": "code",
   "execution_count": 27,
   "metadata": {},
   "outputs": [],
   "source": [
    "import torch_sensor_lib as tsl\n",
    "sim = tsl.FiberSimulator(config)"
   ]
  },
  {
   "cell_type": "code",
   "execution_count": null,
   "metadata": {},
   "outputs": [],
   "source": [
    "!dvc pull learning"
   ]
  },
  {
   "cell_type": "code",
   "execution_count": 44,
   "metadata": {},
   "outputs": [],
   "source": [
    "model = torch.load('data/model/TorchSensorNN5S_norm_deep.pt', map_location='cpu')"
   ]
  },
  {
   "cell_type": "code",
   "execution_count": 10,
   "metadata": {},
   "outputs": [],
   "source": [
    "loss_mse = torch.nn.MSELoss()"
   ]
  },
  {
   "cell_type": "code",
   "execution_count": 22,
   "metadata": {},
   "outputs": [
    {
     "data": {
      "text/plain": [
       "tensor(0.1976)"
      ]
     },
     "execution_count": 22,
     "metadata": {},
     "output_type": "execute_result"
    }
   ],
   "source": [
    "loss_mse(test_pressures[0], test_pressures[1])"
   ]
  },
  {
   "cell_type": "code",
   "execution_count": 42,
   "metadata": {},
   "outputs": [],
   "source": [
    "optim = torch.optim.Adam(model.parameters(), lr=1e-4)"
   ]
  },
  {
   "cell_type": "markdown",
   "metadata": {},
   "source": [
    "### step in notmal loss"
   ]
  },
  {
   "cell_type": "code",
   "execution_count": 49,
   "metadata": {},
   "outputs": [],
   "source": [
    "model = torch.load('data/model/TorchSensorNN5S_norm_deep.pt', map_location='cpu')\n",
    "optim = torch.optim.Adam(model.parameters(), lr=1e-4)"
   ]
  },
  {
   "cell_type": "code",
   "execution_count": 50,
   "metadata": {},
   "outputs": [
    {
     "name": "stdout",
     "output_type": "stream",
     "text": [
      "tensor(0.0188, grad_fn=<MseLossBackward0>)\n",
      "tensor(0.0085, grad_fn=<MseLossBackward0>)\n"
     ]
    }
   ],
   "source": [
    "i = 0\n",
    "optim.zero_grad()\n",
    "\n",
    "sig = sim.fiber_real_sim(test_pressures[i])\n",
    "sig.shape\n",
    "pred = model(sig)\n",
    "pred.shape\n",
    "loss = loss_mse(pred, test_pressures[i])\n",
    "print(loss)\n",
    "\n",
    "loss.backward()\n",
    "optim.step()\n",
    "pred = model(sig)\n",
    "new_loss = loss_mse(pred, test_pressures[i])\n",
    "print(new_loss)"
   ]
  },
  {
   "cell_type": "markdown",
   "metadata": {},
   "source": [
    "### step with my loss"
   ]
  },
  {
   "cell_type": "code",
   "execution_count": 11,
   "metadata": {},
   "outputs": [],
   "source": [
    "import torch_sensor_lib as tsl\n",
    "sim = tsl.FiberSimulator(config)"
   ]
  },
  {
   "cell_type": "code",
   "execution_count": 12,
   "metadata": {},
   "outputs": [],
   "source": [
    "model = torch.load('data/model/TorchSensorNN5S_norm_deep.pt', map_location='cpu')\n",
    "optim = torch.optim.Adam(model.parameters(), lr=1e-4)"
   ]
  },
  {
   "cell_type": "code",
   "execution_count": 35,
   "metadata": {},
   "outputs": [
    {
     "name": "stdout",
     "output_type": "stream",
     "text": [
      "tensor(3.8134e-05, grad_fn=<MseLossBackward0>)\n",
      "tensor(3.8134e-05, grad_fn=<MseLossBackward0>)\n"
     ]
    }
   ],
   "source": [
    "i = 0\n",
    "optim.zero_grad()\n",
    "\n",
    "sig = sim.fiber_real_sim(test_pressures[i])\n",
    "sig.shape\n",
    "pred = model(sig)\n",
    "sig_pred = sim.fiber_real_sim(pred)\n",
    "loss = loss_mse(sig, sig_pred)\n",
    "print(loss)\n",
    "\n",
    "loss.backward()\n",
    "optim.step()\n",
    "pred = model(sig)\n",
    "new_loss = loss_mse(sig, sig_pred)\n",
    "print(new_loss)"
   ]
  },
  {
   "cell_type": "code",
   "execution_count": 41,
   "metadata": {},
   "outputs": [
    {
     "data": {
      "text/plain": [
       "[<matplotlib.lines.Line2D at 0x7feafa426ee0>]"
      ]
     },
     "execution_count": 41,
     "metadata": {},
     "output_type": "execute_result"
    },
    {
     "data": {
      "image/png": "[encoded data removed]",
      "text/plain": [
       "<Figure size 432x288 with 1 Axes>"
      ]
     },
     "metadata": {
      "needs_background": "light"
     },
     "output_type": "display_data"
    }
   ],
   "source": [
    "plt.plot(sig[0][0])\n",
    "plt.plot(sig_pred[0][0].detach())"
   ]
  },
  {
   "cell_type": "markdown",
   "metadata": {},
   "source": [
    "### Exp with rotating"
   ]
  },
  {
   "cell_type": "code",
   "execution_count": 59,
   "metadata": {},
   "outputs": [],
   "source": [
    "from torchvision.transforms.functional import rotate as torch_rotate\n",
    "from torchvision.transforms import InterpolationMode"
   ]
  },
  {
   "cell_type": "code",
   "execution_count": 58,
   "metadata": {},
   "outputs": [],
   "source": [
    "ang = torch.tensor([1.0])\n",
    "optim = torch.optim.Adam([ang], lr=1e-4)"
   ]
  },
  {
   "cell_type": "code",
   "execution_count": 61,
   "metadata": {},
   "outputs": [
    {
     "ename": "TypeError",
     "evalue": "Argument angle should be int or float",
     "output_type": "error",
     "traceback": [
      "\u001b[0;31m---------------------------------------------------------------------------\u001b[0m",
      "\u001b[0;31mTypeError\u001b[0m                                 Traceback (most recent call last)",
      "\u001b[1;32m/home/amir/rqc_internship/gaus_repo/notebooks/cycle_loss.ipynb Cell 24\u001b[0m in \u001b[0;36m<cell line: 3>\u001b[0;34m()\u001b[0m\n\u001b[1;32m      <a href='vscode-notebook-cell:/home/amir/rqc_internship/gaus_repo/notebooks/cycle_loss.ipynb#ch0000046?line=0'>1</a>\u001b[0m pres \u001b[39m=\u001b[39m test_pressures[\u001b[39m0\u001b[39m]\n\u001b[0;32m----> <a href='vscode-notebook-cell:/home/amir/rqc_internship/gaus_repo/notebooks/cycle_loss.ipynb#ch0000046?line=2'>3</a>\u001b[0m rot_pres \u001b[39m=\u001b[39m torch_rotate(pres, ang[\u001b[39m0\u001b[39;49m], interpolation\u001b[39m=\u001b[39;49mInterpolationMode\u001b[39m.\u001b[39;49mBILINEAR)\n\u001b[1;32m      <a href='vscode-notebook-cell:/home/amir/rqc_internship/gaus_repo/notebooks/cycle_loss.ipynb#ch0000046?line=3'>4</a>\u001b[0m plt\u001b[39m.\u001b[39mimshow(pres)\n\u001b[1;32m      <a href='vscode-notebook-cell:/home/amir/rqc_internship/gaus_repo/notebooks/cycle_loss.ipynb#ch0000046?line=4'>5</a>\u001b[0m plt\u001b[39m.\u001b[39mshow()\n",
      "File \u001b[0;32m~/anaconda3/envs/rqc_env/lib/python3.9/site-packages/torchvision/transforms/functional.py:1057\u001b[0m, in \u001b[0;36mrotate\u001b[0;34m(img, angle, interpolation, expand, center, fill, resample)\u001b[0m\n\u001b[1;32m   1054\u001b[0m     interpolation \u001b[39m=\u001b[39m _interpolation_modes_from_int(interpolation)\n\u001b[1;32m   1056\u001b[0m \u001b[39mif\u001b[39;00m \u001b[39mnot\u001b[39;00m \u001b[39misinstance\u001b[39m(angle, (\u001b[39mint\u001b[39m, \u001b[39mfloat\u001b[39m)):\n\u001b[0;32m-> 1057\u001b[0m     \u001b[39mraise\u001b[39;00m \u001b[39mTypeError\u001b[39;00m(\u001b[39m\"\u001b[39m\u001b[39mArgument angle should be int or float\u001b[39m\u001b[39m\"\u001b[39m)\n\u001b[1;32m   1059\u001b[0m \u001b[39mif\u001b[39;00m center \u001b[39mis\u001b[39;00m \u001b[39mnot\u001b[39;00m \u001b[39mNone\u001b[39;00m \u001b[39mand\u001b[39;00m \u001b[39mnot\u001b[39;00m \u001b[39misinstance\u001b[39m(center, (\u001b[39mlist\u001b[39m, \u001b[39mtuple\u001b[39m)):\n\u001b[1;32m   1060\u001b[0m     \u001b[39mraise\u001b[39;00m \u001b[39mTypeError\u001b[39;00m(\u001b[39m\"\u001b[39m\u001b[39mArgument center should be a sequence\u001b[39m\u001b[39m\"\u001b[39m)\n",
      "\u001b[0;31mTypeError\u001b[0m: Argument angle should be int or float"
     ]
    }
   ],
   "source": [
    "pres = test_pressures[0]\n",
    "\n",
    "rot_pres = torch_rotate(pres, ang[0], interpolation=InterpolationMode.BILINEAR)\n",
    "plt.imshow(pres)\n",
    "plt.show()\n",
    "plt.imshow(rot_pres)\n",
    "plt.show()"
   ]
  },
  {
   "cell_type": "code",
   "execution_count": 64,
   "metadata": {},
   "outputs": [
    {
     "data": {
      "text/plain": [
       "1.0"
      ]
     },
     "execution_count": 64,
     "metadata": {},
     "output_type": "execute_result"
    }
   ],
   "source": [
    "ang[0].item()"
   ]
  },
  {
   "cell_type": "code",
   "execution_count": 121,
   "metadata": {},
   "outputs": [],
   "source": [
    "model = torch.load('data/model/TorchSensorNN5S_norm_deep.pt', map_location='cpu')\n",
    "optim = torch.optim.Adam(model.parameters(), lr=1e-4)"
   ]
  },
  {
   "cell_type": "code",
   "execution_count": 125,
   "metadata": {},
   "outputs": [
    {
     "name": "stdout",
     "output_type": "stream",
     "text": [
      "tensor(0.0069, grad_fn=<MseLossBackward0>)\n",
      "tensor(0.0031, grad_fn=<MseLossBackward0>)\n"
     ]
    }
   ],
   "source": [
    "i = 0\n",
    "optim.zero_grad()\n",
    "\n",
    "sig = sim.fiber_real_sim(test_pressures[i])\n",
    "sig.shape\n",
    "pred = model(sig)\n",
    "pred = torch_rotate(pred, 0.1, interpolation=InterpolationMode.BILINEAR)\n",
    "pred.shape\n",
    "loss = loss_mse(pred, test_pressures[i])\n",
    "print(loss)\n",
    "\n",
    "loss.backward()\n",
    "optim.step()\n",
    "pred = model(sig)\n",
    "pred = torch_rotate(pred, 0.1, interpolation=InterpolationMode.BILINEAR)\n",
    "new_loss = loss_mse(pred, test_pressures[i])\n",
    "print(new_loss)"
   ]
  },
  {
   "cell_type": "code",
   "execution_count": 120,
   "metadata": {},
   "outputs": [
    {
     "data": {
      "image/png": "[encoded data removed]",
      "text/plain": [
       "<Figure size 432x288 with 1 Axes>"
      ]
     },
     "metadata": {
      "needs_background": "light"
     },
     "output_type": "display_data"
    },
    {
     "data": {
      "image/png": "[encoded data removed]",
      "text/plain": [
       "<Figure size 432x288 with 1 Axes>"
      ]
     },
     "metadata": {
      "needs_background": "light"
     },
     "output_type": "display_data"
    }
   ],
   "source": [
    "plt.imshow(test_pressures[i][0])\n",
    "plt.show()\n",
    "plt.imshow(pred[0].detach())\n",
    "plt.show()\n"
   ]
  },
  {
   "cell_type": "code",
   "execution_count": 131,
   "metadata": {},
   "outputs": [
    {
     "ename": "ImportError",
     "evalue": "cannot import name 'metanet_pb2' from partially initialized module 'caffe2.proto' (most likely due to a circular import) (/home/amir/anaconda3/envs/rqc_env/lib/python3.9/site-packages/caffe2/proto/__init__.py)",
     "output_type": "error",
     "traceback": [
      "\u001b[0;31m---------------------------------------------------------------------------\u001b[0m",
      "\u001b[0;31mImportError\u001b[0m                               Traceback (most recent call last)",
      "\u001b[1;32m/home/amir/rqc_internship/gaus_repo/notebooks/cycle_loss.ipynb Cell 29\u001b[0m in \u001b[0;36m<cell line: 4>\u001b[0;34m()\u001b[0m\n\u001b[1;32m      <a href='vscode-notebook-cell:/home/amir/rqc_internship/gaus_repo/notebooks/cycle_loss.ipynb#ch0000054?line=0'>1</a>\u001b[0m \u001b[39mfrom\u001b[39;00m \u001b[39mtorch\u001b[39;00m\u001b[39m.\u001b[39;00m\u001b[39mutils\u001b[39;00m\u001b[39m.\u001b[39;00m\u001b[39mtensorboard\u001b[39;00m \u001b[39mimport\u001b[39;00m SummaryWriter\n\u001b[1;32m      <a href='vscode-notebook-cell:/home/amir/rqc_internship/gaus_repo/notebooks/cycle_loss.ipynb#ch0000054?line=2'>3</a>\u001b[0m writer \u001b[39m=\u001b[39m SummaryWriter(\u001b[39m'\u001b[39m\u001b[39mlogdir\u001b[39m\u001b[39m'\u001b[39m)\n\u001b[0;32m----> <a href='vscode-notebook-cell:/home/amir/rqc_internship/gaus_repo/notebooks/cycle_loss.ipynb#ch0000054?line=3'>4</a>\u001b[0m writer\u001b[39m.\u001b[39;49madd_graph(sim\u001b[39m.\u001b[39;49mfiber_real_sim, test_pressures[\u001b[39m0\u001b[39;49m])\n\u001b[1;32m      <a href='vscode-notebook-cell:/home/amir/rqc_internship/gaus_repo/notebooks/cycle_loss.ipynb#ch0000054?line=4'>5</a>\u001b[0m \u001b[39m# writer.add_graph(model, sig)\u001b[39;00m\n\u001b[1;32m      <a href='vscode-notebook-cell:/home/amir/rqc_internship/gaus_repo/notebooks/cycle_loss.ipynb#ch0000054?line=5'>6</a>\u001b[0m writer\u001b[39m.\u001b[39mclose()\n",
      "File \u001b[0;32m~/anaconda3/envs/rqc_env/lib/python3.9/site-packages/torch/utils/tensorboard/writer.py:739\u001b[0m, in \u001b[0;36mSummaryWriter.add_graph\u001b[0;34m(self, model, input_to_model, verbose, use_strict_trace)\u001b[0m\n\u001b[1;32m    736\u001b[0m     \u001b[39mself\u001b[39m\u001b[39m.\u001b[39m_get_file_writer()\u001b[39m.\u001b[39madd_graph(graph(model, input_to_model, verbose, use_strict_trace))\n\u001b[1;32m    737\u001b[0m \u001b[39melse\u001b[39;00m:\n\u001b[1;32m    738\u001b[0m     \u001b[39m# Caffe2 models do not have the 'forward' method\u001b[39;00m\n\u001b[0;32m--> 739\u001b[0m     \u001b[39mfrom\u001b[39;00m \u001b[39mcaffe2\u001b[39;00m\u001b[39m.\u001b[39;00m\u001b[39mproto\u001b[39;00m \u001b[39mimport\u001b[39;00m caffe2_pb2\n\u001b[1;32m    740\u001b[0m     \u001b[39mfrom\u001b[39;00m \u001b[39mcaffe2\u001b[39;00m\u001b[39m.\u001b[39;00m\u001b[39mpython\u001b[39;00m \u001b[39mimport\u001b[39;00m core\n\u001b[1;32m    741\u001b[0m     \u001b[39mfrom\u001b[39;00m \u001b[39m.\u001b[39;00m\u001b[39m_caffe2_graph\u001b[39;00m \u001b[39mimport\u001b[39;00m (\n\u001b[1;32m    742\u001b[0m         model_to_graph_def, nets_to_graph_def, protos_to_graph_def\n\u001b[1;32m    743\u001b[0m     )\n",
      "File \u001b[0;32m~/anaconda3/envs/rqc_env/lib/python3.9/site-packages/caffe2/proto/__init__.py:11\u001b[0m, in \u001b[0;36m<module>\u001b[0;34m\u001b[0m\n\u001b[1;32m      1\u001b[0m \u001b[39m# NOTE: we have to import python protobuf here **before** we load cpp extension.\u001b[39;00m\n\u001b[1;32m      2\u001b[0m \u001b[39m# Otherwise it breaks under certain build conditions if cpp implementation of\u001b[39;00m\n\u001b[1;32m      3\u001b[0m \u001b[39m# protobuf is used. Presumably there's some registry in protobuf library and\u001b[39;00m\n\u001b[0;32m   (...)\u001b[0m\n\u001b[1;32m      9\u001b[0m \u001b[39m#\u001b[39;00m\n\u001b[1;32m     10\u001b[0m \u001b[39m# This has to be done for all python targets, so listing them here\u001b[39;00m\n\u001b[0;32m---> 11\u001b[0m \u001b[39mfrom\u001b[39;00m \u001b[39mcaffe2\u001b[39;00m\u001b[39m.\u001b[39;00m\u001b[39mproto\u001b[39;00m \u001b[39mimport\u001b[39;00m caffe2_pb2, metanet_pb2, torch_pb2\n\u001b[1;32m     12\u001b[0m \u001b[39mtry\u001b[39;00m:\n\u001b[1;32m     13\u001b[0m     \u001b[39mfrom\u001b[39;00m \u001b[39mcaffe2\u001b[39;00m\u001b[39m.\u001b[39;00m\u001b[39mcaffe2\u001b[39;00m\u001b[39m.\u001b[39;00m\u001b[39mfb\u001b[39;00m\u001b[39m.\u001b[39;00m\u001b[39msession\u001b[39;00m\u001b[39m.\u001b[39;00m\u001b[39mproto\u001b[39;00m \u001b[39mimport\u001b[39;00m session_pb2\n",
      "\u001b[0;31mImportError\u001b[0m: cannot import name 'metanet_pb2' from partially initialized module 'caffe2.proto' (most likely due to a circular import) (/home/amir/anaconda3/envs/rqc_env/lib/python3.9/site-packages/caffe2/proto/__init__.py)"
     ]
    }
   ],
   "source": [
    "\n",
    "from torch.utils.tensorboard import SummaryWriter\n",
    "\n",
    "writer = SummaryWriter('logdir')\n",
    "writer.add_graph(sim.fiber_real_sim, test_pressures[0])\n",
    "# writer.add_graph(model, sig)\n",
    "writer.close()"
   ]
  },
  {
   "cell_type": "code",
   "execution_count": 134,
   "metadata": {},
   "outputs": [
    {
     "name": "stdout",
     "output_type": "stream",
     "text": [
      "Name: torch\n",
      "Version: 1.11.0\n",
      "Summary: Tensors and Dynamic neural networks in Python with strong GPU acceleration\n",
      "Home-page: https://pytorch.org/\n",
      "Author: PyTorch Team\n",
      "Author-email: packages@pytorch.org\n",
      "License: BSD-3\n",
      "Location: /home/amir/anaconda3/envs/rqc_env/lib/python3.9/site-packages\n",
      "Requires: typing-extensions\n",
      "Required-by: torchvision\n"
     ]
    }
   ],
   "source": [
    "!pip show torch"
   ]
  }
 ],
 "metadata": {
  "kernelspec": {
   "display_name": "Python 3.9.12 ('rqc_env')",
   "language": "python",
   "name": "python3"
  },
  "language_info": {
   "codemirror_mode": {
    "name": "ipython",
    "version": 3
   },
   "file_extension": ".py",
   "mimetype": "text/x-python",
   "name": "python",
   "nbconvert_exporter": "python",
   "pygments_lexer": "ipython3",
   "version": "3.9.12"
  },
  "orig_nbformat": 4,
  "vscode": {
   "interpreter": {
    "hash": "22975e861a4488f94634044a20ded97cfffd19315dfee221a4082522e37b8267"
   }
  }
 },
 "nbformat": 4,
 "nbformat_minor": 2
}
