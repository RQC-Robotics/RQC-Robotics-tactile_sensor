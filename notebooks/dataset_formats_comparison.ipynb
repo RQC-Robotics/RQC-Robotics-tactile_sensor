{
 "cells": [
  {
   "cell_type": "code",
   "execution_count": 1,
   "metadata": {},
   "outputs": [
    {
     "name": "stdout",
     "output_type": "stream",
     "text": [
      "/home/amir/projects/frame_stack\n"
     ]
    }
   ],
   "source": [
    "%cd ..\n",
    "%load_ext autoreload\n",
    "%autoreload 2"
   ]
  },
  {
   "cell_type": "code",
   "execution_count": 2,
   "metadata": {},
   "outputs": [],
   "source": [
    "import numpy as np\n",
    "import matplotlib.pyplot as plt\n",
    "from os.path import join as jn\n",
    "import os\n",
    "import yaml\n",
    "import torch\n",
    "from tqdm.notebook import tqdm\n"
   ]
  },
  {
   "cell_type": "code",
   "execution_count": 3,
   "metadata": {},
   "outputs": [],
   "source": [
    "with open('params.yaml') as conf_file:\n",
    "    config = yaml.safe_load(conf_file)\n",
    "with open('pathes.yaml') as conf_file:\n",
    "    path_config = yaml.safe_load(conf_file)\n",
    "\n",
    "pressure_path = path_config['p_video_path']\n",
    "signal_path = path_config['test_s_video_path']\n"
   ]
  },
  {
   "cell_type": "code",
   "execution_count": 4,
   "metadata": {},
   "outputs": [
    {
     "name": "stdout",
     "output_type": "stream",
     "text": [
      "['1222', 's_440', '531', '34', 's_540', '37', 'test', 's_62', 's_201', 's_269', 's_110', '1743', 's_67', '1744', '62', 's_332', '540', 's_502', 's_327', 's_1600', '1386', '178', '1610', 's_125', 's_1744', '71', '155', 's_353', '488', 's_731', '237', 's_329', 's_494', '869', 's_1218', 's_488', 's_1601', 's_34', '125', 's_212', 's_504', 's_537', '338', '743', 's_95', '360', 's_265', 's_328', '332', 's_337', 's_546', 's_1612', '67', '502', '1246', '1791', 's_557', 's_1629', '235', 's_1244', 's_237', 's_1181', 's_104', 's_1222', 's_527', 's_1613', '1601', '1300', '1606', 's_155', '95', 's_1639', '104', '201', 's_35', '337', 's_1225', '265', '212', '269', 's_208', 's_1386', 's_360', 's_747', '1244', 's_235', 's_536', '1745', '58', 's_324', 's_60', '747', '731', '327', '840', 's_336', '336', 's_840', '353', '459', 's_743', '704', '500', 's_1791', '50', '1225', '527', 's_759', 's_614', 's_381', 's_365', 's_1598', '530', 's_1599', '494', '1635', 's_745', 's_704', '742', 's_71', 's_1597', 's_530', '35', '745', '1600', '328', '1218', '1599', 's_338', '1597', 's_1737', '936', '208', '365', 'train', 's_1743', '557', 's_145', 's_1610', '1737', 's_742', 's_869', 's_1246', '60', 's_500', 's_58', 's_1636', 's_178', 's_936', '504', '110', '1636', '1612', '1248', '1181', '440', '1608', '355', 's_1300', '329', 's_1608', '537', '1629', '324', '534', 's_1745', '1448', '546', '232', '1639', 's_37', '100', 's_459', '759', '145', '44', 's_50', 's_100', 's_534', '1613', 's_531', 's_355', 's_1635', '614', 's_232', '1598', '536', 's_1248', '381', 's_1606', 's_44', 's_1448']\n"
     ]
    }
   ],
   "source": [
    "print(os.listdir(pressure_path))"
   ]
  },
  {
   "cell_type": "code",
   "execution_count": 4,
   "metadata": {},
   "outputs": [
    {
     "name": "stdout",
     "output_type": "stream",
     "text": [
      "64\n",
      "(1, 300, 64, 64)\n",
      "(64, 300, 64, 64)\n"
     ]
    }
   ],
   "source": [
    "val_data = []\n",
    "search_path = jn(pressure_path, '1222')\n",
    "for folder in os.listdir(search_path):\n",
    "    val_data.append(np.expand_dims(np.load(jn(search_path, folder, \"prepared.npz\"))[\"arr_0\"], 0))\n",
    "print(len(val_data))\n",
    "print(val_data[0].shape)\n",
    "val_data = np.concatenate(val_data)\n",
    "print(val_data.shape)"
   ]
  },
  {
   "cell_type": "code",
   "execution_count": 6,
   "metadata": {},
   "outputs": [
    {
     "data": {
      "text/plain": [
       "dtype('float32')"
      ]
     },
     "execution_count": 6,
     "metadata": {},
     "output_type": "execute_result"
    }
   ],
   "source": [
    "val_data.dtype"
   ]
  },
  {
   "cell_type": "code",
   "execution_count": 5,
   "metadata": {},
   "outputs": [],
   "source": [
    "import pandas as pd"
   ]
  },
  {
   "cell_type": "code",
   "execution_count": 9,
   "metadata": {},
   "outputs": [
    {
     "data": {
      "text/html": [
       "<div>\n",
       "<style scoped>\n",
       "    .dataframe tbody tr th:only-of-type {\n",
       "        vertical-align: middle;\n",
       "    }\n",
       "\n",
       "    .dataframe tbody tr th {\n",
       "        vertical-align: top;\n",
       "    }\n",
       "\n",
       "    .dataframe thead th {\n",
       "        text-align: right;\n",
       "    }\n",
       "</style>\n",
       "<table border=\"1\" class=\"dataframe\">\n",
       "  <thead>\n",
       "    <tr style=\"text-align: right;\">\n",
       "      <th></th>\n",
       "      <th>save_size, MB</th>\n",
       "      <th>save_time, s</th>\n",
       "      <th>load_time, s</th>\n",
       "      <th>floats_number</th>\n",
       "      <th>name</th>\n",
       "    </tr>\n",
       "  </thead>\n",
       "  <tbody>\n",
       "    <tr>\n",
       "      <th>0</th>\n",
       "      <td>3.3</td>\n",
       "      <td>1.850</td>\n",
       "      <td>1.090</td>\n",
       "      <td>78643200</td>\n",
       "      <td>npz one</td>\n",
       "    </tr>\n",
       "    <tr>\n",
       "      <th>1</th>\n",
       "      <td>3.4</td>\n",
       "      <td>1.890</td>\n",
       "      <td>0.787</td>\n",
       "      <td>78643200</td>\n",
       "      <td>npz many</td>\n",
       "    </tr>\n",
       "    <tr>\n",
       "      <th>2</th>\n",
       "      <td>301.0</td>\n",
       "      <td>3.670</td>\n",
       "      <td>0.085</td>\n",
       "      <td>78643200</td>\n",
       "      <td>npy many</td>\n",
       "    </tr>\n",
       "    <tr>\n",
       "      <th>3</th>\n",
       "      <td>301.0</td>\n",
       "      <td>4.340</td>\n",
       "      <td>0.201</td>\n",
       "      <td>78643200</td>\n",
       "      <td>hd5 uncomp</td>\n",
       "    </tr>\n",
       "    <tr>\n",
       "      <th>4</th>\n",
       "      <td>3.6</td>\n",
       "      <td>2.000</td>\n",
       "      <td>1.140</td>\n",
       "      <td>78643200</td>\n",
       "      <td>hd5 gzip</td>\n",
       "    </tr>\n",
       "    <tr>\n",
       "      <th>5</th>\n",
       "      <td>6.9</td>\n",
       "      <td>0.751</td>\n",
       "      <td>0.846</td>\n",
       "      <td>78643200</td>\n",
       "      <td>hd5 lzf</td>\n",
       "    </tr>\n",
       "    <tr>\n",
       "      <th>6</th>\n",
       "      <td>68.0</td>\n",
       "      <td>3.630</td>\n",
       "      <td>2.670</td>\n",
       "      <td>78643200</td>\n",
       "      <td>hd5 szip</td>\n",
       "    </tr>\n",
       "    <tr>\n",
       "      <th>7</th>\n",
       "      <td>6.5</td>\n",
       "      <td>0.474</td>\n",
       "      <td>0.382</td>\n",
       "      <td>78643200</td>\n",
       "      <td>hd5 Blosc</td>\n",
       "    </tr>\n",
       "    <tr>\n",
       "      <th>8</th>\n",
       "      <td>6.5</td>\n",
       "      <td>0.460</td>\n",
       "      <td>0.400</td>\n",
       "      <td>78643200</td>\n",
       "      <td>hd5 Blosc</td>\n",
       "    </tr>\n",
       "  </tbody>\n",
       "</table>\n",
       "</div>"
      ],
      "text/plain": [
       "   save_size, MB  save_time, s  load_time, s  floats_number        name\n",
       "0            3.3         1.850         1.090       78643200     npz one\n",
       "1            3.4         1.890         0.787       78643200    npz many\n",
       "2          301.0         3.670         0.085       78643200    npy many\n",
       "3          301.0         4.340         0.201       78643200  hd5 uncomp\n",
       "4            3.6         2.000         1.140       78643200    hd5 gzip\n",
       "5            6.9         0.751         0.846       78643200     hd5 lzf\n",
       "6           68.0         3.630         2.670       78643200    hd5 szip\n",
       "7            6.5         0.474         0.382       78643200   hd5 Blosc\n",
       "8            6.5         0.460         0.400       78643200   hd5 Blosc"
      ]
     },
     "execution_count": 9,
     "metadata": {},
     "output_type": "execute_result"
    }
   ],
   "source": [
    "if os.path.exists('data/dataset_test_table.csv'):\n",
    "    pivot_table = pd.read_csv('data/dataset_test_table.csv')\n",
    "else:\n",
    "    pivot_table = pd.DataFrame()\n",
    "\n",
    "test = pd.DataFrame({'name': 'many npz', \n",
    "                     \"floats_number\": val_data.size, \n",
    "                     'save_time': 0,\n",
    "                     'load_time': 0,\n",
    "                     \"save_size\": 0,\n",
    "                     }, index=[0])\n",
    "pivot_table"
   ]
  },
  {
   "cell_type": "code",
   "execution_count": 10,
   "metadata": {},
   "outputs": [
    {
     "data": {
      "text/html": [
       "<div>\n",
       "<style scoped>\n",
       "    .dataframe tbody tr th:only-of-type {\n",
       "        vertical-align: middle;\n",
       "    }\n",
       "\n",
       "    .dataframe tbody tr th {\n",
       "        vertical-align: top;\n",
       "    }\n",
       "\n",
       "    .dataframe thead th {\n",
       "        text-align: right;\n",
       "    }\n",
       "</style>\n",
       "<table border=\"1\" class=\"dataframe\">\n",
       "  <thead>\n",
       "    <tr style=\"text-align: right;\">\n",
       "      <th></th>\n",
       "      <th>test_col</th>\n",
       "      <th>name</th>\n",
       "      <th>floats_number</th>\n",
       "      <th>load_time</th>\n",
       "      <th>save_time</th>\n",
       "      <th>save_size</th>\n",
       "    </tr>\n",
       "  </thead>\n",
       "  <tbody>\n",
       "    <tr>\n",
       "      <th>0</th>\n",
       "      <td>0</td>\n",
       "      <td>many npz</td>\n",
       "      <td>78643200</td>\n",
       "      <td>0</td>\n",
       "      <td>0</td>\n",
       "      <td>0</td>\n",
       "    </tr>\n",
       "  </tbody>\n",
       "</table>\n",
       "</div>"
      ],
      "text/plain": [
       "   test_col      name  floats_number  load_time  save_time  save_size\n",
       "0         0  many npz       78643200          0          0          0"
      ]
     },
     "execution_count": 10,
     "metadata": {},
     "output_type": "execute_result"
    }
   ],
   "source": [
    "test.insert(0, \"test_col\", 0)\n",
    "test"
   ]
  },
  {
   "cell_type": "code",
   "execution_count": 7,
   "metadata": {},
   "outputs": [],
   "source": [
    "save_folder = 'test_folder'\n",
    "os.makedirs(save_folder)"
   ]
  },
  {
   "cell_type": "code",
   "execution_count": 8,
   "metadata": {},
   "outputs": [],
   "source": [
    "import glob"
   ]
  },
  {
   "cell_type": "markdown",
   "metadata": {},
   "source": [
    "## Numpy"
   ]
  },
  {
   "cell_type": "markdown",
   "metadata": {},
   "source": [
    "npz one"
   ]
  },
  {
   "cell_type": "code",
   "execution_count": 10,
   "metadata": {},
   "outputs": [],
   "source": [
    "for file in glob.glob(jn(save_folder, \"*\")): os.remove(file)"
   ]
  },
  {
   "cell_type": "code",
   "execution_count": 11,
   "metadata": {},
   "outputs": [
    {
     "name": "stdout",
     "output_type": "stream",
     "text": [
      "2 s ± 20.3 ms per loop (mean ± std. dev. of 7 runs, 1 loop each)\n"
     ]
    }
   ],
   "source": [
    "%%timeit\n",
    "# saving\n",
    "np.savez_compressed(jn(save_folder, 'test.npz'), val_data)"
   ]
  },
  {
   "cell_type": "code",
   "execution_count": 12,
   "metadata": {},
   "outputs": [
    {
     "name": "stdout",
     "output_type": "stream",
     "text": [
      "938 ms ± 10.3 ms per loop (mean ± std. dev. of 7 runs, 1 loop each)\n"
     ]
    }
   ],
   "source": [
    "%%timeit\n",
    "# loading\n",
    "np.load(jn(save_folder, 'test.npz'))['arr_0']"
   ]
  },
  {
   "cell_type": "code",
   "execution_count": 19,
   "metadata": {},
   "outputs": [
    {
     "name": "stdout",
     "output_type": "stream",
     "text": [
      "3.3M\ttest_folder\r\n"
     ]
    }
   ],
   "source": [
    "!du -sh test_folder"
   ]
  },
  {
   "cell_type": "code",
   "execution_count": 20,
   "metadata": {},
   "outputs": [
    {
     "data": {
      "text/html": [
       "<div>\n",
       "<style scoped>\n",
       "    .dataframe tbody tr th:only-of-type {\n",
       "        vertical-align: middle;\n",
       "    }\n",
       "\n",
       "    .dataframe tbody tr th {\n",
       "        vertical-align: top;\n",
       "    }\n",
       "\n",
       "    .dataframe thead th {\n",
       "        text-align: right;\n",
       "    }\n",
       "</style>\n",
       "<table border=\"1\" class=\"dataframe\">\n",
       "  <thead>\n",
       "    <tr style=\"text-align: right;\">\n",
       "      <th></th>\n",
       "      <th>save_size, MB</th>\n",
       "      <th>save_time, s</th>\n",
       "      <th>load_time, s</th>\n",
       "      <th>floats_number</th>\n",
       "      <th>name</th>\n",
       "    </tr>\n",
       "  </thead>\n",
       "  <tbody>\n",
       "    <tr>\n",
       "      <th>0</th>\n",
       "      <td>3.3</td>\n",
       "      <td>2.05</td>\n",
       "      <td>2.18</td>\n",
       "      <td>78643200</td>\n",
       "      <td>npz one</td>\n",
       "    </tr>\n",
       "  </tbody>\n",
       "</table>\n",
       "</div>"
      ],
      "text/plain": [
       "   save_size, MB  save_time, s  load_time, s  floats_number     name\n",
       "0            3.3          2.05          2.18       78643200  npz one"
      ]
     },
     "execution_count": 20,
     "metadata": {},
     "output_type": "execute_result"
    }
   ],
   "source": [
    "log = pd.DataFrame(index=[0])\n",
    "log.insert(0, 'name', 'npz one')\n",
    "log.insert(0, 'floats_number', val_data.size)\n",
    "log.insert(0, 'save_time, s', 2.05)\n",
    "log.insert(0, 'load_time, s', 2.18)\n",
    "log.insert(0, 'save_size, MB', 3.3)\n",
    "pivot_table = pd.concat([pivot_table, log])\n",
    "pivot_table.tail()"
   ]
  },
  {
   "cell_type": "markdown",
   "metadata": {},
   "source": [
    "npz many"
   ]
  },
  {
   "cell_type": "code",
   "execution_count": 13,
   "metadata": {},
   "outputs": [],
   "source": [
    "for file in glob.glob(jn(save_folder, \"*\")): os.remove(file)"
   ]
  },
  {
   "cell_type": "code",
   "execution_count": 14,
   "metadata": {},
   "outputs": [
    {
     "name": "stdout",
     "output_type": "stream",
     "text": [
      "1.95 s ± 25.6 ms per loop (mean ± std. dev. of 7 runs, 1 loop each)\n"
     ]
    }
   ],
   "source": [
    "%%timeit\n",
    "# saving\n",
    "for i, batch in enumerate(val_data):\n",
    "    np.savez_compressed(jn(save_folder, f'test{i}.npz'), batch)"
   ]
  },
  {
   "cell_type": "code",
   "execution_count": 15,
   "metadata": {},
   "outputs": [
    {
     "name": "stdout",
     "output_type": "stream",
     "text": [
      "857 ms ± 10.1 ms per loop (mean ± std. dev. of 7 runs, 1 loop each)\n"
     ]
    }
   ],
   "source": [
    "%%timeit\n",
    "# loading\n",
    "for file in glob.glob(jn(save_folder, \"*\")):\n",
    "    np.load(file)['arr_0']"
   ]
  },
  {
   "cell_type": "code",
   "execution_count": 24,
   "metadata": {},
   "outputs": [
    {
     "name": "stdout",
     "output_type": "stream",
     "text": [
      "3.4M\ttest_folder\r\n"
     ]
    }
   ],
   "source": [
    "!du -sh test_folder"
   ]
  },
  {
   "cell_type": "code",
   "execution_count": 25,
   "metadata": {},
   "outputs": [
    {
     "data": {
      "text/html": [
       "<div>\n",
       "<style scoped>\n",
       "    .dataframe tbody tr th:only-of-type {\n",
       "        vertical-align: middle;\n",
       "    }\n",
       "\n",
       "    .dataframe tbody tr th {\n",
       "        vertical-align: top;\n",
       "    }\n",
       "\n",
       "    .dataframe thead th {\n",
       "        text-align: right;\n",
       "    }\n",
       "</style>\n",
       "<table border=\"1\" class=\"dataframe\">\n",
       "  <thead>\n",
       "    <tr style=\"text-align: right;\">\n",
       "      <th></th>\n",
       "      <th>save_size, MB</th>\n",
       "      <th>save_time, s</th>\n",
       "      <th>load_time, s</th>\n",
       "      <th>floats_number</th>\n",
       "      <th>name</th>\n",
       "    </tr>\n",
       "  </thead>\n",
       "  <tbody>\n",
       "    <tr>\n",
       "      <th>0</th>\n",
       "      <td>3.3</td>\n",
       "      <td>2.05</td>\n",
       "      <td>2.18</td>\n",
       "      <td>78643200</td>\n",
       "      <td>npz one</td>\n",
       "    </tr>\n",
       "    <tr>\n",
       "      <th>0</th>\n",
       "      <td>3.4</td>\n",
       "      <td>2.52</td>\n",
       "      <td>1.24</td>\n",
       "      <td>78643200</td>\n",
       "      <td>npz many</td>\n",
       "    </tr>\n",
       "  </tbody>\n",
       "</table>\n",
       "</div>"
      ],
      "text/plain": [
       "   save_size, MB  save_time, s  load_time, s  floats_number      name\n",
       "0            3.3          2.05          2.18       78643200   npz one\n",
       "0            3.4          2.52          1.24       78643200  npz many"
      ]
     },
     "execution_count": 25,
     "metadata": {},
     "output_type": "execute_result"
    }
   ],
   "source": [
    "log = pd.DataFrame(index=[0])\n",
    "log.insert(0, 'name', 'npz many')\n",
    "log.insert(0, 'floats_number', val_data.size)\n",
    "log.insert(0, 'save_time, s', 2.52)\n",
    "log.insert(0, 'load_time, s', 1.24)\n",
    "log.insert(0, 'save_size, MB', 3.4)\n",
    "pivot_table = pd.concat([pivot_table, log])\n",
    "pivot_table.tail()"
   ]
  },
  {
   "cell_type": "markdown",
   "metadata": {},
   "source": [
    "npy"
   ]
  },
  {
   "cell_type": "code",
   "execution_count": 26,
   "metadata": {},
   "outputs": [],
   "source": [
    "for file in glob.glob(jn(save_folder, \"*\")): os.remove(file)"
   ]
  },
  {
   "cell_type": "code",
   "execution_count": 27,
   "metadata": {},
   "outputs": [
    {
     "name": "stdout",
     "output_type": "stream",
     "text": [
      "5.01 s ± 429 ms per loop (mean ± std. dev. of 7 runs, 1 loop each)\n"
     ]
    }
   ],
   "source": [
    "%%timeit\n",
    "# saving\n",
    "for i, batch in enumerate(val_data):\n",
    "    np.save(jn(save_folder, f'test{i}.npy'), batch)"
   ]
  },
  {
   "cell_type": "code",
   "execution_count": 28,
   "metadata": {},
   "outputs": [
    {
     "name": "stdout",
     "output_type": "stream",
     "text": [
      "185 ms ± 19.5 ms per loop (mean ± std. dev. of 7 runs, 1 loop each)\n"
     ]
    }
   ],
   "source": [
    "%%timeit\n",
    "# loading\n",
    "for file in glob.glob(jn(save_folder, \"*\")):\n",
    "    np.load(file)"
   ]
  },
  {
   "cell_type": "code",
   "execution_count": 29,
   "metadata": {},
   "outputs": [
    {
     "name": "stdout",
     "output_type": "stream",
     "text": [
      "301M\ttest_folder\r\n"
     ]
    }
   ],
   "source": [
    "!du -sh test_folder"
   ]
  },
  {
   "cell_type": "code",
   "execution_count": 30,
   "metadata": {
    "scrolled": false
   },
   "outputs": [
    {
     "data": {
      "text/html": [
       "<div>\n",
       "<style scoped>\n",
       "    .dataframe tbody tr th:only-of-type {\n",
       "        vertical-align: middle;\n",
       "    }\n",
       "\n",
       "    .dataframe tbody tr th {\n",
       "        vertical-align: top;\n",
       "    }\n",
       "\n",
       "    .dataframe thead th {\n",
       "        text-align: right;\n",
       "    }\n",
       "</style>\n",
       "<table border=\"1\" class=\"dataframe\">\n",
       "  <thead>\n",
       "    <tr style=\"text-align: right;\">\n",
       "      <th></th>\n",
       "      <th>save_size, MB</th>\n",
       "      <th>save_time, s</th>\n",
       "      <th>load_time, s</th>\n",
       "      <th>floats_number</th>\n",
       "      <th>name</th>\n",
       "    </tr>\n",
       "  </thead>\n",
       "  <tbody>\n",
       "    <tr>\n",
       "      <th>0</th>\n",
       "      <td>3.3</td>\n",
       "      <td>2.05</td>\n",
       "      <td>2.180</td>\n",
       "      <td>78643200</td>\n",
       "      <td>npz one</td>\n",
       "    </tr>\n",
       "    <tr>\n",
       "      <th>0</th>\n",
       "      <td>3.4</td>\n",
       "      <td>2.52</td>\n",
       "      <td>1.240</td>\n",
       "      <td>78643200</td>\n",
       "      <td>npz many</td>\n",
       "    </tr>\n",
       "    <tr>\n",
       "      <th>0</th>\n",
       "      <td>301.0</td>\n",
       "      <td>5.00</td>\n",
       "      <td>0.185</td>\n",
       "      <td>78643200</td>\n",
       "      <td>npy many</td>\n",
       "    </tr>\n",
       "  </tbody>\n",
       "</table>\n",
       "</div>"
      ],
      "text/plain": [
       "   save_size, MB  save_time, s  load_time, s  floats_number      name\n",
       "0            3.3          2.05         2.180       78643200   npz one\n",
       "0            3.4          2.52         1.240       78643200  npz many\n",
       "0          301.0          5.00         0.185       78643200  npy many"
      ]
     },
     "execution_count": 30,
     "metadata": {},
     "output_type": "execute_result"
    }
   ],
   "source": [
    "log = pd.DataFrame(index=[0])\n",
    "log.insert(0, 'name', 'npy many')\n",
    "log.insert(0, 'floats_number', val_data.size)\n",
    "log.insert(0, 'save_time, s', 5)\n",
    "log.insert(0, 'load_time, s', 0.185)\n",
    "log.insert(0, 'save_size, MB', 301)\n",
    "pivot_table = pd.concat([pivot_table, log])\n",
    "pivot_table.tail()"
   ]
  },
  {
   "cell_type": "markdown",
   "metadata": {},
   "source": [
    "# HDF5"
   ]
  },
  {
   "cell_type": "code",
   "execution_count": 28,
   "metadata": {},
   "outputs": [],
   "source": [
    "import h5py"
   ]
  },
  {
   "cell_type": "code",
   "execution_count": 29,
   "metadata": {},
   "outputs": [],
   "source": [
    "for file in glob.glob(jn(save_folder, \"*\")): os.remove(file)"
   ]
  },
  {
   "cell_type": "code",
   "execution_count": 30,
   "metadata": {},
   "outputs": [
    {
     "name": "stdout",
     "output_type": "stream",
     "text": [
      "4.34 s ± 645 ms per loop (mean ± std. dev. of 7 runs, 1 loop each)\n"
     ]
    }
   ],
   "source": [
    "%%timeit\n",
    "# saving\n",
    "\n",
    "with h5py.File(jn(save_folder, 'random.hdf5'), 'w') as f:\n",
    "    dset = f.create_dataset(\"default\", data=val_data)"
   ]
  },
  {
   "cell_type": "code",
   "execution_count": 31,
   "metadata": {},
   "outputs": [
    {
     "name": "stdout",
     "output_type": "stream",
     "text": [
      "202 ms ± 74.2 ms per loop (mean ± std. dev. of 7 runs, 1 loop each)\n"
     ]
    }
   ],
   "source": [
    "%%timeit\n",
    "# loading\n",
    "for file in glob.glob(jn(save_folder, \"*\")):\n",
    "    \n",
    "    with h5py.File(file, 'r') as f:\n",
    "       data = f['default'][:]"
   ]
  },
  {
   "cell_type": "code",
   "execution_count": 32,
   "metadata": {},
   "outputs": [
    {
     "name": "stdout",
     "output_type": "stream",
     "text": [
      "301M\ttest_folder\r\n"
     ]
    }
   ],
   "source": [
    "!du -sh test_folder"
   ]
  },
  {
   "cell_type": "code",
   "execution_count": 46,
   "metadata": {
    "scrolled": false
   },
   "outputs": [
    {
     "data": {
      "text/html": [
       "<div>\n",
       "<style scoped>\n",
       "    .dataframe tbody tr th:only-of-type {\n",
       "        vertical-align: middle;\n",
       "    }\n",
       "\n",
       "    .dataframe tbody tr th {\n",
       "        vertical-align: top;\n",
       "    }\n",
       "\n",
       "    .dataframe thead th {\n",
       "        text-align: right;\n",
       "    }\n",
       "</style>\n",
       "<table border=\"1\" class=\"dataframe\">\n",
       "  <thead>\n",
       "    <tr style=\"text-align: right;\">\n",
       "      <th></th>\n",
       "      <th>save_size, MB</th>\n",
       "      <th>save_time, s</th>\n",
       "      <th>load_time, s</th>\n",
       "      <th>floats_number</th>\n",
       "      <th>name</th>\n",
       "    </tr>\n",
       "  </thead>\n",
       "  <tbody>\n",
       "    <tr>\n",
       "      <th>0</th>\n",
       "      <td>3.3</td>\n",
       "      <td>1.85</td>\n",
       "      <td>1.090</td>\n",
       "      <td>78643200</td>\n",
       "      <td>npz one</td>\n",
       "    </tr>\n",
       "    <tr>\n",
       "      <th>0</th>\n",
       "      <td>3.4</td>\n",
       "      <td>1.89</td>\n",
       "      <td>0.787</td>\n",
       "      <td>78643200</td>\n",
       "      <td>npz many</td>\n",
       "    </tr>\n",
       "    <tr>\n",
       "      <th>0</th>\n",
       "      <td>301.0</td>\n",
       "      <td>3.67</td>\n",
       "      <td>0.085</td>\n",
       "      <td>78643200</td>\n",
       "      <td>npy many</td>\n",
       "    </tr>\n",
       "    <tr>\n",
       "      <th>0</th>\n",
       "      <td>301.0</td>\n",
       "      <td>4.34</td>\n",
       "      <td>0.201</td>\n",
       "      <td>78643200</td>\n",
       "      <td>hd5 uncomp</td>\n",
       "    </tr>\n",
       "  </tbody>\n",
       "</table>\n",
       "</div>"
      ],
      "text/plain": [
       "   save_size, MB  save_time, s  load_time, s  floats_number        name\n",
       "0            3.3          1.85         1.090       78643200     npz one\n",
       "0            3.4          1.89         0.787       78643200    npz many\n",
       "0          301.0          3.67         0.085       78643200    npy many\n",
       "0          301.0          4.34         0.201       78643200  hd5 uncomp"
      ]
     },
     "execution_count": 46,
     "metadata": {},
     "output_type": "execute_result"
    }
   ],
   "source": [
    "log = pd.DataFrame(index=[0])\n",
    "log.insert(0, 'name', 'hd5 uncomp')\n",
    "log.insert(0, 'floats_number', val_data.size)\n",
    "log.insert(0, 'save_time, s', 4.34)\n",
    "log.insert(0, 'load_time, s', 0.201)\n",
    "log.insert(0, 'save_size, MB', 301)\n",
    "pivot_table = pd.concat([pivot_table, log])\n",
    "pivot_table.tail()"
   ]
  },
  {
   "cell_type": "markdown",
   "metadata": {},
   "source": [
    "## hdf5 with gzip"
   ]
  },
  {
   "cell_type": "code",
   "execution_count": 33,
   "metadata": {},
   "outputs": [],
   "source": [
    "for file in glob.glob(jn(save_folder, \"*\")): os.remove(file)"
   ]
  },
  {
   "cell_type": "code",
   "execution_count": 34,
   "metadata": {},
   "outputs": [
    {
     "name": "stdout",
     "output_type": "stream",
     "text": [
      "2.25 s ± 115 ms per loop (mean ± std. dev. of 7 runs, 1 loop each)\n"
     ]
    }
   ],
   "source": [
    "%%timeit\n",
    "# saving\n",
    "\n",
    "with h5py.File(jn(save_folder, 'random.hdf5'), 'w') as f:\n",
    "    dset = f.create_dataset(\"default\", data=val_data, compression=\"gzip\")"
   ]
  },
  {
   "cell_type": "code",
   "execution_count": 35,
   "metadata": {},
   "outputs": [
    {
     "name": "stdout",
     "output_type": "stream",
     "text": [
      "1.25 s ± 132 ms per loop (mean ± std. dev. of 7 runs, 1 loop each)\n"
     ]
    }
   ],
   "source": [
    "%%timeit\n",
    "# loading\n",
    "for file in glob.glob(jn(save_folder, \"*\")):\n",
    "    \n",
    "    with h5py.File(file, 'r') as f:\n",
    "       data = f['default'][:]"
   ]
  },
  {
   "cell_type": "code",
   "execution_count": 36,
   "metadata": {},
   "outputs": [
    {
     "name": "stdout",
     "output_type": "stream",
     "text": [
      "3.6M\ttest_folder\r\n"
     ]
    }
   ],
   "source": [
    "!du -sh test_folder"
   ]
  },
  {
   "cell_type": "code",
   "execution_count": 47,
   "metadata": {
    "scrolled": false
   },
   "outputs": [
    {
     "data": {
      "text/html": [
       "<div>\n",
       "<style scoped>\n",
       "    .dataframe tbody tr th:only-of-type {\n",
       "        vertical-align: middle;\n",
       "    }\n",
       "\n",
       "    .dataframe tbody tr th {\n",
       "        vertical-align: top;\n",
       "    }\n",
       "\n",
       "    .dataframe thead th {\n",
       "        text-align: right;\n",
       "    }\n",
       "</style>\n",
       "<table border=\"1\" class=\"dataframe\">\n",
       "  <thead>\n",
       "    <tr style=\"text-align: right;\">\n",
       "      <th></th>\n",
       "      <th>save_size, MB</th>\n",
       "      <th>save_time, s</th>\n",
       "      <th>load_time, s</th>\n",
       "      <th>floats_number</th>\n",
       "      <th>name</th>\n",
       "    </tr>\n",
       "  </thead>\n",
       "  <tbody>\n",
       "    <tr>\n",
       "      <th>0</th>\n",
       "      <td>3.3</td>\n",
       "      <td>1.85</td>\n",
       "      <td>1.090</td>\n",
       "      <td>78643200</td>\n",
       "      <td>npz one</td>\n",
       "    </tr>\n",
       "    <tr>\n",
       "      <th>0</th>\n",
       "      <td>3.4</td>\n",
       "      <td>1.89</td>\n",
       "      <td>0.787</td>\n",
       "      <td>78643200</td>\n",
       "      <td>npz many</td>\n",
       "    </tr>\n",
       "    <tr>\n",
       "      <th>0</th>\n",
       "      <td>301.0</td>\n",
       "      <td>3.67</td>\n",
       "      <td>0.085</td>\n",
       "      <td>78643200</td>\n",
       "      <td>npy many</td>\n",
       "    </tr>\n",
       "    <tr>\n",
       "      <th>0</th>\n",
       "      <td>301.0</td>\n",
       "      <td>4.34</td>\n",
       "      <td>0.201</td>\n",
       "      <td>78643200</td>\n",
       "      <td>hd5 uncomp</td>\n",
       "    </tr>\n",
       "    <tr>\n",
       "      <th>0</th>\n",
       "      <td>3.6</td>\n",
       "      <td>2.00</td>\n",
       "      <td>1.140</td>\n",
       "      <td>78643200</td>\n",
       "      <td>hd5 gzip</td>\n",
       "    </tr>\n",
       "  </tbody>\n",
       "</table>\n",
       "</div>"
      ],
      "text/plain": [
       "   save_size, MB  save_time, s  load_time, s  floats_number        name\n",
       "0            3.3          1.85         1.090       78643200     npz one\n",
       "0            3.4          1.89         0.787       78643200    npz many\n",
       "0          301.0          3.67         0.085       78643200    npy many\n",
       "0          301.0          4.34         0.201       78643200  hd5 uncomp\n",
       "0            3.6          2.00         1.140       78643200    hd5 gzip"
      ]
     },
     "execution_count": 47,
     "metadata": {},
     "output_type": "execute_result"
    }
   ],
   "source": [
    "log = pd.DataFrame(index=[0])\n",
    "log.insert(0, 'name', 'hd5 gzip')\n",
    "log.insert(0, 'floats_number', val_data.size)\n",
    "log.insert(0, 'save_time, s', 2)\n",
    "log.insert(0, 'load_time, s', 1.14)\n",
    "log.insert(0, 'save_size, MB', 3.6)\n",
    "pivot_table = pd.concat([pivot_table, log])\n",
    "pivot_table.tail()"
   ]
  },
  {
   "cell_type": "markdown",
   "metadata": {},
   "source": [
    "## hdf5 with LZF"
   ]
  },
  {
   "cell_type": "code",
   "execution_count": 37,
   "metadata": {},
   "outputs": [],
   "source": [
    "for file in glob.glob(jn(save_folder, \"*\")): os.remove(file)"
   ]
  },
  {
   "cell_type": "code",
   "execution_count": 38,
   "metadata": {},
   "outputs": [
    {
     "name": "stdout",
     "output_type": "stream",
     "text": [
      "705 ms ± 68.9 ms per loop (mean ± std. dev. of 7 runs, 1 loop each)\n"
     ]
    }
   ],
   "source": [
    "%%timeit\n",
    "# saving\n",
    "\n",
    "with h5py.File(jn(save_folder, 'random.hdf5'), 'w') as f:\n",
    "    dset = f.create_dataset(\"default\", data=val_data, compression=\"lzf\")"
   ]
  },
  {
   "cell_type": "code",
   "execution_count": 39,
   "metadata": {},
   "outputs": [
    {
     "name": "stdout",
     "output_type": "stream",
     "text": [
      "874 ms ± 79.2 ms per loop (mean ± std. dev. of 7 runs, 1 loop each)\n"
     ]
    }
   ],
   "source": [
    "%%timeit\n",
    "# loading\n",
    "for file in glob.glob(jn(save_folder, \"*\")):\n",
    "    \n",
    "    with h5py.File(file, 'r') as f:\n",
    "       data = f['default'][:]"
   ]
  },
  {
   "cell_type": "code",
   "execution_count": 40,
   "metadata": {},
   "outputs": [
    {
     "name": "stdout",
     "output_type": "stream",
     "text": [
      "6.9M\ttest_folder\r\n"
     ]
    }
   ],
   "source": [
    "!du -sh test_folder"
   ]
  },
  {
   "cell_type": "code",
   "execution_count": 48,
   "metadata": {
    "scrolled": false
   },
   "outputs": [
    {
     "data": {
      "text/html": [
       "<div>\n",
       "<style scoped>\n",
       "    .dataframe tbody tr th:only-of-type {\n",
       "        vertical-align: middle;\n",
       "    }\n",
       "\n",
       "    .dataframe tbody tr th {\n",
       "        vertical-align: top;\n",
       "    }\n",
       "\n",
       "    .dataframe thead th {\n",
       "        text-align: right;\n",
       "    }\n",
       "</style>\n",
       "<table border=\"1\" class=\"dataframe\">\n",
       "  <thead>\n",
       "    <tr style=\"text-align: right;\">\n",
       "      <th></th>\n",
       "      <th>save_size, MB</th>\n",
       "      <th>save_time, s</th>\n",
       "      <th>load_time, s</th>\n",
       "      <th>floats_number</th>\n",
       "      <th>name</th>\n",
       "    </tr>\n",
       "  </thead>\n",
       "  <tbody>\n",
       "    <tr>\n",
       "      <th>0</th>\n",
       "      <td>3.4</td>\n",
       "      <td>1.890</td>\n",
       "      <td>0.787</td>\n",
       "      <td>78643200</td>\n",
       "      <td>npz many</td>\n",
       "    </tr>\n",
       "    <tr>\n",
       "      <th>0</th>\n",
       "      <td>301.0</td>\n",
       "      <td>3.670</td>\n",
       "      <td>0.085</td>\n",
       "      <td>78643200</td>\n",
       "      <td>npy many</td>\n",
       "    </tr>\n",
       "    <tr>\n",
       "      <th>0</th>\n",
       "      <td>301.0</td>\n",
       "      <td>4.340</td>\n",
       "      <td>0.201</td>\n",
       "      <td>78643200</td>\n",
       "      <td>hd5 uncomp</td>\n",
       "    </tr>\n",
       "    <tr>\n",
       "      <th>0</th>\n",
       "      <td>3.6</td>\n",
       "      <td>2.000</td>\n",
       "      <td>1.140</td>\n",
       "      <td>78643200</td>\n",
       "      <td>hd5 gzip</td>\n",
       "    </tr>\n",
       "    <tr>\n",
       "      <th>0</th>\n",
       "      <td>6.9</td>\n",
       "      <td>0.751</td>\n",
       "      <td>0.846</td>\n",
       "      <td>78643200</td>\n",
       "      <td>hd5 lzf</td>\n",
       "    </tr>\n",
       "  </tbody>\n",
       "</table>\n",
       "</div>"
      ],
      "text/plain": [
       "   save_size, MB  save_time, s  load_time, s  floats_number        name\n",
       "0            3.4         1.890         0.787       78643200    npz many\n",
       "0          301.0         3.670         0.085       78643200    npy many\n",
       "0          301.0         4.340         0.201       78643200  hd5 uncomp\n",
       "0            3.6         2.000         1.140       78643200    hd5 gzip\n",
       "0            6.9         0.751         0.846       78643200     hd5 lzf"
      ]
     },
     "execution_count": 48,
     "metadata": {},
     "output_type": "execute_result"
    }
   ],
   "source": [
    "log = pd.DataFrame(index=[0])\n",
    "log.insert(0, 'name', 'hd5 lzf')\n",
    "log.insert(0, 'floats_number', val_data.size)\n",
    "log.insert(0, 'save_time, s', 0.751)\n",
    "log.insert(0, 'load_time, s', 0.846)\n",
    "log.insert(0, 'save_size, MB', 6.9)\n",
    "pivot_table = pd.concat([pivot_table, log])\n",
    "pivot_table.tail()"
   ]
  },
  {
   "cell_type": "markdown",
   "metadata": {},
   "source": [
    "## hdf5 with szip"
   ]
  },
  {
   "cell_type": "code",
   "execution_count": 41,
   "metadata": {},
   "outputs": [],
   "source": [
    "for file in glob.glob(jn(save_folder, \"*\")): os.remove(file)"
   ]
  },
  {
   "cell_type": "code",
   "execution_count": 42,
   "metadata": {},
   "outputs": [
    {
     "name": "stdout",
     "output_type": "stream",
     "text": [
      "3.63 s ± 833 ms per loop (mean ± std. dev. of 7 runs, 1 loop each)\n"
     ]
    }
   ],
   "source": [
    "%%timeit\n",
    "# saving\n",
    "\n",
    "with h5py.File(jn(save_folder, 'random.hdf5'), 'w') as f:\n",
    "    dset = f.create_dataset(\"default\", data=val_data, compression=\"szip\")"
   ]
  },
  {
   "cell_type": "code",
   "execution_count": 43,
   "metadata": {},
   "outputs": [
    {
     "name": "stdout",
     "output_type": "stream",
     "text": [
      "2.67 s ± 540 ms per loop (mean ± std. dev. of 7 runs, 1 loop each)\n"
     ]
    }
   ],
   "source": [
    "%%timeit\n",
    "# loading\n",
    "for file in glob.glob(jn(save_folder, \"*\")):\n",
    "    \n",
    "    with h5py.File(file, 'r') as f:\n",
    "       data = f['default'][:]"
   ]
  },
  {
   "cell_type": "code",
   "execution_count": 44,
   "metadata": {},
   "outputs": [
    {
     "name": "stdout",
     "output_type": "stream",
     "text": [
      "68M\ttest_folder\r\n"
     ]
    }
   ],
   "source": [
    "!du -sh test_folder"
   ]
  },
  {
   "cell_type": "code",
   "execution_count": 49,
   "metadata": {
    "scrolled": true
   },
   "outputs": [
    {
     "data": {
      "text/html": [
       "<div>\n",
       "<style scoped>\n",
       "    .dataframe tbody tr th:only-of-type {\n",
       "        vertical-align: middle;\n",
       "    }\n",
       "\n",
       "    .dataframe tbody tr th {\n",
       "        vertical-align: top;\n",
       "    }\n",
       "\n",
       "    .dataframe thead th {\n",
       "        text-align: right;\n",
       "    }\n",
       "</style>\n",
       "<table border=\"1\" class=\"dataframe\">\n",
       "  <thead>\n",
       "    <tr style=\"text-align: right;\">\n",
       "      <th></th>\n",
       "      <th>save_size, MB</th>\n",
       "      <th>save_time, s</th>\n",
       "      <th>load_time, s</th>\n",
       "      <th>floats_number</th>\n",
       "      <th>name</th>\n",
       "    </tr>\n",
       "  </thead>\n",
       "  <tbody>\n",
       "    <tr>\n",
       "      <th>0</th>\n",
       "      <td>301.0</td>\n",
       "      <td>3.670</td>\n",
       "      <td>0.085</td>\n",
       "      <td>78643200</td>\n",
       "      <td>npy many</td>\n",
       "    </tr>\n",
       "    <tr>\n",
       "      <th>0</th>\n",
       "      <td>301.0</td>\n",
       "      <td>4.340</td>\n",
       "      <td>0.201</td>\n",
       "      <td>78643200</td>\n",
       "      <td>hd5 uncomp</td>\n",
       "    </tr>\n",
       "    <tr>\n",
       "      <th>0</th>\n",
       "      <td>3.6</td>\n",
       "      <td>2.000</td>\n",
       "      <td>1.140</td>\n",
       "      <td>78643200</td>\n",
       "      <td>hd5 gzip</td>\n",
       "    </tr>\n",
       "    <tr>\n",
       "      <th>0</th>\n",
       "      <td>6.9</td>\n",
       "      <td>0.751</td>\n",
       "      <td>0.846</td>\n",
       "      <td>78643200</td>\n",
       "      <td>hd5 lzf</td>\n",
       "    </tr>\n",
       "    <tr>\n",
       "      <th>0</th>\n",
       "      <td>68.0</td>\n",
       "      <td>3.630</td>\n",
       "      <td>2.670</td>\n",
       "      <td>78643200</td>\n",
       "      <td>hd5 szip</td>\n",
       "    </tr>\n",
       "  </tbody>\n",
       "</table>\n",
       "</div>"
      ],
      "text/plain": [
       "   save_size, MB  save_time, s  load_time, s  floats_number        name\n",
       "0          301.0         3.670         0.085       78643200    npy many\n",
       "0          301.0         4.340         0.201       78643200  hd5 uncomp\n",
       "0            3.6         2.000         1.140       78643200    hd5 gzip\n",
       "0            6.9         0.751         0.846       78643200     hd5 lzf\n",
       "0           68.0         3.630         2.670       78643200    hd5 szip"
      ]
     },
     "execution_count": 49,
     "metadata": {},
     "output_type": "execute_result"
    }
   ],
   "source": [
    "log = pd.DataFrame(index=[0])\n",
    "log.insert(0, 'name', 'hd5 szip')\n",
    "log.insert(0, 'floats_number', val_data.size)\n",
    "log.insert(0, 'save_time, s', 3.63)\n",
    "log.insert(0, 'load_time, s', 2.67)\n",
    "log.insert(0, 'save_size, MB', 68)\n",
    "pivot_table = pd.concat([pivot_table, log])\n",
    "pivot_table.tail()"
   ]
  },
  {
   "cell_type": "markdown",
   "metadata": {},
   "source": [
    "## hdf5 with Blosc"
   ]
  },
  {
   "cell_type": "code",
   "execution_count": 50,
   "metadata": {},
   "outputs": [],
   "source": [
    "for file in glob.glob(jn(save_folder, \"*\")): os.remove(file)"
   ]
  },
  {
   "cell_type": "code",
   "execution_count": 51,
   "metadata": {},
   "outputs": [],
   "source": [
    "import hdf5plugin"
   ]
  },
  {
   "cell_type": "code",
   "execution_count": 59,
   "metadata": {},
   "outputs": [
    {
     "name": "stdout",
     "output_type": "stream",
     "text": [
      "466 ms ± 41.5 ms per loop (mean ± std. dev. of 7 runs, 5 loops each)\n"
     ]
    }
   ],
   "source": [
    "%%timeit -n 5\n",
    "# saving\n",
    "\n",
    "with h5py.File(jn(save_folder, 'random.hdf5'), 'w') as f:\n",
    "    dset = f.create_dataset(\"default\", data=val_data, \n",
    "                            **hdf5plugin.Blosc(cname='blosclz', clevel=4, shuffle=hdf5plugin.Blosc.SHUFFLE))"
   ]
  },
  {
   "cell_type": "code",
   "execution_count": 60,
   "metadata": {},
   "outputs": [
    {
     "name": "stdout",
     "output_type": "stream",
     "text": [
      "378 ms ± 37.2 ms per loop (mean ± std. dev. of 7 runs, 5 loops each)\n"
     ]
    }
   ],
   "source": [
    "%%timeit -n 5\n",
    "# loading\n",
    "for file in glob.glob(jn(save_folder, \"*\")):\n",
    "    \n",
    "    with h5py.File(file, 'r') as f:\n",
    "       data = f['default'][:]"
   ]
  },
  {
   "cell_type": "code",
   "execution_count": 61,
   "metadata": {},
   "outputs": [
    {
     "name": "stdout",
     "output_type": "stream",
     "text": [
      "6.5M\ttest_folder\r\n"
     ]
    }
   ],
   "source": [
    "!du -sh test_folder"
   ]
  },
  {
   "cell_type": "code",
   "execution_count": 58,
   "metadata": {
    "scrolled": true
   },
   "outputs": [
    {
     "data": {
      "text/html": [
       "<div>\n",
       "<style scoped>\n",
       "    .dataframe tbody tr th:only-of-type {\n",
       "        vertical-align: middle;\n",
       "    }\n",
       "\n",
       "    .dataframe tbody tr th {\n",
       "        vertical-align: top;\n",
       "    }\n",
       "\n",
       "    .dataframe thead th {\n",
       "        text-align: right;\n",
       "    }\n",
       "</style>\n",
       "<table border=\"1\" class=\"dataframe\">\n",
       "  <thead>\n",
       "    <tr style=\"text-align: right;\">\n",
       "      <th></th>\n",
       "      <th>save_size, MB</th>\n",
       "      <th>save_time, s</th>\n",
       "      <th>load_time, s</th>\n",
       "      <th>floats_number</th>\n",
       "      <th>name</th>\n",
       "    </tr>\n",
       "  </thead>\n",
       "  <tbody>\n",
       "    <tr>\n",
       "      <th>0</th>\n",
       "      <td>3.3</td>\n",
       "      <td>1.850</td>\n",
       "      <td>1.090</td>\n",
       "      <td>78643200</td>\n",
       "      <td>npz one</td>\n",
       "    </tr>\n",
       "    <tr>\n",
       "      <th>0</th>\n",
       "      <td>3.4</td>\n",
       "      <td>1.890</td>\n",
       "      <td>0.787</td>\n",
       "      <td>78643200</td>\n",
       "      <td>npz many</td>\n",
       "    </tr>\n",
       "    <tr>\n",
       "      <th>0</th>\n",
       "      <td>301.0</td>\n",
       "      <td>3.670</td>\n",
       "      <td>0.085</td>\n",
       "      <td>78643200</td>\n",
       "      <td>npy many</td>\n",
       "    </tr>\n",
       "    <tr>\n",
       "      <th>0</th>\n",
       "      <td>301.0</td>\n",
       "      <td>4.340</td>\n",
       "      <td>0.201</td>\n",
       "      <td>78643200</td>\n",
       "      <td>hd5 uncomp</td>\n",
       "    </tr>\n",
       "    <tr>\n",
       "      <th>0</th>\n",
       "      <td>3.6</td>\n",
       "      <td>2.000</td>\n",
       "      <td>1.140</td>\n",
       "      <td>78643200</td>\n",
       "      <td>hd5 gzip</td>\n",
       "    </tr>\n",
       "    <tr>\n",
       "      <th>0</th>\n",
       "      <td>6.9</td>\n",
       "      <td>0.751</td>\n",
       "      <td>0.846</td>\n",
       "      <td>78643200</td>\n",
       "      <td>hd5 lzf</td>\n",
       "    </tr>\n",
       "    <tr>\n",
       "      <th>0</th>\n",
       "      <td>68.0</td>\n",
       "      <td>3.630</td>\n",
       "      <td>2.670</td>\n",
       "      <td>78643200</td>\n",
       "      <td>hd5 szip</td>\n",
       "    </tr>\n",
       "    <tr>\n",
       "      <th>0</th>\n",
       "      <td>6.5</td>\n",
       "      <td>0.474</td>\n",
       "      <td>0.382</td>\n",
       "      <td>78643200</td>\n",
       "      <td>hd5 Blosc</td>\n",
       "    </tr>\n",
       "    <tr>\n",
       "      <th>0</th>\n",
       "      <td>6.5</td>\n",
       "      <td>0.460</td>\n",
       "      <td>0.400</td>\n",
       "      <td>78643200</td>\n",
       "      <td>hd5 Blosc</td>\n",
       "    </tr>\n",
       "  </tbody>\n",
       "</table>\n",
       "</div>"
      ],
      "text/plain": [
       "   save_size, MB  save_time, s  load_time, s  floats_number        name\n",
       "0            3.3         1.850         1.090       78643200     npz one\n",
       "0            3.4         1.890         0.787       78643200    npz many\n",
       "0          301.0         3.670         0.085       78643200    npy many\n",
       "0          301.0         4.340         0.201       78643200  hd5 uncomp\n",
       "0            3.6         2.000         1.140       78643200    hd5 gzip\n",
       "0            6.9         0.751         0.846       78643200     hd5 lzf\n",
       "0           68.0         3.630         2.670       78643200    hd5 szip\n",
       "0            6.5         0.474         0.382       78643200   hd5 Blosc\n",
       "0            6.5         0.460         0.400       78643200   hd5 Blosc"
      ]
     },
     "execution_count": 58,
     "metadata": {},
     "output_type": "execute_result"
    }
   ],
   "source": [
    "log = pd.DataFrame(index=[0])\n",
    "log.insert(0, 'name', 'hd5 Blosc cmp=4')\n",
    "log.insert(0, 'floats_number', val_data.size)\n",
    "log.insert(0, 'save_time, s', 0.46)\n",
    "log.insert(0, 'load_time, s', 0.40)\n",
    "log.insert(0, 'save_size, MB', 6.5)\n",
    "pivot_table = pd.concat([pivot_table, log])\n",
    "pivot_table"
   ]
  },
  {
   "cell_type": "code",
   "execution_count": null,
   "metadata": {},
   "outputs": [],
   "source": []
  },
  {
   "cell_type": "markdown",
   "metadata": {},
   "source": [
    "## Pytables"
   ]
  },
  {
   "cell_type": "code",
   "execution_count": 30,
   "metadata": {},
   "outputs": [],
   "source": [
    "for file in glob.glob(jn(save_folder, \"*\")): os.remove(file)"
   ]
  },
  {
   "cell_type": "code",
   "execution_count": 17,
   "metadata": {},
   "outputs": [],
   "source": [
    "import tables as tb\n"
   ]
  },
  {
   "cell_type": "code",
   "execution_count": 37,
   "metadata": {},
   "outputs": [
    {
     "name": "stdout",
     "output_type": "stream",
     "text": [
      "311 ms ± 13.5 ms per loop (mean ± std. dev. of 7 runs, 5 loops each)\n"
     ]
    }
   ],
   "source": [
    "%%timeit -n 5\n",
    "# saving\n",
    " \n",
    "for file in glob.glob(jn(save_folder, \"*\")): os.remove(file)\n",
    "with tb.open_file(jn(save_folder, 'random.h5'), mode = \"w\") as fileh:\n",
    "    root = fileh.root\n",
    "    fileh.create_array(root, \"array1\", val_data)\n",
    "    fileh.close()"
   ]
  },
  {
   "cell_type": "code",
   "execution_count": 38,
   "metadata": {},
   "outputs": [
    {
     "name": "stdout",
     "output_type": "stream",
     "text": [
      "158 ms ± 9.61 ms per loop (mean ± std. dev. of 7 runs, 5 loops each)\n"
     ]
    }
   ],
   "source": [
    "%%timeit -n 5\n",
    "# loading\n",
    "for file in glob.glob(jn(save_folder, \"*\")):\n",
    "    \n",
    "    with tb.open_file(file, mode='r') as f:\n",
    "       data = f.root[\"array1\"][:]"
   ]
  },
  {
   "cell_type": "code",
   "execution_count": 39,
   "metadata": {},
   "outputs": [
    {
     "name": "stdout",
     "output_type": "stream",
     "text": [
      "301M\ttest_folder\n"
     ]
    }
   ],
   "source": [
    "!du -sh test_folder"
   ]
  },
  {
   "cell_type": "code",
   "execution_count": 40,
   "metadata": {
    "scrolled": true
   },
   "outputs": [
    {
     "data": {
      "text/html": [
       "<div>\n",
       "<style scoped>\n",
       "    .dataframe tbody tr th:only-of-type {\n",
       "        vertical-align: middle;\n",
       "    }\n",
       "\n",
       "    .dataframe tbody tr th {\n",
       "        vertical-align: top;\n",
       "    }\n",
       "\n",
       "    .dataframe thead th {\n",
       "        text-align: right;\n",
       "    }\n",
       "</style>\n",
       "<table border=\"1\" class=\"dataframe\">\n",
       "  <thead>\n",
       "    <tr style=\"text-align: right;\">\n",
       "      <th></th>\n",
       "      <th>save_size, MB</th>\n",
       "      <th>save_time, s</th>\n",
       "      <th>load_time, s</th>\n",
       "      <th>floats_number</th>\n",
       "      <th>name</th>\n",
       "    </tr>\n",
       "  </thead>\n",
       "  <tbody>\n",
       "    <tr>\n",
       "      <th>0</th>\n",
       "      <td>3.3</td>\n",
       "      <td>1.850</td>\n",
       "      <td>1.090</td>\n",
       "      <td>78643200</td>\n",
       "      <td>npz one</td>\n",
       "    </tr>\n",
       "    <tr>\n",
       "      <th>1</th>\n",
       "      <td>3.4</td>\n",
       "      <td>1.890</td>\n",
       "      <td>0.787</td>\n",
       "      <td>78643200</td>\n",
       "      <td>npz many</td>\n",
       "    </tr>\n",
       "    <tr>\n",
       "      <th>2</th>\n",
       "      <td>301.0</td>\n",
       "      <td>3.670</td>\n",
       "      <td>0.085</td>\n",
       "      <td>78643200</td>\n",
       "      <td>npy many</td>\n",
       "    </tr>\n",
       "    <tr>\n",
       "      <th>3</th>\n",
       "      <td>301.0</td>\n",
       "      <td>4.340</td>\n",
       "      <td>0.201</td>\n",
       "      <td>78643200</td>\n",
       "      <td>hd5 uncomp</td>\n",
       "    </tr>\n",
       "    <tr>\n",
       "      <th>4</th>\n",
       "      <td>3.6</td>\n",
       "      <td>2.000</td>\n",
       "      <td>1.140</td>\n",
       "      <td>78643200</td>\n",
       "      <td>hd5 gzip</td>\n",
       "    </tr>\n",
       "    <tr>\n",
       "      <th>5</th>\n",
       "      <td>6.9</td>\n",
       "      <td>0.751</td>\n",
       "      <td>0.846</td>\n",
       "      <td>78643200</td>\n",
       "      <td>hd5 lzf</td>\n",
       "    </tr>\n",
       "    <tr>\n",
       "      <th>6</th>\n",
       "      <td>68.0</td>\n",
       "      <td>3.630</td>\n",
       "      <td>2.670</td>\n",
       "      <td>78643200</td>\n",
       "      <td>hd5 szip</td>\n",
       "    </tr>\n",
       "    <tr>\n",
       "      <th>7</th>\n",
       "      <td>6.5</td>\n",
       "      <td>0.474</td>\n",
       "      <td>0.382</td>\n",
       "      <td>78643200</td>\n",
       "      <td>hd5 Blosc</td>\n",
       "    </tr>\n",
       "    <tr>\n",
       "      <th>8</th>\n",
       "      <td>6.5</td>\n",
       "      <td>0.460</td>\n",
       "      <td>0.400</td>\n",
       "      <td>78643200</td>\n",
       "      <td>hd5 Blosc</td>\n",
       "    </tr>\n",
       "    <tr>\n",
       "      <th>0</th>\n",
       "      <td>301.0</td>\n",
       "      <td>0.300</td>\n",
       "      <td>0.150</td>\n",
       "      <td>78643200</td>\n",
       "      <td>pytab without comp</td>\n",
       "    </tr>\n",
       "  </tbody>\n",
       "</table>\n",
       "</div>"
      ],
      "text/plain": [
       "   save_size, MB  save_time, s  load_time, s  floats_number  \\\n",
       "0            3.3         1.850         1.090       78643200   \n",
       "1            3.4         1.890         0.787       78643200   \n",
       "2          301.0         3.670         0.085       78643200   \n",
       "3          301.0         4.340         0.201       78643200   \n",
       "4            3.6         2.000         1.140       78643200   \n",
       "5            6.9         0.751         0.846       78643200   \n",
       "6           68.0         3.630         2.670       78643200   \n",
       "7            6.5         0.474         0.382       78643200   \n",
       "8            6.5         0.460         0.400       78643200   \n",
       "0          301.0         0.300         0.150       78643200   \n",
       "\n",
       "                 name  \n",
       "0             npz one  \n",
       "1            npz many  \n",
       "2            npy many  \n",
       "3          hd5 uncomp  \n",
       "4            hd5 gzip  \n",
       "5             hd5 lzf  \n",
       "6            hd5 szip  \n",
       "7           hd5 Blosc  \n",
       "8           hd5 Blosc  \n",
       "0  pytab without comp  "
      ]
     },
     "execution_count": 40,
     "metadata": {},
     "output_type": "execute_result"
    }
   ],
   "source": [
    "log = pd.DataFrame(index=[0])\n",
    "log.insert(0, 'name', 'pytab without comp')\n",
    "log.insert(0, 'floats_number', val_data.size)\n",
    "log.insert(0, 'save_time, s', 0.3)\n",
    "log.insert(0, 'load_time, s', 0.15)\n",
    "log.insert(0, 'save_size, MB', 301)\n",
    "pivot_table = pd.concat([pivot_table, log])\n",
    "pivot_table"
   ]
  },
  {
   "cell_type": "markdown",
   "metadata": {},
   "source": [
    "## Pytables compressed lzo"
   ]
  },
  {
   "cell_type": "code",
   "execution_count": 41,
   "metadata": {},
   "outputs": [],
   "source": [
    "for file in glob.glob(jn(save_folder, \"*\")): os.remove(file)"
   ]
  },
  {
   "cell_type": "code",
   "execution_count": 42,
   "metadata": {},
   "outputs": [],
   "source": [
    "import tables as tb\n"
   ]
  },
  {
   "cell_type": "code",
   "execution_count": 46,
   "metadata": {},
   "outputs": [
    {
     "name": "stdout",
     "output_type": "stream",
     "text": [
      "441 ms ± 10.6 ms per loop (mean ± std. dev. of 7 runs, 5 loops each)\n"
     ]
    }
   ],
   "source": [
    "%%timeit -n 5\n",
    "# saving\n",
    " \n",
    "with tb.open_file(jn(save_folder, 'random.h5'), mode = \"w\") as fileh:\n",
    "    root = fileh.root\n",
    "    filters = tb.Filters(complevel=4, complib='lzo')\n",
    "\n",
    "    arr = fileh.create_carray(root, \"array1\", obj=val_data, filters=filters)\n",
    "    fileh.close()\n"
   ]
  },
  {
   "cell_type": "code",
   "execution_count": 47,
   "metadata": {},
   "outputs": [
    {
     "name": "stdout",
     "output_type": "stream",
     "text": [
      "538 ms ± 6.35 ms per loop (mean ± std. dev. of 7 runs, 5 loops each)\n"
     ]
    }
   ],
   "source": [
    "%%timeit -n 5\n",
    "# loading\n",
    "for file in glob.glob(jn(save_folder, \"*\")):\n",
    "    \n",
    "    with tb.open_file(file, mode='r') as f:\n",
    "       data = f.root[\"array1\"][:]"
   ]
  },
  {
   "cell_type": "code",
   "execution_count": 45,
   "metadata": {},
   "outputs": [
    {
     "name": "stdout",
     "output_type": "stream",
     "text": [
      "6.1M\ttest_folder\n"
     ]
    }
   ],
   "source": [
    "!du -sh test_folder"
   ]
  },
  {
   "cell_type": "code",
   "execution_count": 48,
   "metadata": {
    "scrolled": true
   },
   "outputs": [
    {
     "data": {
      "text/html": [
       "<div>\n",
       "<style scoped>\n",
       "    .dataframe tbody tr th:only-of-type {\n",
       "        vertical-align: middle;\n",
       "    }\n",
       "\n",
       "    .dataframe tbody tr th {\n",
       "        vertical-align: top;\n",
       "    }\n",
       "\n",
       "    .dataframe thead th {\n",
       "        text-align: right;\n",
       "    }\n",
       "</style>\n",
       "<table border=\"1\" class=\"dataframe\">\n",
       "  <thead>\n",
       "    <tr style=\"text-align: right;\">\n",
       "      <th></th>\n",
       "      <th>save_size, MB</th>\n",
       "      <th>save_time, s</th>\n",
       "      <th>load_time, s</th>\n",
       "      <th>floats_number</th>\n",
       "      <th>name</th>\n",
       "    </tr>\n",
       "  </thead>\n",
       "  <tbody>\n",
       "    <tr>\n",
       "      <th>0</th>\n",
       "      <td>3.3</td>\n",
       "      <td>1.850</td>\n",
       "      <td>1.090</td>\n",
       "      <td>78643200</td>\n",
       "      <td>npz one</td>\n",
       "    </tr>\n",
       "    <tr>\n",
       "      <th>1</th>\n",
       "      <td>3.4</td>\n",
       "      <td>1.890</td>\n",
       "      <td>0.787</td>\n",
       "      <td>78643200</td>\n",
       "      <td>npz many</td>\n",
       "    </tr>\n",
       "    <tr>\n",
       "      <th>2</th>\n",
       "      <td>301.0</td>\n",
       "      <td>3.670</td>\n",
       "      <td>0.085</td>\n",
       "      <td>78643200</td>\n",
       "      <td>npy many</td>\n",
       "    </tr>\n",
       "    <tr>\n",
       "      <th>3</th>\n",
       "      <td>301.0</td>\n",
       "      <td>4.340</td>\n",
       "      <td>0.201</td>\n",
       "      <td>78643200</td>\n",
       "      <td>hd5 uncomp</td>\n",
       "    </tr>\n",
       "    <tr>\n",
       "      <th>4</th>\n",
       "      <td>3.6</td>\n",
       "      <td>2.000</td>\n",
       "      <td>1.140</td>\n",
       "      <td>78643200</td>\n",
       "      <td>hd5 gzip</td>\n",
       "    </tr>\n",
       "    <tr>\n",
       "      <th>5</th>\n",
       "      <td>6.9</td>\n",
       "      <td>0.751</td>\n",
       "      <td>0.846</td>\n",
       "      <td>78643200</td>\n",
       "      <td>hd5 lzf</td>\n",
       "    </tr>\n",
       "    <tr>\n",
       "      <th>6</th>\n",
       "      <td>68.0</td>\n",
       "      <td>3.630</td>\n",
       "      <td>2.670</td>\n",
       "      <td>78643200</td>\n",
       "      <td>hd5 szip</td>\n",
       "    </tr>\n",
       "    <tr>\n",
       "      <th>7</th>\n",
       "      <td>6.5</td>\n",
       "      <td>0.474</td>\n",
       "      <td>0.382</td>\n",
       "      <td>78643200</td>\n",
       "      <td>hd5 Blosc</td>\n",
       "    </tr>\n",
       "    <tr>\n",
       "      <th>8</th>\n",
       "      <td>6.5</td>\n",
       "      <td>0.460</td>\n",
       "      <td>0.400</td>\n",
       "      <td>78643200</td>\n",
       "      <td>hd5 Blosc</td>\n",
       "    </tr>\n",
       "    <tr>\n",
       "      <th>0</th>\n",
       "      <td>301.0</td>\n",
       "      <td>0.300</td>\n",
       "      <td>0.150</td>\n",
       "      <td>78643200</td>\n",
       "      <td>pytab without comp</td>\n",
       "    </tr>\n",
       "    <tr>\n",
       "      <th>0</th>\n",
       "      <td>6.0</td>\n",
       "      <td>0.440</td>\n",
       "      <td>0.540</td>\n",
       "      <td>78643200</td>\n",
       "      <td>pytab with lzo</td>\n",
       "    </tr>\n",
       "  </tbody>\n",
       "</table>\n",
       "</div>"
      ],
      "text/plain": [
       "   save_size, MB  save_time, s  load_time, s  floats_number  \\\n",
       "0            3.3         1.850         1.090       78643200   \n",
       "1            3.4         1.890         0.787       78643200   \n",
       "2          301.0         3.670         0.085       78643200   \n",
       "3          301.0         4.340         0.201       78643200   \n",
       "4            3.6         2.000         1.140       78643200   \n",
       "5            6.9         0.751         0.846       78643200   \n",
       "6           68.0         3.630         2.670       78643200   \n",
       "7            6.5         0.474         0.382       78643200   \n",
       "8            6.5         0.460         0.400       78643200   \n",
       "0          301.0         0.300         0.150       78643200   \n",
       "0            6.0         0.440         0.540       78643200   \n",
       "\n",
       "                 name  \n",
       "0             npz one  \n",
       "1            npz many  \n",
       "2            npy many  \n",
       "3          hd5 uncomp  \n",
       "4            hd5 gzip  \n",
       "5             hd5 lzf  \n",
       "6            hd5 szip  \n",
       "7           hd5 Blosc  \n",
       "8           hd5 Blosc  \n",
       "0  pytab without comp  \n",
       "0      pytab with lzo  "
      ]
     },
     "execution_count": 48,
     "metadata": {},
     "output_type": "execute_result"
    }
   ],
   "source": [
    "log = pd.DataFrame(index=[0])\n",
    "log.insert(0, 'name', 'pytab with lzo')\n",
    "log.insert(0, 'floats_number', val_data.size)\n",
    "log.insert(0, 'save_time, s', 0.44)\n",
    "log.insert(0, 'load_time, s', 0.54)\n",
    "log.insert(0, 'save_size, MB', 6)\n",
    "pivot_table = pd.concat([pivot_table, log])\n",
    "pivot_table"
   ]
  },
  {
   "cell_type": "markdown",
   "metadata": {},
   "source": [
    "## Pytables compressed blosc"
   ]
  },
  {
   "cell_type": "code",
   "execution_count": 49,
   "metadata": {},
   "outputs": [],
   "source": [
    "for file in glob.glob(jn(save_folder, \"*\")): os.remove(file)"
   ]
  },
  {
   "cell_type": "code",
   "execution_count": 50,
   "metadata": {},
   "outputs": [],
   "source": [
    "import tables as tb\n"
   ]
  },
  {
   "cell_type": "code",
   "execution_count": 51,
   "metadata": {},
   "outputs": [
    {
     "name": "stdout",
     "output_type": "stream",
     "text": [
      "455 ms ± 12.6 ms per loop (mean ± std. dev. of 7 runs, 7 loops each)\n"
     ]
    }
   ],
   "source": [
    "%%timeit -n 7\n",
    "# saving\n",
    "\n",
    "with tb.open_file(jn(save_folder, 'random.h5'), mode = \"w\") as fileh:\n",
    "    root = fileh.root\n",
    "    filters = tb.Filters(complevel=4, complib='blosc')\n",
    "\n",
    "    arr = fileh.create_carray(root, \"array1\", obj=val_data, atom=tb.Float32Atom(), shape=val_data.shape, filters=filters)\n",
    "    fileh.close()\n",
    "\n",
    "\n"
   ]
  },
  {
   "cell_type": "code",
   "execution_count": 52,
   "metadata": {},
   "outputs": [
    {
     "name": "stdout",
     "output_type": "stream",
     "text": [
      "384 ms ± 6.38 ms per loop (mean ± std. dev. of 7 runs, 7 loops each)\n"
     ]
    }
   ],
   "source": [
    "%%timeit -n 7\n",
    "# loading\n",
    "for file in glob.glob(jn(save_folder, \"*\")):\n",
    "    \n",
    "    with tb.open_file(file, mode='r') as f:\n",
    "       data = f.root[\"array1\"][:]"
   ]
  },
  {
   "cell_type": "code",
   "execution_count": 53,
   "metadata": {},
   "outputs": [
    {
     "name": "stdout",
     "output_type": "stream",
     "text": [
      "6.0M\ttest_folder\n"
     ]
    }
   ],
   "source": [
    "!du -sh test_folder"
   ]
  },
  {
   "cell_type": "code",
   "execution_count": 54,
   "metadata": {
    "scrolled": true
   },
   "outputs": [
    {
     "data": {
      "text/html": [
       "<div>\n",
       "<style scoped>\n",
       "    .dataframe tbody tr th:only-of-type {\n",
       "        vertical-align: middle;\n",
       "    }\n",
       "\n",
       "    .dataframe tbody tr th {\n",
       "        vertical-align: top;\n",
       "    }\n",
       "\n",
       "    .dataframe thead th {\n",
       "        text-align: right;\n",
       "    }\n",
       "</style>\n",
       "<table border=\"1\" class=\"dataframe\">\n",
       "  <thead>\n",
       "    <tr style=\"text-align: right;\">\n",
       "      <th></th>\n",
       "      <th>save_size, MB</th>\n",
       "      <th>save_time, s</th>\n",
       "      <th>load_time, s</th>\n",
       "      <th>floats_number</th>\n",
       "      <th>name</th>\n",
       "    </tr>\n",
       "  </thead>\n",
       "  <tbody>\n",
       "    <tr>\n",
       "      <th>0</th>\n",
       "      <td>3.3</td>\n",
       "      <td>1.850</td>\n",
       "      <td>1.090</td>\n",
       "      <td>78643200</td>\n",
       "      <td>npz one</td>\n",
       "    </tr>\n",
       "    <tr>\n",
       "      <th>1</th>\n",
       "      <td>3.4</td>\n",
       "      <td>1.890</td>\n",
       "      <td>0.787</td>\n",
       "      <td>78643200</td>\n",
       "      <td>npz many</td>\n",
       "    </tr>\n",
       "    <tr>\n",
       "      <th>2</th>\n",
       "      <td>301.0</td>\n",
       "      <td>3.670</td>\n",
       "      <td>0.085</td>\n",
       "      <td>78643200</td>\n",
       "      <td>npy many</td>\n",
       "    </tr>\n",
       "    <tr>\n",
       "      <th>3</th>\n",
       "      <td>301.0</td>\n",
       "      <td>4.340</td>\n",
       "      <td>0.201</td>\n",
       "      <td>78643200</td>\n",
       "      <td>hd5 uncomp</td>\n",
       "    </tr>\n",
       "    <tr>\n",
       "      <th>4</th>\n",
       "      <td>3.6</td>\n",
       "      <td>2.000</td>\n",
       "      <td>1.140</td>\n",
       "      <td>78643200</td>\n",
       "      <td>hd5 gzip</td>\n",
       "    </tr>\n",
       "    <tr>\n",
       "      <th>5</th>\n",
       "      <td>6.9</td>\n",
       "      <td>0.751</td>\n",
       "      <td>0.846</td>\n",
       "      <td>78643200</td>\n",
       "      <td>hd5 lzf</td>\n",
       "    </tr>\n",
       "    <tr>\n",
       "      <th>6</th>\n",
       "      <td>68.0</td>\n",
       "      <td>3.630</td>\n",
       "      <td>2.670</td>\n",
       "      <td>78643200</td>\n",
       "      <td>hd5 szip</td>\n",
       "    </tr>\n",
       "    <tr>\n",
       "      <th>7</th>\n",
       "      <td>6.5</td>\n",
       "      <td>0.474</td>\n",
       "      <td>0.382</td>\n",
       "      <td>78643200</td>\n",
       "      <td>hd5 Blosc</td>\n",
       "    </tr>\n",
       "    <tr>\n",
       "      <th>8</th>\n",
       "      <td>6.5</td>\n",
       "      <td>0.460</td>\n",
       "      <td>0.400</td>\n",
       "      <td>78643200</td>\n",
       "      <td>hd5 Blosc</td>\n",
       "    </tr>\n",
       "    <tr>\n",
       "      <th>0</th>\n",
       "      <td>301.0</td>\n",
       "      <td>0.300</td>\n",
       "      <td>0.150</td>\n",
       "      <td>78643200</td>\n",
       "      <td>pytab without comp</td>\n",
       "    </tr>\n",
       "    <tr>\n",
       "      <th>0</th>\n",
       "      <td>6.0</td>\n",
       "      <td>0.440</td>\n",
       "      <td>0.540</td>\n",
       "      <td>78643200</td>\n",
       "      <td>pytab with lzo</td>\n",
       "    </tr>\n",
       "    <tr>\n",
       "      <th>0</th>\n",
       "      <td>6.0</td>\n",
       "      <td>0.450</td>\n",
       "      <td>0.380</td>\n",
       "      <td>78643200</td>\n",
       "      <td>pytab with blosc</td>\n",
       "    </tr>\n",
       "  </tbody>\n",
       "</table>\n",
       "</div>"
      ],
      "text/plain": [
       "   save_size, MB  save_time, s  load_time, s  floats_number  \\\n",
       "0            3.3         1.850         1.090       78643200   \n",
       "1            3.4         1.890         0.787       78643200   \n",
       "2          301.0         3.670         0.085       78643200   \n",
       "3          301.0         4.340         0.201       78643200   \n",
       "4            3.6         2.000         1.140       78643200   \n",
       "5            6.9         0.751         0.846       78643200   \n",
       "6           68.0         3.630         2.670       78643200   \n",
       "7            6.5         0.474         0.382       78643200   \n",
       "8            6.5         0.460         0.400       78643200   \n",
       "0          301.0         0.300         0.150       78643200   \n",
       "0            6.0         0.440         0.540       78643200   \n",
       "0            6.0         0.450         0.380       78643200   \n",
       "\n",
       "                 name  \n",
       "0             npz one  \n",
       "1            npz many  \n",
       "2            npy many  \n",
       "3          hd5 uncomp  \n",
       "4            hd5 gzip  \n",
       "5             hd5 lzf  \n",
       "6            hd5 szip  \n",
       "7           hd5 Blosc  \n",
       "8           hd5 Blosc  \n",
       "0  pytab without comp  \n",
       "0      pytab with lzo  \n",
       "0    pytab with blosc  "
      ]
     },
     "execution_count": 54,
     "metadata": {},
     "output_type": "execute_result"
    }
   ],
   "source": [
    "log = pd.DataFrame(index=[0])\n",
    "log.insert(0, 'name', 'pytab with blosc')\n",
    "log.insert(0, 'floats_number', val_data.size)\n",
    "log.insert(0, 'save_time, s', 0.45)\n",
    "log.insert(0, 'load_time, s', 0.38)\n",
    "log.insert(0, 'save_size, MB', 6)\n",
    "pivot_table = pd.concat([pivot_table, log])\n",
    "pivot_table"
   ]
  },
  {
   "cell_type": "code",
   "execution_count": null,
   "metadata": {},
   "outputs": [],
   "source": []
  },
  {
   "cell_type": "markdown",
   "metadata": {},
   "source": [
    "### Uint8 comparings"
   ]
  },
  {
   "cell_type": "code",
   "execution_count": 81,
   "metadata": {},
   "outputs": [],
   "source": [
    "from PIL import Image"
   ]
  },
  {
   "cell_type": "code",
   "execution_count": 83,
   "metadata": {
    "scrolled": true
   },
   "outputs": [
    {
     "data": {
      "text/plain": [
       "(64, 300, 64, 64)"
      ]
     },
     "execution_count": 83,
     "metadata": {},
     "output_type": "execute_result"
    }
   ],
   "source": [
    "val_data.shape"
   ]
  },
  {
   "cell_type": "markdown",
   "metadata": {},
   "source": [
    "## gif"
   ]
  },
  {
   "cell_type": "code",
   "execution_count": 92,
   "metadata": {},
   "outputs": [],
   "source": [
    "for file in glob.glob(jn(save_folder, \"*\")): os.remove(file)"
   ]
  },
  {
   "cell_type": "code",
   "execution_count": 94,
   "metadata": {},
   "outputs": [],
   "source": [
    "chains = val_data[0]\n",
    "# norming\n",
    "chains = ((chains - chains.min()) * 255 /\n",
    "          (chains.max() - chains.min())).astype(np.uint8)\n",
    "images = []\n",
    "for i in range(len(chains)):\n",
    "    images.append(Image.fromarray(chains[i]))\n",
    "images[0].save(jn(save_folder, 'test.gif'),\n",
    "               save_all=True,\n",
    "               loop=0,\n",
    "               duration=30,\n",
    "               append_images=images[1:])"
   ]
  },
  {
   "cell_type": "code",
   "execution_count": 95,
   "metadata": {},
   "outputs": [
    {
     "name": "stdout",
     "output_type": "stream",
     "text": [
      "12K\ttest_folder\r\n"
     ]
    }
   ],
   "source": [
    "!du -sh test_folder"
   ]
  },
  {
   "cell_type": "markdown",
   "metadata": {},
   "source": [
    "## numpy"
   ]
  },
  {
   "cell_type": "code",
   "execution_count": 100,
   "metadata": {},
   "outputs": [],
   "source": [
    "for file in glob.glob(jn(save_folder, \"*\")): os.remove(file)"
   ]
  },
  {
   "cell_type": "code",
   "execution_count": 101,
   "metadata": {},
   "outputs": [],
   "source": [
    "chains = val_data[0]\n",
    "# norming\n",
    "chains = ((chains - chains.min()) * 255 /\n",
    "          (chains.max() - chains.min())).astype(np.uint8)\n",
    "images = []\n",
    "for i in range(len(chains)):\n",
    "    images.append(Image.fromarray(chains[i]))\n",
    "np.savez_compressed(jn(save_folder, 'test.npy'), chains)\n"
   ]
  },
  {
   "cell_type": "code",
   "execution_count": 102,
   "metadata": {},
   "outputs": [
    {
     "name": "stdout",
     "output_type": "stream",
     "text": [
      "8.0K\ttest_folder\r\n"
     ]
    }
   ],
   "source": [
    "!du -sh test_folder"
   ]
  },
  {
   "cell_type": "code",
   "execution_count": null,
   "metadata": {},
   "outputs": [],
   "source": []
  },
  {
   "cell_type": "code",
   "execution_count": null,
   "metadata": {},
   "outputs": [],
   "source": []
  },
  {
   "cell_type": "code",
   "execution_count": null,
   "metadata": {},
   "outputs": [],
   "source": []
  },
  {
   "cell_type": "code",
   "execution_count": null,
   "metadata": {},
   "outputs": [],
   "source": []
  },
  {
   "cell_type": "code",
   "execution_count": 55,
   "metadata": {},
   "outputs": [],
   "source": [
    "pivot_table.to_csv('data/dataset_test_table.csv', index=False)"
   ]
  },
  {
   "cell_type": "code",
   "execution_count": 56,
   "metadata": {},
   "outputs": [
    {
     "data": {
      "text/html": [
       "<div>\n",
       "<style scoped>\n",
       "    .dataframe tbody tr th:only-of-type {\n",
       "        vertical-align: middle;\n",
       "    }\n",
       "\n",
       "    .dataframe tbody tr th {\n",
       "        vertical-align: top;\n",
       "    }\n",
       "\n",
       "    .dataframe thead th {\n",
       "        text-align: right;\n",
       "    }\n",
       "</style>\n",
       "<table border=\"1\" class=\"dataframe\">\n",
       "  <thead>\n",
       "    <tr style=\"text-align: right;\">\n",
       "      <th></th>\n",
       "      <th>save_size, MB</th>\n",
       "      <th>save_time, s</th>\n",
       "      <th>load_time, s</th>\n",
       "      <th>floats_number</th>\n",
       "      <th>name</th>\n",
       "    </tr>\n",
       "  </thead>\n",
       "  <tbody>\n",
       "    <tr>\n",
       "      <th>0</th>\n",
       "      <td>3.3</td>\n",
       "      <td>1.850</td>\n",
       "      <td>1.090</td>\n",
       "      <td>78643200</td>\n",
       "      <td>npz one</td>\n",
       "    </tr>\n",
       "    <tr>\n",
       "      <th>1</th>\n",
       "      <td>3.4</td>\n",
       "      <td>1.890</td>\n",
       "      <td>0.787</td>\n",
       "      <td>78643200</td>\n",
       "      <td>npz many</td>\n",
       "    </tr>\n",
       "    <tr>\n",
       "      <th>2</th>\n",
       "      <td>301.0</td>\n",
       "      <td>3.670</td>\n",
       "      <td>0.085</td>\n",
       "      <td>78643200</td>\n",
       "      <td>npy many</td>\n",
       "    </tr>\n",
       "    <tr>\n",
       "      <th>3</th>\n",
       "      <td>301.0</td>\n",
       "      <td>4.340</td>\n",
       "      <td>0.201</td>\n",
       "      <td>78643200</td>\n",
       "      <td>hd5 uncomp</td>\n",
       "    </tr>\n",
       "    <tr>\n",
       "      <th>4</th>\n",
       "      <td>3.6</td>\n",
       "      <td>2.000</td>\n",
       "      <td>1.140</td>\n",
       "      <td>78643200</td>\n",
       "      <td>hd5 gzip</td>\n",
       "    </tr>\n",
       "    <tr>\n",
       "      <th>5</th>\n",
       "      <td>6.9</td>\n",
       "      <td>0.751</td>\n",
       "      <td>0.846</td>\n",
       "      <td>78643200</td>\n",
       "      <td>hd5 lzf</td>\n",
       "    </tr>\n",
       "    <tr>\n",
       "      <th>6</th>\n",
       "      <td>68.0</td>\n",
       "      <td>3.630</td>\n",
       "      <td>2.670</td>\n",
       "      <td>78643200</td>\n",
       "      <td>hd5 szip</td>\n",
       "    </tr>\n",
       "    <tr>\n",
       "      <th>7</th>\n",
       "      <td>6.5</td>\n",
       "      <td>0.474</td>\n",
       "      <td>0.382</td>\n",
       "      <td>78643200</td>\n",
       "      <td>hd5 Blosc</td>\n",
       "    </tr>\n",
       "    <tr>\n",
       "      <th>8</th>\n",
       "      <td>6.5</td>\n",
       "      <td>0.460</td>\n",
       "      <td>0.400</td>\n",
       "      <td>78643200</td>\n",
       "      <td>hd5 Blosc</td>\n",
       "    </tr>\n",
       "    <tr>\n",
       "      <th>9</th>\n",
       "      <td>301.0</td>\n",
       "      <td>0.300</td>\n",
       "      <td>0.150</td>\n",
       "      <td>78643200</td>\n",
       "      <td>pytab without comp</td>\n",
       "    </tr>\n",
       "    <tr>\n",
       "      <th>10</th>\n",
       "      <td>6.0</td>\n",
       "      <td>0.440</td>\n",
       "      <td>0.540</td>\n",
       "      <td>78643200</td>\n",
       "      <td>pytab with lzo</td>\n",
       "    </tr>\n",
       "    <tr>\n",
       "      <th>11</th>\n",
       "      <td>6.0</td>\n",
       "      <td>0.450</td>\n",
       "      <td>0.380</td>\n",
       "      <td>78643200</td>\n",
       "      <td>pytab with blosc</td>\n",
       "    </tr>\n",
       "  </tbody>\n",
       "</table>\n",
       "</div>"
      ],
      "text/plain": [
       "    save_size, MB  save_time, s  load_time, s  floats_number  \\\n",
       "0             3.3         1.850         1.090       78643200   \n",
       "1             3.4         1.890         0.787       78643200   \n",
       "2           301.0         3.670         0.085       78643200   \n",
       "3           301.0         4.340         0.201       78643200   \n",
       "4             3.6         2.000         1.140       78643200   \n",
       "5             6.9         0.751         0.846       78643200   \n",
       "6            68.0         3.630         2.670       78643200   \n",
       "7             6.5         0.474         0.382       78643200   \n",
       "8             6.5         0.460         0.400       78643200   \n",
       "9           301.0         0.300         0.150       78643200   \n",
       "10            6.0         0.440         0.540       78643200   \n",
       "11            6.0         0.450         0.380       78643200   \n",
       "\n",
       "                  name  \n",
       "0              npz one  \n",
       "1             npz many  \n",
       "2             npy many  \n",
       "3           hd5 uncomp  \n",
       "4             hd5 gzip  \n",
       "5              hd5 lzf  \n",
       "6             hd5 szip  \n",
       "7            hd5 Blosc  \n",
       "8            hd5 Blosc  \n",
       "9   pytab without comp  \n",
       "10      pytab with lzo  \n",
       "11    pytab with blosc  "
      ]
     },
     "execution_count": 56,
     "metadata": {},
     "output_type": "execute_result"
    }
   ],
   "source": [
    "pivot_table = pd.read_csv('data/dataset_test_table.csv')\n",
    "pivot_table"
   ]
  },
  {
   "cell_type": "code",
   "execution_count": 83,
   "metadata": {},
   "outputs": [],
   "source": [
    "pivot_table = pivot_table[:-1]"
   ]
  },
  {
   "cell_type": "code",
   "execution_count": null,
   "metadata": {},
   "outputs": [],
   "source": []
  }
 ],
 "metadata": {
  "kernelspec": {
   "display_name": "Python 3.10.4 ('sens_pip')",
   "language": "python",
   "name": "python3"
  },
  "language_info": {
   "codemirror_mode": {
    "name": "ipython",
    "version": 3
   },
   "file_extension": ".py",
   "mimetype": "text/x-python",
   "name": "python",
   "nbconvert_exporter": "python",
   "pygments_lexer": "ipython3",
   "version": "3.10.4"
  },
  "vscode": {
   "interpreter": {
    "hash": "ae424894b80e9463c1aae6f9281394155b7f546f61432797e3fc48fe93c4b561"
   }
  }
 },
 "nbformat": 4,
 "nbformat_minor": 2
}
