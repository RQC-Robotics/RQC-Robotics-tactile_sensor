{
 "cells": [
  {
   "cell_type": "code",
   "execution_count": 3,
   "metadata": {},
   "outputs": [
    {
     "name": "stdout",
     "output_type": "stream",
     "text": [
      "/home/jovyan/RQC-Robotics-tactile_sensor\n"
     ]
    }
   ],
   "source": [
    "%cd .."
   ]
  },
  {
   "cell_type": "code",
   "execution_count": 33,
   "metadata": {},
   "outputs": [
    {
     "name": "stdout",
     "output_type": "stream",
     "text": [
      "The autoreload extension is already loaded. To reload it, use:\n",
      "  %reload_ext autoreload\n"
     ]
    }
   ],
   "source": [
    "%load_ext autoreload\n",
    "%autoreload 2\n",
    "import sensor_lib as sl"
   ]
  },
  {
   "cell_type": "code",
   "execution_count": 34,
   "metadata": {
    "cellId": "p5k153ekggp9r7wh6i7ej6",
    "id": "EPNxeZi7MnUO"
   },
   "outputs": [],
   "source": [
    "import tensorflow as tf\n",
    "import numpy as np\n",
    "import matplotlib.pyplot as plt"
   ]
  },
  {
   "cell_type": "code",
   "execution_count": 23,
   "metadata": {
    "cellId": "8jcop88f9c2hat1x0qv5ae",
    "id": "dQZK-hLfRPXm"
   },
   "outputs": [],
   "source": [
    "n_gauses = 30  # sum of this number of gauses constitute presure profile.\n",
    "n_pic = 100000  # number of generated sempels\n",
    "n_fibers = 4  # number of laers in sensor (every laers have 64 parralel fibers. In different laers fibers located in different directions)\n",
    "n_rot = 1  # number of random rotation (data augmentation)\n",
    "lerning_rate = 1e-4\n",
    "n_epochs = 20\n",
    "\n",
    "dir_of_data = '/content/drive/MyDrive/Colab_projects/sensor/'  # part to folder with data and results"
   ]
  },
  {
   "cell_type": "markdown",
   "metadata": {
    "cellId": "0qsaltjhgqjacye7rpbjuj6",
    "id": "nlRUT4zvYX8n"
   },
   "source": [
    "# generation pressure_map"
   ]
  },
  {
   "cell_type": "code",
   "execution_count": null,
   "metadata": {
    "cellId": "pi6xqdsv3dm15ematg1u1t",
    "id": "zmVvcGUnWg67"
   },
   "outputs": [],
   "source": [
    "sl.generate_pressure_map(n_pic,\n",
    "                         n_fibers,\n",
    "                         x=97,\n",
    "                         y=97,\n",
    "                         part=dir_of_data + 'generated_gauses/fresh_gauss' +\n",
    "                         str(n_gauses) + '_' + str(n_pic) + '.npy')"
   ]
  },
  {
   "cell_type": "code",
   "execution_count": null,
   "metadata": {
    "cellId": "hayqcz1zdcw375ymbsowae",
    "id": "wIVTyNPT7-s4"
   },
   "outputs": [],
   "source": [
    "from google.colab import drive\n",
    "\n",
    "drive.mount('/content/drive')"
   ]
  },
  {
   "cell_type": "markdown",
   "metadata": {
    "cellId": "1ntrxij2ivueoga583gl08",
    "id": "1S5uLr7FZMqo"
   },
   "source": [
    "# counting losses in fibers (input of nerual network)"
   ]
  },
  {
   "cell_type": "code",
   "execution_count": null,
   "metadata": {
    "cellId": "8mvmakpxab3dl4n7rh3shc",
    "id": "21I9FVD7WiIb"
   },
   "outputs": [],
   "source": [
    "input, output, input_test, output_test = sl.sim_on_gpu(\n",
    "    dir_of_data + 'fresh_gauss' + str(n_gauses) + '_' + str(n_pic) + '.npy',\n",
    "    n_random_rot=n_rot,\n",
    "    n_angles=n_fibers,\n",
    "    batch_size_preproc=128 * 8)\n",
    "input_shape = input.shape\n",
    "output_shape = output.shape\n",
    "dataset_b, dataset = sl.prepare_dataset_for_train(input,\n",
    "                                                  output,\n",
    "                                                  batch_size_fit_model=1024 * 2)\n",
    "dataset_test_b, dataset_test = sl.prepare_dataset_for_train(\n",
    "    input_test, output_test, batch_size_fit_model=1024 * 2)"
   ]
  },
  {
   "cell_type": "markdown",
   "metadata": {
    "cellId": "nkd72ry4zcavf15haxeacf",
    "id": "2HBUJ_mMZzqT"
   },
   "source": [
    "# defining nerual network for decoding and fitting it"
   ]
  },
  {
   "cell_type": "code",
   "execution_count": null,
   "metadata": {
    "cellId": "cweyh603iwrectff9dywgi",
    "id": "BDLRQfkvWuX7"
   },
   "outputs": [],
   "source": [
    "model = sl.SensorNN4S(input_shape[1:3], output_shape[1:3])\n",
    "model.build(input_shape)\n",
    "model.summary()\n",
    "model.compile(optimizer=tf.keras.optimizers.Adam(lerning_rate),\n",
    "              loss=tf.keras.losses.MeanSquaredError(),\n",
    "              metrics=['accuracy'])\n",
    "model_name = 'deep_model'"
   ]
  },
  {
   "cell_type": "code",
   "execution_count": null,
   "metadata": {
    "cellId": "lfkb5a64nuo5099uzvu1sc",
    "id": "kmGd-a3SW0j6"
   },
   "outputs": [],
   "source": [
    "model.fit(dataset_b, epochs=n_epochs, verbose=1)"
   ]
  },
  {
   "cell_type": "code",
   "execution_count": null,
   "metadata": {
    "cellId": "xyvoz6f4edtsir4vw4mbo",
    "id": "yn0PxjqHW5Mj"
   },
   "outputs": [],
   "source": [
    "model.save(dir_of_data + 'models_weights/model4S_' + str(n_fibers) + 'fi.nn')"
   ]
  },
  {
   "cell_type": "markdown",
   "metadata": {
    "cellId": "5m68q6aecufkzhregwm9",
    "id": "59CcWzTRao6i"
   },
   "source": [
    "# evoluate model on don't seen data"
   ]
  },
  {
   "cell_type": "code",
   "execution_count": null,
   "metadata": {
    "cellId": "hp908y5rqlnqmj0rwdk7og",
    "id": "3EJRgZf_ahn8"
   },
   "outputs": [],
   "source": [
    "model = tf.keras.models.load_model(dir_of_data + 'models_weights/model4S_' +\n",
    "                                   str(n_fibers) + 'fi.nn')"
   ]
  },
  {
   "cell_type": "code",
   "execution_count": null,
   "metadata": {
    "cellId": "sryew8rev5sk0fxhof1fad",
    "id": "5f1CsIn2W-mx"
   },
   "outputs": [],
   "source": [
    "model.evaluate(dataset_test_b)"
   ]
  },
  {
   "cell_type": "code",
   "execution_count": null,
   "metadata": {
    "cellId": "0mjlepsq9t4ky98kcqoh8zd",
    "id": "u7JN832XXD8w"
   },
   "outputs": [],
   "source": [
    "predictions = model.predict(dataset_test_b)\n",
    "predictions.shape"
   ]
  },
  {
   "cell_type": "markdown",
   "metadata": {
    "cellId": "rbse2nlcd3h9f0nucbc1tf",
    "id": "Dosd971-bpeh"
   },
   "source": [
    "# saving resalts"
   ]
  },
  {
   "cell_type": "code",
   "execution_count": null,
   "metadata": {
    "cellId": "yggb3i363hppnsz5id8yi",
    "id": "exK4-QIhXG7C"
   },
   "outputs": [],
   "source": [
    "with open(\n",
    "        dir_of_data + 'results/' + model_name + '_' + str(n_gauses) + 'g_' +\n",
    "        str(n_fibers) + 'fi', 'wb') as f:\n",
    "    np.save(f, predictions)\n",
    "    np.save(f, output_test)"
   ]
  },
  {
   "cell_type": "markdown",
   "metadata": {
    "cellId": "fc135ka0qptz32k3d3n7xf",
    "id": "SoeWHe4obu1u"
   },
   "source": [
    "# look on resalts"
   ]
  },
  {
   "cell_type": "code",
   "execution_count": null,
   "metadata": {
    "cellId": "zmrk4xfth886cjwbb72pza",
    "id": "R90KNoG0b4oi"
   },
   "outputs": [],
   "source": [
    "with open(\n",
    "        dir_of_data + 'results/' + model_name + '_' + str(n_gauses) + 'g_' +\n",
    "        str(n_fibers) + 'fi', 'rb') as f:\n",
    "    predictions = np.load(f)\n",
    "    output_test = np.load(f)"
   ]
  },
  {
   "cell_type": "code",
   "execution_count": null,
   "metadata": {
    "cellId": "dtz68v8jwn6pwttc1nbag",
    "id": "T22TeQF6XJ9i"
   },
   "outputs": [],
   "source": [
    "print('len= ', len(predictions))\n",
    "N = 4  # number of exampel\n",
    "plt.imshow(predictions[N])\n",
    "plt.show()\n",
    "plt.imshow(output_test[N])\n",
    "plt.show()"
   ]
  }
 ],
 "metadata": {
  "colab": {
   "include_colab_link": true,
   "name": "Untitled11.ipynb",
   "private_outputs": true,
   "provenance": []
  },
  "kernelspec": {
   "display_name": "Python 3 (ipykernel)",
   "language": "python",
   "name": "python3"
  },
  "language_info": {
   "codemirror_mode": {
    "name": "ipython",
    "version": 3
   },
   "file_extension": ".py",
   "mimetype": "text/x-python",
   "name": "python",
   "nbconvert_exporter": "python",
   "pygments_lexer": "ipython3",
   "version": "3.9.12"
  },
  "notebookId": "481d3098-b4e4-4dca-8695-2093b7f3dc4c",
  "notebookPath": "RQC-Robotics-tactile_sensor/exampels/main.ipynb"
 },
 "nbformat": 4,
 "nbformat_minor": 4
}
