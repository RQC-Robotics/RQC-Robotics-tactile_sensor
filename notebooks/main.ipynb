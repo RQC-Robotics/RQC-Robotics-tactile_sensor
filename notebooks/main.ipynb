{
 "cells": [
  {
   "cell_type": "code",
   "execution_count": 1,
   "metadata": {},
   "outputs": [
    {
     "name": "stdout",
     "output_type": "stream",
     "text": [
      "/home/jovyan/RQC-Robotics-tactile_sensor\n"
     ]
    }
   ],
   "source": [
    "%cd ..\n",
    "%load_ext autoreload\n",
    "%autoreload 2\n",
    "import sensor_lib as sl"
   ]
  },
  {
   "cell_type": "code",
   "execution_count": 2,
   "metadata": {},
   "outputs": [],
   "source": [
    "%load_ext tensorboard"
   ]
  },
  {
   "cell_type": "code",
   "execution_count": 3,
   "metadata": {
    "cellId": "p5k153ekggp9r7wh6i7ej6",
    "id": "EPNxeZi7MnUO"
   },
   "outputs": [],
   "source": [
    "import tensorflow as tf\n",
    "import numpy as np\n",
    "import matplotlib.pyplot as plt\n",
    "from os.path import join as jn\n",
    "import yaml"
   ]
  },
  {
   "cell_type": "code",
   "execution_count": 4,
   "metadata": {},
   "outputs": [],
   "source": [
    "with open('params.yaml') as conf_file:\n",
    "    config = yaml.safe_load(conf_file)\n",
    "geo = config['env']['sen_geometry']\n",
    "phys = config['env']['phys']"
   ]
  },
  {
   "cell_type": "code",
   "execution_count": 5,
   "metadata": {},
   "outputs": [],
   "source": [
    "np.random.seed(config['random_seed'])\n",
    "seeds = np.random.randint(0, 2**32, size=3)"
   ]
  },
  {
   "cell_type": "markdown",
   "metadata": {
    "cellId": "0qsaltjhgqjacye7rpbjuj6",
    "id": "nlRUT4zvYX8n"
   },
   "source": [
    "# generation pressure_map"
   ]
  },
  {
   "cell_type": "code",
   "execution_count": 6,
   "metadata": {},
   "outputs": [
    {
     "name": "stderr",
     "output_type": "stream",
     "text": [
      "2022-05-28 13:05:37.200614: I tensorflow/core/platform/cpu_feature_guard.cc:193] This TensorFlow binary is optimized with oneAPI Deep Neural Network Library (oneDNN) to use the following CPU instructions in performance-critical operations:  AVX2 FMA\n",
      "To enable them in other operations, rebuild TensorFlow with the appropriate compiler flags.\n",
      "2022-05-28 13:05:38.064952: I tensorflow/core/common_runtime/gpu/gpu_device.cc:1532] Created device /job:localhost/replica:0/task:0/device:GPU:0 with 30982 MB memory:  -> device: 0, name: Tesla V100-PCIE-32GB, pci bus id: 0000:8b:00.0, compute capability: 7.0\n"
     ]
    }
   ],
   "source": [
    "x = geo['x_len']\n",
    "y = geo['y_len']\n",
    "n_pic = config['dataset']['n_sampels']\n",
    "n_gaus = config['env']['presure_profile']['n_gauses']\n",
    "size_kof = config['env']['presure_profile']['size_kof']\n",
    "vec_mat = tf.constant(sl.get_vec_mat(x, y), dtype=tf.float32)\n",
    "vec_mat = tf.reshape(vec_mat, [-1, 2])\n",
    "gaus_data = sl.gen_rand_cof(n_gaus * n_pic, x, y, size_kof,\n",
    "                            seed=seeds[0])  # use random inside\n",
    "gaus_data = tf.reshape(gaus_data, [n_pic, n_gaus, 5])\n",
    "with open(config['env']['presure_profile']['g_param_path'], 'wb+') as f:\n",
    "    np.save(f, gaus_data)"
   ]
  },
  {
   "cell_type": "code",
   "execution_count": 11,
   "metadata": {},
   "outputs": [],
   "source": [
    "dataset = tf.data.Dataset.from_tensor_slices(gaus_data)\n",
    "batches = dataset.batch(100, drop_remainder=False)"
   ]
  },
  {
   "cell_type": "code",
   "execution_count": 12,
   "metadata": {
    "tags": []
   },
   "outputs": [
    {
     "name": "stderr",
     "output_type": "stream",
     "text": [
      "2022-05-28 13:08:16.325680: I tensorflow/core/profiler/lib/profiler_session.cc:99] Profiler session initializing.\n",
      "2022-05-28 13:08:16.325726: I tensorflow/core/profiler/lib/profiler_session.cc:114] Profiler session started.\n",
      "2022-05-28 13:08:16.325837: I tensorflow/core/profiler/internal/gpu/cupti_tracer.cc:1665] Profiler found 1 GPUs\n"
     ]
    },
    {
     "name": "stdout",
     "output_type": "stream",
     "text": [
      "WARNING:tensorflow:5 out of the last 5 calls to <function pfor.<locals>.f at 0x7fb4646b2790> triggered tf.function retracing. Tracing is expensive and the excessive number of tracings could be due to (1) creating @tf.function repeatedly in a loop, (2) passing tensors with different shapes, (3) passing Python objects instead of tensors. For (1), please define your @tf.function outside of the loop. For (2), @tf.function has reduce_retracing=True option that can avoid unnecessary retracing. For (3), please refer to https://www.tensorflow.org/guide/function#controlling_retracing and https://www.tensorflow.org/api_docs/python/tf/function for  more details.\n",
      "WARNING:tensorflow:6 out of the last 6 calls to <function pfor.<locals>.f at 0x7fb4646b2790> triggered tf.function retracing. Tracing is expensive and the excessive number of tracings could be due to (1) creating @tf.function repeatedly in a loop, (2) passing tensors with different shapes, (3) passing Python objects instead of tensors. For (1), please define your @tf.function outside of the loop. For (2), @tf.function has reduce_retracing=True option that can avoid unnecessary retracing. For (3), please refer to https://www.tensorflow.org/guide/function#controlling_retracing and https://www.tensorflow.org/api_docs/python/tf/function for  more details.\n"
     ]
    },
    {
     "name": "stderr",
     "output_type": "stream",
     "text": [
      "2022-05-28 13:08:20.630658: I tensorflow/core/profiler/lib/profiler_session.cc:66] Profiler session collecting data.\n",
      "2022-05-28 13:08:20.632487: I tensorflow/core/profiler/internal/gpu/cupti_tracer.cc:1799] CUPTI activity buffer flushed\n",
      "2022-05-28 13:08:20.665712: I tensorflow/core/profiler/internal/gpu/cupti_collector.cc:521]  GpuTracer has collected 182 callback api events and 182 activity events. \n",
      "2022-05-28 13:08:20.675002: I tensorflow/core/profiler/lib/profiler_session.cc:126] Profiler session tear down.\n",
      "2022-05-28 13:08:20.696349: I tensorflow/core/profiler/rpc/client/save_profile.cc:136] Creating directory: logs/plugins/profile/2022_05_28_13_08_20\n",
      "\n",
      "2022-05-28 13:08:20.712883: I tensorflow/core/profiler/rpc/client/save_profile.cc:142] Dumped gzipped tool data for trace.json.gz to logs/plugins/profile/2022_05_28_13_08_20/309a475ad849.trace.json.gz\n",
      "2022-05-28 13:08:20.725842: I tensorflow/core/profiler/rpc/client/save_profile.cc:136] Creating directory: logs/plugins/profile/2022_05_28_13_08_20\n",
      "\n",
      "2022-05-28 13:08:20.727262: I tensorflow/core/profiler/rpc/client/save_profile.cc:142] Dumped gzipped tool data for memory_profile.json.gz to logs/plugins/profile/2022_05_28_13_08_20/309a475ad849.memory_profile.json.gz\n",
      "2022-05-28 13:08:20.727915: I tensorflow/core/profiler/rpc/client/capture_profile.cc:251] Creating directory: logs/plugins/profile/2022_05_28_13_08_20\n",
      "Dumped tool data for xplane.pb to logs/plugins/profile/2022_05_28_13_08_20/309a475ad849.xplane.pb\n",
      "Dumped tool data for overview_page.pb to logs/plugins/profile/2022_05_28_13_08_20/309a475ad849.overview_page.pb\n",
      "Dumped tool data for input_pipeline.pb to logs/plugins/profile/2022_05_28_13_08_20/309a475ad849.input_pipeline.pb\n",
      "Dumped tool data for tensorflow_stats.pb to logs/plugins/profile/2022_05_28_13_08_20/309a475ad849.tensorflow_stats.pb\n",
      "Dumped tool data for kernel_stats.pb to logs/plugins/profile/2022_05_28_13_08_20/309a475ad849.kernel_stats.pb\n",
      "\n"
     ]
    }
   ],
   "source": [
    "tf.profiler.experimental.start('logs')\n",
    "pictures=[]\n",
    "for batch in batches:\n",
    "    picture = sl.generate_pictures(batch, vec_mat)\n",
    "    pictures.append(picture)\n",
    "tf.profiler.experimental.stop()\n",
    "pictures = tf.concat(pictures, axis=0)\n",
    "pictures = tf.reshape(pictures, [n_pic, x, y])"
   ]
  },
  {
   "cell_type": "code",
   "execution_count": 11,
   "metadata": {},
   "outputs": [
    {
     "name": "stderr",
     "output_type": "stream",
     "text": [
      "2022-05-28 12:41:12.550064: I tensorflow/core/profiler/lib/profiler_session.cc:99] Profiler session initializing.\n",
      "2022-05-28 12:41:12.550131: I tensorflow/core/profiler/lib/profiler_session.cc:114] Profiler session started.\n",
      "2022-05-28 12:41:12.762867: I tensorflow/core/profiler/lib/profiler_session.cc:66] Profiler session collecting data.\n",
      "2022-05-28 12:41:12.766110: I tensorflow/core/profiler/internal/gpu/cupti_tracer.cc:1799] CUPTI activity buffer flushed\n",
      "2022-05-28 12:41:12.799107: I tensorflow/core/profiler/internal/gpu/cupti_collector.cc:521]  GpuTracer has collected 30 callback api events and 29 activity events. \n",
      "2022-05-28 12:41:12.800786: I tensorflow/core/profiler/lib/profiler_session.cc:126] Profiler session tear down.\n"
     ]
    }
   ],
   "source": [
    "# writer = tf.summary.create_file_writer('logs')\n",
    "# tf.summary.trace_on(graph=True, profiler=True)\n",
    "# pic = sl.generate_multi_gaussian_flat(gaus_data[0], vec_mat)\n",
    "# with writer.as_default():\n",
    "#     tf.summary.trace_export(\n",
    "#       name=\"multi_gaussian_trace\",\n",
    "#       step=0,\n",
    "#       profiler_outdir='logs')"
   ]
  },
  {
   "cell_type": "code",
   "execution_count": 21,
   "metadata": {},
   "outputs": [
    {
     "data": {
      "text/plain": [
       "TensorShape([2000, 64, 64])"
      ]
     },
     "execution_count": 21,
     "metadata": {},
     "output_type": "execute_result"
    }
   ],
   "source": [
    "pictures.shape"
   ]
  },
  {
   "cell_type": "markdown",
   "metadata": {},
   "source": [
    "limit by hat fun"
   ]
  },
  {
   "cell_type": "code",
   "execution_count": 13,
   "metadata": {},
   "outputs": [],
   "source": [
    "norm = sl.round_fun([x, y], [x / 2, y / 2], lambda l: sl.hat(l, x / 2))\n",
    "pictures = pictures * norm"
   ]
  },
  {
   "cell_type": "code",
   "execution_count": 14,
   "metadata": {
    "tags": []
   },
   "outputs": [
    {
     "data": {
      "image/png": "[encoded data removed]",
      "text/plain": [
       "<Figure size 432x288 with 1 Axes>"
      ]
     },
     "metadata": {
      "needs_background": "light"
     },
     "output_type": "display_data"
    },
    {
     "data": {
      "image/png": "[encoded data removed]",
      "text/plain": [
       "<Figure size 432x288 with 1 Axes>"
      ]
     },
     "metadata": {
      "needs_background": "light"
     },
     "output_type": "display_data"
    },
    {
     "data": {
      "image/png": "[encoded data removed]",
      "text/plain": [
       "<Figure size 432x288 with 1 Axes>"
      ]
     },
     "metadata": {
      "needs_background": "light"
     },
     "output_type": "display_data"
    },
    {
     "data": {
      "image/png": "[encoded data removed]",
      "text/plain": [
       "<Figure size 432x288 with 1 Axes>"
      ]
     },
     "metadata": {
      "needs_background": "light"
     },
     "output_type": "display_data"
    },
    {
     "data": {
      "image/png": "[encoded data removed]",
      "text/plain": [
       "<Figure size 432x288 with 1 Axes>"
      ]
     },
     "metadata": {
      "needs_background": "light"
     },
     "output_type": "display_data"
    },
    {
     "data": {
      "image/png": "[encoded data removed]",
      "text/plain": [
       "<Figure size 432x288 with 1 Axes>"
      ]
     },
     "metadata": {
      "needs_background": "light"
     },
     "output_type": "display_data"
    },
    {
     "data": {
      "image/png": "[encoded data removed]",
      "text/plain": [
       "<Figure size 432x288 with 1 Axes>"
      ]
     },
     "metadata": {
      "needs_background": "light"
     },
     "output_type": "display_data"
    },
    {
     "data": {
      "image/png": "[encoded data removed]",
      "text/plain": [
       "<Figure size 432x288 with 1 Axes>"
      ]
     },
     "metadata": {
      "needs_background": "light"
     },
     "output_type": "display_data"
    },
    {
     "data": {
      "image/png": "[encoded data removed]",
      "text/plain": [
       "<Figure size 432x288 with 1 Axes>"
      ]
     },
     "metadata": {
      "needs_background": "light"
     },
     "output_type": "display_data"
    },
    {
     "data": {
      "image/png": "[encoded data removed]",
      "text/plain": [
       "<Figure size 432x288 with 1 Axes>"
      ]
     },
     "metadata": {
      "needs_background": "light"
     },
     "output_type": "display_data"
    }
   ],
   "source": [
    "for i in range(10):\n",
    "    plt.imshow(pictures[i])\n",
    "    plt.show()"
   ]
  },
  {
   "cell_type": "code",
   "execution_count": 15,
   "metadata": {},
   "outputs": [],
   "source": [
    "with open(jn(config['dataset']['pic_path'], 'one_piece.npy'), 'wb+') as f:\n",
    "    np.save(f, pictures)"
   ]
  },
  {
   "cell_type": "markdown",
   "metadata": {
    "cellId": "1ntrxij2ivueoga583gl08",
    "id": "1S5uLr7FZMqo"
   },
   "source": [
    "# counting losses in fibers (input of nerual network)"
   ]
  },
  {
   "cell_type": "code",
   "execution_count": 16,
   "metadata": {},
   "outputs": [],
   "source": [
    "    size = None\n",
    "    max_possible_size = config['sim']['max_possible_size']\n",
    "    test_size = config['sim']['test_size']\n",
    "    batch_size = config['sim']['batch_size']\n",
    "    n_del = geo['n_spl']\n",
    "    mas = np.load(jn(config['dataset']['pic_path'],'one_piece.npy'), mmap_mode='r')\n",
    "    if size == None:\n",
    "        size = min(mas.shape[0], max_possible_size)\n",
    "    if test_size == 'None':\n",
    "        test_size = int(size / 10)\n",
    "    mas = mas[0:size]\n",
    "    mas = mas.astype('float32')"
   ]
  },
  {
   "cell_type": "code",
   "execution_count": 17,
   "metadata": {},
   "outputs": [
    {
     "name": "stderr",
     "output_type": "stream",
     "text": [
      "2022-05-28 13:09:47.158393: I tensorflow/stream_executor/cuda/cuda_dnn.cc:384] Loaded cuDNN version 8400\n"
     ]
    }
   ],
   "source": [
    "config['sim']['test_mod'] = False\n",
    "input, output, input_test, output_test = sl.sim_on_gpu(\n",
    "    mas, test_size, batch_size, config=config,\n",
    "    seed=seeds[1])  # use random inside"
   ]
  },
  {
   "cell_type": "markdown",
   "metadata": {
    "cellId": "nkd72ry4zcavf15haxeacf",
    "id": "2HBUJ_mMZzqT"
   },
   "source": [
    "# defining nerual network for decoding and fitting it"
   ]
  },
  {
   "cell_type": "code",
   "execution_count": 18,
   "metadata": {},
   "outputs": [
    {
     "name": "stdout",
     "output_type": "stream",
     "text": [
      "input shape:  (180, 64, 4) \n",
      "output shape:  (180, 64, 64)\n"
     ]
    }
   ],
   "source": [
    "print('input shape: ', input.shape, '\\noutput shape: ', output.shape)"
   ]
  },
  {
   "cell_type": "code",
   "execution_count": 19,
   "metadata": {
    "cellId": "cweyh603iwrectff9dywgi",
    "id": "BDLRQfkvWuX7",
    "tags": []
   },
   "outputs": [
    {
     "name": "stdout",
     "output_type": "stream",
     "text": [
      "Model: \"model\"\n",
      "__________________________________________________________________________________________________\n",
      " Layer (type)                   Output Shape         Param #     Connected to                     \n",
      "==================================================================================================\n",
      " input_1 (InputLayer)           [(None, 64, 4)]      0           []                               \n",
      "                                                                                                  \n",
      " reshape (Reshape)              (None, 64, 4, 1)     0           ['input_1[0][0]']                \n",
      "                                                                                                  \n",
      " Conv_1.1 (Conv2D)              (None, 64, 4, 8)     32          ['reshape[0][0]']                \n",
      "                                                                                                  \n",
      " MaxPool_1.1 (MaxPooling2D)     (None, 32, 4, 8)     0           ['Conv_1.1[0][0]']               \n",
      "                                                                                                  \n",
      " normalization (Normalization)  (None, 32, 4, 8)     3           ['MaxPool_1.1[0][0]']            \n",
      "                                                                                                  \n",
      " Conv_1.2 (Conv2D)              (None, 32, 4, 64)    1600        ['normalization[0][0]']          \n",
      "                                                                                                  \n",
      " MaxPool_1.2 (MaxPooling2D)     (None, 16, 4, 64)    0           ['Conv_1.2[0][0]']               \n",
      "                                                                                                  \n",
      " normalization_1 (Normalization  (None, 16, 4, 64)   3           ['MaxPool_1.2[0][0]']            \n",
      " )                                                                                                \n",
      "                                                                                                  \n",
      " MaxPool_1.0 (MaxPooling2D)     (None, 16, 4, 8)     0           ['Conv_1.1[0][0]']               \n",
      "                                                                                                  \n",
      " concatenate_1 (Concatenate)    (None, 16, 4, 72)    0           ['normalization_1[0][0]',        \n",
      "                                                                  'MaxPool_1.0[0][0]']            \n",
      "                                                                                                  \n",
      " Conv_2.1 (Conv2D)              (None, 16, 4, 128)   27776       ['concatenate_1[0][0]']          \n",
      "                                                                                                  \n",
      " MaxPool_2.1 (MaxPooling2D)     (None, 8, 4, 128)    0           ['Conv_2.1[0][0]']               \n",
      "                                                                                                  \n",
      " normalization_2 (Normalization  (None, 8, 4, 128)   3           ['MaxPool_2.1[0][0]']            \n",
      " )                                                                                                \n",
      "                                                                                                  \n",
      " Conv_2.2 (Conv2D)              (None, 8, 4, 128)    49280       ['normalization_2[0][0]']        \n",
      "                                                                                                  \n",
      " MaxPool_2.2 (MaxPooling2D)     (None, 4, 4, 128)    0           ['Conv_2.2[0][0]']               \n",
      "                                                                                                  \n",
      " MaxPool_2.0 (MaxPooling2D)     (None, 4, 4, 72)     0           ['concatenate_1[0][0]']          \n",
      "                                                                                                  \n",
      " concatenate_2 (Concatenate)    (None, 4, 4, 200)    0           ['MaxPool_2.2[0][0]',            \n",
      "                                                                  'MaxPool_2.0[0][0]']            \n",
      "                                                                                                  \n",
      " Conv_3 (Conv2D)                (None, 4, 1, 64)     51264       ['concatenate_2[0][0]']          \n",
      "                                                                                                  \n",
      " flatten (Flatten)              (None, 256)          0           ['Conv_3[0][0]']                 \n",
      "                                                                                                  \n",
      " Dense_4 (Dense)                (None, 195)          50115       ['flatten[0][0]']                \n",
      "                                                                                                  \n",
      " Dense_5 (Dense)                (None, 900)          176400      ['Dense_4[0][0]']                \n",
      "                                                                                                  \n",
      " Dense_6 (Dense)                (None, 4096)         3690496     ['Dense_5[0][0]']                \n",
      "                                                                                                  \n",
      " reshape_1 (Reshape)            (None, 64, 64)       0           ['Dense_6[0][0]']                \n",
      "                                                                                                  \n",
      "==================================================================================================\n",
      "Total params: 4,046,972\n",
      "Trainable params: 4,046,963\n",
      "Non-trainable params: 9\n",
      "__________________________________________________________________________________________________\n"
     ]
    }
   ],
   "source": [
    "tr = config['train']\n",
    "model = sl.SensorNN5S_norm_deep(input.shape, output.shape)\n",
    "model.build(input.shape)\n",
    "model.summary()\n",
    "model.compile(optimizer=tf.keras.optimizers.Adam(tr['lerning_rate']),\n",
    "              loss=tf.keras.losses.MeanSquaredError(),\n",
    "              metrics=['accuracy'])\n",
    "model_name = 'SensorNN5S_norm_deep'"
   ]
  },
  {
   "cell_type": "code",
   "execution_count": 20,
   "metadata": {
    "cellId": "lfkb5a64nuo5099uzvu1sc",
    "id": "kmGd-a3SW0j6",
    "tags": []
   },
   "outputs": [
    {
     "name": "stdout",
     "output_type": "stream",
     "text": [
      "Epoch 1/20\n",
      "6/6 [==============================] - 6s 20ms/step - loss: 0.1686 - accuracy: 0.0168\n",
      "Epoch 2/20\n",
      "6/6 [==============================] - 0s 7ms/step - loss: 0.1664 - accuracy: 0.0199\n",
      "Epoch 3/20\n",
      "6/6 [==============================] - 0s 7ms/step - loss: 0.1639 - accuracy: 0.0208\n",
      "Epoch 4/20\n",
      "6/6 [==============================] - 0s 7ms/step - loss: 0.1611 - accuracy: 0.0209\n",
      "Epoch 5/20\n",
      "6/6 [==============================] - 0s 7ms/step - loss: 0.1580 - accuracy: 0.0240\n",
      "Epoch 6/20\n",
      "6/6 [==============================] - 0s 7ms/step - loss: 0.1543 - accuracy: 0.0240\n",
      "Epoch 7/20\n",
      "6/6 [==============================] - 0s 7ms/step - loss: 0.1496 - accuracy: 0.0244\n",
      "Epoch 8/20\n",
      "6/6 [==============================] - 0s 7ms/step - loss: 0.1437 - accuracy: 0.0254\n",
      "Epoch 9/20\n",
      "6/6 [==============================] - 0s 7ms/step - loss: 0.1357 - accuracy: 0.0274\n",
      "Epoch 10/20\n",
      "6/6 [==============================] - 0s 7ms/step - loss: 0.1251 - accuracy: 0.0282\n",
      "Epoch 11/20\n",
      "6/6 [==============================] - 0s 7ms/step - loss: 0.1140 - accuracy: 0.0286\n",
      "Epoch 12/20\n",
      "6/6 [==============================] - 0s 7ms/step - loss: 0.1073 - accuracy: 0.0301\n",
      "Epoch 13/20\n",
      "6/6 [==============================] - 0s 7ms/step - loss: 0.1009 - accuracy: 0.0319\n",
      "Epoch 14/20\n",
      "6/6 [==============================] - 0s 7ms/step - loss: 0.0952 - accuracy: 0.0356\n",
      "Epoch 15/20\n",
      "6/6 [==============================] - 0s 7ms/step - loss: 0.0903 - accuracy: 0.0365\n",
      "Epoch 16/20\n",
      "6/6 [==============================] - 0s 7ms/step - loss: 0.0858 - accuracy: 0.0346\n",
      "Epoch 17/20\n",
      "6/6 [==============================] - 0s 7ms/step - loss: 0.0823 - accuracy: 0.0326\n",
      "Epoch 18/20\n",
      "6/6 [==============================] - 0s 7ms/step - loss: 0.0789 - accuracy: 0.0314\n",
      "Epoch 19/20\n",
      "6/6 [==============================] - 0s 6ms/step - loss: 0.0763 - accuracy: 0.0335\n",
      "Epoch 20/20\n",
      "6/6 [==============================] - 0s 6ms/step - loss: 0.0744 - accuracy: 0.0335\n"
     ]
    },
    {
     "data": {
      "text/plain": [
       "<keras.callbacks.History at 0x7fb37003ee20>"
      ]
     },
     "execution_count": 20,
     "metadata": {},
     "output_type": "execute_result"
    }
   ],
   "source": [
    "# model.fit(dataset_b, epochs=n_epochs, verbose=1)\n",
    "tf.keras.utils.set_random_seed(seed=int(seeds[2]))  # use random\n",
    "model.fit(input, output, epochs=tr['n_epochs'], verbose=1)"
   ]
  },
  {
   "cell_type": "code",
   "execution_count": 21,
   "metadata": {
    "cellId": "xyvoz6f4edtsir4vw4mbo",
    "id": "yn0PxjqHW5Mj"
   },
   "outputs": [
    {
     "name": "stderr",
     "output_type": "stream",
     "text": [
      "WARNING:absl:Found untraced functions such as _jit_compiled_convolution_op, _jit_compiled_convolution_op, _jit_compiled_convolution_op, _jit_compiled_convolution_op, _jit_compiled_convolution_op while saving (showing 5 of 5). These functions will not be directly callable after loading.\n"
     ]
    },
    {
     "name": "stdout",
     "output_type": "stream",
     "text": [
      "INFO:tensorflow:Assets written to: models/SensorNN5S_norm_deep.nn/assets\n"
     ]
    },
    {
     "name": "stderr",
     "output_type": "stream",
     "text": [
      "INFO:tensorflow:Assets written to: models/SensorNN5S_norm_deep.nn/assets\n"
     ]
    }
   ],
   "source": [
    "model.save(jn(tr['models_path'], model_name + '.nn'))"
   ]
  },
  {
   "cell_type": "markdown",
   "metadata": {
    "cellId": "5m68q6aecufkzhregwm9",
    "id": "59CcWzTRao6i"
   },
   "source": [
    "# evoluate model on don't seen data"
   ]
  },
  {
   "cell_type": "code",
   "execution_count": 22,
   "metadata": {
    "cellId": "hp908y5rqlnqmj0rwdk7og",
    "id": "3EJRgZf_ahn8"
   },
   "outputs": [],
   "source": [
    "model = tf.keras.models.load_model(jn(tr['models_path'], model_name + '.nn'))"
   ]
  },
  {
   "cell_type": "code",
   "execution_count": 23,
   "metadata": {
    "cellId": "sryew8rev5sk0fxhof1fad",
    "id": "5f1CsIn2W-mx"
   },
   "outputs": [
    {
     "name": "stdout",
     "output_type": "stream",
     "text": [
      "1/1 [==============================] - 0s 264ms/step - loss: 0.0907 - accuracy: 0.0383\n"
     ]
    },
    {
     "data": {
      "text/plain": [
       "[0.09069039672613144, 0.03828125074505806]"
      ]
     },
     "execution_count": 23,
     "metadata": {},
     "output_type": "execute_result"
    }
   ],
   "source": [
    "model.evaluate(input_test, output_test)"
   ]
  },
  {
   "cell_type": "code",
   "execution_count": 24,
   "metadata": {
    "cellId": "0mjlepsq9t4ky98kcqoh8zd",
    "id": "u7JN832XXD8w"
   },
   "outputs": [
    {
     "name": "stdout",
     "output_type": "stream",
     "text": [
      "1/1 [==============================] - 0s 192ms/step\n"
     ]
    },
    {
     "data": {
      "text/plain": [
       "(20, 64, 64)"
      ]
     },
     "execution_count": 24,
     "metadata": {},
     "output_type": "execute_result"
    }
   ],
   "source": [
    "predictions = model.predict(input_test)\n",
    "predictions.shape"
   ]
  },
  {
   "cell_type": "markdown",
   "metadata": {
    "cellId": "rbse2nlcd3h9f0nucbc1tf",
    "id": "Dosd971-bpeh"
   },
   "source": [
    "# saving resalts"
   ]
  },
  {
   "cell_type": "code",
   "execution_count": 25,
   "metadata": {},
   "outputs": [],
   "source": [
    "ev = config['evaluate']"
   ]
  },
  {
   "cell_type": "code",
   "execution_count": 26,
   "metadata": {
    "cellId": "yggb3i363hppnsz5id8yi",
    "id": "exK4-QIhXG7C"
   },
   "outputs": [],
   "source": [
    "with open(jn(ev['pred_path'], 'pred.npy'), 'wb') as f:\n",
    "    np.save(f, predictions)\n",
    "with open(jn(ev['pred_path'], 'true.npy'), 'wb') as f:\n",
    "    np.save(f, output_test)"
   ]
  },
  {
   "cell_type": "markdown",
   "metadata": {
    "cellId": "fc135ka0qptz32k3d3n7xf",
    "id": "SoeWHe4obu1u"
   },
   "source": [
    "# look on resalts"
   ]
  },
  {
   "cell_type": "code",
   "execution_count": 27,
   "metadata": {
    "cellId": "zmrk4xfth886cjwbb72pza",
    "id": "R90KNoG0b4oi"
   },
   "outputs": [],
   "source": [
    "with open(jn(ev['pred_path'], 'pred.npy'), 'rb') as f:\n",
    "    predictions = np.load(f)\n",
    "with open(jn(ev['pred_path'], 'true.npy'), 'rb') as f:\n",
    "    output_test = np.load(f)"
   ]
  },
  {
   "cell_type": "code",
   "execution_count": 29,
   "metadata": {
    "cellId": "dtz68v8jwn6pwttc1nbag",
    "id": "T22TeQF6XJ9i"
   },
   "outputs": [
    {
     "name": "stdout",
     "output_type": "stream",
     "text": [
      "len=  20\n"
     ]
    },
    {
     "data": {
      "image/png": "[encoded data removed]",
      "text/plain": [
       "<Figure size 432x288 with 1 Axes>"
      ]
     },
     "metadata": {
      "needs_background": "light"
     },
     "output_type": "display_data"
    },
    {
     "data": {
      "image/png": "[encoded data removed]",
      "text/plain": [
       "<Figure size 432x288 with 1 Axes>"
      ]
     },
     "metadata": {
      "needs_background": "light"
     },
     "output_type": "display_data"
    }
   ],
   "source": [
    "print('len= ', len(predictions))\n",
    "N = 3 # number of exampel\n",
    "plt.imshow(predictions[N])\n",
    "plt.show()\n",
    "plt.imshow(output_test[N])\n",
    "plt.show()"
   ]
  }
 ],
 "metadata": {
  "colab": {
   "include_colab_link": true,
   "name": "Untitled11.ipynb",
   "private_outputs": true,
   "provenance": []
  },
  "kernelspec": {
   "display_name": "Python 3 (ipykernel)",
   "language": "python",
   "name": "python3"
  },
  "language_info": {
   "codemirror_mode": {
    "name": "ipython",
    "version": 3
   },
   "file_extension": ".py",
   "mimetype": "text/x-python",
   "name": "python",
   "nbconvert_exporter": "python",
   "pygments_lexer": "ipython3",
   "version": "3.9.13"
  },
  "notebookId": "481d3098-b4e4-4dca-8695-2093b7f3dc4c",
  "notebookPath": "RQC-Robotics-tactile_sensor/exampels/main.ipynb"
 },
 "nbformat": 4,
 "nbformat_minor": 4
}
