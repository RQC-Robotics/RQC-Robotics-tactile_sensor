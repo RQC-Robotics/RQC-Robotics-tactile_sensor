{
 "cells": [
  {
   "cell_type": "code",
   "execution_count": 1,
   "metadata": {},
   "outputs": [
    {
     "name": "stdout",
     "output_type": "stream",
     "text": [
      "/home/korbash/projects/torch_sensor_gpu/sashas_net\n"
     ]
    }
   ],
   "source": [
    "%cd ..\n",
    "# %load_ext autoreload\n",
    "# %autoreload 2\n",
    "import sensor_lib as sl\n",
    "import sensor_lib.data_analis as ds"
   ]
  },
  {
   "cell_type": "code",
   "execution_count": 2,
   "metadata": {},
   "outputs": [],
   "source": [
    "# %load_ext tensorboard"
   ]
  },
  {
   "cell_type": "code",
   "execution_count": 3,
   "metadata": {
    "cellId": "p5k153ekggp9r7wh6i7ej6",
    "id": "EPNxeZi7MnUO"
   },
   "outputs": [],
   "source": [
    "import tensorflow as tf\n",
    "import numpy as np\n",
    "import pandas as pd\n",
    "import matplotlib.pyplot as plt\n",
    "from os.path import join as jn\n",
    "import yaml\n",
    "import json"
   ]
  },
  {
   "cell_type": "code",
   "execution_count": 4,
   "metadata": {},
   "outputs": [],
   "source": [
    "with open('params.yaml') as conf_file:\n",
    "    config = yaml.safe_load(conf_file)\n",
    "geo = config['env']['sen_geometry']\n",
    "phys = config['env']['phys']"
   ]
  },
  {
   "cell_type": "code",
   "execution_count": 5,
   "metadata": {},
   "outputs": [],
   "source": [
    "np.random.seed(config['random_seed'])\n",
    "seeds = np.random.randint(0, 2**32, size=3)"
   ]
  },
  {
   "cell_type": "markdown",
   "metadata": {
    "cellId": "0qsaltjhgqjacye7rpbjuj6",
    "id": "nlRUT4zvYX8n"
   },
   "source": [
    "# generation pressure_map"
   ]
  },
  {
   "cell_type": "code",
   "execution_count": 6,
   "metadata": {},
   "outputs": [
    {
     "name": "stderr",
     "output_type": "stream",
     "text": [
      "2022-06-11 14:39:29.021439: I tensorflow/core/platform/cpu_feature_guard.cc:193] This TensorFlow binary is optimized with oneAPI Deep Neural Network Library (oneDNN) to use the following CPU instructions in performance-critical operations:  AVX2 FMA\n",
      "To enable them in other operations, rebuild TensorFlow with the appropriate compiler flags.\n",
      "2022-06-11 14:39:29.881502: I tensorflow/core/common_runtime/gpu/gpu_device.cc:1532] Created device /job:localhost/replica:0/task:0/device:GPU:0 with 1162 MB memory:  -> device: 0, name: Tesla V100-PCIE-32GB, pci bus id: 0000:8b:00.0, compute capability: 7.0\n"
     ]
    }
   ],
   "source": [
    "x = geo['x_len']\n",
    "y = geo['y_len']\n",
    "n_pic = config['dataset']['n_sampels']\n",
    "n_gaus = config['env']['presure_profile']['n_gauses']\n",
    "size_kof = config['env']['presure_profile']['size_kof']\n",
    "vec_mat = tf.constant(sl.get_vec_mat(x, y), dtype=tf.float32)\n",
    "vec_mat = tf.reshape(vec_mat, [-1, 2])\n",
    "gaus_data = sl.gen_rand_cof(n_gaus * n_pic, x, y, size_kof,\n",
    "                            seed=seeds[0])  # use random inside\n",
    "gaus_data = tf.reshape(gaus_data, [n_pic, n_gaus, 5])\n",
    "with open(config['env']['presure_profile']['g_param_path'], 'wb+') as f:\n",
    "    np.save(f, gaus_data)"
   ]
  },
  {
   "cell_type": "code",
   "execution_count": 7,
   "metadata": {},
   "outputs": [],
   "source": [
    "dataset = tf.data.Dataset.from_tensor_slices(gaus_data)\n",
    "batches = dataset.batch(config['gengaus']['batch_size'], drop_remainder=False)"
   ]
  },
  {
   "cell_type": "code",
   "execution_count": null,
   "metadata": {
    "tags": []
   },
   "outputs": [],
   "source": [
    "# tf.profiler.experimental.start('logs')\n",
    "pictures=[]\n",
    "for batch in batches:\n",
    "    picture = sl.generate_pictures(batch, vec_mat)\n",
    "    pictures.append(picture)\n",
    "tf.profiler.experimental.stop()\n",
    "pictures = tf.concat(pictures, axis=0)\n",
    "pictures = tf.reshape(pictures, [n_pic, x, y])"
   ]
  },
  {
   "cell_type": "code",
   "execution_count": null,
   "metadata": {},
   "outputs": [],
   "source": [
    "# writer = tf.summary.create_file_writer('logs')\n",
    "# tf.summary.trace_on(graph=True, profiler=True)\n",
    "# pic = sl.generate_multi_gaussian_flat(gaus_data[0], vec_mat)\n",
    "# with writer.as_default():\n",
    "#     tf.summary.trace_export(\n",
    "#       name=\"multi_gaussian_trace\",\n",
    "#       step=0,\n",
    "#       profiler_outdir='logs')"
   ]
  },
  {
   "cell_type": "code",
   "execution_count": null,
   "metadata": {},
   "outputs": [],
   "source": [
    "pictures.shape"
   ]
  },
  {
   "cell_type": "markdown",
   "metadata": {},
   "source": [
    "limit by hat fun"
   ]
  },
  {
   "cell_type": "code",
   "execution_count": null,
   "metadata": {},
   "outputs": [],
   "source": [
    "norm = sl.round_fun([x, y], [x / 2, y / 2], lambda l: sl.hat(l, x / 2))\n",
    "pictures = pictures * norm"
   ]
  },
  {
   "cell_type": "code",
   "execution_count": null,
   "metadata": {
    "tags": []
   },
   "outputs": [],
   "source": [
    "for i in range(10):\n",
    "    plt.imshow(pictures[i])\n",
    "    plt.show()"
   ]
  },
  {
   "cell_type": "code",
   "execution_count": null,
   "metadata": {},
   "outputs": [],
   "source": [
    "with open(jn(config['dataset']['pic_path'], 'one_piece.npy'), 'wb+') as f:\n",
    "    np.save(f, pictures)"
   ]
  },
  {
   "cell_type": "markdown",
   "metadata": {
    "cellId": "1ntrxij2ivueoga583gl08",
    "id": "1S5uLr7FZMqo"
   },
   "source": [
    "# counting losses in fibers (input of nerual network)"
   ]
  },
  {
   "cell_type": "code",
   "execution_count": 6,
   "metadata": {},
   "outputs": [],
   "source": [
    "    size = None\n",
    "    max_possible_size = config['sim']['max_possible_size']\n",
    "    test_size = config['sim']['test_size']\n",
    "    batch_size = config['sim']['batch_size']\n",
    "    n_del = geo['n_spl']\n",
    "    mas = np.load(jn(config['dataset']['pic_path'],'one_piece.npy'), mmap_mode='r')\n",
    "    if size == None:\n",
    "        size = min(mas.shape[0], max_possible_size)\n",
    "    if test_size == 'None':\n",
    "        test_size = int(size / 10)\n",
    "    mas = mas[0:size]\n",
    "    mas = mas.astype('float32')"
   ]
  },
  {
   "cell_type": "code",
   "execution_count": 7,
   "metadata": {},
   "outputs": [
    {
     "data": {
      "text/plain": [
       "(100000, 64, 64)"
      ]
     },
     "execution_count": 7,
     "metadata": {},
     "output_type": "execute_result"
    }
   ],
   "source": [
    "mas.shape"
   ]
  },
  {
   "cell_type": "code",
   "execution_count": 8,
   "metadata": {},
   "outputs": [
    {
     "name": "stderr",
     "output_type": "stream",
     "text": [
      "2022-06-11 19:04:48.689516: I tensorflow/core/platform/cpu_feature_guard.cc:193] This TensorFlow binary is optimized with oneAPI Deep Neural Network Library (oneDNN) to use the following CPU instructions in performance-critical operations:  AVX2 FMA\n",
      "To enable them in other operations, rebuild TensorFlow with the appropriate compiler flags.\n",
      "2022-06-11 19:04:57.868343: I tensorflow/core/common_runtime/gpu/gpu_device.cc:1532] Created device /job:localhost/replica:0/task:0/device:GPU:0 with 30982 MB memory:  -> device: 0, name: Tesla V100-PCIE-32GB, pci bus id: 0000:8b:00.0, compute capability: 7.0\n",
      "2022-06-11 19:05:19.525551: I tensorflow/stream_executor/cuda/cuda_dnn.cc:384] Loaded cuDNN version 8400\n",
      "2022-06-11 19:05:32.383961: W tensorflow/stream_executor/gpu/asm_compiler.cc:111] *** WARNING *** You are using ptxas 10.1.243, which is older than 11.1. ptxas before 11.1 is known to miscompile XLA code, leading to incorrect results or invalid-address errors.\n",
      "\n",
      "You may not need to update to CUDA 11.1; cherry-picking the ptxas binary is often sufficient.\n"
     ]
    }
   ],
   "source": [
    "config['sim']['test_mod'] = False\n",
    "input, output, input_test, output_test = sl.sim_on_gpu(\n",
    "    mas, test_size, batch_size, config=config,\n",
    "    seed=seeds[1])  # use random inside"
   ]
  },
  {
   "cell_type": "code",
   "execution_count": 9,
   "metadata": {},
   "outputs": [
    {
     "data": {
      "text/plain": [
       "(900000, 64, 4)"
      ]
     },
     "execution_count": 9,
     "metadata": {},
     "output_type": "execute_result"
    }
   ],
   "source": [
    "input.shape"
   ]
  },
  {
   "cell_type": "markdown",
   "metadata": {
    "cellId": "nkd72ry4zcavf15haxeacf",
    "id": "2HBUJ_mMZzqT"
   },
   "source": [
    "# defining nerual network for decoding and fitting it"
   ]
  },
  {
   "cell_type": "code",
   "execution_count": 10,
   "metadata": {},
   "outputs": [
    {
     "name": "stdout",
     "output_type": "stream",
     "text": [
      "input shape:  (900000, 64, 4) \n",
      "output shape:  (900000, 64, 64)\n"
     ]
    }
   ],
   "source": [
    "print('input shape: ', input.shape, '\\noutput shape: ', output.shape)"
   ]
  },
  {
   "cell_type": "code",
   "execution_count": 11,
   "metadata": {
    "cellId": "cweyh603iwrectff9dywgi",
    "id": "BDLRQfkvWuX7",
    "tags": []
   },
   "outputs": [
    {
     "name": "stdout",
     "output_type": "stream",
     "text": [
      "Model: \"model\"\n",
      "__________________________________________________________________________________________________\n",
      " Layer (type)                   Output Shape         Param #     Connected to                     \n",
      "==================================================================================================\n",
      " input_1 (InputLayer)           [(None, 64, 4)]      0           []                               \n",
      "                                                                                                  \n",
      " reshape (Reshape)              (None, 64, 4, 1)     0           ['input_1[0][0]']                \n",
      "                                                                                                  \n",
      " Conv_1.1 (Conv2D)              (None, 64, 4, 8)     32          ['reshape[0][0]']                \n",
      "                                                                                                  \n",
      " MaxPool_1.1 (MaxPooling2D)     (None, 32, 4, 8)     0           ['Conv_1.1[0][0]']               \n",
      "                                                                                                  \n",
      " normalization (Normalization)  (None, 32, 4, 8)     3           ['MaxPool_1.1[0][0]']            \n",
      "                                                                                                  \n",
      " Conv_1.2 (Conv2D)              (None, 32, 4, 64)    1600        ['normalization[0][0]']          \n",
      "                                                                                                  \n",
      " MaxPool_1.2 (MaxPooling2D)     (None, 16, 4, 64)    0           ['Conv_1.2[0][0]']               \n",
      "                                                                                                  \n",
      " normalization_1 (Normalization  (None, 16, 4, 64)   3           ['MaxPool_1.2[0][0]']            \n",
      " )                                                                                                \n",
      "                                                                                                  \n",
      " MaxPool_1.0 (MaxPooling2D)     (None, 16, 4, 8)     0           ['Conv_1.1[0][0]']               \n",
      "                                                                                                  \n",
      " concatenate_1 (Concatenate)    (None, 16, 4, 72)    0           ['normalization_1[0][0]',        \n",
      "                                                                  'MaxPool_1.0[0][0]']            \n",
      "                                                                                                  \n",
      " Conv_2.1 (Conv2D)              (None, 16, 4, 128)   27776       ['concatenate_1[0][0]']          \n",
      "                                                                                                  \n",
      " MaxPool_2.1 (MaxPooling2D)     (None, 8, 4, 128)    0           ['Conv_2.1[0][0]']               \n",
      "                                                                                                  \n",
      " normalization_2 (Normalization  (None, 8, 4, 128)   3           ['MaxPool_2.1[0][0]']            \n",
      " )                                                                                                \n",
      "                                                                                                  \n",
      " Conv_2.2 (Conv2D)              (None, 8, 4, 128)    49280       ['normalization_2[0][0]']        \n",
      "                                                                                                  \n",
      " MaxPool_2.2 (MaxPooling2D)     (None, 4, 4, 128)    0           ['Conv_2.2[0][0]']               \n",
      "                                                                                                  \n",
      " MaxPool_2.0 (MaxPooling2D)     (None, 4, 4, 72)     0           ['concatenate_1[0][0]']          \n",
      "                                                                                                  \n",
      " concatenate_2 (Concatenate)    (None, 4, 4, 200)    0           ['MaxPool_2.2[0][0]',            \n",
      "                                                                  'MaxPool_2.0[0][0]']            \n",
      "                                                                                                  \n",
      " Conv_3 (Conv2D)                (None, 4, 1, 64)     51264       ['concatenate_2[0][0]']          \n",
      "                                                                                                  \n",
      " flatten (Flatten)              (None, 256)          0           ['Conv_3[0][0]']                 \n",
      "                                                                                                  \n",
      " Dense_4 (Dense)                (None, 195)          50115       ['flatten[0][0]']                \n",
      "                                                                                                  \n",
      " Dense_5 (Dense)                (None, 900)          176400      ['Dense_4[0][0]']                \n",
      "                                                                                                  \n",
      " Dense_6 (Dense)                (None, 4096)         3690496     ['Dense_5[0][0]']                \n",
      "                                                                                                  \n",
      " reshape_1 (Reshape)            (None, 64, 64)       0           ['Dense_6[0][0]']                \n",
      "                                                                                                  \n",
      "==================================================================================================\n",
      "Total params: 4,046,972\n",
      "Trainable params: 4,046,963\n",
      "Non-trainable params: 9\n",
      "__________________________________________________________________________________________________\n"
     ]
    }
   ],
   "source": [
    "tr = config['train']\n",
    "model = sl.SensorNN5S_norm_deep(input.shape, output.shape)\n",
    "model.build(input.shape)\n",
    "model.summary()\n",
    "model.compile(optimizer=tf.keras.optimizers.Adam(tr['lerning_rate']),\n",
    "              loss=tf.keras.losses.MeanSquaredError(),\n",
    "              metrics=['accuracy'])\n",
    "model_name = 'SensorNN5S_norm_deep'"
   ]
  },
  {
   "cell_type": "code",
   "execution_count": 12,
   "metadata": {
    "cellId": "lfkb5a64nuo5099uzvu1sc",
    "id": "kmGd-a3SW0j6",
    "tags": []
   },
   "outputs": [
    {
     "name": "stderr",
     "output_type": "stream",
     "text": [
      "2022-06-11 19:06:48.754569: W tensorflow/core/framework/cpu_allocator_impl.cc:82] Allocation of 14745600000 exceeds 10% of free system memory.\n",
      "2022-06-11 19:07:10.129149: W tensorflow/core/framework/cpu_allocator_impl.cc:82] Allocation of 14745600000 exceeds 10% of free system memory.\n"
     ]
    },
    {
     "name": "stdout",
     "output_type": "stream",
     "text": [
      "Epoch 1/50\n",
      "28125/28125 [==============================] - 162s 6ms/step - loss: 0.2587 - accuracy: 0.0581\n",
      "Epoch 2/50\n",
      "28125/28125 [==============================] - 164s 6ms/step - loss: 0.2271 - accuracy: 0.0705\n",
      "Epoch 3/50\n",
      "28125/28125 [==============================] - 155s 6ms/step - loss: 0.2201 - accuracy: 0.0768\n",
      "Epoch 4/50\n",
      "28125/28125 [==============================] - 155s 6ms/step - loss: 0.2157 - accuracy: 0.0815\n",
      "Epoch 5/50\n",
      "28125/28125 [==============================] - 155s 5ms/step - loss: 0.2126 - accuracy: 0.0852\n",
      "Epoch 6/50\n",
      "28125/28125 [==============================] - 164s 6ms/step - loss: 0.2103 - accuracy: 0.0880\n",
      "Epoch 7/50\n",
      "28125/28125 [==============================] - 155s 6ms/step - loss: 0.2086 - accuracy: 0.0903\n",
      "Epoch 8/50\n",
      "28125/28125 [==============================] - 155s 6ms/step - loss: 0.2072 - accuracy: 0.0921\n",
      "Epoch 9/50\n",
      "28125/28125 [==============================] - 156s 6ms/step - loss: 0.2060 - accuracy: 0.0937\n",
      "Epoch 10/50\n",
      "28125/28125 [==============================] - 170s 6ms/step - loss: 0.2051 - accuracy: 0.0950\n",
      "Epoch 11/50\n",
      "28125/28125 [==============================] - 158s 6ms/step - loss: 0.2042 - accuracy: 0.0963\n",
      "Epoch 12/50\n",
      "28125/28125 [==============================] - 155s 5ms/step - loss: 0.2035 - accuracy: 0.0973\n",
      "Epoch 13/50\n",
      "28125/28125 [==============================] - 163s 6ms/step - loss: 0.2028 - accuracy: 0.0983\n",
      "Epoch 14/50\n",
      "28125/28125 [==============================] - 158s 6ms/step - loss: 0.2022 - accuracy: 0.0992\n",
      "Epoch 15/50\n",
      "28125/28125 [==============================] - 156s 6ms/step - loss: 0.2017 - accuracy: 0.0999\n",
      "Epoch 16/50\n",
      "28125/28125 [==============================] - 159s 6ms/step - loss: 0.2012 - accuracy: 0.1007\n",
      "Epoch 17/50\n",
      "28125/28125 [==============================] - 193s 7ms/step - loss: 0.2008 - accuracy: 0.1013\n",
      "Epoch 18/50\n",
      "28125/28125 [==============================] - 158s 6ms/step - loss: 0.2004 - accuracy: 0.1019\n",
      "Epoch 19/50\n",
      "28125/28125 [==============================] - 155s 6ms/step - loss: 0.2000 - accuracy: 0.1024\n",
      "Epoch 20/50\n",
      "28125/28125 [==============================] - 155s 5ms/step - loss: 0.1996 - accuracy: 0.1028\n",
      "Epoch 21/50\n",
      "28125/28125 [==============================] - 166s 6ms/step - loss: 0.1993 - accuracy: 0.1033\n",
      "Epoch 22/50\n",
      " 6870/28125 [======>.......................] - ETA: 1:57 - loss: 0.1989 - accuracy: 0.1040"
     ]
    },
    {
     "ename": "KeyboardInterrupt",
     "evalue": "",
     "output_type": "error",
     "traceback": [
      "\u001b[0;31m---------------------------------------------------------------------------\u001b[0m",
      "\u001b[0;31mKeyboardInterrupt\u001b[0m                         Traceback (most recent call last)",
      "\u001b[1;32m/home/korbash/projects/torch_sensor_gpu/sashas_net/notebooks/main.ipynb Cell 24'\u001b[0m in \u001b[0;36m<cell line: 3>\u001b[0;34m()\u001b[0m\n\u001b[1;32m      <a href='vscode-notebook-cell://ssh-remote%2Byavm/home/korbash/projects/torch_sensor_gpu/sashas_net/notebooks/main.ipynb#ch0000023vscode-remote?line=0'>1</a>\u001b[0m \u001b[39m# model.fit(dataset_b, epochs=n_epochs, verbose=1)\u001b[39;00m\n\u001b[1;32m      <a href='vscode-notebook-cell://ssh-remote%2Byavm/home/korbash/projects/torch_sensor_gpu/sashas_net/notebooks/main.ipynb#ch0000023vscode-remote?line=1'>2</a>\u001b[0m tf\u001b[39m.\u001b[39mkeras\u001b[39m.\u001b[39mutils\u001b[39m.\u001b[39mset_random_seed(seed\u001b[39m=\u001b[39m\u001b[39mint\u001b[39m(seeds[\u001b[39m2\u001b[39m]))  \u001b[39m# use random\u001b[39;00m\n\u001b[0;32m----> <a href='vscode-notebook-cell://ssh-remote%2Byavm/home/korbash/projects/torch_sensor_gpu/sashas_net/notebooks/main.ipynb#ch0000023vscode-remote?line=2'>3</a>\u001b[0m model\u001b[39m.\u001b[39;49mfit(\u001b[39minput\u001b[39;49m, output, epochs\u001b[39m=\u001b[39;49mtr[\u001b[39m'\u001b[39;49m\u001b[39mn_epochs\u001b[39;49m\u001b[39m'\u001b[39;49m], verbose\u001b[39m=\u001b[39;49m\u001b[39m1\u001b[39;49m)\n",
      "File \u001b[0;32m~/projects/torch_sensor_gpu/RQC-Robotics-tactile_sensor/venvPytorchAndTF/lib/python3.8/site-packages/keras/utils/traceback_utils.py:64\u001b[0m, in \u001b[0;36mfilter_traceback.<locals>.error_handler\u001b[0;34m(*args, **kwargs)\u001b[0m\n\u001b[1;32m     <a href='file:///home/korbash/projects/torch_sensor_gpu/RQC-Robotics-tactile_sensor/venvPytorchAndTF/lib/python3.8/site-packages/keras/utils/traceback_utils.py?line=61'>62</a>\u001b[0m filtered_tb \u001b[39m=\u001b[39m \u001b[39mNone\u001b[39;00m\n\u001b[1;32m     <a href='file:///home/korbash/projects/torch_sensor_gpu/RQC-Robotics-tactile_sensor/venvPytorchAndTF/lib/python3.8/site-packages/keras/utils/traceback_utils.py?line=62'>63</a>\u001b[0m \u001b[39mtry\u001b[39;00m:\n\u001b[0;32m---> <a href='file:///home/korbash/projects/torch_sensor_gpu/RQC-Robotics-tactile_sensor/venvPytorchAndTF/lib/python3.8/site-packages/keras/utils/traceback_utils.py?line=63'>64</a>\u001b[0m   \u001b[39mreturn\u001b[39;00m fn(\u001b[39m*\u001b[39;49margs, \u001b[39m*\u001b[39;49m\u001b[39m*\u001b[39;49mkwargs)\n\u001b[1;32m     <a href='file:///home/korbash/projects/torch_sensor_gpu/RQC-Robotics-tactile_sensor/venvPytorchAndTF/lib/python3.8/site-packages/keras/utils/traceback_utils.py?line=64'>65</a>\u001b[0m \u001b[39mexcept\u001b[39;00m \u001b[39mException\u001b[39;00m \u001b[39mas\u001b[39;00m e:  \u001b[39m# pylint: disable=broad-except\u001b[39;00m\n\u001b[1;32m     <a href='file:///home/korbash/projects/torch_sensor_gpu/RQC-Robotics-tactile_sensor/venvPytorchAndTF/lib/python3.8/site-packages/keras/utils/traceback_utils.py?line=65'>66</a>\u001b[0m   filtered_tb \u001b[39m=\u001b[39m _process_traceback_frames(e\u001b[39m.\u001b[39m__traceback__)\n",
      "File \u001b[0;32m~/projects/torch_sensor_gpu/RQC-Robotics-tactile_sensor/venvPytorchAndTF/lib/python3.8/site-packages/keras/engine/training.py:1409\u001b[0m, in \u001b[0;36mModel.fit\u001b[0;34m(self, x, y, batch_size, epochs, verbose, callbacks, validation_split, validation_data, shuffle, class_weight, sample_weight, initial_epoch, steps_per_epoch, validation_steps, validation_batch_size, validation_freq, max_queue_size, workers, use_multiprocessing)\u001b[0m\n\u001b[1;32m   <a href='file:///home/korbash/projects/torch_sensor_gpu/RQC-Robotics-tactile_sensor/venvPytorchAndTF/lib/python3.8/site-packages/keras/engine/training.py?line=1401'>1402</a>\u001b[0m \u001b[39mwith\u001b[39;00m tf\u001b[39m.\u001b[39mprofiler\u001b[39m.\u001b[39mexperimental\u001b[39m.\u001b[39mTrace(\n\u001b[1;32m   <a href='file:///home/korbash/projects/torch_sensor_gpu/RQC-Robotics-tactile_sensor/venvPytorchAndTF/lib/python3.8/site-packages/keras/engine/training.py?line=1402'>1403</a>\u001b[0m     \u001b[39m'\u001b[39m\u001b[39mtrain\u001b[39m\u001b[39m'\u001b[39m,\n\u001b[1;32m   <a href='file:///home/korbash/projects/torch_sensor_gpu/RQC-Robotics-tactile_sensor/venvPytorchAndTF/lib/python3.8/site-packages/keras/engine/training.py?line=1403'>1404</a>\u001b[0m     epoch_num\u001b[39m=\u001b[39mepoch,\n\u001b[1;32m   <a href='file:///home/korbash/projects/torch_sensor_gpu/RQC-Robotics-tactile_sensor/venvPytorchAndTF/lib/python3.8/site-packages/keras/engine/training.py?line=1404'>1405</a>\u001b[0m     step_num\u001b[39m=\u001b[39mstep,\n\u001b[1;32m   <a href='file:///home/korbash/projects/torch_sensor_gpu/RQC-Robotics-tactile_sensor/venvPytorchAndTF/lib/python3.8/site-packages/keras/engine/training.py?line=1405'>1406</a>\u001b[0m     batch_size\u001b[39m=\u001b[39mbatch_size,\n\u001b[1;32m   <a href='file:///home/korbash/projects/torch_sensor_gpu/RQC-Robotics-tactile_sensor/venvPytorchAndTF/lib/python3.8/site-packages/keras/engine/training.py?line=1406'>1407</a>\u001b[0m     _r\u001b[39m=\u001b[39m\u001b[39m1\u001b[39m):\n\u001b[1;32m   <a href='file:///home/korbash/projects/torch_sensor_gpu/RQC-Robotics-tactile_sensor/venvPytorchAndTF/lib/python3.8/site-packages/keras/engine/training.py?line=1407'>1408</a>\u001b[0m   callbacks\u001b[39m.\u001b[39mon_train_batch_begin(step)\n\u001b[0;32m-> <a href='file:///home/korbash/projects/torch_sensor_gpu/RQC-Robotics-tactile_sensor/venvPytorchAndTF/lib/python3.8/site-packages/keras/engine/training.py?line=1408'>1409</a>\u001b[0m   tmp_logs \u001b[39m=\u001b[39m \u001b[39mself\u001b[39;49m\u001b[39m.\u001b[39;49mtrain_function(iterator)\n\u001b[1;32m   <a href='file:///home/korbash/projects/torch_sensor_gpu/RQC-Robotics-tactile_sensor/venvPytorchAndTF/lib/python3.8/site-packages/keras/engine/training.py?line=1409'>1410</a>\u001b[0m   \u001b[39mif\u001b[39;00m data_handler\u001b[39m.\u001b[39mshould_sync:\n\u001b[1;32m   <a href='file:///home/korbash/projects/torch_sensor_gpu/RQC-Robotics-tactile_sensor/venvPytorchAndTF/lib/python3.8/site-packages/keras/engine/training.py?line=1410'>1411</a>\u001b[0m     context\u001b[39m.\u001b[39masync_wait()\n",
      "File \u001b[0;32m~/projects/torch_sensor_gpu/RQC-Robotics-tactile_sensor/venvPytorchAndTF/lib/python3.8/site-packages/tensorflow/python/util/traceback_utils.py:150\u001b[0m, in \u001b[0;36mfilter_traceback.<locals>.error_handler\u001b[0;34m(*args, **kwargs)\u001b[0m\n\u001b[1;32m    <a href='file:///home/korbash/projects/torch_sensor_gpu/RQC-Robotics-tactile_sensor/venvPytorchAndTF/lib/python3.8/site-packages/tensorflow/python/util/traceback_utils.py?line=147'>148</a>\u001b[0m filtered_tb \u001b[39m=\u001b[39m \u001b[39mNone\u001b[39;00m\n\u001b[1;32m    <a href='file:///home/korbash/projects/torch_sensor_gpu/RQC-Robotics-tactile_sensor/venvPytorchAndTF/lib/python3.8/site-packages/tensorflow/python/util/traceback_utils.py?line=148'>149</a>\u001b[0m \u001b[39mtry\u001b[39;00m:\n\u001b[0;32m--> <a href='file:///home/korbash/projects/torch_sensor_gpu/RQC-Robotics-tactile_sensor/venvPytorchAndTF/lib/python3.8/site-packages/tensorflow/python/util/traceback_utils.py?line=149'>150</a>\u001b[0m   \u001b[39mreturn\u001b[39;00m fn(\u001b[39m*\u001b[39;49margs, \u001b[39m*\u001b[39;49m\u001b[39m*\u001b[39;49mkwargs)\n\u001b[1;32m    <a href='file:///home/korbash/projects/torch_sensor_gpu/RQC-Robotics-tactile_sensor/venvPytorchAndTF/lib/python3.8/site-packages/tensorflow/python/util/traceback_utils.py?line=150'>151</a>\u001b[0m \u001b[39mexcept\u001b[39;00m \u001b[39mException\u001b[39;00m \u001b[39mas\u001b[39;00m e:\n\u001b[1;32m    <a href='file:///home/korbash/projects/torch_sensor_gpu/RQC-Robotics-tactile_sensor/venvPytorchAndTF/lib/python3.8/site-packages/tensorflow/python/util/traceback_utils.py?line=151'>152</a>\u001b[0m   filtered_tb \u001b[39m=\u001b[39m _process_traceback_frames(e\u001b[39m.\u001b[39m__traceback__)\n",
      "File \u001b[0;32m~/projects/torch_sensor_gpu/RQC-Robotics-tactile_sensor/venvPytorchAndTF/lib/python3.8/site-packages/tensorflow/python/eager/def_function.py:915\u001b[0m, in \u001b[0;36mFunction.__call__\u001b[0;34m(self, *args, **kwds)\u001b[0m\n\u001b[1;32m    <a href='file:///home/korbash/projects/torch_sensor_gpu/RQC-Robotics-tactile_sensor/venvPytorchAndTF/lib/python3.8/site-packages/tensorflow/python/eager/def_function.py?line=911'>912</a>\u001b[0m compiler \u001b[39m=\u001b[39m \u001b[39m\"\u001b[39m\u001b[39mxla\u001b[39m\u001b[39m\"\u001b[39m \u001b[39mif\u001b[39;00m \u001b[39mself\u001b[39m\u001b[39m.\u001b[39m_jit_compile \u001b[39melse\u001b[39;00m \u001b[39m\"\u001b[39m\u001b[39mnonXla\u001b[39m\u001b[39m\"\u001b[39m\n\u001b[1;32m    <a href='file:///home/korbash/projects/torch_sensor_gpu/RQC-Robotics-tactile_sensor/venvPytorchAndTF/lib/python3.8/site-packages/tensorflow/python/eager/def_function.py?line=913'>914</a>\u001b[0m \u001b[39mwith\u001b[39;00m OptionalXlaContext(\u001b[39mself\u001b[39m\u001b[39m.\u001b[39m_jit_compile):\n\u001b[0;32m--> <a href='file:///home/korbash/projects/torch_sensor_gpu/RQC-Robotics-tactile_sensor/venvPytorchAndTF/lib/python3.8/site-packages/tensorflow/python/eager/def_function.py?line=914'>915</a>\u001b[0m   result \u001b[39m=\u001b[39m \u001b[39mself\u001b[39;49m\u001b[39m.\u001b[39;49m_call(\u001b[39m*\u001b[39;49margs, \u001b[39m*\u001b[39;49m\u001b[39m*\u001b[39;49mkwds)\n\u001b[1;32m    <a href='file:///home/korbash/projects/torch_sensor_gpu/RQC-Robotics-tactile_sensor/venvPytorchAndTF/lib/python3.8/site-packages/tensorflow/python/eager/def_function.py?line=916'>917</a>\u001b[0m new_tracing_count \u001b[39m=\u001b[39m \u001b[39mself\u001b[39m\u001b[39m.\u001b[39mexperimental_get_tracing_count()\n\u001b[1;32m    <a href='file:///home/korbash/projects/torch_sensor_gpu/RQC-Robotics-tactile_sensor/venvPytorchAndTF/lib/python3.8/site-packages/tensorflow/python/eager/def_function.py?line=917'>918</a>\u001b[0m without_tracing \u001b[39m=\u001b[39m (tracing_count \u001b[39m==\u001b[39m new_tracing_count)\n",
      "File \u001b[0;32m~/projects/torch_sensor_gpu/RQC-Robotics-tactile_sensor/venvPytorchAndTF/lib/python3.8/site-packages/tensorflow/python/eager/def_function.py:947\u001b[0m, in \u001b[0;36mFunction._call\u001b[0;34m(self, *args, **kwds)\u001b[0m\n\u001b[1;32m    <a href='file:///home/korbash/projects/torch_sensor_gpu/RQC-Robotics-tactile_sensor/venvPytorchAndTF/lib/python3.8/site-packages/tensorflow/python/eager/def_function.py?line=943'>944</a>\u001b[0m   \u001b[39mself\u001b[39m\u001b[39m.\u001b[39m_lock\u001b[39m.\u001b[39mrelease()\n\u001b[1;32m    <a href='file:///home/korbash/projects/torch_sensor_gpu/RQC-Robotics-tactile_sensor/venvPytorchAndTF/lib/python3.8/site-packages/tensorflow/python/eager/def_function.py?line=944'>945</a>\u001b[0m   \u001b[39m# In this case we have created variables on the first call, so we run the\u001b[39;00m\n\u001b[1;32m    <a href='file:///home/korbash/projects/torch_sensor_gpu/RQC-Robotics-tactile_sensor/venvPytorchAndTF/lib/python3.8/site-packages/tensorflow/python/eager/def_function.py?line=945'>946</a>\u001b[0m   \u001b[39m# defunned version which is guaranteed to never create variables.\u001b[39;00m\n\u001b[0;32m--> <a href='file:///home/korbash/projects/torch_sensor_gpu/RQC-Robotics-tactile_sensor/venvPytorchAndTF/lib/python3.8/site-packages/tensorflow/python/eager/def_function.py?line=946'>947</a>\u001b[0m   \u001b[39mreturn\u001b[39;00m \u001b[39mself\u001b[39;49m\u001b[39m.\u001b[39;49m_stateless_fn(\u001b[39m*\u001b[39;49margs, \u001b[39m*\u001b[39;49m\u001b[39m*\u001b[39;49mkwds)  \u001b[39m# pylint: disable=not-callable\u001b[39;00m\n\u001b[1;32m    <a href='file:///home/korbash/projects/torch_sensor_gpu/RQC-Robotics-tactile_sensor/venvPytorchAndTF/lib/python3.8/site-packages/tensorflow/python/eager/def_function.py?line=947'>948</a>\u001b[0m \u001b[39melif\u001b[39;00m \u001b[39mself\u001b[39m\u001b[39m.\u001b[39m_stateful_fn \u001b[39mis\u001b[39;00m \u001b[39mnot\u001b[39;00m \u001b[39mNone\u001b[39;00m:\n\u001b[1;32m    <a href='file:///home/korbash/projects/torch_sensor_gpu/RQC-Robotics-tactile_sensor/venvPytorchAndTF/lib/python3.8/site-packages/tensorflow/python/eager/def_function.py?line=948'>949</a>\u001b[0m   \u001b[39m# Release the lock early so that multiple threads can perform the call\u001b[39;00m\n\u001b[1;32m    <a href='file:///home/korbash/projects/torch_sensor_gpu/RQC-Robotics-tactile_sensor/venvPytorchAndTF/lib/python3.8/site-packages/tensorflow/python/eager/def_function.py?line=949'>950</a>\u001b[0m   \u001b[39m# in parallel.\u001b[39;00m\n\u001b[1;32m    <a href='file:///home/korbash/projects/torch_sensor_gpu/RQC-Robotics-tactile_sensor/venvPytorchAndTF/lib/python3.8/site-packages/tensorflow/python/eager/def_function.py?line=950'>951</a>\u001b[0m   \u001b[39mself\u001b[39m\u001b[39m.\u001b[39m_lock\u001b[39m.\u001b[39mrelease()\n",
      "File \u001b[0;32m~/projects/torch_sensor_gpu/RQC-Robotics-tactile_sensor/venvPytorchAndTF/lib/python3.8/site-packages/tensorflow/python/eager/function.py:2453\u001b[0m, in \u001b[0;36mFunction.__call__\u001b[0;34m(self, *args, **kwargs)\u001b[0m\n\u001b[1;32m   <a href='file:///home/korbash/projects/torch_sensor_gpu/RQC-Robotics-tactile_sensor/venvPytorchAndTF/lib/python3.8/site-packages/tensorflow/python/eager/function.py?line=2449'>2450</a>\u001b[0m \u001b[39mwith\u001b[39;00m \u001b[39mself\u001b[39m\u001b[39m.\u001b[39m_lock:\n\u001b[1;32m   <a href='file:///home/korbash/projects/torch_sensor_gpu/RQC-Robotics-tactile_sensor/venvPytorchAndTF/lib/python3.8/site-packages/tensorflow/python/eager/function.py?line=2450'>2451</a>\u001b[0m   (graph_function,\n\u001b[1;32m   <a href='file:///home/korbash/projects/torch_sensor_gpu/RQC-Robotics-tactile_sensor/venvPytorchAndTF/lib/python3.8/site-packages/tensorflow/python/eager/function.py?line=2451'>2452</a>\u001b[0m    filtered_flat_args) \u001b[39m=\u001b[39m \u001b[39mself\u001b[39m\u001b[39m.\u001b[39m_maybe_define_function(args, kwargs)\n\u001b[0;32m-> <a href='file:///home/korbash/projects/torch_sensor_gpu/RQC-Robotics-tactile_sensor/venvPytorchAndTF/lib/python3.8/site-packages/tensorflow/python/eager/function.py?line=2452'>2453</a>\u001b[0m \u001b[39mreturn\u001b[39;00m graph_function\u001b[39m.\u001b[39;49m_call_flat(\n\u001b[1;32m   <a href='file:///home/korbash/projects/torch_sensor_gpu/RQC-Robotics-tactile_sensor/venvPytorchAndTF/lib/python3.8/site-packages/tensorflow/python/eager/function.py?line=2453'>2454</a>\u001b[0m     filtered_flat_args, captured_inputs\u001b[39m=\u001b[39;49mgraph_function\u001b[39m.\u001b[39;49mcaptured_inputs)\n",
      "File \u001b[0;32m~/projects/torch_sensor_gpu/RQC-Robotics-tactile_sensor/venvPytorchAndTF/lib/python3.8/site-packages/tensorflow/python/eager/function.py:1860\u001b[0m, in \u001b[0;36mConcreteFunction._call_flat\u001b[0;34m(self, args, captured_inputs, cancellation_manager)\u001b[0m\n\u001b[1;32m   <a href='file:///home/korbash/projects/torch_sensor_gpu/RQC-Robotics-tactile_sensor/venvPytorchAndTF/lib/python3.8/site-packages/tensorflow/python/eager/function.py?line=1855'>1856</a>\u001b[0m possible_gradient_type \u001b[39m=\u001b[39m gradients_util\u001b[39m.\u001b[39mPossibleTapeGradientTypes(args)\n\u001b[1;32m   <a href='file:///home/korbash/projects/torch_sensor_gpu/RQC-Robotics-tactile_sensor/venvPytorchAndTF/lib/python3.8/site-packages/tensorflow/python/eager/function.py?line=1856'>1857</a>\u001b[0m \u001b[39mif\u001b[39;00m (possible_gradient_type \u001b[39m==\u001b[39m gradients_util\u001b[39m.\u001b[39mPOSSIBLE_GRADIENT_TYPES_NONE\n\u001b[1;32m   <a href='file:///home/korbash/projects/torch_sensor_gpu/RQC-Robotics-tactile_sensor/venvPytorchAndTF/lib/python3.8/site-packages/tensorflow/python/eager/function.py?line=1857'>1858</a>\u001b[0m     \u001b[39mand\u001b[39;00m executing_eagerly):\n\u001b[1;32m   <a href='file:///home/korbash/projects/torch_sensor_gpu/RQC-Robotics-tactile_sensor/venvPytorchAndTF/lib/python3.8/site-packages/tensorflow/python/eager/function.py?line=1858'>1859</a>\u001b[0m   \u001b[39m# No tape is watching; skip to running the function.\u001b[39;00m\n\u001b[0;32m-> <a href='file:///home/korbash/projects/torch_sensor_gpu/RQC-Robotics-tactile_sensor/venvPytorchAndTF/lib/python3.8/site-packages/tensorflow/python/eager/function.py?line=1859'>1860</a>\u001b[0m   \u001b[39mreturn\u001b[39;00m \u001b[39mself\u001b[39m\u001b[39m.\u001b[39m_build_call_outputs(\u001b[39mself\u001b[39;49m\u001b[39m.\u001b[39;49m_inference_function\u001b[39m.\u001b[39;49mcall(\n\u001b[1;32m   <a href='file:///home/korbash/projects/torch_sensor_gpu/RQC-Robotics-tactile_sensor/venvPytorchAndTF/lib/python3.8/site-packages/tensorflow/python/eager/function.py?line=1860'>1861</a>\u001b[0m       ctx, args, cancellation_manager\u001b[39m=\u001b[39;49mcancellation_manager))\n\u001b[1;32m   <a href='file:///home/korbash/projects/torch_sensor_gpu/RQC-Robotics-tactile_sensor/venvPytorchAndTF/lib/python3.8/site-packages/tensorflow/python/eager/function.py?line=1861'>1862</a>\u001b[0m forward_backward \u001b[39m=\u001b[39m \u001b[39mself\u001b[39m\u001b[39m.\u001b[39m_select_forward_and_backward_functions(\n\u001b[1;32m   <a href='file:///home/korbash/projects/torch_sensor_gpu/RQC-Robotics-tactile_sensor/venvPytorchAndTF/lib/python3.8/site-packages/tensorflow/python/eager/function.py?line=1862'>1863</a>\u001b[0m     args,\n\u001b[1;32m   <a href='file:///home/korbash/projects/torch_sensor_gpu/RQC-Robotics-tactile_sensor/venvPytorchAndTF/lib/python3.8/site-packages/tensorflow/python/eager/function.py?line=1863'>1864</a>\u001b[0m     possible_gradient_type,\n\u001b[1;32m   <a href='file:///home/korbash/projects/torch_sensor_gpu/RQC-Robotics-tactile_sensor/venvPytorchAndTF/lib/python3.8/site-packages/tensorflow/python/eager/function.py?line=1864'>1865</a>\u001b[0m     executing_eagerly)\n\u001b[1;32m   <a href='file:///home/korbash/projects/torch_sensor_gpu/RQC-Robotics-tactile_sensor/venvPytorchAndTF/lib/python3.8/site-packages/tensorflow/python/eager/function.py?line=1865'>1866</a>\u001b[0m forward_function, args_with_tangents \u001b[39m=\u001b[39m forward_backward\u001b[39m.\u001b[39mforward()\n",
      "File \u001b[0;32m~/projects/torch_sensor_gpu/RQC-Robotics-tactile_sensor/venvPytorchAndTF/lib/python3.8/site-packages/tensorflow/python/eager/function.py:497\u001b[0m, in \u001b[0;36m_EagerDefinedFunction.call\u001b[0;34m(self, ctx, args, cancellation_manager)\u001b[0m\n\u001b[1;32m    <a href='file:///home/korbash/projects/torch_sensor_gpu/RQC-Robotics-tactile_sensor/venvPytorchAndTF/lib/python3.8/site-packages/tensorflow/python/eager/function.py?line=494'>495</a>\u001b[0m \u001b[39mwith\u001b[39;00m _InterpolateFunctionError(\u001b[39mself\u001b[39m):\n\u001b[1;32m    <a href='file:///home/korbash/projects/torch_sensor_gpu/RQC-Robotics-tactile_sensor/venvPytorchAndTF/lib/python3.8/site-packages/tensorflow/python/eager/function.py?line=495'>496</a>\u001b[0m   \u001b[39mif\u001b[39;00m cancellation_manager \u001b[39mis\u001b[39;00m \u001b[39mNone\u001b[39;00m:\n\u001b[0;32m--> <a href='file:///home/korbash/projects/torch_sensor_gpu/RQC-Robotics-tactile_sensor/venvPytorchAndTF/lib/python3.8/site-packages/tensorflow/python/eager/function.py?line=496'>497</a>\u001b[0m     outputs \u001b[39m=\u001b[39m execute\u001b[39m.\u001b[39;49mexecute(\n\u001b[1;32m    <a href='file:///home/korbash/projects/torch_sensor_gpu/RQC-Robotics-tactile_sensor/venvPytorchAndTF/lib/python3.8/site-packages/tensorflow/python/eager/function.py?line=497'>498</a>\u001b[0m         \u001b[39mstr\u001b[39;49m(\u001b[39mself\u001b[39;49m\u001b[39m.\u001b[39;49msignature\u001b[39m.\u001b[39;49mname),\n\u001b[1;32m    <a href='file:///home/korbash/projects/torch_sensor_gpu/RQC-Robotics-tactile_sensor/venvPytorchAndTF/lib/python3.8/site-packages/tensorflow/python/eager/function.py?line=498'>499</a>\u001b[0m         num_outputs\u001b[39m=\u001b[39;49m\u001b[39mself\u001b[39;49m\u001b[39m.\u001b[39;49m_num_outputs,\n\u001b[1;32m    <a href='file:///home/korbash/projects/torch_sensor_gpu/RQC-Robotics-tactile_sensor/venvPytorchAndTF/lib/python3.8/site-packages/tensorflow/python/eager/function.py?line=499'>500</a>\u001b[0m         inputs\u001b[39m=\u001b[39;49margs,\n\u001b[1;32m    <a href='file:///home/korbash/projects/torch_sensor_gpu/RQC-Robotics-tactile_sensor/venvPytorchAndTF/lib/python3.8/site-packages/tensorflow/python/eager/function.py?line=500'>501</a>\u001b[0m         attrs\u001b[39m=\u001b[39;49mattrs,\n\u001b[1;32m    <a href='file:///home/korbash/projects/torch_sensor_gpu/RQC-Robotics-tactile_sensor/venvPytorchAndTF/lib/python3.8/site-packages/tensorflow/python/eager/function.py?line=501'>502</a>\u001b[0m         ctx\u001b[39m=\u001b[39;49mctx)\n\u001b[1;32m    <a href='file:///home/korbash/projects/torch_sensor_gpu/RQC-Robotics-tactile_sensor/venvPytorchAndTF/lib/python3.8/site-packages/tensorflow/python/eager/function.py?line=502'>503</a>\u001b[0m   \u001b[39melse\u001b[39;00m:\n\u001b[1;32m    <a href='file:///home/korbash/projects/torch_sensor_gpu/RQC-Robotics-tactile_sensor/venvPytorchAndTF/lib/python3.8/site-packages/tensorflow/python/eager/function.py?line=503'>504</a>\u001b[0m     outputs \u001b[39m=\u001b[39m execute\u001b[39m.\u001b[39mexecute_with_cancellation(\n\u001b[1;32m    <a href='file:///home/korbash/projects/torch_sensor_gpu/RQC-Robotics-tactile_sensor/venvPytorchAndTF/lib/python3.8/site-packages/tensorflow/python/eager/function.py?line=504'>505</a>\u001b[0m         \u001b[39mstr\u001b[39m(\u001b[39mself\u001b[39m\u001b[39m.\u001b[39msignature\u001b[39m.\u001b[39mname),\n\u001b[1;32m    <a href='file:///home/korbash/projects/torch_sensor_gpu/RQC-Robotics-tactile_sensor/venvPytorchAndTF/lib/python3.8/site-packages/tensorflow/python/eager/function.py?line=505'>506</a>\u001b[0m         num_outputs\u001b[39m=\u001b[39m\u001b[39mself\u001b[39m\u001b[39m.\u001b[39m_num_outputs,\n\u001b[0;32m   (...)\u001b[0m\n\u001b[1;32m    <a href='file:///home/korbash/projects/torch_sensor_gpu/RQC-Robotics-tactile_sensor/venvPytorchAndTF/lib/python3.8/site-packages/tensorflow/python/eager/function.py?line=508'>509</a>\u001b[0m         ctx\u001b[39m=\u001b[39mctx,\n\u001b[1;32m    <a href='file:///home/korbash/projects/torch_sensor_gpu/RQC-Robotics-tactile_sensor/venvPytorchAndTF/lib/python3.8/site-packages/tensorflow/python/eager/function.py?line=509'>510</a>\u001b[0m         cancellation_manager\u001b[39m=\u001b[39mcancellation_manager)\n",
      "File \u001b[0;32m~/projects/torch_sensor_gpu/RQC-Robotics-tactile_sensor/venvPytorchAndTF/lib/python3.8/site-packages/tensorflow/python/eager/execute.py:54\u001b[0m, in \u001b[0;36mquick_execute\u001b[0;34m(op_name, num_outputs, inputs, attrs, ctx, name)\u001b[0m\n\u001b[1;32m     <a href='file:///home/korbash/projects/torch_sensor_gpu/RQC-Robotics-tactile_sensor/venvPytorchAndTF/lib/python3.8/site-packages/tensorflow/python/eager/execute.py?line=51'>52</a>\u001b[0m \u001b[39mtry\u001b[39;00m:\n\u001b[1;32m     <a href='file:///home/korbash/projects/torch_sensor_gpu/RQC-Robotics-tactile_sensor/venvPytorchAndTF/lib/python3.8/site-packages/tensorflow/python/eager/execute.py?line=52'>53</a>\u001b[0m   ctx\u001b[39m.\u001b[39mensure_initialized()\n\u001b[0;32m---> <a href='file:///home/korbash/projects/torch_sensor_gpu/RQC-Robotics-tactile_sensor/venvPytorchAndTF/lib/python3.8/site-packages/tensorflow/python/eager/execute.py?line=53'>54</a>\u001b[0m   tensors \u001b[39m=\u001b[39m pywrap_tfe\u001b[39m.\u001b[39;49mTFE_Py_Execute(ctx\u001b[39m.\u001b[39;49m_handle, device_name, op_name,\n\u001b[1;32m     <a href='file:///home/korbash/projects/torch_sensor_gpu/RQC-Robotics-tactile_sensor/venvPytorchAndTF/lib/python3.8/site-packages/tensorflow/python/eager/execute.py?line=54'>55</a>\u001b[0m                                       inputs, attrs, num_outputs)\n\u001b[1;32m     <a href='file:///home/korbash/projects/torch_sensor_gpu/RQC-Robotics-tactile_sensor/venvPytorchAndTF/lib/python3.8/site-packages/tensorflow/python/eager/execute.py?line=55'>56</a>\u001b[0m \u001b[39mexcept\u001b[39;00m core\u001b[39m.\u001b[39m_NotOkStatusException \u001b[39mas\u001b[39;00m e:\n\u001b[1;32m     <a href='file:///home/korbash/projects/torch_sensor_gpu/RQC-Robotics-tactile_sensor/venvPytorchAndTF/lib/python3.8/site-packages/tensorflow/python/eager/execute.py?line=56'>57</a>\u001b[0m   \u001b[39mif\u001b[39;00m name \u001b[39mis\u001b[39;00m \u001b[39mnot\u001b[39;00m \u001b[39mNone\u001b[39;00m:\n",
      "\u001b[0;31mKeyboardInterrupt\u001b[0m: "
     ]
    }
   ],
   "source": [
    "# model.fit(dataset_b, epochs=n_epochs, verbose=1)\n",
    "tf.keras.utils.set_random_seed(seed=int(seeds[2]))  # use random\n",
    "model.fit(input, output, epochs=tr['n_epochs'], verbose=1)"
   ]
  },
  {
   "cell_type": "code",
   "execution_count": 13,
   "metadata": {
    "cellId": "xyvoz6f4edtsir4vw4mbo",
    "id": "yn0PxjqHW5Mj"
   },
   "outputs": [
    {
     "name": "stderr",
     "output_type": "stream",
     "text": [
      "WARNING:absl:Found untraced functions such as _jit_compiled_convolution_op, _jit_compiled_convolution_op, _jit_compiled_convolution_op, _jit_compiled_convolution_op, _jit_compiled_convolution_op while saving (showing 5 of 5). These functions will not be directly callable after loading.\n"
     ]
    },
    {
     "name": "stdout",
     "output_type": "stream",
     "text": [
      "INFO:tensorflow:Assets written to: models/SensorNN5S_norm_deep.nn/assets\n"
     ]
    },
    {
     "name": "stderr",
     "output_type": "stream",
     "text": [
      "INFO:tensorflow:Assets written to: models/SensorNN5S_norm_deep.nn/assets\n"
     ]
    }
   ],
   "source": [
    "model.save(jn(tr['models_path'], model_name + '.nn'))"
   ]
  },
  {
   "cell_type": "markdown",
   "metadata": {
    "cellId": "5m68q6aecufkzhregwm9",
    "id": "59CcWzTRao6i"
   },
   "source": [
    "# evoluate model on don't seen data"
   ]
  },
  {
   "cell_type": "code",
   "execution_count": 14,
   "metadata": {},
   "outputs": [],
   "source": [
    "ev = config['evaluate']"
   ]
  },
  {
   "cell_type": "code",
   "execution_count": 15,
   "metadata": {},
   "outputs": [
    {
     "data": {
      "text/plain": [
       "(900000, 64, 4)"
      ]
     },
     "execution_count": 15,
     "metadata": {},
     "output_type": "execute_result"
    }
   ],
   "source": [
    "input.shape"
   ]
  },
  {
   "cell_type": "code",
   "execution_count": 16,
   "metadata": {
    "cellId": "hp908y5rqlnqmj0rwdk7og",
    "id": "3EJRgZf_ahn8"
   },
   "outputs": [],
   "source": [
    "model = tf.keras.models.load_model(jn(tr['models_path'], model_name + '.nn'))"
   ]
  },
  {
   "cell_type": "code",
   "execution_count": 17,
   "metadata": {
    "cellId": "sryew8rev5sk0fxhof1fad",
    "id": "5f1CsIn2W-mx"
   },
   "outputs": [
    {
     "name": "stdout",
     "output_type": "stream",
     "text": [
      "313/313 [==============================] - 2s 4ms/step - loss: 0.2071 - accuracy: 0.0849\n"
     ]
    },
    {
     "name": "stderr",
     "output_type": "stream",
     "text": [
      "2022-06-11 20:04:49.876405: W tensorflow/core/framework/cpu_allocator_impl.cc:82] Allocation of 14745600000 exceeds 10% of free system memory.\n",
      "2022-06-11 20:05:14.009809: W tensorflow/core/framework/cpu_allocator_impl.cc:82] Allocation of 14745600000 exceeds 10% of free system memory.\n"
     ]
    },
    {
     "name": "stdout",
     "output_type": "stream",
     "text": [
      "28125/28125 [==============================] - 114s 4ms/step - loss: 0.1990 - accuracy: 0.1028\n"
     ]
    }
   ],
   "source": [
    "test = model.evaluate(input_test, output_test)\n",
    "train = model.evaluate(input, output)"
   ]
  },
  {
   "cell_type": "code",
   "execution_count": 18,
   "metadata": {},
   "outputs": [],
   "source": [
    "keys = ['loss','accuracy']\n",
    "test_d = dict(zip(keys, test))\n",
    "train_d = dict(zip(keys, train))\n",
    "res = {'train': train_d, 'test': test_d}\n",
    "with open(jn(ev['reports_path'], \"summary.json\"), \"w\") as f:\n",
    "    json.dump(res, f)"
   ]
  },
  {
   "cell_type": "code",
   "execution_count": 17,
   "metadata": {
    "cellId": "0mjlepsq9t4ky98kcqoh8zd",
    "id": "u7JN832XXD8w"
   },
   "outputs": [
    {
     "name": "stdout",
     "output_type": "stream",
     "text": [
      "313/313 [==============================] - 1s 3ms/step\n"
     ]
    },
    {
     "data": {
      "text/plain": [
       "(10000, 64, 64)"
      ]
     },
     "execution_count": 17,
     "metadata": {},
     "output_type": "execute_result"
    }
   ],
   "source": [
    "predictions = model.predict(input_test)\n",
    "predictions.shape"
   ]
  },
  {
   "cell_type": "markdown",
   "metadata": {
    "cellId": "rbse2nlcd3h9f0nucbc1tf",
    "id": "Dosd971-bpeh"
   },
   "source": [
    "# saving resalts"
   ]
  },
  {
   "cell_type": "code",
   "execution_count": null,
   "metadata": {
    "cellId": "yggb3i363hppnsz5id8yi",
    "id": "exK4-QIhXG7C"
   },
   "outputs": [],
   "source": [
    "with open(jn(ev['pred_path'], 'pred.npy'), 'wb') as f:\n",
    "    np.save(f, predictions)\n",
    "with open(jn(ev['pred_path'], 'true.npy'), 'wb') as f:\n",
    "    np.save(f, output_test)"
   ]
  },
  {
   "cell_type": "markdown",
   "metadata": {
    "cellId": "fc135ka0qptz32k3d3n7xf",
    "id": "SoeWHe4obu1u"
   },
   "source": [
    "# look on resalts"
   ]
  },
  {
   "cell_type": "code",
   "execution_count": null,
   "metadata": {},
   "outputs": [],
   "source": [
    "import sensor_lib.data_analis as ds"
   ]
  },
  {
   "cell_type": "code",
   "execution_count": null,
   "metadata": {},
   "outputs": [],
   "source": [
    "# path_true= jn(ev['pred_path'], 'true.npy')\n",
    "# path_pred= jn(ev['pred_path'], 'pred.npy')\n",
    "# inter=(81000,90000)\n",
    "# l=100000\n",
    "# n_ga_mas=[15,30]\n",
    "# n_fi_mas=[1,2,3,4,8,16]\n",
    "# dic=ds.get_dic(n_ga_mas,n_fi_mas, path_true, path_pred, l, inter)\n",
    "# df=pd.DataFrame(dic)"
   ]
  },
  {
   "cell_type": "code",
   "execution_count": null,
   "metadata": {
    "cellId": "zmrk4xfth886cjwbb72pza",
    "id": "R90KNoG0b4oi"
   },
   "outputs": [],
   "source": [
    "with open(jn(ev['pred_path'], 'pred.npy'), 'rb') as f:\n",
    "    predictions = np.load(f)\n",
    "with open(jn(ev['pred_path'], 'true.npy'), 'rb') as f:\n",
    "    output_test = np.load(f)"
   ]
  },
  {
   "cell_type": "code",
   "execution_count": null,
   "metadata": {},
   "outputs": [],
   "source": [
    "N = 0\n",
    "fig, axes = plt.subplots(1, 2, squeeze=True)\n",
    "axes[0].imshow(predictions[N])\n",
    "axes[0].set_title('pred')\n",
    "axes[1].imshow(output_test[N])\n",
    "axes[1].set_title('true')\n",
    "fig.set_figwidth(5 * 2)\n",
    "fig.set_figheight(5)\n",
    "fig.savefig(jn(ev['reports_path'], 'result_sampel.png'))\n",
    "plt.show()"
   ]
  },
  {
   "cell_type": "code",
   "execution_count": null,
   "metadata": {
    "cellId": "dtz68v8jwn6pwttc1nbag",
    "id": "T22TeQF6XJ9i"
   },
   "outputs": [],
   "source": [
    "print('len= ', len(predictions))\n",
    "N = 710 # number of exampel\n",
    "fig = plt.imshow(predictions[N])\n",
    "fig.savefig(jn(ev['report_path'],'result_sampel', 'pred.png'))\n",
    "plt.show()\n",
    "fig = plt.imshow(output_test[N])\n",
    "plt.show()"
   ]
  }
 ],
 "metadata": {
  "colab": {
   "include_colab_link": true,
   "name": "Untitled11.ipynb",
   "private_outputs": true,
   "provenance": []
  },
  "interpreter": {
   "hash": "e99257ad9e10e3258445396f20cee2b0bc7a8bf63881ff00d850e5c9ea0323e9"
  },
  "kernelspec": {
   "display_name": "Python 3.8.10 ('venvPytorchAndTF': venv)",
   "language": "python",
   "name": "python3"
  },
  "language_info": {
   "codemirror_mode": {
    "name": "ipython",
    "version": 3
   },
   "file_extension": ".py",
   "mimetype": "text/x-python",
   "name": "python",
   "nbconvert_exporter": "python",
   "pygments_lexer": "ipython3",
   "version": "3.8.10"
  },
  "notebookId": "481d3098-b4e4-4dca-8695-2093b7f3dc4c",
  "notebookPath": "RQC-Robotics-tactile_sensor/exampels/main.ipynb"
 },
 "nbformat": 4,
 "nbformat_minor": 4
}
