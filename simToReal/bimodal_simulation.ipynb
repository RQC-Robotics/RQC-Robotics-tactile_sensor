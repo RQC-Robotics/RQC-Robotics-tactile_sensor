{
 "cells": [
  {
   "cell_type": "markdown",
   "metadata": {},
   "source": [
    "### Always to run stuff"
   ]
  },
  {
   "cell_type": "code",
   "execution_count": 1,
   "metadata": {},
   "outputs": [
    {
     "name": "stdout",
     "output_type": "stream",
     "text": [
      "/home/amir/rqc_internship/frame_stack\n"
     ]
    }
   ],
   "source": [
    "%cd ..\n",
    "%load_ext autoreload\n",
    "%autoreload 2"
   ]
  },
  {
   "cell_type": "code",
   "execution_count": 2,
   "metadata": {},
   "outputs": [
    {
     "ename": "KeyboardInterrupt",
     "evalue": "",
     "output_type": "error",
     "traceback": [
      "\u001b[0;31m---------------------------------------------------------------------------\u001b[0m",
      "\u001b[0;31mKeyboardInterrupt\u001b[0m                         Traceback (most recent call last)",
      "\u001b[1;32m/home/amir/rqc_internship/frame_stack/simToReal/bimodal_simulation.ipynb Cell 3\u001b[0m in \u001b[0;36m<cell line: 2>\u001b[0;34m()\u001b[0m\n\u001b[1;32m      <a href='vscode-notebook-cell:/home/amir/rqc_internship/frame_stack/simToReal/bimodal_simulation.ipynb#W2sZmlsZQ%3D%3D?line=0'>1</a>\u001b[0m \u001b[39mimport\u001b[39;00m \u001b[39mnumpy\u001b[39;00m \u001b[39mas\u001b[39;00m \u001b[39mnp\u001b[39;00m\n\u001b[0;32m----> <a href='vscode-notebook-cell:/home/amir/rqc_internship/frame_stack/simToReal/bimodal_simulation.ipynb#W2sZmlsZQ%3D%3D?line=1'>2</a>\u001b[0m \u001b[39mimport\u001b[39;00m \u001b[39mmatplotlib\u001b[39;00m\u001b[39m.\u001b[39;00m\u001b[39mpyplot\u001b[39;00m \u001b[39mas\u001b[39;00m \u001b[39mplt\u001b[39;00m\n\u001b[1;32m      <a href='vscode-notebook-cell:/home/amir/rqc_internship/frame_stack/simToReal/bimodal_simulation.ipynb#W2sZmlsZQ%3D%3D?line=2'>3</a>\u001b[0m \u001b[39mfrom\u001b[39;00m \u001b[39mos\u001b[39;00m\u001b[39m.\u001b[39;00m\u001b[39mpath\u001b[39;00m \u001b[39mimport\u001b[39;00m join \u001b[39mas\u001b[39;00m jn\n\u001b[1;32m      <a href='vscode-notebook-cell:/home/amir/rqc_internship/frame_stack/simToReal/bimodal_simulation.ipynb#W2sZmlsZQ%3D%3D?line=3'>4</a>\u001b[0m \u001b[39mimport\u001b[39;00m \u001b[39mos\u001b[39;00m\n",
      "File \u001b[0;32m~/anaconda3/envs/rqc_env/lib/python3.10/site-packages/matplotlib/pyplot.py:49\u001b[0m, in \u001b[0;36m<module>\u001b[0;34m\u001b[0m\n\u001b[1;32m     47\u001b[0m \u001b[39mfrom\u001b[39;00m \u001b[39mcycler\u001b[39;00m \u001b[39mimport\u001b[39;00m cycler\n\u001b[1;32m     48\u001b[0m \u001b[39mimport\u001b[39;00m \u001b[39mmatplotlib\u001b[39;00m\n\u001b[0;32m---> 49\u001b[0m \u001b[39mimport\u001b[39;00m \u001b[39mmatplotlib\u001b[39;00m\u001b[39m.\u001b[39;00m\u001b[39mcolorbar\u001b[39;00m\n\u001b[1;32m     50\u001b[0m \u001b[39mimport\u001b[39;00m \u001b[39mmatplotlib\u001b[39;00m\u001b[39m.\u001b[39;00m\u001b[39mimage\u001b[39;00m\n\u001b[1;32m     51\u001b[0m \u001b[39mfrom\u001b[39;00m \u001b[39mmatplotlib\u001b[39;00m \u001b[39mimport\u001b[39;00m _api\n",
      "File \u001b[0;32m~/anaconda3/envs/rqc_env/lib/python3.10/site-packages/matplotlib/colorbar.py:21\u001b[0m, in \u001b[0;36m<module>\u001b[0;34m\u001b[0m\n\u001b[1;32m     18\u001b[0m \u001b[39mimport\u001b[39;00m \u001b[39mnumpy\u001b[39;00m \u001b[39mas\u001b[39;00m \u001b[39mnp\u001b[39;00m\n\u001b[1;32m     20\u001b[0m \u001b[39mimport\u001b[39;00m \u001b[39mmatplotlib\u001b[39;00m \u001b[39mas\u001b[39;00m \u001b[39mmpl\u001b[39;00m\n\u001b[0;32m---> 21\u001b[0m \u001b[39mfrom\u001b[39;00m \u001b[39mmatplotlib\u001b[39;00m \u001b[39mimport\u001b[39;00m _api, collections, cm, colors, contour, ticker\n\u001b[1;32m     22\u001b[0m \u001b[39mimport\u001b[39;00m \u001b[39mmatplotlib\u001b[39;00m\u001b[39m.\u001b[39;00m\u001b[39martist\u001b[39;00m \u001b[39mas\u001b[39;00m \u001b[39mmartist\u001b[39;00m\n\u001b[1;32m     23\u001b[0m \u001b[39mimport\u001b[39;00m \u001b[39mmatplotlib\u001b[39;00m\u001b[39m.\u001b[39;00m\u001b[39mpatches\u001b[39;00m \u001b[39mas\u001b[39;00m \u001b[39mmpatches\u001b[39;00m\n",
      "File \u001b[0;32m~/anaconda3/envs/rqc_env/lib/python3.10/site-packages/matplotlib/contour.py:13\u001b[0m, in \u001b[0;36m<module>\u001b[0;34m\u001b[0m\n\u001b[1;32m     11\u001b[0m \u001b[39mimport\u001b[39;00m \u001b[39mmatplotlib\u001b[39;00m \u001b[39mas\u001b[39;00m \u001b[39mmpl\u001b[39;00m\n\u001b[1;32m     12\u001b[0m \u001b[39mfrom\u001b[39;00m \u001b[39mmatplotlib\u001b[39;00m \u001b[39mimport\u001b[39;00m _api, docstring\n\u001b[0;32m---> 13\u001b[0m \u001b[39mfrom\u001b[39;00m \u001b[39mmatplotlib\u001b[39;00m\u001b[39m.\u001b[39;00m\u001b[39mbackend_bases\u001b[39;00m \u001b[39mimport\u001b[39;00m MouseButton\n\u001b[1;32m     14\u001b[0m \u001b[39mimport\u001b[39;00m \u001b[39mmatplotlib\u001b[39;00m\u001b[39m.\u001b[39;00m\u001b[39mpath\u001b[39;00m \u001b[39mas\u001b[39;00m \u001b[39mmpath\u001b[39;00m\n\u001b[1;32m     15\u001b[0m \u001b[39mimport\u001b[39;00m \u001b[39mmatplotlib\u001b[39;00m\u001b[39m.\u001b[39;00m\u001b[39mticker\u001b[39;00m \u001b[39mas\u001b[39;00m \u001b[39mticker\u001b[39;00m\n",
      "File \u001b[0;32m~/anaconda3/envs/rqc_env/lib/python3.10/site-packages/matplotlib/backend_bases.py:46\u001b[0m, in \u001b[0;36m<module>\u001b[0;34m\u001b[0m\n\u001b[1;32m     43\u001b[0m \u001b[39mimport\u001b[39;00m \u001b[39mnumpy\u001b[39;00m \u001b[39mas\u001b[39;00m \u001b[39mnp\u001b[39;00m\n\u001b[1;32m     45\u001b[0m \u001b[39mimport\u001b[39;00m \u001b[39mmatplotlib\u001b[39;00m \u001b[39mas\u001b[39;00m \u001b[39mmpl\u001b[39;00m\n\u001b[0;32m---> 46\u001b[0m \u001b[39mfrom\u001b[39;00m \u001b[39mmatplotlib\u001b[39;00m \u001b[39mimport\u001b[39;00m (\n\u001b[1;32m     47\u001b[0m     _api, backend_tools \u001b[39mas\u001b[39;00m tools, cbook, colors, docstring, textpath,\n\u001b[1;32m     48\u001b[0m     tight_bbox, transforms, widgets, get_backend, is_interactive, rcParams)\n\u001b[1;32m     49\u001b[0m \u001b[39mfrom\u001b[39;00m \u001b[39mmatplotlib\u001b[39;00m\u001b[39m.\u001b[39;00m\u001b[39m_pylab_helpers\u001b[39;00m \u001b[39mimport\u001b[39;00m Gcf\n\u001b[1;32m     50\u001b[0m \u001b[39mfrom\u001b[39;00m \u001b[39mmatplotlib\u001b[39;00m\u001b[39m.\u001b[39;00m\u001b[39mbackend_managers\u001b[39;00m \u001b[39mimport\u001b[39;00m ToolManager\n",
      "File \u001b[0;32m~/anaconda3/envs/rqc_env/lib/python3.10/site-packages/matplotlib/widgets.py:22\u001b[0m, in \u001b[0;36m<module>\u001b[0;34m\u001b[0m\n\u001b[1;32m     20\u001b[0m \u001b[39mfrom\u001b[39;00m \u001b[39m.\u001b[39;00m \u001b[39mimport\u001b[39;00m _api, backend_tools, cbook, colors, ticker\n\u001b[1;32m     21\u001b[0m \u001b[39mfrom\u001b[39;00m \u001b[39m.\u001b[39;00m\u001b[39mlines\u001b[39;00m \u001b[39mimport\u001b[39;00m Line2D\n\u001b[0;32m---> 22\u001b[0m \u001b[39mfrom\u001b[39;00m \u001b[39m.\u001b[39;00m\u001b[39mpatches\u001b[39;00m \u001b[39mimport\u001b[39;00m Circle, Rectangle, Ellipse\n\u001b[1;32m     23\u001b[0m \u001b[39mfrom\u001b[39;00m \u001b[39m.\u001b[39;00m\u001b[39mtransforms\u001b[39;00m \u001b[39mimport\u001b[39;00m TransformedPatchPath\n\u001b[1;32m     26\u001b[0m \u001b[39mclass\u001b[39;00m \u001b[39mLockDraw\u001b[39;00m:\n",
      "File \u001b[0;32m~/anaconda3/envs/rqc_env/lib/python3.10/site-packages/matplotlib/patches.py:1138\u001b[0m, in \u001b[0;36m<module>\u001b[0;34m\u001b[0m\n\u001b[1;32m   1132\u001b[0m         \u001b[39mself\u001b[39m\u001b[39m.\u001b[39mstale \u001b[39m=\u001b[39m \u001b[39mTrue\u001b[39;00m\n\u001b[1;32m   1134\u001b[0m     xy \u001b[39m=\u001b[39m \u001b[39mproperty\u001b[39m(get_xy, set_xy,\n\u001b[1;32m   1135\u001b[0m                   doc\u001b[39m=\u001b[39m\u001b[39m'\u001b[39m\u001b[39mThe vertices of the path as (N, 2) numpy array.\u001b[39m\u001b[39m'\u001b[39m)\n\u001b[0;32m-> 1138\u001b[0m \u001b[39mclass\u001b[39;00m \u001b[39mWedge\u001b[39;00m(Patch):\n\u001b[1;32m   1139\u001b[0m     \u001b[39m\"\"\"Wedge shaped patch.\"\"\"\u001b[39;00m\n\u001b[1;32m   1141\u001b[0m     \u001b[39mdef\u001b[39;00m \u001b[39m__str__\u001b[39m(\u001b[39mself\u001b[39m):\n",
      "File \u001b[0;32m~/anaconda3/envs/rqc_env/lib/python3.10/site-packages/matplotlib/artist.py:120\u001b[0m, in \u001b[0;36mArtist.__init_subclass__\u001b[0;34m(cls)\u001b[0m\n\u001b[1;32m    118\u001b[0m \u001b[39mcls\u001b[39m\u001b[39m.\u001b[39mset\u001b[39m.\u001b[39m\u001b[39m__name__\u001b[39m \u001b[39m=\u001b[39m \u001b[39m\"\u001b[39m\u001b[39mset\u001b[39m\u001b[39m\"\u001b[39m\n\u001b[1;32m    119\u001b[0m \u001b[39mcls\u001b[39m\u001b[39m.\u001b[39mset\u001b[39m.\u001b[39m\u001b[39m__qualname__\u001b[39m \u001b[39m=\u001b[39m \u001b[39mf\u001b[39m\u001b[39m\"\u001b[39m\u001b[39m{\u001b[39;00m\u001b[39mcls\u001b[39m\u001b[39m.\u001b[39m\u001b[39m__qualname__\u001b[39m\u001b[39m}\u001b[39;00m\u001b[39m.set\u001b[39m\u001b[39m\"\u001b[39m\n\u001b[0;32m--> 120\u001b[0m \u001b[39mcls\u001b[39;49m\u001b[39m.\u001b[39;49m_update_set_signature_and_docstring()\n",
      "File \u001b[0;32m~/anaconda3/envs/rqc_env/lib/python3.10/site-packages/matplotlib/artist.py:141\u001b[0m, in \u001b[0;36mArtist._update_set_signature_and_docstring\u001b[0;34m(cls)\u001b[0m\n\u001b[1;32m    129\u001b[0m \u001b[39m@classmethod\u001b[39m\n\u001b[1;32m    130\u001b[0m \u001b[39mdef\u001b[39;00m \u001b[39m_update_set_signature_and_docstring\u001b[39m(\u001b[39mcls\u001b[39m):\n\u001b[1;32m    131\u001b[0m     \u001b[39m\"\"\"\u001b[39;00m\n\u001b[1;32m    132\u001b[0m \u001b[39m    Update the signature of the set function to list all properties\u001b[39;00m\n\u001b[1;32m    133\u001b[0m \u001b[39m    as keyword arguments.\u001b[39;00m\n\u001b[0;32m   (...)\u001b[0m\n\u001b[1;32m    136\u001b[0m \u001b[39m    are still accepted as keyword arguments.\u001b[39;00m\n\u001b[1;32m    137\u001b[0m \u001b[39m    \"\"\"\u001b[39;00m\n\u001b[1;32m    138\u001b[0m     \u001b[39mcls\u001b[39m\u001b[39m.\u001b[39mset\u001b[39m.\u001b[39m__signature__ \u001b[39m=\u001b[39m Signature(\n\u001b[1;32m    139\u001b[0m         [Parameter(\u001b[39m\"\u001b[39m\u001b[39mself\u001b[39m\u001b[39m\"\u001b[39m, Parameter\u001b[39m.\u001b[39mPOSITIONAL_OR_KEYWORD),\n\u001b[1;32m    140\u001b[0m          \u001b[39m*\u001b[39m[Parameter(prop, Parameter\u001b[39m.\u001b[39mKEYWORD_ONLY, default\u001b[39m=\u001b[39m_UNSET)\n\u001b[0;32m--> 141\u001b[0m            \u001b[39mfor\u001b[39;00m prop \u001b[39min\u001b[39;00m ArtistInspector(\u001b[39mcls\u001b[39;49m)\u001b[39m.\u001b[39;49mget_setters()\n\u001b[1;32m    142\u001b[0m            \u001b[39mif\u001b[39;00m prop \u001b[39mnot\u001b[39;00m \u001b[39min\u001b[39;00m Artist\u001b[39m.\u001b[39m_PROPERTIES_EXCLUDED_FROM_SET]])\n\u001b[1;32m    143\u001b[0m     \u001b[39mcls\u001b[39m\u001b[39m.\u001b[39mset\u001b[39m.\u001b[39m_autogenerated_signature \u001b[39m=\u001b[39m \u001b[39mTrue\u001b[39;00m\n\u001b[1;32m    145\u001b[0m     \u001b[39mcls\u001b[39m\u001b[39m.\u001b[39mset\u001b[39m.\u001b[39m\u001b[39m__doc__\u001b[39m \u001b[39m=\u001b[39m (\n\u001b[1;32m    146\u001b[0m         \u001b[39m\"\u001b[39m\u001b[39mSet multiple properties at once.\u001b[39m\u001b[39m\\n\u001b[39;00m\u001b[39m\\n\u001b[39;00m\u001b[39m\"\u001b[39m\n\u001b[1;32m    147\u001b[0m         \u001b[39m\"\u001b[39m\u001b[39mSupported properties are\u001b[39m\u001b[39m\\n\u001b[39;00m\u001b[39m\\n\u001b[39;00m\u001b[39m\"\u001b[39m\n\u001b[1;32m    148\u001b[0m         \u001b[39m+\u001b[39m kwdoc(\u001b[39mcls\u001b[39m))\n",
      "File \u001b[0;32m~/anaconda3/envs/rqc_env/lib/python3.10/site-packages/matplotlib/artist.py:1448\u001b[0m, in \u001b[0;36mArtistInspector.get_setters\u001b[0;34m(self)\u001b[0m\n\u001b[1;32m   1445\u001b[0m     \u001b[39mcontinue\u001b[39;00m\n\u001b[1;32m   1446\u001b[0m func \u001b[39m=\u001b[39m \u001b[39mgetattr\u001b[39m(\u001b[39mself\u001b[39m\u001b[39m.\u001b[39mo, name)\n\u001b[1;32m   1447\u001b[0m \u001b[39mif\u001b[39;00m (\u001b[39mnot\u001b[39;00m callable(func)\n\u001b[0;32m-> 1448\u001b[0m         \u001b[39mor\u001b[39;00m \u001b[39mlen\u001b[39m(inspect\u001b[39m.\u001b[39;49msignature(func)\u001b[39m.\u001b[39mparameters) \u001b[39m<\u001b[39m \u001b[39m2\u001b[39m\n\u001b[1;32m   1449\u001b[0m         \u001b[39mor\u001b[39;00m \u001b[39mself\u001b[39m\u001b[39m.\u001b[39mis_alias(func)):\n\u001b[1;32m   1450\u001b[0m     \u001b[39mcontinue\u001b[39;00m\n\u001b[1;32m   1451\u001b[0m setters\u001b[39m.\u001b[39mappend(name[\u001b[39m4\u001b[39m:])\n",
      "File \u001b[0;32m~/anaconda3/envs/rqc_env/lib/python3.10/inspect.py:3247\u001b[0m, in \u001b[0;36msignature\u001b[0;34m(obj, follow_wrapped, globals, locals, eval_str)\u001b[0m\n\u001b[1;32m   3245\u001b[0m \u001b[39mdef\u001b[39;00m \u001b[39msignature\u001b[39m(obj, \u001b[39m*\u001b[39m, follow_wrapped\u001b[39m=\u001b[39m\u001b[39mTrue\u001b[39;00m, \u001b[39mglobals\u001b[39m\u001b[39m=\u001b[39m\u001b[39mNone\u001b[39;00m, \u001b[39mlocals\u001b[39m\u001b[39m=\u001b[39m\u001b[39mNone\u001b[39;00m, eval_str\u001b[39m=\u001b[39m\u001b[39mFalse\u001b[39;00m):\n\u001b[1;32m   3246\u001b[0m     \u001b[39m\"\"\"Get a signature object for the passed callable.\"\"\"\u001b[39;00m\n\u001b[0;32m-> 3247\u001b[0m     \u001b[39mreturn\u001b[39;00m Signature\u001b[39m.\u001b[39;49mfrom_callable(obj, follow_wrapped\u001b[39m=\u001b[39;49mfollow_wrapped,\n\u001b[1;32m   3248\u001b[0m                                    \u001b[39mglobals\u001b[39;49m\u001b[39m=\u001b[39;49m\u001b[39mglobals\u001b[39;49m, \u001b[39mlocals\u001b[39;49m\u001b[39m=\u001b[39;49m\u001b[39mlocals\u001b[39;49m, eval_str\u001b[39m=\u001b[39;49meval_str)\n",
      "File \u001b[0;32m~/anaconda3/envs/rqc_env/lib/python3.10/inspect.py:2995\u001b[0m, in \u001b[0;36mSignature.from_callable\u001b[0;34m(cls, obj, follow_wrapped, globals, locals, eval_str)\u001b[0m\n\u001b[1;32m   2991\u001b[0m \u001b[39m@classmethod\u001b[39m\n\u001b[1;32m   2992\u001b[0m \u001b[39mdef\u001b[39;00m \u001b[39mfrom_callable\u001b[39m(\u001b[39mcls\u001b[39m, obj, \u001b[39m*\u001b[39m,\n\u001b[1;32m   2993\u001b[0m                   follow_wrapped\u001b[39m=\u001b[39m\u001b[39mTrue\u001b[39;00m, \u001b[39mglobals\u001b[39m\u001b[39m=\u001b[39m\u001b[39mNone\u001b[39;00m, \u001b[39mlocals\u001b[39m\u001b[39m=\u001b[39m\u001b[39mNone\u001b[39;00m, eval_str\u001b[39m=\u001b[39m\u001b[39mFalse\u001b[39;00m):\n\u001b[1;32m   2994\u001b[0m     \u001b[39m\"\"\"Constructs Signature for the given callable object.\"\"\"\u001b[39;00m\n\u001b[0;32m-> 2995\u001b[0m     \u001b[39mreturn\u001b[39;00m _signature_from_callable(obj, sigcls\u001b[39m=\u001b[39;49m\u001b[39mcls\u001b[39;49m,\n\u001b[1;32m   2996\u001b[0m                                     follow_wrapper_chains\u001b[39m=\u001b[39;49mfollow_wrapped,\n\u001b[1;32m   2997\u001b[0m                                     \u001b[39mglobals\u001b[39;49m\u001b[39m=\u001b[39;49m\u001b[39mglobals\u001b[39;49m, \u001b[39mlocals\u001b[39;49m\u001b[39m=\u001b[39;49m\u001b[39mlocals\u001b[39;49m, eval_str\u001b[39m=\u001b[39;49meval_str)\n",
      "File \u001b[0;32m~/anaconda3/envs/rqc_env/lib/python3.10/inspect.py:2456\u001b[0m, in \u001b[0;36m_signature_from_callable\u001b[0;34m(obj, follow_wrapper_chains, skip_bound_arg, globals, locals, eval_str, sigcls)\u001b[0m\n\u001b[1;32m   2451\u001b[0m             \u001b[39mreturn\u001b[39;00m sig\u001b[39m.\u001b[39mreplace(parameters\u001b[39m=\u001b[39mnew_params)\n\u001b[1;32m   2453\u001b[0m \u001b[39mif\u001b[39;00m isfunction(obj) \u001b[39mor\u001b[39;00m _signature_is_functionlike(obj):\n\u001b[1;32m   2454\u001b[0m     \u001b[39m# If it's a pure Python function, or an object that is duck type\u001b[39;00m\n\u001b[1;32m   2455\u001b[0m     \u001b[39m# of a Python function (Cython functions, for instance), then:\u001b[39;00m\n\u001b[0;32m-> 2456\u001b[0m     \u001b[39mreturn\u001b[39;00m _signature_from_function(sigcls, obj,\n\u001b[1;32m   2457\u001b[0m                                     skip_bound_arg\u001b[39m=\u001b[39;49mskip_bound_arg,\n\u001b[1;32m   2458\u001b[0m                                     \u001b[39mglobals\u001b[39;49m\u001b[39m=\u001b[39;49m\u001b[39mglobals\u001b[39;49m, \u001b[39mlocals\u001b[39;49m\u001b[39m=\u001b[39;49m\u001b[39mlocals\u001b[39;49m, eval_str\u001b[39m=\u001b[39;49meval_str)\n\u001b[1;32m   2460\u001b[0m \u001b[39mif\u001b[39;00m _signature_is_builtin(obj):\n\u001b[1;32m   2461\u001b[0m     \u001b[39mreturn\u001b[39;00m _signature_from_builtin(sigcls, obj,\n\u001b[1;32m   2462\u001b[0m                                    skip_bound_arg\u001b[39m=\u001b[39mskip_bound_arg)\n",
      "File \u001b[0;32m~/anaconda3/envs/rqc_env/lib/python3.10/inspect.py:2321\u001b[0m, in \u001b[0;36m_signature_from_function\u001b[0;34m(cls, func, skip_bound_arg, globals, locals, eval_str)\u001b[0m\n\u001b[1;32m   2319\u001b[0m kind \u001b[39m=\u001b[39m _POSITIONAL_ONLY \u001b[39mif\u001b[39;00m posonly_left \u001b[39melse\u001b[39;00m _POSITIONAL_OR_KEYWORD\n\u001b[1;32m   2320\u001b[0m annotation \u001b[39m=\u001b[39m annotations\u001b[39m.\u001b[39mget(name, _empty)\n\u001b[0;32m-> 2321\u001b[0m parameters\u001b[39m.\u001b[39mappend(Parameter(name, annotation\u001b[39m=\u001b[39;49mannotation,\n\u001b[1;32m   2322\u001b[0m                             kind\u001b[39m=\u001b[39;49mkind))\n\u001b[1;32m   2323\u001b[0m \u001b[39mif\u001b[39;00m posonly_left:\n\u001b[1;32m   2324\u001b[0m     posonly_left \u001b[39m-\u001b[39m\u001b[39m=\u001b[39m \u001b[39m1\u001b[39m\n",
      "\u001b[0;31mKeyboardInterrupt\u001b[0m: "
     ]
    }
   ],
   "source": [
    "import numpy as np\n",
    "import matplotlib.pyplot as plt\n",
    "from os.path import join as jn\n",
    "import os\n",
    "import yaml\n",
    "import torch\n",
    "from torchinfo import summary\n",
    "from tqdm.notebook import tqdm\n",
    "from torch.utils.data import DataLoader, Dataset\n"
   ]
  },
  {
   "cell_type": "code",
   "execution_count": null,
   "metadata": {},
   "outputs": [],
   "source": [
    "from video_pipeline.video_module import *"
   ]
  },
  {
   "cell_type": "code",
   "execution_count": null,
   "metadata": {},
   "outputs": [],
   "source": [
    "with open('params.yaml') as conf_file:\n",
    "    config = yaml.safe_load(conf_file)\n",
    "with open('pathes.yaml') as conf_file:\n",
    "    path_config = yaml.safe_load(conf_file)\n",
    "\n",
    "pressure_path = path_config['p_video_path']\n",
    "signal_path = path_config['s_video_path']\n"
   ]
  },
  {
   "cell_type": "code",
   "execution_count": null,
   "metadata": {},
   "outputs": [],
   "source": [
    "\n",
    "input_path = path_config['s_video_path']\n",
    "output_path = path_config['p_video_path']\n",
    "\n",
    "tr = config['video_train']\n",
    "frames_number, frames_interval = tr[\"frames_number\"], tr[\"frames_interval\"]\n",
    "\n",
    "# test_dataset = Stack_dataset(jn(output_path, 'test'), jn(input_path, 'test'), frames_number,\n",
    "#                              frames_interval)\n",
    "# train_dataset = Stack_dataset(jn(output_path, 'train'), jn(input_path, 'train'), frames_number,\n",
    "#                               frames_interval)\n",
    "\n",
    "def get_elemenst_from_dataset(slice, key_id=10):\n",
    "    pressure_path, signal_path = jn(output_path, 'test'), jn(input_path, 'test')\n",
    "    name = \"test.hdf5\"\n",
    "    # i = 50\n",
    "\n",
    "    with h5py.File(jn(signal_path, name)) as signal_file, \\\n",
    "            h5py.File(jn(pressure_path, name)) as pres_file:\n",
    "            key = list(signal_file.keys())[key_id]\n",
    "                # for key in tqdm(signal_file.keys(), dynamic_ncols=True, position=1, leave=False):\n",
    "\n",
    "            signal = (signal_file[key][slice].astype(np.float32))\n",
    "            pressure = (pres_file[key][slice].astype(np.float32))\n",
    "    return pressure, signal"
   ]
  },
  {
   "cell_type": "code",
   "execution_count": null,
   "metadata": {},
   "outputs": [],
   "source": [
    "import torch_sensor_lib as tsl\n",
    "sim = tsl.FiberSimulator(config)\n",
    "import torch_real_sim_lib as trsl\n",
    "new_sim = trsl.FiberSimulator(config)"
   ]
  },
  {
   "cell_type": "code",
   "execution_count": null,
   "metadata": {},
   "outputs": [],
   "source": [
    "import matplotlib.pyplot as plt\n",
    "from IPython.display import clear_output\n",
    "import time "
   ]
  },
  {
   "cell_type": "markdown",
   "metadata": {},
   "source": [
    "### Клетка для запуска."
   ]
  },
  {
   "cell_type": "code",
   "execution_count": null,
   "metadata": {},
   "outputs": [],
   "source": []
  },
  {
   "cell_type": "markdown",
   "metadata": {},
   "source": [
    "### End of always run stuff.\n",
    "### Beginning of usful optional code."
   ]
  },
  {
   "cell_type": "markdown",
   "metadata": {},
   "source": [
    "### comparing predictions"
   ]
  },
  {
   "cell_type": "code",
   "execution_count": null,
   "metadata": {},
   "outputs": [],
   "source": [
    "import torch_bimodal_sim_lib as tbsl\n",
    "simb = tbsl.FiberSimulator(config)"
   ]
  },
  {
   "cell_type": "code",
   "execution_count": null,
   "metadata": {},
   "outputs": [
    {
     "name": "stdout",
     "output_type": "stream",
     "text": [
      "CUDA is NOT available.  Training on CPU ...\n"
     ]
    }
   ],
   "source": [
    "\n",
    "if not torch.cuda.is_available():\n",
    "    print('CUDA is NOT available.  Training on CPU ...')\n",
    "else:\n",
    "    print('CUDA is available!  Training on GPU ...')\n",
    "device = 'cuda' if torch.cuda.is_available() else 'cpu'\n",
    "\n",
    "# %%\n",
    "tr = config['video_train']"
   ]
  },
  {
   "cell_type": "code",
   "execution_count": null,
   "metadata": {},
   "outputs": [
    {
     "name": "stdout",
     "output_type": "stream",
     "text": [
      "input chain shape:  (1, 4, 64) \n",
      "output chain shape:  (64, 64)\n",
      "ParamUnet(\n",
      "  (step1): Sequential(\n",
      "    (0): Conv2d(4, 16, kernel_size=(3, 3), stride=(1, 1), padding=same)\n",
      "    (1): ReLU()\n",
      "    (2): Conv2d(16, 16, kernel_size=(3, 3), stride=(1, 1), padding=same)\n",
      "    (3): ReLU()\n",
      "    (4): Conv2d(16, 16, kernel_size=(3, 3), stride=(1, 1), padding=same)\n",
      "    (5): ReLU()\n",
      "  )\n",
      "  (finalConv): Sequential(\n",
      "    (0): Conv2d(32, 16, kernel_size=(3, 3), stride=(1, 1), padding=same)\n",
      "    (1): ReLU()\n",
      "    (2): Conv2d(16, 16, kernel_size=(3, 3), stride=(1, 1), padding=same)\n",
      "    (3): ReLU()\n",
      "    (4): Conv2d(16, 1, kernel_size=(1, 1), stride=(1, 1), padding=same)\n",
      "  )\n",
      "  (bottom): Sequential(\n",
      "    (0): Sequential(\n",
      "      (0): Conv2d(4, 16, kernel_size=(3, 3), stride=(1, 1), padding=same)\n",
      "      (1): ReLU()\n",
      "      (2): Conv2d(16, 16, kernel_size=(3, 3), stride=(1, 1), padding=same)\n",
      "      (3): ReLU()\n",
      "      (4): Conv2d(16, 16, kernel_size=(3, 3), stride=(1, 1), padding=same)\n",
      "      (5): ReLU()\n",
      "    )\n",
      "    (1): Sequential(\n",
      "      (0): Conv2d(16, 32, kernel_size=(3, 3), stride=(2, 2), padding=(1, 1))\n",
      "      (1): ReLU()\n",
      "      (2): Conv2d(32, 32, kernel_size=(3, 3), stride=(1, 1), padding=same)\n",
      "      (3): ReLU()\n",
      "      (4): Conv2d(32, 32, kernel_size=(3, 3), stride=(1, 1), padding=same)\n",
      "      (5): ReLU()\n",
      "      (6): Conv2d(32, 32, kernel_size=(3, 3), stride=(1, 1), padding=same)\n",
      "      (7): ReLU()\n",
      "    )\n",
      "    (2): Sequential(\n",
      "      (0): Conv2d(32, 64, kernel_size=(3, 3), stride=(2, 2), padding=(1, 1))\n",
      "      (1): ReLU()\n",
      "      (2): Conv2d(64, 64, kernel_size=(3, 3), stride=(1, 1), padding=same)\n",
      "      (3): ReLU()\n",
      "      (4): Conv2d(64, 64, kernel_size=(3, 3), stride=(1, 1), padding=same)\n",
      "      (5): ReLU()\n",
      "      (6): Conv2d(64, 64, kernel_size=(3, 3), stride=(1, 1), padding=same)\n",
      "      (7): ReLU()\n",
      "    )\n",
      "    (3): Sequential(\n",
      "      (0): Conv2d(64, 64, kernel_size=(3, 3), stride=(2, 2), padding=(1, 1))\n",
      "      (1): ReLU()\n",
      "      (2): Conv2d(64, 64, kernel_size=(3, 3), stride=(1, 1), padding=same)\n",
      "      (3): ReLU()\n",
      "      (4): Conv2d(64, 64, kernel_size=(3, 3), stride=(1, 1), padding=same)\n",
      "      (5): ReLU()\n",
      "    )\n",
      "    (4): Sequential(\n",
      "      (0): Conv2d(64, 64, kernel_size=(3, 3), stride=(1, 1), padding=same)\n",
      "      (1): ReLU()\n",
      "      (2): Conv2d(64, 64, kernel_size=(3, 3), stride=(1, 1), padding=same)\n",
      "      (3): ReLU()\n",
      "      (4): ConvTranspose2d(64, 64, kernel_size=(2, 2), stride=(2, 2))\n",
      "      (5): ReLU()\n",
      "    )\n",
      "    (5): Sequential(\n",
      "      (0): Conv2d(128, 64, kernel_size=(3, 3), stride=(1, 1), padding=same)\n",
      "      (1): ReLU()\n",
      "      (2): Conv2d(64, 64, kernel_size=(3, 3), stride=(1, 1), padding=same)\n",
      "      (3): ReLU()\n",
      "      (4): Conv2d(64, 64, kernel_size=(3, 3), stride=(1, 1), padding=same)\n",
      "      (5): ReLU()\n",
      "      (6): ConvTranspose2d(64, 32, kernel_size=(2, 2), stride=(2, 2))\n",
      "      (7): ReLU()\n",
      "    )\n",
      "    (6): Sequential(\n",
      "      (0): Conv2d(64, 32, kernel_size=(3, 3), stride=(1, 1), padding=same)\n",
      "      (1): ReLU()\n",
      "      (2): Conv2d(32, 32, kernel_size=(3, 3), stride=(1, 1), padding=same)\n",
      "      (3): ReLU()\n",
      "      (4): Conv2d(32, 32, kernel_size=(3, 3), stride=(1, 1), padding=same)\n",
      "      (5): ReLU()\n",
      "      (6): ConvTranspose2d(32, 16, kernel_size=(2, 2), stride=(2, 2))\n",
      "      (7): ReLU()\n",
      "    )\n",
      "    (7): Sequential(\n",
      "      (0): Conv2d(32, 16, kernel_size=(3, 3), stride=(1, 1), padding=same)\n",
      "      (1): ReLU()\n",
      "      (2): Conv2d(16, 16, kernel_size=(3, 3), stride=(1, 1), padding=same)\n",
      "      (3): ReLU()\n",
      "      (4): Conv2d(16, 1, kernel_size=(1, 1), stride=(1, 1), padding=same)\n",
      "    )\n",
      "  )\n",
      "  (upsample): Upsample(size=(64, 64), mode=bilinear)\n",
      ")\n"
     ]
    }
   ],
   "source": [
    "\n",
    "signal_shape, pressure_shape = (1, 4, 64), (64, 64)\n",
    "print('input chain shape: ', signal_shape, '\\noutput chain shape: ',\n",
    "      pressure_shape)\n",
    "\n",
    "model_name = tr['model_name']\n",
    "from video_pipeline import models_src\n",
    "\n",
    "model_class = eval(f\"models_src.{model_name}\")\n",
    "\n",
    "args = []\n",
    "if model_name.startswith(\"Param\"):\n",
    "    layers = tr['layers']\n",
    "    args.append(layers)\n",
    "args.append(frames_number)\n",
    "args.append(frames_interval)\n",
    "model = model_class(pressure_shape[-2:], signal_shape[-2:], *args)\n",
    "model = model.to(device)\n",
    "\n",
    "print(model)"
   ]
  },
  {
   "cell_type": "code",
   "execution_count": null,
   "metadata": {},
   "outputs": [],
   "source": [
    "# loading data\n",
    "pressure, signal = get_elemenst_from_dataset(slice(300), key_id=100)\n",
    "# plt.imshow(pressure[0])\n",
    "# plt.show()"
   ]
  },
  {
   "cell_type": "code",
   "execution_count": null,
   "metadata": {},
   "outputs": [],
   "source": [
    "checkpoint = torch.load(\"data/365_id_model.pt\",\n",
    "                     map_location=device)\n",
    "model.load_state_dict(checkpoint['model_state_dict'])\n",
    "\n",
    "model.eval();"
   ]
  },
  {
   "cell_type": "markdown",
   "metadata": {},
   "source": [
    "#### Закончил играться. Теперь делаю нормальную функцию."
   ]
  },
  {
   "cell_type": "code",
   "execution_count": null,
   "metadata": {},
   "outputs": [
    {
     "data": {
      "image/png": "[encoded data removed]",
      "text/plain": [
       "<Figure size 1600x900 with 6 Axes>"
      ]
     },
     "metadata": {},
     "output_type": "display_data"
    }
   ],
   "source": [
    "\n",
    "for i in range(110, 115, 5):\n",
    "    clear_output(wait=True)\n",
    "    plt.figure(figsize=(16, 9))\n",
    "    plt.subplot(2, 3, 1)\n",
    "    plt.imshow(pressure[i])\n",
    "    plt.title(f\"{i}\")\n",
    "    plt.colorbar()\n",
    "    \n",
    "    plt.subplot(2, 3, 2)\n",
    "    plt.plot(signal[i].T)\n",
    "    plt.title(\"Old sim\")\n",
    "    \n",
    "    plt.subplot(2, 3, 3)\n",
    "    new_signal = sim.fiber_real_sim(pressure[i])\n",
    "    plt.plot(new_signal[0].T)\n",
    "    plt.title(\"Current sim\")\n",
    "    \n",
    "    plt.subplot(2, 3, 5)\n",
    "    map = predict(model, signal[i:i+1], device)\n",
    "    plt.imshow(map[0])\n",
    "    plt.title(\"old sim prediction\")\n",
    "    \n",
    "    plt.subplot(2, 3, 6)\n",
    "    map = predict(model, new_signal, device)\n",
    "    plt.imshow(map[0])\n",
    "    plt.title(\"new sim prediction\")\n",
    "    \n",
    "    plt.show()\n",
    "    time.sleep(0.5)"
   ]
  },
  {
   "cell_type": "code",
   "execution_count": null,
   "metadata": {},
   "outputs": [],
   "source": [
    "import torch\n",
    "import torch.nn as nn\n",
    "import torch.nn.functional as F\n",
    "from torchvision.transforms.functional import rotate as torch_rotate\n",
    "from torchvision.transforms.functional import gaussian_blur"
   ]
  },
  {
   "cell_type": "code",
   "execution_count": null,
   "metadata": {},
   "outputs": [],
   "source": [
    "i = 110\n",
    "pressure_mat = pressure[i:i+2]\n",
    "self = simb\n",
    "if not isinstance(pressure_mat, torch.Tensor):\n",
    "    pressure_mat = torch.tensor(pressure_mat, device=self.device)\n",
    "\n",
    "rot_tensor = self._rotate(pressure_mat)\n",
    "\n",
    "blurred_mat = gaussian_blur(rot_tensor, self.gaus_kernel_size, self.gaus_sigma_pix)\n"
   ]
  },
  {
   "cell_type": "code",
   "execution_count": null,
   "metadata": {},
   "outputs": [
    {
     "data": {
      "text/plain": [
       "torch.Size([8, 1, 64, 64])"
      ]
     },
     "execution_count": 16,
     "metadata": {},
     "output_type": "execute_result"
    }
   ],
   "source": [
    "blurred_mat.shape"
   ]
  },
  {
   "cell_type": "code",
   "execution_count": null,
   "metadata": {},
   "outputs": [
    {
     "data": {
      "text/plain": [
       "torch.Size([8, 1, 62, 64])"
      ]
     },
     "execution_count": 17,
     "metadata": {},
     "output_type": "execute_result"
    }
   ],
   "source": [
    "curvatures = self._second_derivative(blurred_mat)\n",
    "curvatures.shape"
   ]
  },
  {
   "cell_type": "markdown",
   "metadata": {},
   "source": [
    "### Эксперименты с разными способами вычисления. Сравнения времен."
   ]
  },
  {
   "cell_type": "markdown",
   "metadata": {},
   "source": [
    "сравним время работы фстроенного умножения с циклом for"
   ]
  },
  {
   "cell_type": "code",
   "execution_count": null,
   "metadata": {},
   "outputs": [
    {
     "name": "stdout",
     "output_type": "stream",
     "text": [
      "17.1 µs ± 1.89 µs per loop (mean ± std. dev. of 7 runs, 100,000 loops each)\n"
     ]
    }
   ],
   "source": [
    "%%timeit\n",
    "res = torch.prod(curvatures, dim=-2)\n",
    "# print(res.shape)"
   ]
  },
  {
   "cell_type": "code",
   "execution_count": null,
   "metadata": {},
   "outputs": [
    {
     "name": "stdout",
     "output_type": "stream",
     "text": [
      "397 µs ± 13.8 µs per loop (mean ± std. dev. of 7 runs, 1,000 loops each)\n"
     ]
    }
   ],
   "source": [
    "%%timeit\n",
    "res = curvatures[:, :, 0]\n",
    "for i in range(1, curvatures.shape[2]):\n",
    "    res*=curvatures[:, :, i]\n",
    "# print(res[0, 0, 32])"
   ]
  },
  {
   "cell_type": "markdown",
   "metadata": {},
   "source": [
    "20 раз. Дофига большое отличие. Нельзя так долго считать."
   ]
  },
  {
   "cell_type": "code",
   "execution_count": null,
   "metadata": {},
   "outputs": [
    {
     "ename": "TypeError",
     "evalue": "prod() received an invalid combination of arguments - got (out=NoneType, axis=int, ), but expected one of:\n * (*, torch.dtype dtype)\n      didn't match because some of the keywords were incorrect: out, axis\n * (int dim, bool keepdim, *, torch.dtype dtype)\n * (name dim, bool keepdim, *, torch.dtype dtype)\n",
     "output_type": "error",
     "traceback": [
      "\u001b[0;31m---------------------------------------------------------------------------\u001b[0m",
      "\u001b[0;31mTypeError\u001b[0m                                 Traceback (most recent call last)",
      "\u001b[1;32m/home/amir/rqc_internship/frame_stack/simToReal/bimodal_simulation.ipynb Cell 28\u001b[0m in \u001b[0;36m<cell line: 1>\u001b[0;34m()\u001b[0m\n\u001b[0;32m----> <a href='vscode-notebook-cell:/home/amir/rqc_internship/frame_stack/simToReal/bimodal_simulation.ipynb#X40sZmlsZQ%3D%3D?line=0'>1</a>\u001b[0m get_ipython()\u001b[39m.\u001b[39;49mrun_cell_magic(\u001b[39m'\u001b[39;49m\u001b[39mtimeit\u001b[39;49m\u001b[39m'\u001b[39;49m, \u001b[39m'\u001b[39;49m\u001b[39m'\u001b[39;49m, \u001b[39m'\u001b[39;49m\u001b[39mres = np.prod(curvatures, axis=-2)\u001b[39;49m\u001b[39m\\n\u001b[39;49;00m\u001b[39m# print(res.shape)\u001b[39;49m\u001b[39m\\n\u001b[39;49;00m\u001b[39m'\u001b[39;49m)\n",
      "File \u001b[0;32m~/anaconda3/envs/rqc_env/lib/python3.10/site-packages/IPython/core/interactiveshell.py:2358\u001b[0m, in \u001b[0;36mInteractiveShell.run_cell_magic\u001b[0;34m(self, magic_name, line, cell)\u001b[0m\n\u001b[1;32m   2356\u001b[0m \u001b[39mwith\u001b[39;00m \u001b[39mself\u001b[39m\u001b[39m.\u001b[39mbuiltin_trap:\n\u001b[1;32m   2357\u001b[0m     args \u001b[39m=\u001b[39m (magic_arg_s, cell)\n\u001b[0;32m-> 2358\u001b[0m     result \u001b[39m=\u001b[39m fn(\u001b[39m*\u001b[39;49margs, \u001b[39m*\u001b[39;49m\u001b[39m*\u001b[39;49mkwargs)\n\u001b[1;32m   2359\u001b[0m \u001b[39mreturn\u001b[39;00m result\n",
      "File \u001b[0;32m~/anaconda3/envs/rqc_env/lib/python3.10/site-packages/IPython/core/magics/execution.py:1162\u001b[0m, in \u001b[0;36mExecutionMagics.timeit\u001b[0;34m(self, line, cell, local_ns)\u001b[0m\n\u001b[1;32m   1160\u001b[0m \u001b[39mfor\u001b[39;00m index \u001b[39min\u001b[39;00m \u001b[39mrange\u001b[39m(\u001b[39m0\u001b[39m, \u001b[39m10\u001b[39m):\n\u001b[1;32m   1161\u001b[0m     number \u001b[39m=\u001b[39m \u001b[39m10\u001b[39m \u001b[39m*\u001b[39m\u001b[39m*\u001b[39m index\n\u001b[0;32m-> 1162\u001b[0m     time_number \u001b[39m=\u001b[39m timer\u001b[39m.\u001b[39;49mtimeit(number)\n\u001b[1;32m   1163\u001b[0m     \u001b[39mif\u001b[39;00m time_number \u001b[39m>\u001b[39m\u001b[39m=\u001b[39m \u001b[39m0.2\u001b[39m:\n\u001b[1;32m   1164\u001b[0m         \u001b[39mbreak\u001b[39;00m\n",
      "File \u001b[0;32m~/anaconda3/envs/rqc_env/lib/python3.10/site-packages/IPython/core/magics/execution.py:156\u001b[0m, in \u001b[0;36mTimer.timeit\u001b[0;34m(self, number)\u001b[0m\n\u001b[1;32m    154\u001b[0m gc\u001b[39m.\u001b[39mdisable()\n\u001b[1;32m    155\u001b[0m \u001b[39mtry\u001b[39;00m:\n\u001b[0;32m--> 156\u001b[0m     timing \u001b[39m=\u001b[39m \u001b[39mself\u001b[39;49m\u001b[39m.\u001b[39;49minner(it, \u001b[39mself\u001b[39;49m\u001b[39m.\u001b[39;49mtimer)\n\u001b[1;32m    157\u001b[0m \u001b[39mfinally\u001b[39;00m:\n\u001b[1;32m    158\u001b[0m     \u001b[39mif\u001b[39;00m gcold:\n",
      "File \u001b[0;32m<magic-timeit>:1\u001b[0m, in \u001b[0;36minner\u001b[0;34m(_it, _timer)\u001b[0m\n",
      "File \u001b[0;32m<__array_function__ internals>:180\u001b[0m, in \u001b[0;36mprod\u001b[0;34m(*args, **kwargs)\u001b[0m\n",
      "File \u001b[0;32m~/anaconda3/envs/rqc_env/lib/python3.10/site-packages/numpy/core/fromnumeric.py:3045\u001b[0m, in \u001b[0;36mprod\u001b[0;34m(a, axis, dtype, out, keepdims, initial, where)\u001b[0m\n\u001b[1;32m   2927\u001b[0m \u001b[39m@array_function_dispatch\u001b[39m(_prod_dispatcher)\n\u001b[1;32m   2928\u001b[0m \u001b[39mdef\u001b[39;00m \u001b[39mprod\u001b[39m(a, axis\u001b[39m=\u001b[39m\u001b[39mNone\u001b[39;00m, dtype\u001b[39m=\u001b[39m\u001b[39mNone\u001b[39;00m, out\u001b[39m=\u001b[39m\u001b[39mNone\u001b[39;00m, keepdims\u001b[39m=\u001b[39mnp\u001b[39m.\u001b[39m_NoValue,\n\u001b[1;32m   2929\u001b[0m          initial\u001b[39m=\u001b[39mnp\u001b[39m.\u001b[39m_NoValue, where\u001b[39m=\u001b[39mnp\u001b[39m.\u001b[39m_NoValue):\n\u001b[1;32m   2930\u001b[0m     \u001b[39m\"\"\"\u001b[39;00m\n\u001b[1;32m   2931\u001b[0m \u001b[39m    Return the product of array elements over a given axis.\u001b[39;00m\n\u001b[1;32m   2932\u001b[0m \n\u001b[0;32m   (...)\u001b[0m\n\u001b[1;32m   3043\u001b[0m \u001b[39m    10\u001b[39;00m\n\u001b[1;32m   3044\u001b[0m \u001b[39m    \"\"\"\u001b[39;00m\n\u001b[0;32m-> 3045\u001b[0m     \u001b[39mreturn\u001b[39;00m _wrapreduction(a, np\u001b[39m.\u001b[39;49mmultiply, \u001b[39m'\u001b[39;49m\u001b[39mprod\u001b[39;49m\u001b[39m'\u001b[39;49m, axis, dtype, out,\n\u001b[1;32m   3046\u001b[0m                           keepdims\u001b[39m=\u001b[39;49mkeepdims, initial\u001b[39m=\u001b[39;49minitial, where\u001b[39m=\u001b[39;49mwhere)\n",
      "File \u001b[0;32m~/anaconda3/envs/rqc_env/lib/python3.10/site-packages/numpy/core/fromnumeric.py:84\u001b[0m, in \u001b[0;36m_wrapreduction\u001b[0;34m(obj, ufunc, method, axis, dtype, out, **kwargs)\u001b[0m\n\u001b[1;32m     82\u001b[0m             \u001b[39mreturn\u001b[39;00m reduction(axis\u001b[39m=\u001b[39maxis, dtype\u001b[39m=\u001b[39mdtype, out\u001b[39m=\u001b[39mout, \u001b[39m*\u001b[39m\u001b[39m*\u001b[39mpasskwargs)\n\u001b[1;32m     83\u001b[0m         \u001b[39melse\u001b[39;00m:\n\u001b[0;32m---> 84\u001b[0m             \u001b[39mreturn\u001b[39;00m reduction(axis\u001b[39m=\u001b[39;49maxis, out\u001b[39m=\u001b[39;49mout, \u001b[39m*\u001b[39;49m\u001b[39m*\u001b[39;49mpasskwargs)\n\u001b[1;32m     86\u001b[0m \u001b[39mreturn\u001b[39;00m ufunc\u001b[39m.\u001b[39mreduce(obj, axis, dtype, out, \u001b[39m*\u001b[39m\u001b[39m*\u001b[39mpasskwargs)\n",
      "\u001b[0;31mTypeError\u001b[0m: prod() received an invalid combination of arguments - got (out=NoneType, axis=int, ), but expected one of:\n * (*, torch.dtype dtype)\n      didn't match because some of the keywords were incorrect: out, axis\n * (int dim, bool keepdim, *, torch.dtype dtype)\n * (name dim, bool keepdim, *, torch.dtype dtype)\n"
     ]
    }
   ],
   "source": [
    "%%timeit\n",
    "res = np.prod(curvatures, axis=-2)\n",
    "# print(res.shape)"
   ]
  },
  {
   "cell_type": "code",
   "execution_count": null,
   "metadata": {},
   "outputs": [
    {
     "name": "stdout",
     "output_type": "stream",
     "text": [
      "26.6 µs ± 2.31 µs per loop (mean ± std. dev. of 7 runs, 10,000 loops each)\n"
     ]
    }
   ],
   "source": [
    "%%timeit\n",
    "res = np.prod(curvatures.numpy(), axis=-2)\n",
    "# res.shape"
   ]
  },
  {
   "cell_type": "markdown",
   "metadata": {},
   "source": [
    "можно нумпаем обойтись в крайнем случае"
   ]
  },
  {
   "cell_type": "code",
   "execution_count": null,
   "metadata": {},
   "outputs": [
    {
     "data": {
      "text/plain": [
       "[8, 1, 2, 2, 64]"
      ]
     },
     "execution_count": 40,
     "metadata": {},
     "output_type": "execute_result"
    }
   ],
   "source": [
    "list(curvatures.shape[0:-2]) + [2, 2]+ list(curvatures.shape[-1:])"
   ]
  },
  {
   "cell_type": "code",
   "execution_count": null,
   "metadata": {},
   "outputs": [
    {
     "name": "stdout",
     "output_type": "stream",
     "text": [
      "4.89 µs ± 205 ns per loop (mean ± std. dev. of 7 runs, 100,000 loops each)\n"
     ]
    }
   ],
   "source": [
    "%%timeit\n",
    "# пытаюсь моделировать создание матриц\n",
    "res = np.zeros(list(curvatures.shape[0:-2]) + [2, 2] + list(curvatures.shape[-1:]))\n",
    "res[..., 0, 0, :] = curvatures.numpy()[..., 0, :]\n"
   ]
  },
  {
   "cell_type": "markdown",
   "metadata": {},
   "source": [
    "ищю функцию для перемножения многих массивов"
   ]
  },
  {
   "cell_type": "code",
   "execution_count": null,
   "metadata": {},
   "outputs": [
    {
     "data": {
      "text/plain": [
       "array([[170, 432],\n",
       "       [246, 218]])"
      ]
     },
     "execution_count": 45,
     "metadata": {},
     "output_type": "execute_result"
    }
   ],
   "source": [
    "a = np.array([[1, 4], [3, 1]])\n",
    "np.linalg.multi_dot([a, 2*a, a*a])"
   ]
  },
  {
   "cell_type": "code",
   "execution_count": null,
   "metadata": {},
   "outputs": [
    {
     "name": "stdout",
     "output_type": "stream",
     "text": [
      "(3, 2, 2)\n"
     ]
    },
    {
     "data": {
      "text/plain": [
       "array([[170, 432],\n",
       "       [246, 218]])"
      ]
     },
     "execution_count": 48,
     "metadata": {},
     "output_type": "execute_result"
    }
   ],
   "source": [
    "b = np.array([a, 2*a, a*a])\n",
    "print(b.shape)\n",
    "np.linalg.multi_dot(b)"
   ]
  },
  {
   "cell_type": "code",
   "execution_count": null,
   "metadata": {},
   "outputs": [
    {
     "name": "stdout",
     "output_type": "stream",
     "text": [
      "(1, 3, 2, 2)\n"
     ]
    },
    {
     "ename": "ValueError",
     "evalue": "Expecting at least two arrays.",
     "output_type": "error",
     "traceback": [
      "\u001b[0;31m---------------------------------------------------------------------------\u001b[0m\n",
      "\u001b[0;31mValueError\u001b[0m                                Traceback (most recent call last)\n",
      "\u001b[1;32m/home/amir/rqc_internship/frame_stack/simToReal/bimodal_simulation.ipynb Cell 35\u001b[0m in \u001b[0;36m<cell line: 3>\u001b[0;34m()\u001b[0m\n",
      "\u001b[1;32m      <a href='vscode-notebook-cell:/home/amir/rqc_internship/frame_stack/simToReal/bimodal_simulation.ipynb#X51sZmlsZQ%3D%3D?line=0'>1</a>\u001b[0m b \u001b[39m=\u001b[39m np\u001b[39m.\u001b[39marray([[a, \u001b[39m2\u001b[39m\u001b[39m*\u001b[39ma, a\u001b[39m*\u001b[39ma]])\n",
      "\u001b[1;32m      <a href='vscode-notebook-cell:/home/amir/rqc_internship/frame_stack/simToReal/bimodal_simulation.ipynb#X51sZmlsZQ%3D%3D?line=1'>2</a>\u001b[0m \u001b[39mprint\u001b[39m(b\u001b[39m.\u001b[39mshape)\n",
      "\u001b[0;32m----> <a href='vscode-notebook-cell:/home/amir/rqc_internship/frame_stack/simToReal/bimodal_simulation.ipynb#X51sZmlsZQ%3D%3D?line=2'>3</a>\u001b[0m np\u001b[39m.\u001b[39;49mlinalg\u001b[39m.\u001b[39;49mmulti_dot(b)\n",
      "\n",
      "File \u001b[0;32m<__array_function__ internals>:180\u001b[0m, in \u001b[0;36mmulti_dot\u001b[0;34m(*args, **kwargs)\u001b[0m\n",
      "\n",
      "File \u001b[0;32m~/anaconda3/envs/rqc_env/lib/python3.10/site-packages/numpy/linalg/linalg.py:2706\u001b[0m, in \u001b[0;36mmulti_dot\u001b[0;34m(arrays, out)\u001b[0m\n",
      "\u001b[1;32m   2704\u001b[0m \u001b[39m# optimization only makes sense for len(arrays) > 2\u001b[39;00m\n",
      "\u001b[1;32m   2705\u001b[0m \u001b[39mif\u001b[39;00m n \u001b[39m<\u001b[39m \u001b[39m2\u001b[39m:\n",
      "\u001b[0;32m-> 2706\u001b[0m     \u001b[39mraise\u001b[39;00m \u001b[39mValueError\u001b[39;00m(\u001b[39m\"\u001b[39m\u001b[39mExpecting at least two arrays.\u001b[39m\u001b[39m\"\u001b[39m)\n",
      "\u001b[1;32m   2707\u001b[0m \u001b[39melif\u001b[39;00m n \u001b[39m==\u001b[39m \u001b[39m2\u001b[39m:\n",
      "\u001b[1;32m   2708\u001b[0m     \u001b[39mreturn\u001b[39;00m dot(arrays[\u001b[39m0\u001b[39m], arrays[\u001b[39m1\u001b[39m], out\u001b[39m=\u001b[39mout)\n",
      "\n",
      "\u001b[0;31mValueError\u001b[0m: Expecting at least two arrays."
     ]
    }
   ],
   "source": [
    "b = np.array([[a, 2*a, a*a]])\n",
    "print(b.shape)\n",
    "np.linalg.multi_dot(b)"
   ]
  },
  {
   "cell_type": "code",
   "execution_count": null,
   "metadata": {},
   "outputs": [
    {
     "name": "stdout",
     "output_type": "stream",
     "text": [
      "(2, 2)\n",
      "[[tensor([ 2,  8, 18, 32]) tensor([ 2,  8, 18, 32])]\n",
      " [tensor([ 2,  8, 18, 32]) tensor([ 2,  8, 18, 32])]]\n",
      "(2, 2)\n"
     ]
    },
    {
     "name": "stderr",
     "output_type": "stream",
     "text": [
      "/tmp/ipykernel_202281/3355885926.py:1: FutureWarning: The input object of type 'Tensor' is an array-like implementing one of the corresponding protocols (`__array__`, `__array_interface__` or `__array_struct__`); but not a sequence (or 0-D). In the future, this object will be coerced as if it was first converted using `np.array(obj)`. To retain the old behaviour, you have to either modify the type 'Tensor', or assign to an empty array created with `np.empty(correct_shape, dtype=object)`.\n",
      "  c = np.array([torch.tensor([1, 2, 3, 4]), torch.tensor([1, 2, 3, 4]), torch.tensor([1, 2, 3, 4]), torch.tensor([1, 2, 3, 4])]).reshape(2, 2)\n",
      "/tmp/ipykernel_202281/3355885926.py:1: VisibleDeprecationWarning: Creating an ndarray from ragged nested sequences (which is a list-or-tuple of lists-or-tuples-or ndarrays with different lengths or shapes) is deprecated. If you meant to do this, you must specify 'dtype=object' when creating the ndarray.\n",
      "  c = np.array([torch.tensor([1, 2, 3, 4]), torch.tensor([1, 2, 3, 4]), torch.tensor([1, 2, 3, 4]), torch.tensor([1, 2, 3, 4])]).reshape(2, 2)\n"
     ]
    }
   ],
   "source": [
    "c = np.array([torch.tensor([1, 2, 3, 4]), torch.tensor([1, 2, 3, 4]), torch.tensor([1, 2, 3, 4]), torch.tensor([1, 2, 3, 4])]).reshape(2, 2)\n",
    "print(c.shape)\n",
    "d = c@c\n",
    "print(d)\n",
    "print(d.shape)"
   ]
  },
  {
   "cell_type": "code",
   "execution_count": null,
   "metadata": {},
   "outputs": [
    {
     "name": "stdout",
     "output_type": "stream",
     "text": [
      "(3, 2, 2, 1)\n"
     ]
    },
    {
     "ename": "LinAlgError",
     "evalue": "3-dimensional array given. Array must be two-dimensional",
     "output_type": "error",
     "traceback": [
      "\u001b[0;31m---------------------------------------------------------------------------\u001b[0m",
      "\u001b[0;31mLinAlgError\u001b[0m                               Traceback (most recent call last)",
      "\u001b[1;32m/home/amir/rqc_internship/frame_stack/simToReal/bimodal_simulation.ipynb Cell 38\u001b[0m in \u001b[0;36m<cell line: 3>\u001b[0;34m()\u001b[0m\n\u001b[1;32m      <a href='vscode-notebook-cell:/home/amir/rqc_internship/frame_stack/simToReal/bimodal_simulation.ipynb#X60sZmlsZQ%3D%3D?line=0'>1</a>\u001b[0m b \u001b[39m=\u001b[39m np\u001b[39m.\u001b[39marray([a, \u001b[39m2\u001b[39m\u001b[39m*\u001b[39ma, a\u001b[39m*\u001b[39ma])\u001b[39m.\u001b[39mreshape(\u001b[39m3\u001b[39m, \u001b[39m2\u001b[39m, \u001b[39m2\u001b[39m, \u001b[39m1\u001b[39m)\n\u001b[1;32m      <a href='vscode-notebook-cell:/home/amir/rqc_internship/frame_stack/simToReal/bimodal_simulation.ipynb#X60sZmlsZQ%3D%3D?line=1'>2</a>\u001b[0m \u001b[39mprint\u001b[39m(b\u001b[39m.\u001b[39mshape)\n\u001b[0;32m----> <a href='vscode-notebook-cell:/home/amir/rqc_internship/frame_stack/simToReal/bimodal_simulation.ipynb#X60sZmlsZQ%3D%3D?line=2'>3</a>\u001b[0m np\u001b[39m.\u001b[39;49mlinalg\u001b[39m.\u001b[39;49mmulti_dot(b)\n",
      "File \u001b[0;32m<__array_function__ internals>:180\u001b[0m, in \u001b[0;36mmulti_dot\u001b[0;34m(*args, **kwargs)\u001b[0m\n",
      "File \u001b[0;32m~/anaconda3/envs/rqc_env/lib/python3.10/site-packages/numpy/linalg/linalg.py:2720\u001b[0m, in \u001b[0;36mmulti_dot\u001b[0;34m(arrays, out)\u001b[0m\n\u001b[1;32m   2718\u001b[0m \u001b[39mif\u001b[39;00m arrays[\u001b[39m-\u001b[39m\u001b[39m1\u001b[39m]\u001b[39m.\u001b[39mndim \u001b[39m==\u001b[39m \u001b[39m1\u001b[39m:\n\u001b[1;32m   2719\u001b[0m     arrays[\u001b[39m-\u001b[39m\u001b[39m1\u001b[39m] \u001b[39m=\u001b[39m atleast_2d(arrays[\u001b[39m-\u001b[39m\u001b[39m1\u001b[39m])\u001b[39m.\u001b[39mT\n\u001b[0;32m-> 2720\u001b[0m _assert_2d(\u001b[39m*\u001b[39;49marrays)\n\u001b[1;32m   2722\u001b[0m \u001b[39m# _multi_dot_three is much faster than _multi_dot_matrix_chain_order\u001b[39;00m\n\u001b[1;32m   2723\u001b[0m \u001b[39mif\u001b[39;00m n \u001b[39m==\u001b[39m \u001b[39m3\u001b[39m:\n",
      "File \u001b[0;32m~/anaconda3/envs/rqc_env/lib/python3.10/site-packages/numpy/linalg/linalg.py:191\u001b[0m, in \u001b[0;36m_assert_2d\u001b[0;34m(*arrays)\u001b[0m\n\u001b[1;32m    189\u001b[0m \u001b[39mfor\u001b[39;00m a \u001b[39min\u001b[39;00m arrays:\n\u001b[1;32m    190\u001b[0m     \u001b[39mif\u001b[39;00m a\u001b[39m.\u001b[39mndim \u001b[39m!=\u001b[39m \u001b[39m2\u001b[39m:\n\u001b[0;32m--> 191\u001b[0m         \u001b[39mraise\u001b[39;00m LinAlgError(\u001b[39m'\u001b[39m\u001b[39m%d\u001b[39;00m\u001b[39m-dimensional array given. Array must be \u001b[39m\u001b[39m'\u001b[39m\n\u001b[1;32m    192\u001b[0m                 \u001b[39m'\u001b[39m\u001b[39mtwo-dimensional\u001b[39m\u001b[39m'\u001b[39m \u001b[39m%\u001b[39m a\u001b[39m.\u001b[39mndim)\n",
      "\u001b[0;31mLinAlgError\u001b[0m: 3-dimensional array given. Array must be two-dimensional"
     ]
    }
   ],
   "source": [
    "b = np.array([a, 2*a, a*a]).reshape(3, 2, 2, 1)\n",
    "print(b.shape)\n",
    "np.linalg.multi_dot(b)"
   ]
  },
  {
   "cell_type": "markdown",
   "metadata": {},
   "source": [
    "Все придумал. Только придется разделить на отдельные массивы все 62 среза."
   ]
  },
  {
   "cell_type": "code",
   "execution_count": null,
   "metadata": {},
   "outputs": [],
   "source": []
  },
  {
   "cell_type": "code",
   "execution_count": null,
   "metadata": {},
   "outputs": [],
   "source": [
    "array_of_matrixes = np.zeros((62, 2, 2), dtype=torch.Tensor)        # (64, 2, 2), contains big arrays, that will be element-wise multipiled"
   ]
  },
  {
   "cell_type": "code",
   "execution_count": null,
   "metadata": {},
   "outputs": [],
   "source": [
    "for i in range(62):\n",
    "    array_of_matrixes[i, 0, 0] = torch.rand((8, 1, 64))\n",
    "    array_of_matrixes[i, 0, 1] = torch.rand((8, 1, 64))\n",
    "    array_of_matrixes[i, 1, 0] = torch.rand((8, 1, 64))\n",
    "    array_of_matrixes[i, 1, 1] = torch.rand((8, 1, 64))"
   ]
  },
  {
   "cell_type": "markdown",
   "metadata": {},
   "source": [
    "array_of_matrixes[k, 0, 0] = function with coefficient for 1,1(curvatures[...(8, 1), k, :(64)])"
   ]
  },
  {
   "cell_type": "code",
   "execution_count": null,
   "metadata": {},
   "outputs": [
    {
     "name": "stdout",
     "output_type": "stream",
     "text": [
      "torch.Size([8, 1, 64])\n"
     ]
    },
    {
     "data": {
      "text/plain": [
       "(2, 2)"
      ]
     },
     "execution_count": 58,
     "metadata": {},
     "output_type": "execute_result"
    }
   ],
   "source": [
    "result_matrixes = np.linalg.multi_dot(array_of_matrixes)\n",
    "print(result_matrixes[0, 0].shape)\n",
    "result_matrixes.shape"
   ]
  },
  {
   "cell_type": "code",
   "execution_count": null,
   "metadata": {},
   "outputs": [
    {
     "name": "stdout",
     "output_type": "stream",
     "text": [
      "torch.Size([8, 1, 64])\n"
     ]
    }
   ],
   "source": [
    "vector1 = np.array([1, 1]).reshape(2)\n",
    "vector2 = np.array([1, 1]).reshape(2)\n",
    "result_numbers = vector1@result_matrixes@vector2\n",
    "# result_numbers = np.dot(vector1, (result_matrixes@vector2))\n",
    "print(result_numbers.shape)"
   ]
  },
  {
   "cell_type": "markdown",
   "metadata": {},
   "source": [
    "То, что нужно."
   ]
  },
  {
   "cell_type": "code",
   "execution_count": null,
   "metadata": {},
   "outputs": [
    {
     "name": "stdout",
     "output_type": "stream",
     "text": [
      "40.2 ms ± 4.21 ms per loop (mean ± std. dev. of 7 runs, 10 loops each)\n"
     ]
    }
   ],
   "source": [
    "%%timeit\n",
    "result_matrixes = np.linalg.multi_dot(array_of_matrixes)\n",
    "result_matrixes.shape\n",
    "result_numbers = vector1@result_matrixes@vector2\n",
    "# result_numbers = np.dot(vector1, (result_matrixes@vector2))"
   ]
  },
  {
   "cell_type": "code",
   "execution_count": null,
   "metadata": {},
   "outputs": [
    {
     "data": {
      "text/plain": [
       "78.515625"
      ]
     },
     "execution_count": 70,
     "metadata": {},
     "output_type": "execute_result"
    }
   ],
   "source": [
    "40.2/8/64*1000 # микросекунд"
   ]
  },
  {
   "cell_type": "markdown",
   "metadata": {},
   "source": [
    "получилось в 5 раз быстрее, чем просто питоном перебирать их.\n",
    "Если на одну картинку 64на64 уходит 20 мс, в одном видео 300 картинок, 64 видео для примерно 300 предметов."
   ]
  },
  {
   "cell_type": "code",
   "execution_count": null,
   "metadata": {},
   "outputs": [
    {
     "data": {
      "text/plain": [
       "32.0"
      ]
     },
     "execution_count": 74,
     "metadata": {},
     "output_type": "execute_result"
    }
   ],
   "source": [
    "0.02*300*64*300/60/60 #часы"
   ]
  },
  {
   "cell_type": "markdown",
   "metadata": {},
   "source": [
    "То есть 32 будет считаться на моем ноуте. Думаю на сервере может за пару часов посчитаться."
   ]
  },
  {
   "cell_type": "markdown",
   "metadata": {},
   "source": [
    "### компиляция полученного в функции"
   ]
  },
  {
   "cell_type": "code",
   "execution_count": null,
   "metadata": {},
   "outputs": [
    {
     "name": "stdout",
     "output_type": "stream",
     "text": [
      "[[1.  0.2]\n",
      " [0.1 1. ]]\n"
     ]
    }
   ],
   "source": [
    "interfere_period = 2.3  # период интерференции в мм.\n",
    "self.dk = 2*np.pi/interfere_period    # разница волновых векторов между модами.\n",
    "c11 = 1\n",
    "c21 = 0.2\n",
    "c12 = 0.1\n",
    "c22 = 1\n",
    "C = np.array(\n",
    "    [[1, 0.2],\n",
    "     [0.1, 1]]\n",
    ")\n",
    "print(C)\n",
    "# константы, отвечающие за коэффициенты в матрице преобразования\n"
   ]
  },
  {
   "cell_type": "code",
   "execution_count": null,
   "metadata": {},
   "outputs": [
    {
     "name": "stdout",
     "output_type": "stream",
     "text": [
      "0.06999999999999999 0.2\n"
     ]
    }
   ],
   "source": [
    "loss_funcs = [\n",
    "    [lambda x, i=i, j=j: self.pixel_distance*C[i][j]*x**2 for j in range(2)]\n",
    "    # [lambda x: C[i][j]*x**2 for j in range(2)]\n",
    "    # [lambda x: 0.1*x**2 for j in range(2)]\n",
    "    for i in range(2)\n",
    "]\n",
    "print(loss_funcs[0][1](1), C[0][1])"
   ]
  },
  {
   "cell_type": "code",
   "execution_count": null,
   "metadata": {},
   "outputs": [
    {
     "name": "stdout",
     "output_type": "stream",
     "text": [
      "1.0 1.0\n",
      "0.19999999999999998 0.2\n",
      "0.09999999999999999 0.1\n",
      "1.0 1.0\n"
     ]
    }
   ],
   "source": [
    "for i in range(2):\n",
    "    for j in range(2):\n",
    "        print(loss_funcs[i][j](1)/self.pixel_distance, C[i][j])"
   ]
  },
  {
   "cell_type": "markdown",
   "metadata": {},
   "source": [
    "Пишем по сути поведение функции loss_fiber_losses(curvature)"
   ]
  },
  {
   "cell_type": "code",
   "execution_count": null,
   "metadata": {},
   "outputs": [],
   "source": [
    "array_of_matrixes = np.zeros((curvatures.shape[-2], 2, 2), dtype=torch.Tensor)# (62, 2, 2), contains big tensors (n_angles*n_pictures, 1, 64), that will be element-wise multipiled"
   ]
  },
  {
   "cell_type": "code",
   "execution_count": null,
   "metadata": {},
   "outputs": [
    {
     "data": {
      "text/plain": [
       "tensor(-1.-8.7423e-08j)"
      ]
     },
     "metadata": {},
     "output_type": "display_data"
    }
   ],
   "source": [
    "I = torch.view_as_complex(torch.Tensor([0, 1.]))\n",
    "\n",
    "torch.exp(I*np.pi)"
   ]
  },
  {
   "cell_type": "code",
   "execution_count": null,
   "metadata": {},
   "outputs": [],
   "source": [
    "for i in range(curvatures.shape[-2]):\n",
    "    array_of_matrixes[i, 0, 0] = 1 - loss_funcs[0][0](curvatures[..., i, :])\n",
    "    array_of_matrixes[i, 0, 1] = loss_funcs[0][1](curvatures[..., i, :])\n",
    "    array_of_matrixes[i, 1, 0] = loss_funcs[1][0](curvatures[..., i, :])\n",
    "    array_of_matrixes[i, 1, 1] = (1 - loss_funcs[1][1](curvatures[..., i, :]))*torch.exp(I*self.pixel_distance*self.dk)"
   ]
  },
  {
   "cell_type": "markdown",
   "metadata": {},
   "source": [
    "array_of_matrixes[k, 0, 0] = function with coefficient for 1,1(curvatures[...(8, 1), k, :(64)])"
   ]
  },
  {
   "cell_type": "code",
   "execution_count": null,
   "metadata": {},
   "outputs": [
    {
     "name": "stdout",
     "output_type": "stream",
     "text": [
      "torch.Size([8, 1, 64])\n"
     ]
    },
    {
     "data": {
      "text/plain": [
       "(2, 2)"
      ]
     },
     "execution_count": 125,
     "metadata": {},
     "output_type": "execute_result"
    }
   ],
   "source": [
    "result_matrixes = np.linalg.multi_dot(array_of_matrixes)\n",
    "print(result_matrixes[0, 0].shape)\n",
    "result_matrixes.shape"
   ]
  },
  {
   "cell_type": "code",
   "execution_count": null,
   "metadata": {},
   "outputs": [
    {
     "name": "stdout",
     "output_type": "stream",
     "text": [
      "torch.Size([8, 1, 64])\n"
     ]
    }
   ],
   "source": [
    "\n",
    "vector1 = np.array([1, 0.2]).reshape(2)     # in first taper amplitudes of HE11 and HE21 modes\n",
    "vector2 = np.array([1, 0.2]).reshape(2)     \n",
    "# in second taper imparts of amplitudes of HE11 and HE21 modes in waist for HE11 amplitude in\n",
    "# fiber after taper.\n",
    "\n",
    "result_numbers = vector2@result_matrixes@vector1\n",
    "# result_numbers = np.dot(vector1, (result_matrixes@vector2))\n",
    "print(result_numbers.shape)"
   ]
  },
  {
   "cell_type": "markdown",
   "metadata": {},
   "source": [
    "тестовый датасет из давлений\n",
    "при расстоянии между пискелями 0.35 мм, чтобы покрыть несколько периодов = 2.3 мм нужно примерно 7*n клеточек.\n",
    "Если в 10 раз увеличивать частоту точек, нужно 70*n. Возьмем n=2.5, тогда 180.\n",
    "В ширину будет по 3 пискеля в каждую сторону, так что 65 сойдет."
   ]
  },
  {
   "cell_type": "code",
   "execution_count": null,
   "metadata": {},
   "outputs": [],
   "source": [
    "test_dataset = np.zeros((180, 180, 65), dtype=np.float32)\n",
    "for i in range(180):\n",
    "    test_dataset[i, i, (65-1)//2] = 1\n",
    "test_dataset*=(10**2)"
   ]
  },
  {
   "cell_type": "code",
   "execution_count": null,
   "metadata": {},
   "outputs": [
    {
     "data": {
      "text/plain": [
       "torch.Size([180, 1, 178, 65])"
      ]
     },
     "execution_count": 150,
     "metadata": {},
     "output_type": "execute_result"
    }
   ],
   "source": [
    "pressure_mat = np.expand_dims(test_dataset, axis=-3)\n",
    "if not isinstance(pressure_mat, torch.Tensor):\n",
    "    pressure_mat = torch.tensor(pressure_mat, device=self.device)\n",
    "\n",
    "rot_tensor = pressure_mat\n",
    "\n",
    "blurred_mat = gaussian_blur(rot_tensor, self.gaus_kernel_size, self.gaus_sigma_pix)\n",
    "\n",
    "curvatures = self._second_derivative(blurred_mat)\n",
    "curvatures.shape"
   ]
  },
  {
   "cell_type": "code",
   "execution_count": null,
   "metadata": {},
   "outputs": [],
   "source": [
    "self.pixel_distance = 0.35/10"
   ]
  },
  {
   "cell_type": "markdown",
   "metadata": {},
   "source": [
    "### строю для одной амплитуды картину периодического эффекта"
   ]
  },
  {
   "cell_type": "code",
   "execution_count": null,
   "metadata": {},
   "outputs": [],
   "source": [
    "amps = np.linspace(1, 60, 20)\n",
    "result_array = np.zeros((len(amps), 180))\n",
    "# for i, amplitude in enumerate(amps):\n",
    "amplitude = 10"
   ]
  },
  {
   "cell_type": "code",
   "execution_count": null,
   "metadata": {},
   "outputs": [
    {
     "data": {
      "text/plain": [
       "0.22509374999999995"
      ]
     },
     "execution_count": 166,
     "metadata": {},
     "output_type": "execute_result"
    }
   ],
   "source": [
    "15*0.35**4  ## это множитель потерь при квадрате кривизны в старой симуляции."
   ]
  },
  {
   "cell_type": "code",
   "execution_count": null,
   "metadata": {},
   "outputs": [
    {
     "name": "stdout",
     "output_type": "stream",
     "text": [
      "[[1.  0.2]\n",
      " [0.1 1. ]]\n"
     ]
    }
   ],
   "source": [
    "interfere_period = 2.3  # период интерференции в мм.\n",
    "self.dk = 2*np.pi/interfere_period    # разница волновых векторов между модами.\n",
    "c11 = 1\n",
    "c21 = 0.2\n",
    "c12 = 0.1\n",
    "c22 = 1\n",
    "C = np.array(\n",
    "    [[1, 0.2],\n",
    "     [0.1, 1]]\n",
    ")\n",
    "print(C)\n",
    "# константы, отвечающие за коэффициенты в матрице преобразования\n"
   ]
  },
  {
   "cell_type": "code",
   "execution_count": null,
   "metadata": {},
   "outputs": [
    {
     "name": "stdout",
     "output_type": "stream",
     "text": [
      "0.001575 0.2\n"
     ]
    }
   ],
   "source": [
    "loss_funcs = [\n",
    "    [lambda x, i=i, j=j: 0.225*self.pixel_distance*C[i][j]*x**2 for j in range(2)]\n",
    "    for i in range(2)\n",
    "]\n",
    "print(loss_funcs[0][1](1), C[0][1])"
   ]
  },
  {
   "cell_type": "code",
   "execution_count": null,
   "metadata": {},
   "outputs": [
    {
     "data": {
      "text/plain": [
       "tensor(-1.-8.7423e-08j)"
      ]
     },
     "execution_count": 169,
     "metadata": {},
     "output_type": "execute_result"
    }
   ],
   "source": [
    "I = torch.view_as_complex(torch.Tensor([0, 1.]))\n",
    "\n",
    "torch.exp(I*np.pi)"
   ]
  },
  {
   "cell_type": "code",
   "execution_count": null,
   "metadata": {},
   "outputs": [
    {
     "name": "stdout",
     "output_type": "stream",
     "text": [
      "torch.Size([180, 1, 65])\n"
     ]
    }
   ],
   "source": [
    "array_of_matrixes = np.zeros((curvatures.shape[-2], 2, 2), dtype=torch.Tensor)# (62, 2, 2), contains big tensors (n_angles*n_pictures, 1, 64), that will be element-wise multipiled\n",
    "\n",
    "for i in range(curvatures.shape[-2]):\n",
    "    array_of_matrixes[i, 0, 0] = 1 - loss_funcs[0][0](curvatures[..., i, :])\n",
    "    array_of_matrixes[i, 0, 1] = loss_funcs[0][1](curvatures[..., i, :])\n",
    "    array_of_matrixes[i, 1, 0] = loss_funcs[1][0](curvatures[..., i, :])\n",
    "    array_of_matrixes[i, 1, 1] = (1 - loss_funcs[1][1](curvatures[..., i, :]))*torch.exp(I*self.pixel_distance*self.dk)\n",
    "\n",
    "result_matrixes = np.linalg.multi_dot(array_of_matrixes)\n",
    "\n",
    "vector1 = np.array([1, 0.2]).reshape(2)     # in first taper amplitudes of HE11 and HE21 modes\n",
    "vector2 = np.array([1, 0.2]).reshape(2)     \n",
    "# in second taper imparts of amplitudes of HE11 and HE21 modes in waist for HE11 amplitude in\n",
    "# fiber after taper.\n",
    "\n",
    "result_numbers = (vector2@result_matrixes@vector1).abs()\n",
    "# result_numbers = np.dot(vector1, (result_matrixes@vector2))\n",
    "print(result_numbers.shape)"
   ]
  },
  {
   "cell_type": "code",
   "execution_count": null,
   "metadata": {},
   "outputs": [
    {
     "data": {
      "text/plain": [
       "[<matplotlib.lines.Line2D at 0x7f596a755b70>]"
      ]
     },
     "execution_count": 171,
     "metadata": {},
     "output_type": "execute_result"
    },
    {
     "data": {
      "image/png": "[encoded data removed]",
      "text/plain": [
       "<Figure size 640x480 with 1 Axes>"
      ]
     },
     "metadata": {},
     "output_type": "display_data"
    }
   ],
   "source": [
    "array = result_numbers[5:-5, 0, (65-1)//2]\n",
    "plt.plot(array)"
   ]
  },
  {
   "cell_type": "markdown",
   "metadata": {},
   "source": [
    "То, что доктор прописал. Так и надо."
   ]
  },
  {
   "cell_type": "markdown",
   "metadata": {},
   "source": [
    "На одну картинку 180 на 65 в среднем 7 мс. Меньше, чем по старым оценкам для картинки 64 на 64. Видимо с увеличением данных среднее время упало"
   ]
  },
  {
   "cell_type": "code",
   "execution_count": null,
   "metadata": {},
   "outputs": [
    {
     "data": {
      "text/plain": [
       "7.777777777777778"
      ]
     },
     "execution_count": 172,
     "metadata": {},
     "output_type": "execute_result"
    }
   ],
   "source": [
    "1400/180"
   ]
  },
  {
   "cell_type": "markdown",
   "metadata": {},
   "source": [
    "Строю то же самое для разных амплитуд."
   ]
  },
  {
   "cell_type": "code",
   "execution_count": null,
   "metadata": {},
   "outputs": [],
   "source": [
    "amps = np.linspace(1, 60, 20)\n",
    "result_array = np.zeros((len(amps), 180))\n",
    "for i, amplitude in enumerate(amps):\n",
    "    \n",
    "pressure_mat = np.expand_dims(test_dataset*amplitude, axis=-3)\n",
    "if not isinstance(pressure_mat, torch.Tensor):\n",
    "    pressure_mat = torch.tensor(pressure_mat, device=self.device)\n",
    "\n",
    "rot_tensor = pressure_mat\n",
    "\n",
    "blurred_mat = gaussian_blur(rot_tensor, self.gaus_kernel_size, self.gaus_sigma_pix)\n",
    "\n",
    "curvatures = self._second_derivative(blurred_mat)\n",
    "curvatures.shape\n",
    "\n",
    "\n",
    "array_of_matrixes = np.zeros((curvatures.shape[-2], 2, 2), dtype=torch.Tensor)# (62, 2, 2), contains big tensors (n_angles*n_pictures, 1, 64), that will be element-wise multipiled\n",
    "\n",
    "for i in range(curvatures.shape[-2]):\n",
    "    array_of_matrixes[i, 0, 0] = 1 - loss_funcs[0][0](curvatures[..., i, :])\n",
    "    array_of_matrixes[i, 0, 1] = loss_funcs[0][1](curvatures[..., i, :])\n",
    "    array_of_matrixes[i, 1, 0] = loss_funcs[1][0](curvatures[..., i, :])\n",
    "    array_of_matrixes[i, 1, 1] = (1 - loss_funcs[1][1](curvatures[..., i, :]))*torch.exp(I*self.pixel_distance*self.dk)\n",
    "\n",
    "result_matrixes = np.linalg.multi_dot(array_of_matrixes)\n",
    "\n",
    "vector1 = np.array([1, 0.2]).reshape(2)     # in first taper amplitudes of HE11 and HE21 modes\n",
    "vector2 = np.array([1, 0.2]).reshape(2)     \n",
    "# in second taper imparts of amplitudes of HE11 and HE21 modes in waist for HE11 amplitude in\n",
    "# fiber after taper.\n",
    "\n",
    "result_numbers = (vector2@result_matrixes@vector1).abs()\n",
    "# result_numbers = np.dot(vector1, (result_matrixes@vector2))\n",
    "print(result_numbers.shape)\n",
    "array = result_numbers[5:-5, 0, (65-1)//2]\n",
    "plt.plot(array)"
   ]
  },
  {
   "cell_type": "code",
   "execution_count": null,
   "metadata": {},
   "outputs": [],
   "source": []
  }
 ],
 "metadata": {
  "kernelspec": {
   "display_name": "Python 3.10.6 ('rqc_env')",
   "language": "python",
   "name": "python3"
  },
  "language_info": {
   "codemirror_mode": {
    "name": "ipython",
    "version": 3
   },
   "file_extension": ".py",
   "mimetype": "text/x-python",
   "name": "python",
   "nbconvert_exporter": "python",
   "pygments_lexer": "ipython3",
   "version": "3.10.6"
  },
  "orig_nbformat": 4,
  "vscode": {
   "interpreter": {
    "hash": "22975e861a4488f94634044a20ded97cfffd19315dfee221a4082522e37b8267"
   }
  }
 },
 "nbformat": 4,
 "nbformat_minor": 2
}
