{
 "cells": [
  {
   "cell_type": "code",
   "execution_count": 22,
   "metadata": {},
   "outputs": [],
   "source": [
    "import numpy as np\n",
    "import matplotlib.pyplot as plt\n",
    "from os.path import join as jn\n",
    "import yaml\n",
    "import torch_sensor_lib as tsl\n",
    "\n",
    "import torch\n",
    "from torchsummary import summary\n",
    "from tqdm import tqdm\n",
    "from torch.utils.data import DataLoader\n",
    "import os\n",
    "import pandas as pd"
   ]
  },
  {
   "cell_type": "code",
   "execution_count": 28,
   "metadata": {},
   "outputs": [],
   "source": [
    "with open('params.yaml') as conf_file:\n",
    "    config = yaml.safe_load(conf_file)\n",
    "\n",
    "torch.manual_seed(config['random_seed'])\n",
    "np.random.seed(config['random_seed'])\n",
    "seeds = np.random.randint(0, 2**31, size=3)\n",
    "model = torch.load(jn(config['train']['models_path'], config['train']['model_name'] + '.pt'))\n",
    "model.eval()\n",
    "out_path = config['evaluate']['reports_path']"
   ]
  },
  {
   "cell_type": "code",
   "execution_count": 4,
   "metadata": {},
   "outputs": [],
   "source": [
    "class DataSet():\n",
    "\n",
    "    def __init__(self, input_path, output_path):\n",
    "        self.input_path = input_path\n",
    "        self.output_path = output_path\n",
    "        self.file_names = os.listdir(input_path)\n",
    "        self.i = 0\n",
    "\n",
    "    def __iter__(self):\n",
    "        self.i = 0\n",
    "        return self\n",
    "\n",
    "    def __next__(self):\n",
    "        if self.i >= len(self.file_names):\n",
    "            raise StopIteration\n",
    "        else:\n",
    "            res = torch.from_numpy(np.load(jn(self.input_path,\n",
    "                             self.file_names[self.i]))), \\\n",
    "                  torch.from_numpy(np.load(jn(output_path,\n",
    "                             self.file_names[self.i])))\n",
    "            self.i += 1\n",
    "            return res\n",
    "\n",
    "    def __getitem__(self, index):\n",
    "        return np.load(jn(self.input_path, self.file_names[index])), np.load(\n",
    "            jn(output_path, self.file_names[index]))\n",
    "\n",
    "\n",
    "\n",
    "input_path = config['dataset']['signal_path']\n",
    "output_path = config['dataset']['pic_path']\n",
    "\n",
    "test_dataloader = DataSet(jn(input_path, 'test'), output_path)\n",
    "train_dataloader = DataSet(jn(input_path, 'train'), output_path)\n"
   ]
  },
  {
   "cell_type": "code",
   "execution_count": 5,
   "metadata": {},
   "outputs": [
    {
     "name": "stdout",
     "output_type": "stream",
     "text": [
      "CUDA is not available.  Training on CPU ...\n"
     ]
    }
   ],
   "source": [
    "if not torch.cuda.is_available():\n",
    "    print('CUDA is not available.  Training on CPU ...')\n",
    "else:\n",
    "    print('CUDA is available!  Training on GPU ...')\n",
    "device = 'cuda' if torch.cuda.is_available() else 'cpu'\n"
   ]
  },
  {
   "cell_type": "code",
   "execution_count": 20,
   "metadata": {},
   "outputs": [],
   "source": [
    "report = open(jn(out_path, 'report.md'), 'w')\n",
    "print(f\"# Report about training model **{config['train']['model_name']}**\", file=report)\n",
    "print(f\"## Architecture summary\\n```\\n\", file=report)\n",
    "print(model, file=report)\n",
    "print('\\n```', file=report)"
   ]
  },
  {
   "cell_type": "code",
   "execution_count": 32,
   "metadata": {},
   "outputs": [
    {
     "data": {
      "image/png": "[encoded data removed]",
      "text/plain": [
       "<Figure size 432x288 with 1 Axes>"
      ]
     },
     "metadata": {
      "needs_background": "light"
     },
     "output_type": "display_data"
    }
   ],
   "source": [
    "curve = pd.read_csv(jn(out_path, 'learning_curve.csv'))\n",
    "curve.plot()\n",
    "plt.title(\"Learning Curve\")\n",
    "plt.xlabel(\"epochs\")\n",
    "plt.ylabel(\"MSE loss\")\n",
    "plt.savefig(jn(out_path, 'l_curve.png'), dpi=200)\n",
    "print(\"![learning curve](l_curve.png)\", file=report)"
   ]
  },
  {
   "cell_type": "markdown",
   "metadata": {},
   "source": [
    "## Отображение разных примеров предсказания"
   ]
  },
  {
   "cell_type": "code",
   "execution_count": 33,
   "metadata": {},
   "outputs": [],
   "source": [
    "# training functions\n",
    "\n",
    "def eval_epoch(model, data_loader, criterion):\n",
    "    model.eval()\n",
    "    running_loss = 0.0\n",
    "    processed_size = 0\n",
    "\n",
    "    for inputs, labels in data_loader:\n",
    "        inputs = inputs.to(device)\n",
    "        labels = labels.to(device)\n",
    "\n",
    "        with torch.set_grad_enabled(False):\n",
    "            outputs = model(inputs)\n",
    "            loss = criterion(outputs, labels)\n",
    "\n",
    "        running_loss += loss.item() * inputs.size(0)\n",
    "        processed_size += inputs.size(0)\n",
    "    val_loss = running_loss / processed_size\n",
    "    return val_loss\n",
    "\n",
    "def picturewise_loss_and_predict(model, data_loader, criterion):\n",
    "    losses = []\n",
    "    result = []\n",
    "\n",
    "\n",
    "    for inputs, labels in data_loader:\n",
    "        inputs = inputs.to(device)\n",
    "        labels = labels.to(device)\n",
    "\n",
    "        with torch.no_grad():\n",
    "            outputs = model(inputs)\n",
    "        \n",
    "        losses.append(torch.mean(criterion(outputs, labels), dim=(-1, -2)).cpu().numpy())\n",
    "        result.append(outputs.cpu().numpy())\n",
    "    return np.concatenate(losses), np.concatenate(result)\n",
    "\n"
   ]
  },
  {
   "cell_type": "code",
   "execution_count": 34,
   "metadata": {},
   "outputs": [
    {
     "data": {
      "text/plain": [
       "((512, 64, 64), (512,))"
      ]
     },
     "execution_count": 34,
     "metadata": {},
     "output_type": "execute_result"
    }
   ],
   "source": [
    "losses, pred_pic = picturewise_loss_and_predict(model, test_dataloader, torch.nn.MSELoss(reduction='none'))\n",
    "pred_pic.shape, losses.shape"
   ]
  },
  {
   "cell_type": "code",
   "execution_count": null,
   "metadata": {},
   "outputs": [
    {
     "data": {
      "text/plain": [
       "(array([120]),)"
      ]
     },
     "metadata": {},
     "output_type": "display_data"
    }
   ],
   "source": [
    "max_ind = np.unravel_index(losses.argmax(keepdims=True), losses.shape)\n",
    "max_ind"
   ]
  },
  {
   "cell_type": "code",
   "execution_count": null,
   "metadata": {},
   "outputs": [],
   "source": []
  }
 ],
 "metadata": {
  "interpreter": {
   "hash": "22975e861a4488f94634044a20ded97cfffd19315dfee221a4082522e37b8267"
  },
  "kernelspec": {
   "display_name": "Python 3.9.12 ('rqc_env')",
   "language": "python",
   "name": "python3"
  },
  "language_info": {
   "codemirror_mode": {
    "name": "ipython",
    "version": 3
   },
   "file_extension": ".py",
   "mimetype": "text/x-python",
   "name": "python",
   "nbconvert_exporter": "python",
   "pygments_lexer": "ipython3",
   "version": "3.9.12"
  },
  "orig_nbformat": 4
 },
 "nbformat": 4,
 "nbformat_minor": 2
}
