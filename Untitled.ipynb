{
 "cells": [
  {
   "cell_type": "code",
   "execution_count": 2,
   "id": "38416f9d-6827-4c03-8f84-260d2d6419ea",
   "metadata": {},
   "outputs": [],
   "source": [
    "import boto3\n",
    "import os\n",
    "import pandas as pd"
   ]
  },
  {
   "cell_type": "code",
   "execution_count": 3,
   "id": "1e2fd953-bb5d-4e36-b59b-0ca8cb2ac036",
   "metadata": {},
   "outputs": [],
   "source": [
    "session = boto3.session.Session()\n",
    "s3 = session.client(\n",
    "    service_name='s3',\n",
    "    endpoint_url='https://storage.yandexcloud.net'\n",
    ")\n",
    "loc = \"sensor/data/meshes\"\n",
    "info = \"info.csv\""
   ]
  },
  {
   "cell_type": "code",
   "execution_count": 11,
   "id": "6e5fad56-0082-44af-b2bc-952ef0d05011",
   "metadata": {},
   "outputs": [],
   "source": [
    "loc = \"data/meshes\""
   ]
  },
  {
   "cell_type": "code",
   "execution_count": 16,
   "id": "28bb9211-8707-41ed-972f-59b8be69605c",
   "metadata": {},
   "outputs": [],
   "source": [
    "get_info = s3.get_object(Bucket='subjects-meshes',Key=info)\n",
    "with open(os.path.join(loc, info), 'w+b') as f:\n",
    "    f.write(get_info['Body'].read())\n",
    "df = pd.read_csv(os.path.join(loc, info))"
   ]
  },
  {
   "cell_type": "code",
   "execution_count": 17,
   "id": "723072b6-1bdc-4665-a1d9-64177baa38ff",
   "metadata": {},
   "outputs": [
    {
     "data": {
      "text/html": [
       "<div>\n",
       "<style scoped>\n",
       "    .dataframe tbody tr th:only-of-type {\n",
       "        vertical-align: middle;\n",
       "    }\n",
       "\n",
       "    .dataframe tbody tr th {\n",
       "        vertical-align: top;\n",
       "    }\n",
       "\n",
       "    .dataframe thead th {\n",
       "        text-align: right;\n",
       "    }\n",
       "</style>\n",
       "<table border=\"1\" class=\"dataframe\">\n",
       "  <thead>\n",
       "    <tr style=\"text-align: right;\">\n",
       "      <th></th>\n",
       "      <th>id</th>\n",
       "      <th>path</th>\n",
       "      <th>type</th>\n",
       "      <th>water</th>\n",
       "    </tr>\n",
       "  </thead>\n",
       "  <tbody>\n",
       "    <tr>\n",
       "      <th>0</th>\n",
       "      <td>0</td>\n",
       "      <td>db/m0/mesh.stl</td>\n",
       "      <td>0</td>\n",
       "      <td>True</td>\n",
       "    </tr>\n",
       "    <tr>\n",
       "      <th>1</th>\n",
       "      <td>1</td>\n",
       "      <td>db/m1/mesh.stl</td>\n",
       "      <td>0</td>\n",
       "      <td>False</td>\n",
       "    </tr>\n",
       "    <tr>\n",
       "      <th>2</th>\n",
       "      <td>2</td>\n",
       "      <td>db/m2/mesh.stl</td>\n",
       "      <td>0</td>\n",
       "      <td>False</td>\n",
       "    </tr>\n",
       "    <tr>\n",
       "      <th>3</th>\n",
       "      <td>3</td>\n",
       "      <td>db/m3/mesh.stl</td>\n",
       "      <td>0</td>\n",
       "      <td>True</td>\n",
       "    </tr>\n",
       "    <tr>\n",
       "      <th>4</th>\n",
       "      <td>4</td>\n",
       "      <td>db/m4/mesh.stl</td>\n",
       "      <td>0</td>\n",
       "      <td>False</td>\n",
       "    </tr>\n",
       "    <tr>\n",
       "      <th>...</th>\n",
       "      <td>...</td>\n",
       "      <td>...</td>\n",
       "      <td>...</td>\n",
       "      <td>...</td>\n",
       "    </tr>\n",
       "    <tr>\n",
       "      <th>1809</th>\n",
       "      <td>1810</td>\n",
       "      <td>db/m1810/mesh.stl</td>\n",
       "      <td>18</td>\n",
       "      <td>False</td>\n",
       "    </tr>\n",
       "    <tr>\n",
       "      <th>1810</th>\n",
       "      <td>1811</td>\n",
       "      <td>db/m1811/mesh.stl</td>\n",
       "      <td>18</td>\n",
       "      <td>False</td>\n",
       "    </tr>\n",
       "    <tr>\n",
       "      <th>1811</th>\n",
       "      <td>1812</td>\n",
       "      <td>db/m1812/mesh.stl</td>\n",
       "      <td>18</td>\n",
       "      <td>False</td>\n",
       "    </tr>\n",
       "    <tr>\n",
       "      <th>1812</th>\n",
       "      <td>1813</td>\n",
       "      <td>db/m1813/mesh.stl</td>\n",
       "      <td>18</td>\n",
       "      <td>False</td>\n",
       "    </tr>\n",
       "    <tr>\n",
       "      <th>1813</th>\n",
       "      <td>1814</td>\n",
       "      <td>db/m1814/mesh.stl</td>\n",
       "      <td>18</td>\n",
       "      <td>False</td>\n",
       "    </tr>\n",
       "  </tbody>\n",
       "</table>\n",
       "<p>1814 rows × 4 columns</p>\n",
       "</div>"
      ],
      "text/plain": [
       "        id               path  type  water\n",
       "0        0     db/m0/mesh.stl     0   True\n",
       "1        1     db/m1/mesh.stl     0  False\n",
       "2        2     db/m2/mesh.stl     0  False\n",
       "3        3     db/m3/mesh.stl     0   True\n",
       "4        4     db/m4/mesh.stl     0  False\n",
       "...    ...                ...   ...    ...\n",
       "1809  1810  db/m1810/mesh.stl    18  False\n",
       "1810  1811  db/m1811/mesh.stl    18  False\n",
       "1811  1812  db/m1812/mesh.stl    18  False\n",
       "1812  1813  db/m1813/mesh.stl    18  False\n",
       "1813  1814  db/m1814/mesh.stl    18  False\n",
       "\n",
       "[1814 rows x 4 columns]"
      ]
     },
     "execution_count": 17,
     "metadata": {},
     "output_type": "execute_result"
    }
   ],
   "source": [
    "df"
   ]
  },
  {
   "cell_type": "code",
   "execution_count": null,
   "id": "2b788d88-de5d-4ef5-a8e0-f8685e55f16f",
   "metadata": {},
   "outputs": [],
   "source": [
    "for i in range(len(df)):\n",
    "    l_path = df.loc[i, 'path']\n",
    "    get_f = s3.get_object(Bucket='subjects-meshes',Key=l_path)\n",
    "    path, name = os.path.split(l_path)\n",
    "    path = os.path.join(loc, path)\n",
    "    os.makedirs(path, exist_ok=True)\n",
    "    with open(os.path.join(path, name), 'w+b') as f:\n",
    "        f.write(get_info['Body'].read())\n",
    "    if i % 10 == 0:\n",
    "        print(i)\n",
    "print('finish')"
   ]
  }
 ],
 "metadata": {
  "kernelspec": {
   "display_name": "rlgpu",
   "language": "python",
   "name": "rlgpu"
  },
  "language_info": {
   "codemirror_mode": {
    "name": "ipython",
    "version": 3
   },
   "file_extension": ".py",
   "mimetype": "text/x-python",
   "name": "python",
   "nbconvert_exporter": "python",
   "pygments_lexer": "ipython3",
   "version": "3.7.12"
  }
 },
 "nbformat": 4,
 "nbformat_minor": 5
}
