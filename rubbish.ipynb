{
 "cells": [
  {
   "cell_type": "code",
   "execution_count": 1,
   "metadata": {},
   "outputs": [],
   "source": [
    "import torch\n",
    "import torch.nn as nn\n",
    "import torch.nn.functional as F\n",
    "\n",
    "import numpy as np"
   ]
  },
  {
   "cell_type": "code",
   "execution_count": 2,
   "metadata": {},
   "outputs": [],
   "source": [
    "from torchsummary import summary\n"
   ]
  },
  {
   "cell_type": "code",
   "execution_count": 19,
   "metadata": {},
   "outputs": [],
   "source": [
    "m = nn.InstanceNorm2d(1, affine=True)"
   ]
  },
  {
   "cell_type": "code",
   "execution_count": 12,
   "metadata": {},
   "outputs": [],
   "source": [
    "input = torch.Tensor([\n",
    "    [[1, 2, 3], [3, 4, 5], [5, 6, 7]],\n",
    "    [[1, 2, 3], [3, 4, 5], [14, 6, 7]],\n",
    "    [[1, 2, 3], [3, 4, 5], [23, 6, 7]]\n",
    "    ])"
   ]
  },
  {
   "cell_type": "code",
   "execution_count": 20,
   "metadata": {},
   "outputs": [
    {
     "name": "stdout",
     "output_type": "stream",
     "text": [
      "tensor([[[ 1.,  2.,  3.],\n",
      "         [ 3.,  4.,  5.],\n",
      "         [ 5.,  6.,  7.]],\n",
      "\n",
      "        [[ 1.,  2.,  3.],\n",
      "         [ 3.,  4.,  5.],\n",
      "         [14.,  6.,  7.]],\n",
      "\n",
      "        [[ 1.,  2.,  3.],\n",
      "         [ 3.,  4.,  5.],\n",
      "         [23.,  6.,  7.]]])\n"
     ]
    },
    {
     "ename": "RuntimeError",
     "evalue": "weight should contain 3 elements not 1",
     "output_type": "error",
     "traceback": [
      "\u001b[0;31m---------------------------------------------------------------------------\u001b[0m",
      "\u001b[0;31mRuntimeError\u001b[0m                              Traceback (most recent call last)",
      "\u001b[1;32m/home/korbash/projects/torch_sensor_gpu/RQC-Robotics-tactile_sensor/rubbish.ipynb Cell 5'\u001b[0m in \u001b[0;36m<cell line: 2>\u001b[0;34m()\u001b[0m\n\u001b[1;32m      <a href='vscode-notebook-cell://ssh-remote%2Byavm/home/korbash/projects/torch_sensor_gpu/RQC-Robotics-tactile_sensor/rubbish.ipynb#ch0000004vscode-remote?line=0'>1</a>\u001b[0m \u001b[39mprint\u001b[39m(\u001b[39minput\u001b[39m)\n\u001b[0;32m----> <a href='vscode-notebook-cell://ssh-remote%2Byavm/home/korbash/projects/torch_sensor_gpu/RQC-Robotics-tactile_sensor/rubbish.ipynb#ch0000004vscode-remote?line=1'>2</a>\u001b[0m m(\u001b[39minput\u001b[39;49m)\n",
      "File \u001b[0;32m~/projects/torch_sensor_gpu/RQC-Robotics-tactile_sensor/venvPytorchAndTF/lib/python3.8/site-packages/torch/nn/modules/module.py:1110\u001b[0m, in \u001b[0;36mModule._call_impl\u001b[0;34m(self, *input, **kwargs)\u001b[0m\n\u001b[1;32m   <a href='file:///home/korbash/projects/torch_sensor_gpu/RQC-Robotics-tactile_sensor/venvPytorchAndTF/lib/python3.8/site-packages/torch/nn/modules/module.py?line=1105'>1106</a>\u001b[0m \u001b[39m# If we don't have any hooks, we want to skip the rest of the logic in\u001b[39;00m\n\u001b[1;32m   <a href='file:///home/korbash/projects/torch_sensor_gpu/RQC-Robotics-tactile_sensor/venvPytorchAndTF/lib/python3.8/site-packages/torch/nn/modules/module.py?line=1106'>1107</a>\u001b[0m \u001b[39m# this function, and just call forward.\u001b[39;00m\n\u001b[1;32m   <a href='file:///home/korbash/projects/torch_sensor_gpu/RQC-Robotics-tactile_sensor/venvPytorchAndTF/lib/python3.8/site-packages/torch/nn/modules/module.py?line=1107'>1108</a>\u001b[0m \u001b[39mif\u001b[39;00m \u001b[39mnot\u001b[39;00m (\u001b[39mself\u001b[39m\u001b[39m.\u001b[39m_backward_hooks \u001b[39mor\u001b[39;00m \u001b[39mself\u001b[39m\u001b[39m.\u001b[39m_forward_hooks \u001b[39mor\u001b[39;00m \u001b[39mself\u001b[39m\u001b[39m.\u001b[39m_forward_pre_hooks \u001b[39mor\u001b[39;00m _global_backward_hooks\n\u001b[1;32m   <a href='file:///home/korbash/projects/torch_sensor_gpu/RQC-Robotics-tactile_sensor/venvPytorchAndTF/lib/python3.8/site-packages/torch/nn/modules/module.py?line=1108'>1109</a>\u001b[0m         \u001b[39mor\u001b[39;00m _global_forward_hooks \u001b[39mor\u001b[39;00m _global_forward_pre_hooks):\n\u001b[0;32m-> <a href='file:///home/korbash/projects/torch_sensor_gpu/RQC-Robotics-tactile_sensor/venvPytorchAndTF/lib/python3.8/site-packages/torch/nn/modules/module.py?line=1109'>1110</a>\u001b[0m     \u001b[39mreturn\u001b[39;00m forward_call(\u001b[39m*\u001b[39;49m\u001b[39minput\u001b[39;49m, \u001b[39m*\u001b[39;49m\u001b[39m*\u001b[39;49mkwargs)\n\u001b[1;32m   <a href='file:///home/korbash/projects/torch_sensor_gpu/RQC-Robotics-tactile_sensor/venvPytorchAndTF/lib/python3.8/site-packages/torch/nn/modules/module.py?line=1110'>1111</a>\u001b[0m \u001b[39m# Do not call functions when jit is used\u001b[39;00m\n\u001b[1;32m   <a href='file:///home/korbash/projects/torch_sensor_gpu/RQC-Robotics-tactile_sensor/venvPytorchAndTF/lib/python3.8/site-packages/torch/nn/modules/module.py?line=1111'>1112</a>\u001b[0m full_backward_hooks, non_full_backward_hooks \u001b[39m=\u001b[39m [], []\n",
      "File \u001b[0;32m~/projects/torch_sensor_gpu/RQC-Robotics-tactile_sensor/venvPytorchAndTF/lib/python3.8/site-packages/torch/nn/modules/instancenorm.py:70\u001b[0m, in \u001b[0;36m_InstanceNorm.forward\u001b[0;34m(self, input)\u001b[0m\n\u001b[1;32m     <a href='file:///home/korbash/projects/torch_sensor_gpu/RQC-Robotics-tactile_sensor/venvPytorchAndTF/lib/python3.8/site-packages/torch/nn/modules/instancenorm.py?line=66'>67</a>\u001b[0m \u001b[39mself\u001b[39m\u001b[39m.\u001b[39m_check_input_dim(\u001b[39minput\u001b[39m)\n\u001b[1;32m     <a href='file:///home/korbash/projects/torch_sensor_gpu/RQC-Robotics-tactile_sensor/venvPytorchAndTF/lib/python3.8/site-packages/torch/nn/modules/instancenorm.py?line=68'>69</a>\u001b[0m \u001b[39mif\u001b[39;00m \u001b[39minput\u001b[39m\u001b[39m.\u001b[39mdim() \u001b[39m==\u001b[39m \u001b[39mself\u001b[39m\u001b[39m.\u001b[39m_get_no_batch_dim():\n\u001b[0;32m---> <a href='file:///home/korbash/projects/torch_sensor_gpu/RQC-Robotics-tactile_sensor/venvPytorchAndTF/lib/python3.8/site-packages/torch/nn/modules/instancenorm.py?line=69'>70</a>\u001b[0m     \u001b[39mreturn\u001b[39;00m \u001b[39mself\u001b[39;49m\u001b[39m.\u001b[39;49m_handle_no_batch_input(\u001b[39minput\u001b[39;49m)\n\u001b[1;32m     <a href='file:///home/korbash/projects/torch_sensor_gpu/RQC-Robotics-tactile_sensor/venvPytorchAndTF/lib/python3.8/site-packages/torch/nn/modules/instancenorm.py?line=71'>72</a>\u001b[0m \u001b[39mreturn\u001b[39;00m \u001b[39mself\u001b[39m\u001b[39m.\u001b[39m_apply_instance_norm(\u001b[39minput\u001b[39m)\n",
      "File \u001b[0;32m~/projects/torch_sensor_gpu/RQC-Robotics-tactile_sensor/venvPytorchAndTF/lib/python3.8/site-packages/torch/nn/modules/instancenorm.py:29\u001b[0m, in \u001b[0;36m_InstanceNorm._handle_no_batch_input\u001b[0;34m(self, input)\u001b[0m\n\u001b[1;32m     <a href='file:///home/korbash/projects/torch_sensor_gpu/RQC-Robotics-tactile_sensor/venvPytorchAndTF/lib/python3.8/site-packages/torch/nn/modules/instancenorm.py?line=27'>28</a>\u001b[0m \u001b[39mdef\u001b[39;00m \u001b[39m_handle_no_batch_input\u001b[39m(\u001b[39mself\u001b[39m, \u001b[39minput\u001b[39m):\n\u001b[0;32m---> <a href='file:///home/korbash/projects/torch_sensor_gpu/RQC-Robotics-tactile_sensor/venvPytorchAndTF/lib/python3.8/site-packages/torch/nn/modules/instancenorm.py?line=28'>29</a>\u001b[0m     \u001b[39mreturn\u001b[39;00m \u001b[39mself\u001b[39;49m\u001b[39m.\u001b[39;49m_apply_instance_norm(\u001b[39minput\u001b[39;49m\u001b[39m.\u001b[39;49munsqueeze(\u001b[39m0\u001b[39;49m))\u001b[39m.\u001b[39msqueeze(\u001b[39m0\u001b[39m)\n",
      "File \u001b[0;32m~/projects/torch_sensor_gpu/RQC-Robotics-tactile_sensor/venvPytorchAndTF/lib/python3.8/site-packages/torch/nn/modules/instancenorm.py:32\u001b[0m, in \u001b[0;36m_InstanceNorm._apply_instance_norm\u001b[0;34m(self, input)\u001b[0m\n\u001b[1;32m     <a href='file:///home/korbash/projects/torch_sensor_gpu/RQC-Robotics-tactile_sensor/venvPytorchAndTF/lib/python3.8/site-packages/torch/nn/modules/instancenorm.py?line=30'>31</a>\u001b[0m \u001b[39mdef\u001b[39;00m \u001b[39m_apply_instance_norm\u001b[39m(\u001b[39mself\u001b[39m, \u001b[39minput\u001b[39m):\n\u001b[0;32m---> <a href='file:///home/korbash/projects/torch_sensor_gpu/RQC-Robotics-tactile_sensor/venvPytorchAndTF/lib/python3.8/site-packages/torch/nn/modules/instancenorm.py?line=31'>32</a>\u001b[0m     \u001b[39mreturn\u001b[39;00m F\u001b[39m.\u001b[39;49minstance_norm(\n\u001b[1;32m     <a href='file:///home/korbash/projects/torch_sensor_gpu/RQC-Robotics-tactile_sensor/venvPytorchAndTF/lib/python3.8/site-packages/torch/nn/modules/instancenorm.py?line=32'>33</a>\u001b[0m         \u001b[39minput\u001b[39;49m, \u001b[39mself\u001b[39;49m\u001b[39m.\u001b[39;49mrunning_mean, \u001b[39mself\u001b[39;49m\u001b[39m.\u001b[39;49mrunning_var, \u001b[39mself\u001b[39;49m\u001b[39m.\u001b[39;49mweight, \u001b[39mself\u001b[39;49m\u001b[39m.\u001b[39;49mbias,\n\u001b[1;32m     <a href='file:///home/korbash/projects/torch_sensor_gpu/RQC-Robotics-tactile_sensor/venvPytorchAndTF/lib/python3.8/site-packages/torch/nn/modules/instancenorm.py?line=33'>34</a>\u001b[0m         \u001b[39mself\u001b[39;49m\u001b[39m.\u001b[39;49mtraining \u001b[39mor\u001b[39;49;00m \u001b[39mnot\u001b[39;49;00m \u001b[39mself\u001b[39;49m\u001b[39m.\u001b[39;49mtrack_running_stats, \u001b[39mself\u001b[39;49m\u001b[39m.\u001b[39;49mmomentum, \u001b[39mself\u001b[39;49m\u001b[39m.\u001b[39;49meps)\n",
      "File \u001b[0;32m~/projects/torch_sensor_gpu/RQC-Robotics-tactile_sensor/venvPytorchAndTF/lib/python3.8/site-packages/torch/nn/functional.py:2466\u001b[0m, in \u001b[0;36minstance_norm\u001b[0;34m(input, running_mean, running_var, weight, bias, use_input_stats, momentum, eps)\u001b[0m\n\u001b[1;32m   <a href='file:///home/korbash/projects/torch_sensor_gpu/RQC-Robotics-tactile_sensor/venvPytorchAndTF/lib/python3.8/site-packages/torch/nn/functional.py?line=2463'>2464</a>\u001b[0m \u001b[39mif\u001b[39;00m use_input_stats:\n\u001b[1;32m   <a href='file:///home/korbash/projects/torch_sensor_gpu/RQC-Robotics-tactile_sensor/venvPytorchAndTF/lib/python3.8/site-packages/torch/nn/functional.py?line=2464'>2465</a>\u001b[0m     _verify_spatial_size(\u001b[39minput\u001b[39m\u001b[39m.\u001b[39msize())\n\u001b[0;32m-> <a href='file:///home/korbash/projects/torch_sensor_gpu/RQC-Robotics-tactile_sensor/venvPytorchAndTF/lib/python3.8/site-packages/torch/nn/functional.py?line=2465'>2466</a>\u001b[0m \u001b[39mreturn\u001b[39;00m torch\u001b[39m.\u001b[39;49minstance_norm(\n\u001b[1;32m   <a href='file:///home/korbash/projects/torch_sensor_gpu/RQC-Robotics-tactile_sensor/venvPytorchAndTF/lib/python3.8/site-packages/torch/nn/functional.py?line=2466'>2467</a>\u001b[0m     \u001b[39minput\u001b[39;49m, weight, bias, running_mean, running_var, use_input_stats, momentum, eps, torch\u001b[39m.\u001b[39;49mbackends\u001b[39m.\u001b[39;49mcudnn\u001b[39m.\u001b[39;49menabled\n\u001b[1;32m   <a href='file:///home/korbash/projects/torch_sensor_gpu/RQC-Robotics-tactile_sensor/venvPytorchAndTF/lib/python3.8/site-packages/torch/nn/functional.py?line=2467'>2468</a>\u001b[0m )\n",
      "\u001b[0;31mRuntimeError\u001b[0m: weight should contain 3 elements not 1"
     ]
    }
   ],
   "source": [
    "print(input)\n",
    "m(input)"
   ]
  },
  {
   "cell_type": "code",
   "execution_count": 18,
   "metadata": {},
   "outputs": [
    {
     "name": "stdout",
     "output_type": "stream",
     "text": [
      "tensor([[[[1., 1.],\n",
      "          [1., 1.]],\n",
      "\n",
      "         [[2., 2.],\n",
      "          [2., 2.]],\n",
      "\n",
      "         [[2., 2.],\n",
      "          [2., 2.]]]])\n"
     ]
    },
    {
     "data": {
      "text/plain": [
       "tensor([[[[0., 0.],\n",
       "          [0., 0.]],\n",
       "\n",
       "         [[0., 0.],\n",
       "          [0., 0.]],\n",
       "\n",
       "         [[0., 0.],\n",
       "          [0., 0.]]]], grad_fn=<ViewBackward0>)"
      ]
     },
     "execution_count": 18,
     "metadata": {},
     "output_type": "execute_result"
    }
   ],
   "source": [
    "print(a)\n",
    "m(a)"
   ]
  },
  {
   "cell_type": "code",
   "execution_count": 17,
   "metadata": {},
   "outputs": [],
   "source": [
    "a = np.ones((1, 3, 2, 2))\n",
    "a[0, 1]*=2\n",
    "a[0, 2]*=-1\n",
    "a[0, 2]+=3\n",
    "a = torch.Tensor(a)"
   ]
  },
  {
   "cell_type": "code",
   "execution_count": 23,
   "metadata": {},
   "outputs": [],
   "source": [
    "res = []\n",
    "in_path = \"data/pressure/pic/\"\n",
    "outpath = \"../sashas_net/data/presure/pic/one_piece.npy\"\n",
    "for filename in os.listdir(in_path):\n",
    "    res.append(np.load(os.path.join(in_path, filename)))\n",
    "res = np.concatenate(res)\n",
    "np.save(outpath, res)"
   ]
  },
  {
   "cell_type": "code",
   "execution_count": null,
   "metadata": {},
   "outputs": [],
   "source": []
  }
 ],
 "metadata": {
  "interpreter": {
   "hash": "e99257ad9e10e3258445396f20cee2b0bc7a8bf63881ff00d850e5c9ea0323e9"
  },
  "kernelspec": {
   "display_name": "Python 3.8.10 ('venvPytorchAndTF': venv)",
   "language": "python",
   "name": "python3"
  },
  "language_info": {
   "codemirror_mode": {
    "name": "ipython",
    "version": 3
   },
   "file_extension": ".py",
   "mimetype": "text/x-python",
   "name": "python",
   "nbconvert_exporter": "python",
   "pygments_lexer": "ipython3",
   "version": "3.8.10"
  },
  "orig_nbformat": 4
 },
 "nbformat": 4,
 "nbformat_minor": 2
}
