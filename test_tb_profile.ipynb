{
 "cells": [
  {
   "cell_type": "code",
   "execution_count": 1,
   "id": "1d235eff-6623-485b-8017-d4c5b29d7bb9",
   "metadata": {},
   "outputs": [],
   "source": [
    "%load_ext tensorboard"
   ]
  },
  {
   "cell_type": "code",
   "execution_count": 2,
   "id": "4715883f-acd6-4e9c-a931-5f119d34d065",
   "metadata": {},
   "outputs": [],
   "source": [
    "import tensorflow as tf\n",
    "import datetime"
   ]
  },
  {
   "cell_type": "code",
   "execution_count": 6,
   "id": "5a3ddef3-a747-4484-abc7-074e74ae834c",
   "metadata": {},
   "outputs": [],
   "source": [
    "!rm -rf ./logs/"
   ]
  },
  {
   "cell_type": "code",
   "execution_count": 4,
   "id": "404b1967-5a2b-4d3a-8c19-7863c73c7fd5",
   "metadata": {},
   "outputs": [
    {
     "name": "stdout",
     "output_type": "stream",
     "text": [
      "Downloading data from https://storage.googleapis.com/tensorflow/tf-keras-datasets/mnist.npz\n",
      "11490434/11490434 [==============================] - 0s 0us/step\n"
     ]
    }
   ],
   "source": [
    "mnist = tf.keras.datasets.mnist\n",
    "\n",
    "(x_train, y_train),(x_test, y_test) = mnist.load_data()\n",
    "x_train, x_test = x_train / 255.0, x_test / 255.0\n",
    "\n",
    "def create_model():\n",
    "  return tf.keras.models.Sequential([\n",
    "    tf.keras.layers.Flatten(input_shape=(28, 28)),\n",
    "    tf.keras.layers.Dense(512, activation='relu'),\n",
    "    tf.keras.layers.Dropout(0.2),\n",
    "    tf.keras.layers.Dense(10, activation='softmax')\n",
    "  ])"
   ]
  },
  {
   "cell_type": "code",
   "execution_count": 7,
   "id": "6d02ac0c-17a2-422c-86e9-a92f6f339ea4",
   "metadata": {},
   "outputs": [
    {
     "name": "stderr",
     "output_type": "stream",
     "text": [
      "2022-05-28 09:16:17.777837: I tensorflow/core/profiler/lib/profiler_session.cc:99] Profiler session initializing.\n",
      "2022-05-28 09:16:17.777891: I tensorflow/core/profiler/lib/profiler_session.cc:114] Profiler session started.\n",
      "2022-05-28 09:16:17.777947: I tensorflow/core/profiler/internal/gpu/cupti_tracer.cc:1665] Profiler found 1 GPUs\n",
      "2022-05-28 09:16:18.313792: I tensorflow/core/profiler/lib/profiler_session.cc:126] Profiler session tear down.\n",
      "2022-05-28 09:16:18.317421: I tensorflow/core/profiler/internal/gpu/cupti_tracer.cc:1799] CUPTI activity buffer flushed\n"
     ]
    },
    {
     "name": "stdout",
     "output_type": "stream",
     "text": [
      "Epoch 1/5\n",
      " 514/1875 [=======>......................] - ETA: 3s - loss: 0.3664 - accuracy: 0.8943"
     ]
    },
    {
     "name": "stderr",
     "output_type": "stream",
     "text": [
      "2022-05-28 09:16:20.500029: I tensorflow/core/profiler/lib/profiler_session.cc:99] Profiler session initializing.\n",
      "2022-05-28 09:16:20.500108: I tensorflow/core/profiler/lib/profiler_session.cc:114] Profiler session started.\n"
     ]
    },
    {
     "name": "stdout",
     "output_type": "stream",
     "text": [
      " 520/1875 [=======>......................] - ETA: 4s - loss: 0.3649 - accuracy: 0.8945"
     ]
    },
    {
     "name": "stderr",
     "output_type": "stream",
     "text": [
      "2022-05-28 09:16:20.712601: I tensorflow/core/profiler/lib/profiler_session.cc:66] Profiler session collecting data.\n",
      "2022-05-28 09:16:20.715693: I tensorflow/core/profiler/internal/gpu/cupti_tracer.cc:1799] CUPTI activity buffer flushed\n",
      "2022-05-28 09:16:20.748060: I tensorflow/core/profiler/internal/gpu/cupti_collector.cc:521]  GpuTracer has collected 1383 callback api events and 1322 activity events. \n",
      "2022-05-28 09:16:20.772626: I tensorflow/core/profiler/lib/profiler_session.cc:126] Profiler session tear down.\n",
      "2022-05-28 09:16:20.801204: I tensorflow/core/profiler/rpc/client/save_profile.cc:136] Creating directory: logs/fit/20220528-091617/plugins/profile/2022_05_28_09_16_20\n",
      "\n",
      "2022-05-28 09:16:20.828605: I tensorflow/core/profiler/rpc/client/save_profile.cc:142] Dumped gzipped tool data for trace.json.gz to logs/fit/20220528-091617/plugins/profile/2022_05_28_09_16_20/309a475ad849.trace.json.gz\n",
      "2022-05-28 09:16:20.870689: I tensorflow/core/profiler/rpc/client/save_profile.cc:136] Creating directory: logs/fit/20220528-091617/plugins/profile/2022_05_28_09_16_20\n",
      "\n",
      "2022-05-28 09:16:20.876745: I tensorflow/core/profiler/rpc/client/save_profile.cc:142] Dumped gzipped tool data for memory_profile.json.gz to logs/fit/20220528-091617/plugins/profile/2022_05_28_09_16_20/309a475ad849.memory_profile.json.gz\n",
      "2022-05-28 09:16:20.877767: I tensorflow/core/profiler/rpc/client/capture_profile.cc:251] Creating directory: logs/fit/20220528-091617/plugins/profile/2022_05_28_09_16_20\n",
      "Dumped tool data for xplane.pb to logs/fit/20220528-091617/plugins/profile/2022_05_28_09_16_20/309a475ad849.xplane.pb\n",
      "Dumped tool data for overview_page.pb to logs/fit/20220528-091617/plugins/profile/2022_05_28_09_16_20/309a475ad849.overview_page.pb\n",
      "Dumped tool data for input_pipeline.pb to logs/fit/20220528-091617/plugins/profile/2022_05_28_09_16_20/309a475ad849.input_pipeline.pb\n",
      "Dumped tool data for tensorflow_stats.pb to logs/fit/20220528-091617/plugins/profile/2022_05_28_09_16_20/309a475ad849.tensorflow_stats.pb\n",
      "Dumped tool data for kernel_stats.pb to logs/fit/20220528-091617/plugins/profile/2022_05_28_09_16_20/309a475ad849.kernel_stats.pb\n",
      "\n"
     ]
    },
    {
     "name": "stdout",
     "output_type": "stream",
     "text": [
      "1875/1875 [==============================] - 6s 3ms/step - loss: 0.2212 - accuracy: 0.9353 - val_loss: 0.1178 - val_accuracy: 0.9647\n",
      "Epoch 2/5\n",
      "1875/1875 [==============================] - 6s 3ms/step - loss: 0.0988 - accuracy: 0.9700 - val_loss: 0.0871 - val_accuracy: 0.9739\n",
      "Epoch 3/5\n",
      "1875/1875 [==============================] - 6s 3ms/step - loss: 0.0691 - accuracy: 0.9785 - val_loss: 0.0670 - val_accuracy: 0.9775\n",
      "Epoch 4/5\n",
      "1875/1875 [==============================] - 6s 3ms/step - loss: 0.0542 - accuracy: 0.9833 - val_loss: 0.0661 - val_accuracy: 0.9792\n",
      "Epoch 5/5\n",
      "1875/1875 [==============================] - 6s 3ms/step - loss: 0.0424 - accuracy: 0.9863 - val_loss: 0.0644 - val_accuracy: 0.9814\n"
     ]
    },
    {
     "data": {
      "text/plain": [
       "<keras.callbacks.History at 0x7feb4c8a4880>"
      ]
     },
     "execution_count": 7,
     "metadata": {},
     "output_type": "execute_result"
    }
   ],
   "source": [
    "model = create_model()\n",
    "model.compile(optimizer='adam',\n",
    "              loss='sparse_categorical_crossentropy',\n",
    "              metrics=['accuracy'])\n",
    "\n",
    "log_dir = \"logs/fit/\" + datetime.datetime.now().strftime(\"%Y%m%d-%H%M%S\")\n",
    "tensorboard_callback = tf.keras.callbacks.TensorBoard(log_dir=log_dir, histogram_freq=1, profile_batch = '500,520')\n",
    "\n",
    "model.fit(x=x_train, \n",
    "          y=y_train, \n",
    "          epochs=5, \n",
    "          validation_data=(x_test, y_test), \n",
    "          callbacks=[tensorboard_callback])"
   ]
  },
  {
   "cell_type": "code",
   "execution_count": 8,
   "id": "64565a6a-0084-4f7a-afc2-a3eb5c42a4d3",
   "metadata": {},
   "outputs": [
    {
     "name": "stdout",
     "output_type": "stream",
     "text": [
      "\n",
      "NOTE: Using experimental fast data loading logic. To disable, pass\n",
      "    \"--load_fast=false\" and report issues on GitHub. More details:\n",
      "    https://github.com/tensorflow/tensorboard/issues/4784\n",
      "\n",
      "TensorBoard 2.9.0 at http://0.0.0.0:6006/ (Press CTRL+C to quit)\n",
      "^C\n"
     ]
    }
   ],
   "source": [
    "! tensorboard --host 0.0.0.0 --logdir logs/fit"
   ]
  }
 ],
 "metadata": {
  "kernelspec": {
   "display_name": "Python 3 (ipykernel)",
   "language": "python",
   "name": "python3"
  },
  "language_info": {
   "codemirror_mode": {
    "name": "ipython",
    "version": 3
   },
   "file_extension": ".py",
   "mimetype": "text/x-python",
   "name": "python",
   "nbconvert_exporter": "python",
   "pygments_lexer": "ipython3",
   "version": "3.9.13"
  }
 },
 "nbformat": 4,
 "nbformat_minor": 5
}
