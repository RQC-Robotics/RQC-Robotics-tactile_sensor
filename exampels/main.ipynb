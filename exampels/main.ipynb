{
 "cells": [
  {
   "cell_type": "code",
   "execution_count": null,
   "metadata": {
    "id": "zmIYljCCMef3"
   },
   "outputs": [],
   "source": [
    "!pip install git+https://github.com/RQC-Robotics/RQC-Robotics-tactile_sensor"
   ]
  },
  {
   "cell_type": "code",
   "execution_count": null,
   "metadata": {
    "id": "EPNxeZi7MnUO"
   },
   "outputs": [],
   "source": [
    "import sensor_lib as sl\n",
    "import tensorflow as tf\n",
    "import numpy as np\n",
    "import matplotlib.pyplot as plt\n",
    "import os\n",
    "os.mkdir('generated_gauses')\n",
    "os.mkdir('models_weights')\n",
    "os.mkdir('resalts')"
   ]
  },
  {
   "cell_type": "code",
   "execution_count": null,
   "metadata": {
    "id": "dQZK-hLfRPXm"
   },
   "outputs": [],
   "source": [
    "n_gauses=15\n",
    "n_pic=100000\n",
    "n_fibers=4\n",
    "n_rot=1\n",
    "lerning_rate=1e-4\n",
    "n_epochs=20\n",
    "\n",
    "dir_of_gauses='/content/drive/MyDrive/Colab_projects/'"
   ]
  },
  {
   "cell_type": "markdown",
   "metadata": {
    "id": "nlRUT4zvYX8n"
   },
   "source": [
    "# generation pressure_map"
   ]
  },
  {
   "cell_type": "code",
   "execution_count": null,
   "metadata": {
    "id": "zmVvcGUnWg67"
   },
   "outputs": [],
   "source": [
    "sl.generate_pressure_map(\n",
    "    n_pic, n_fibers, x= 97, y = 97,\n",
    "    part='generated_gauses/fresh_gauss'+str(n_gauses)+'_'+str(n_pic)+'.npy')"
   ]
  },
  {
   "cell_type": "markdown",
   "metadata": {
    "id": "1S5uLr7FZMqo"
   },
   "source": [
    "# counting losses in fibers (input of nerual network)"
   ]
  },
  {
   "cell_type": "code",
   "execution_count": null,
   "metadata": {
    "id": "21I9FVD7WiIb"
   },
   "outputs": [],
   "source": [
    "input, output, input_test, output_test = sl.sim_on_gpu(\n",
    "    dir_of_gauses+'fresh_gauss'+str(n_gauses)+'_'+str(n_pic)+'.npy',\n",
    "    n_random_rot=n_rot, n_angles=n_fibers,\n",
    "    batch_size_preproc=128*8\n",
    "    )\n",
    "input_shape = input.shape\n",
    "output_shape = output.shape\n",
    "dataset_b, dataset = sl.prepare_dataset_for_train(\n",
    "    input, output, batch_size_fit_model=1024*2\n",
    "    )\n",
    "dataset_test_b, dataset_test = sl.prepare_dataset_for_train(\n",
    "    input_test, output_test,batch_size_fit_model=1024*2\n",
    "    )"
   ]
  },
  {
   "cell_type": "markdown",
   "metadata": {
    "id": "2HBUJ_mMZzqT"
   },
   "source": [
    "# defining nerual network for decoding and fitting it"
   ]
  },
  {
   "cell_type": "code",
   "execution_count": null,
   "metadata": {
    "id": "BDLRQfkvWuX7"
   },
   "outputs": [],
   "source": [
    "model = sl.SensorNN4S(input_shape[1:3], output_shape[1:3])\n",
    "model.build(input_shape)\n",
    "model.summary()\n",
    "model.compile(\n",
    "    optimizer=tf.keras.optimizers.Adam(lerning_rate),\n",
    "    loss=tf.keras.losses.MeanSquaredError(),\n",
    "    metrics=['accuracy']\n",
    "    )"
   ]
  },
  {
   "cell_type": "code",
   "execution_count": null,
   "metadata": {
    "id": "kmGd-a3SW0j6"
   },
   "outputs": [],
   "source": [
    "model.fit(dataset_b, epochs = n_epochs, verbose=1)"
   ]
  },
  {
   "cell_type": "code",
   "execution_count": null,
   "metadata": {
    "id": "yn0PxjqHW5Mj"
   },
   "outputs": [],
   "source": [
    "model.save('models_weights/model4S_'+str(n_fibers)+'fi.nn')"
   ]
  },
  {
   "cell_type": "markdown",
   "metadata": {
    "id": "59CcWzTRao6i"
   },
   "source": [
    "# evoluate model on don't seen data"
   ]
  },
  {
   "cell_type": "code",
   "execution_count": null,
   "metadata": {
    "id": "3EJRgZf_ahn8"
   },
   "outputs": [],
   "source": [
    "model = tf.keras.models.load_model('models_weights/model4S_'+str(n_fibers)+'fi.nn')"
   ]
  },
  {
   "cell_type": "code",
   "execution_count": null,
   "metadata": {
    "id": "5f1CsIn2W-mx"
   },
   "outputs": [],
   "source": [
    "model.evaluate(dataset_test_b)"
   ]
  },
  {
   "cell_type": "code",
   "execution_count": null,
   "metadata": {
    "id": "u7JN832XXD8w"
   },
   "outputs": [],
   "source": [
    "predictions = model.predict(dataset_test_b)\n",
    "predictions.shape"
   ]
  },
  {
   "cell_type": "markdown",
   "metadata": {
    "id": "Dosd971-bpeh"
   },
   "source": [
    "# saving resalts"
   ]
  },
  {
   "cell_type": "code",
   "execution_count": null,
   "metadata": {
    "id": "exK4-QIhXG7C"
   },
   "outputs": [],
   "source": [
    "with open('resalts/pred_4S_'+str(n_gauses)+'g_'+str(n_fibers)+'fi', 'wb') as f:\n",
    "    np.save(f, predictions)\n",
    "    np.save(f, output_test)"
   ]
  },
  {
   "cell_type": "markdown",
   "metadata": {
    "id": "SoeWHe4obu1u"
   },
   "source": [
    "# look on resalts"
   ]
  },
  {
   "cell_type": "code",
   "execution_count": null,
   "metadata": {
    "id": "R90KNoG0b4oi"
   },
   "outputs": [],
   "source": [
    "with open('resalts/pred_4S_'+str(n_gauses)+'g_'+str(n_fibers)+'fi', 'rb') as f:\n",
    "    predictions = np.load(f)\n",
    "    output_test = np.load(f)"
   ]
  },
  {
   "cell_type": "code",
   "execution_count": null,
   "metadata": {
    "id": "T22TeQF6XJ9i"
   },
   "outputs": [],
   "source": [
    "N = 4 #28 26 24 23 21 20\n",
    "plt.imshow(predictions[N])\n",
    "plt.show()\n",
    "plt.imshow(output_test[N])\n",
    "plt.show()"
   ]
  }
 ],
 "metadata": {
  "accelerator": "GPU",
  "colab": {
   "name": "Untitled11.ipynb",
   "private_outputs": true,
   "provenance": []
  },
  "kernelspec": {
   "display_name": "Python 3 (ipykernel)",
   "language": "python",
   "name": "python3"
  },
  "language_info": {
   "name": "python"
  }
 },
 "nbformat": 4,
 "nbformat_minor": 4
}
