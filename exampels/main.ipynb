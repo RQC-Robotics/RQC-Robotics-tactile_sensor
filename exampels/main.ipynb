{
 "cells": [
  {
   "cell_type": "markdown",
   "metadata": {
    "cellId": "2uo7e5yfyilzuagmx9cjvc",
    "colab_type": "text",
    "id": "view-in-github"
   },
   "source": [
    "<a href=\"https://colab.research.google.com/github/RQC-Robotics/RQC-Robotics-tactile_sensor/blob/main/exampels/main.ipynb\" target=\"_parent\"><img src=\"https://colab.research.google.com/assets/colab-badge.svg\" alt=\"Open In Colab\"/></a>"
   ]
  },
  {
   "cell_type": "code",
   "execution_count": 10,
   "metadata": {
    "cellId": "eegejuqdh44ir1952mxbk",
    "id": "zmIYljCCMef3"
   },
   "outputs": [
    {
     "name": "stdout",
     "output_type": "stream",
     "text": [
      "Defaulting to user installation because normal site-packages is not writeable\n",
      "Collecting git+https://github.com/RQC-Robotics/RQC-Robotics-tactile_sensor\n",
      "  Cloning https://github.com/RQC-Robotics/RQC-Robotics-tactile_sensor to /tmp/pip-req-build-trxef4mf\n",
      "  Running command git clone --filter=blob:none -q https://github.com/RQC-Robotics/RQC-Robotics-tactile_sensor /tmp/pip-req-build-trxef4mf\n",
      "  Resolved https://github.com/RQC-Robotics/RQC-Robotics-tactile_sensor to commit 9c488f10f86c1a2bb7ebfb5a105260a1b50dff20\n",
      "  Preparing metadata (setup.py) ... \u001b[?25ldone\n",
      "\u001b[?25hBuilding wheels for collected packages: tactil-sensor-decoder\n",
      "  Building wheel for tactil-sensor-decoder (setup.py) ... \u001b[?25ldone\n",
      "\u001b[?25h  Created wheel for tactil-sensor-decoder: filename=tactil_sensor_decoder-1.0-py3-none-any.whl size=8557 sha256=6a1512acca2e769df66bebf0971d7901c5715d03f98c19eacf16b8cac1f0389b\n",
      "  Stored in directory: /tmp/pip-ephem-wheel-cache-1hr4oxpd/wheels/10/ad/79/e33b28551206b8c2aa6cf862ea583f6193f6dd02fa2eb147a2\n",
      "Successfully built tactil-sensor-decoder\n",
      "Installing collected packages: tactil-sensor-decoder\n",
      "  Attempting uninstall: tactil-sensor-decoder\n",
      "    Found existing installation: tactil-sensor-decoder 1.0\n",
      "    Uninstalling tactil-sensor-decoder-1.0:\n",
      "      Successfully uninstalled tactil-sensor-decoder-1.0\n",
      "Successfully installed tactil-sensor-decoder-1.0\n",
      "\u001b[33mWARNING: You are using pip version 21.3.1; however, version 22.0.4 is available.\n",
      "You should consider upgrading via the '/usr/local/bin/python3 -m pip install --upgrade pip' command.\u001b[0m\n"
     ]
    }
   ],
   "source": [
    "# %pip install --force-reinstall git+https://github.com/RQC-Robotics/RQC-Robotics-tactile_sensor"
   ]
  },
  {
   "cell_type": "code",
   "execution_count": 12,
   "metadata": {
    "cellId": "p5k153ekggp9r7wh6i7ej6",
    "id": "EPNxeZi7MnUO"
   },
   "outputs": [
    {
     "ename": "ModuleNotFoundError",
     "evalue": "No module named 'sensor_lib.tf_sim'",
     "output_type": "error",
     "traceback": [
      "\u001b[0;31m---------------------------------------------------------------------------\u001b[0m",
      "\u001b[0;31mModuleNotFoundError\u001b[0m                       Traceback (most recent call last)",
      "\u001b[0;32m<ipython-input-1-1e141e4888ac>\u001b[0m in \u001b[0;36m<module>\u001b[0;34m\u001b[0m\n\u001b[0;32m----> 1\u001b[0;31m \u001b[0;32mimport\u001b[0m \u001b[0msensor_lib\u001b[0m \u001b[0;32mas\u001b[0m \u001b[0msl\u001b[0m\u001b[0;34m\u001b[0m\u001b[0;34m\u001b[0m\u001b[0m\n\u001b[0m\u001b[1;32m      2\u001b[0m \u001b[0;32mimport\u001b[0m \u001b[0mtensorflow\u001b[0m \u001b[0;32mas\u001b[0m \u001b[0mtf\u001b[0m\u001b[0;34m\u001b[0m\u001b[0;34m\u001b[0m\u001b[0m\n\u001b[1;32m      3\u001b[0m \u001b[0;32mimport\u001b[0m \u001b[0mnumpy\u001b[0m \u001b[0;32mas\u001b[0m \u001b[0mnp\u001b[0m\u001b[0;34m\u001b[0m\u001b[0;34m\u001b[0m\u001b[0m\n\u001b[1;32m      4\u001b[0m \u001b[0;32mimport\u001b[0m \u001b[0mmatplotlib\u001b[0m\u001b[0;34m.\u001b[0m\u001b[0mpyplot\u001b[0m \u001b[0;32mas\u001b[0m \u001b[0mplt\u001b[0m\u001b[0;34m\u001b[0m\u001b[0;34m\u001b[0m\u001b[0m\n\u001b[1;32m      5\u001b[0m \u001b[0;31m#\u001b[0m\u001b[0;34m\u001b[0m\u001b[0;34m\u001b[0m\u001b[0;34m\u001b[0m\u001b[0m\n",
      "\u001b[0;32m~/.local/lib/python3.8/site-packages/sensor_lib/__init__.py\u001b[0m in \u001b[0;36m<module>\u001b[0;34m\u001b[0m\n\u001b[1;32m      1\u001b[0m \u001b[0;32mfrom\u001b[0m \u001b[0;34m.\u001b[0m\u001b[0mnets\u001b[0m \u001b[0;32mimport\u001b[0m \u001b[0;34m*\u001b[0m\u001b[0;34m\u001b[0m\u001b[0;34m\u001b[0m\u001b[0m\n\u001b[0;32m----> 2\u001b[0;31m \u001b[0;32mfrom\u001b[0m \u001b[0;34m.\u001b[0m\u001b[0mtf_sim\u001b[0m \u001b[0;32mimport\u001b[0m \u001b[0;34m*\u001b[0m \u001b[0;31m# generate_pressure_map, fiber_sim, sim_on_gpu, prepare_dataset_for_train\u001b[0m\u001b[0;34m\u001b[0m\u001b[0;34m\u001b[0m\u001b[0m\n\u001b[0m",
      "\u001b[0;31mModuleNotFoundError\u001b[0m: No module named 'sensor_lib.tf_sim'"
     ]
    }
   ],
   "source": [
    "import sensor_lib as sl\n",
    "import tensorflow as tf\n",
    "import numpy as np\n",
    "import matplotlib.pyplot as plt"
   ]
  },
  {
   "cell_type": "code",
   "execution_count": null,
   "metadata": {
    "cellId": "vptg8tpkmjsy0e775hjxuh",
    "id": "9Xjwj5Xw8Cn7"
   },
   "outputs": [],
   "source": [
    "from google.colab import drive\n",
    "drive.mount('/content/drive')"
   ]
  },
  {
   "cell_type": "code",
   "execution_count": null,
   "metadata": {
    "cellId": "8jcop88f9c2hat1x0qv5ae",
    "id": "dQZK-hLfRPXm"
   },
   "outputs": [],
   "source": [
    "n_gauses=30  # sum of this number of gauses constitute presure profile.\n",
    "n_pic=100000 # number of generated sempels\n",
    "n_fibers=4 # number of laers in sensor (every laers have 64 parralel fibers. In different laers fibers located in different directions)\n",
    "n_rot=1 # number of random rotation (data augmentation)\n",
    "lerning_rate=1e-4\n",
    "n_epochs=20\n",
    "\n",
    "dir_of_data='/content/drive/MyDrive/Colab_projects/sensor/' # part to folder with data and results"
   ]
  },
  {
   "cell_type": "markdown",
   "metadata": {
    "cellId": "0qsaltjhgqjacye7rpbjuj6",
    "id": "nlRUT4zvYX8n"
   },
   "source": [
    "# generation pressure_map"
   ]
  },
  {
   "cell_type": "code",
   "execution_count": null,
   "metadata": {
    "cellId": "pi6xqdsv3dm15ematg1u1t",
    "id": "zmVvcGUnWg67"
   },
   "outputs": [],
   "source": [
    "sl.generate_pressure_map(\n",
    "    n_pic, n_fibers, x= 97, y = 97,\n",
    "    part=dir_of_data + 'generated_gauses/fresh_gauss'+str(n_gauses)+'_'+str(n_pic)+'.npy')"
   ]
  },
  {
   "cell_type": "code",
   "execution_count": null,
   "metadata": {
    "cellId": "hayqcz1zdcw375ymbsowae",
    "id": "wIVTyNPT7-s4"
   },
   "outputs": [],
   "source": [
    "from google.colab import drive\n",
    "drive.mount('/content/drive')"
   ]
  },
  {
   "cell_type": "markdown",
   "metadata": {
    "cellId": "1ntrxij2ivueoga583gl08",
    "id": "1S5uLr7FZMqo"
   },
   "source": [
    "# counting losses in fibers (input of nerual network)"
   ]
  },
  {
   "cell_type": "code",
   "execution_count": null,
   "metadata": {
    "cellId": "8mvmakpxab3dl4n7rh3shc",
    "id": "21I9FVD7WiIb"
   },
   "outputs": [],
   "source": [
    "input, output, input_test, output_test = sl.sim_on_gpu(\n",
    "    dir_of_data + 'fresh_gauss'+str(n_gauses)+'_'+str(n_pic)+'.npy',\n",
    "    n_random_rot=n_rot, n_angles=n_fibers,\n",
    "    batch_size_preproc=128*8\n",
    "    )\n",
    "input_shape = input.shape\n",
    "output_shape = output.shape\n",
    "dataset_b, dataset = sl.prepare_dataset_for_train(\n",
    "    input, output, batch_size_fit_model=1024*2\n",
    "    )\n",
    "dataset_test_b, dataset_test = sl.prepare_dataset_for_train(\n",
    "    input_test, output_test,batch_size_fit_model=1024*2\n",
    "    )"
   ]
  },
  {
   "cell_type": "markdown",
   "metadata": {
    "cellId": "nkd72ry4zcavf15haxeacf",
    "id": "2HBUJ_mMZzqT"
   },
   "source": [
    "# defining nerual network for decoding and fitting it"
   ]
  },
  {
   "cell_type": "code",
   "execution_count": null,
   "metadata": {
    "cellId": "cweyh603iwrectff9dywgi",
    "id": "BDLRQfkvWuX7"
   },
   "outputs": [],
   "source": [
    "model = sl.SensorNN4S(input_shape[1:3], output_shape[1:3])\n",
    "model.build(input_shape)\n",
    "model.summary()\n",
    "model.compile(\n",
    "    optimizer=tf.keras.optimizers.Adam(lerning_rate),\n",
    "    loss=tf.keras.losses.MeanSquaredError(),\n",
    "    metrics=['accuracy']\n",
    "    )\n",
    "model_name= 'deep_model'"
   ]
  },
  {
   "cell_type": "code",
   "execution_count": null,
   "metadata": {
    "cellId": "lfkb5a64nuo5099uzvu1sc",
    "id": "kmGd-a3SW0j6"
   },
   "outputs": [],
   "source": [
    "model.fit(dataset_b, epochs = n_epochs, verbose=1)"
   ]
  },
  {
   "cell_type": "code",
   "execution_count": null,
   "metadata": {
    "cellId": "xyvoz6f4edtsir4vw4mbo",
    "id": "yn0PxjqHW5Mj"
   },
   "outputs": [],
   "source": [
    "model.save(dir_of_data + 'models_weights/model4S_'+str(n_fibers)+'fi.nn')"
   ]
  },
  {
   "cell_type": "markdown",
   "metadata": {
    "cellId": "5m68q6aecufkzhregwm9",
    "id": "59CcWzTRao6i"
   },
   "source": [
    "# evoluate model on don't seen data"
   ]
  },
  {
   "cell_type": "code",
   "execution_count": null,
   "metadata": {
    "cellId": "hp908y5rqlnqmj0rwdk7og",
    "id": "3EJRgZf_ahn8"
   },
   "outputs": [],
   "source": [
    "model = tf.keras.models.load_model(dir_of_data + 'models_weights/model4S_'+str(n_fibers)+'fi.nn')"
   ]
  },
  {
   "cell_type": "code",
   "execution_count": null,
   "metadata": {
    "cellId": "sryew8rev5sk0fxhof1fad",
    "id": "5f1CsIn2W-mx"
   },
   "outputs": [],
   "source": [
    "model.evaluate(dataset_test_b)"
   ]
  },
  {
   "cell_type": "code",
   "execution_count": null,
   "metadata": {
    "cellId": "0mjlepsq9t4ky98kcqoh8zd",
    "id": "u7JN832XXD8w"
   },
   "outputs": [],
   "source": [
    "predictions = model.predict(dataset_test_b)\n",
    "predictions.shape"
   ]
  },
  {
   "cell_type": "markdown",
   "metadata": {
    "cellId": "rbse2nlcd3h9f0nucbc1tf",
    "id": "Dosd971-bpeh"
   },
   "source": [
    "# saving resalts"
   ]
  },
  {
   "cell_type": "code",
   "execution_count": null,
   "metadata": {
    "cellId": "yggb3i363hppnsz5id8yi",
    "id": "exK4-QIhXG7C"
   },
   "outputs": [],
   "source": [
    "with open(dir_of_data + 'results/'+model_name+'_'+str(n_gauses)+'g_'+str(n_fibers)+'fi', 'wb') as f:\n",
    "    np.save(f, predictions)\n",
    "    np.save(f, output_test)"
   ]
  },
  {
   "cell_type": "markdown",
   "metadata": {
    "cellId": "fc135ka0qptz32k3d3n7xf",
    "id": "SoeWHe4obu1u"
   },
   "source": [
    "# look on resalts"
   ]
  },
  {
   "cell_type": "code",
   "execution_count": null,
   "metadata": {
    "cellId": "zmrk4xfth886cjwbb72pza",
    "id": "R90KNoG0b4oi"
   },
   "outputs": [],
   "source": [
    "with open(dir_of_data + 'results/'+model_name+'_'+str(n_gauses)+'g_'+str(n_fibers)+'fi', 'rb') as f:\n",
    "    predictions = np.load(f)\n",
    "    output_test = np.load(f)"
   ]
  },
  {
   "cell_type": "code",
   "execution_count": null,
   "metadata": {
    "cellId": "dtz68v8jwn6pwttc1nbag",
    "id": "T22TeQF6XJ9i"
   },
   "outputs": [],
   "source": [
    "print('len= ', len(predictions))\n",
    "N = 4 # number of exampel\n",
    "plt.imshow(predictions[N])\n",
    "plt.show()\n",
    "plt.imshow(output_test[N])\n",
    "plt.show()"
   ]
  }
 ],
 "metadata": {
  "colab": {
   "include_colab_link": true,
   "name": "Untitled11.ipynb",
   "private_outputs": true,
   "provenance": []
  },
  "kernelspec": {
   "display_name": "Yandex DataSphere Kernel",
   "language": "python",
   "name": "python3"
  },
  "language_info": {
   "codemirror_mode": {
    "name": "ipython",
    "version": 3
   },
   "file_extension": ".py",
   "mimetype": "text/x-python",
   "name": "python",
   "nbconvert_exporter": "python",
   "pygments_lexer": "ipython3",
   "version": "3.7.7"
  },
  "notebookId": "481d3098-b4e4-4dca-8695-2093b7f3dc4c",
  "notebookPath": "RQC-Robotics-tactile_sensor/exampels/main.ipynb"
 },
 "nbformat": 4,
 "nbformat_minor": 4
}
