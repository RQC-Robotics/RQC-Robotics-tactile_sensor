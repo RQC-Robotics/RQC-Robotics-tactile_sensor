{
 "cells": [
  {
   "cell_type": "code",
   "execution_count": null,
   "id": "09caeb8c-8b61-4073-8b1a-66f0b9d54eab",
   "metadata": {},
   "outputs": [],
   "source": [
    "# !git clone https://github.com/RQC-Robotics/RQC-Robotics-tactile_sensor\n",
    "# import sys\n",
    "# sys.path.append('/content/RQC-Robotics-tactile_sensor')\n",
    "import sensor_lib as sl"
   ]
  },
  {
   "cell_type": "code",
   "execution_count": null,
   "id": "67634fe9-df45-485d-b1cc-d4a1f9289734",
   "metadata": {},
   "outputs": [],
   "source": [
    "n_gauses=10\n",
    "n_pic=100\n",
    "n_fibers=4\n",
    "n_rot=1\n",
    "lerning_rate=1e-4\n",
    "n_epochs=30"
   ]
  },
  {
   "cell_type": "code",
   "execution_count": null,
   "id": "179230e6-c847-47fc-af79-9083fad88b31",
   "metadata": {},
   "outputs": [],
   "source": [
    "sl.generate_pressure_map(n_pic, n_fibers, x= 97, y = 97, part='generated_gauses/fresh_gauss'+str(n_gauses)+'_'+str(n_pic)+'.npy')"
   ]
  },
  {
   "cell_type": "code",
   "execution_count": null,
   "id": "2be8962b-92d9-44af-a653-2e55b416e1f0",
   "metadata": {},
   "outputs": [],
   "source": [
    "input, output, input_test, output_test = sl.sim_on_gpu('generated_gauses/fresh_gauss'+str(n_gauses)+'_'+str(n_pic)+'.npy', n_random_rot=n_rot, n_angles=n_fibers, batch_size_preproc=128*8,size=100,test_size=10)\n",
    "input_shape = input.shape\n",
    "output_shape = output.shape\n",
    "dataset_b, dataset = sl.prepare_dataset_for_train(input, output, batch_size_fit_model=1024*2)\n",
    "dataset_test_b, dataset_test = sl.prepare_dataset_for_train(input_test, output_test, batch_size_fit_model=1024*2)"
   ]
  },
  {
   "cell_type": "code",
   "execution_count": null,
   "id": "ec147279-fbff-4acd-ab63-c8879e22b525",
   "metadata": {},
   "outputs": [],
   "source": [
    "model = sl.SensorNN4S(input_shape[1:3], output_shape[1:3])\n",
    "model.build(input_shape)\n",
    "model.summary()\n",
    "model.compile(optimizer=tf.keras.optimizers.Adam(lerning_rate), loss=tf.keras.losses.MeanSquaredError(), metrics=['accuracy'])"
   ]
  },
  {
   "cell_type": "code",
   "execution_count": null,
   "id": "7bbedfa4-6b4f-45ee-9e07-c55017acc69d",
   "metadata": {},
   "outputs": [],
   "source": [
    "with tf.device('/gpu:1'): \n",
    "    model.fit(dataset_b, epochs = n_epochs, verbose=1)"
   ]
  },
  {
   "cell_type": "code",
   "execution_count": null,
   "id": "0e13b43e-86fd-43c5-a363-afe07a4c3eae",
   "metadata": {},
   "outputs": [],
   "source": [
    "model.save('models_weights/model4S_'+str(n_fibers)+'fi.nn')"
   ]
  },
  {
   "cell_type": "code",
   "execution_count": null,
   "id": "c904521a-72ae-4ab5-83b1-29382b8c0c8e",
   "metadata": {},
   "outputs": [],
   "source": [
    "model.evaluate(dataset_test_b)"
   ]
  },
  {
   "cell_type": "code",
   "execution_count": null,
   "id": "2683e694-f414-418e-9fac-eda5060a184e",
   "metadata": {},
   "outputs": [],
   "source": [
    "predictions = model.predict(dataset_test_b)\n",
    "predictions.shape"
   ]
  },
  {
   "cell_type": "code",
   "execution_count": null,
   "id": "98ace8e5-aa6b-4946-b013-058596e6a093",
   "metadata": {},
   "outputs": [],
   "source": [
    "with open('pred_4S_'+str(n_gauses)+'g_'+str(n_fibers)+'fi', 'wb') as f:\n",
    "    np.save(f, predictions)\n",
    "    np.save(f, output_test)"
   ]
  },
  {
   "cell_type": "code",
   "execution_count": null,
   "id": "42bcad7e-d6fd-4efd-8c71-ba13ce3d2ae7",
   "metadata": {},
   "outputs": [],
   "source": [
    "N = 24 #28 26 24 23 21 20\n",
    "plt.imshow(predictions[N])\n",
    "plt.show()\n",
    "plt.imshow(output_test[N])\n",
    "plt.show()"
   ]
  }
 ],
 "metadata": {
  "kernelspec": {
   "display_name": "rlgpu2",
   "language": "python",
   "name": "rlgpu2"
  },
  "language_info": {
   "codemirror_mode": {
    "name": "ipython",
    "version": 3
   },
   "file_extension": ".py",
   "mimetype": "text/x-python",
   "name": "python",
   "nbconvert_exporter": "python",
   "pygments_lexer": "ipython3",
   "version": "3.7.12"
  }
 },
 "nbformat": 4,
 "nbformat_minor": 5
}
