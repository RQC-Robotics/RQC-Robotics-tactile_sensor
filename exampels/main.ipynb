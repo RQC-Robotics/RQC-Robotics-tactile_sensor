{
 "cells": [
  {
   "cell_type": "code",
   "execution_count": null,
   "metadata": {
    "id": "l-tHFk4i4v2i"
   },
   "outputs": [],
   "source": [
    "import sys\n",
    "import tensorflow as tf\n",
    "import numpy as np\n",
    "import matplotlib.pyplot as plt\n",
    "sys.path.append('/content/RQC-Robotics-tactile_sensor')\n",
    "import sensor_lib as sl\n",
    "import os\n",
    "dir='/content/RQC-Robotics-tactile_sensor/'\n",
    "os.mkdir(dir+'generated_gauses')\n",
    "os.mkdir(dir+'models_weights')\n",
    "os.mkdir(dir+'resalts')"
   ]
  },
  {
   "cell_type": "code",
   "execution_count": null,
   "metadata": {
    "id": "_nhx98SO3WvS"
   },
   "outputs": [],
   "source": [
    "n_gauses=10\n",
    "n_pic=1000\n",
    "n_fibers=4\n",
    "n_rot=1\n",
    "lerning_rate=1e-4\n",
    "n_epochs=30"
   ]
  },
  {
   "cell_type": "code",
   "execution_count": null,
   "metadata": {
    "id": "Womhk-kk6B0U"
   },
   "outputs": [],
   "source": [
    "sl.generate_pressure_map(\n",
    "    n_pic, n_fibers, x= 97, y = 97,\n",
    "    part=dir+'generated_gauses/fresh_gauss'+str(n_gauses)+'_'+str(n_pic)+'.npy')"
   ]
  },
  {
   "cell_type": "code",
   "execution_count": null,
   "metadata": {
    "id": "CSoVXXUk6Z48"
   },
   "outputs": [],
   "source": [
    "input, output, input_test, output_test = sl.sim_on_gpu(\n",
    "    dir+'generated_gauses/fresh_gauss'+str(n_gauses)+'_'+str(n_pic)+'.npy',\n",
    "    n_random_rot=n_rot, n_angles=n_fibers,\n",
    "    batch_size_preproc=128*8\n",
    "    )\n",
    "input_shape = input.shape\n",
    "output_shape = output.shape\n",
    "dataset_b, dataset = sl.prepare_dataset_for_train(\n",
    "    input, output, batch_size_fit_model=1024*2\n",
    "    )\n",
    "dataset_test_b, dataset_test = sl.prepare_dataset_for_train(\n",
    "    input_test, output_test,batch_size_fit_model=1024*2\n",
    "    )"
   ]
  },
  {
   "cell_type": "code",
   "execution_count": null,
   "metadata": {
    "id": "EqbibcB4TuAd"
   },
   "outputs": [],
   "source": [
    "import tensorflow as tf"
   ]
  },
  {
   "cell_type": "code",
   "execution_count": null,
   "metadata": {
    "id": "mkbJmXS2Qnvv"
   },
   "outputs": [],
   "source": [
    "model = sl.SensorNN4S(input_shape[1:3], output_shape[1:3])\n",
    "model.build(input_shape)\n",
    "model.summary()\n",
    "model.compile(\n",
    "    optimizer=tf.keras.optimizers.Adam(lerning_rate),\n",
    "    loss=tf.keras.losses.MeanSquaredError(),\n",
    "    metrics=['accuracy']\n",
    "    )"
   ]
  },
  {
   "cell_type": "code",
   "execution_count": null,
   "metadata": {
    "id": "harjW4jPTgD0"
   },
   "outputs": [],
   "source": [
    "model.fit(dataset_b, epochs = n_epochs, verbose=1)"
   ]
  },
  {
   "cell_type": "code",
   "execution_count": null,
   "metadata": {
    "id": "LTCvuLP1T83K"
   },
   "outputs": [],
   "source": [
    "model.save('models_weights/model4S_'+str(n_fibers)+'fi.nn')"
   ]
  },
  {
   "cell_type": "code",
   "execution_count": null,
   "metadata": {
    "id": "c18C2c-nUDRW"
   },
   "outputs": [],
   "source": [
    "model.evaluate(dataset_test_b)"
   ]
  },
  {
   "cell_type": "code",
   "execution_count": null,
   "metadata": {
    "id": "Lobisw_WUIPt"
   },
   "outputs": [],
   "source": [
    "predictions = model.predict(dataset_test_b)\n",
    "predictions.shape"
   ]
  },
  {
   "cell_type": "code",
   "execution_count": null,
   "metadata": {
    "id": "jmbUk-APUOhl"
   },
   "outputs": [],
   "source": [
    "with open(dir+'resalts/pred_4S_'+str(n_gauses)+'g_'+str(n_fibers)+'fi', 'wb') as f:\n",
    "    np.save(f, predictions)\n",
    "    np.save(f, output_test)"
   ]
  },
  {
   "cell_type": "code",
   "execution_count": null,
   "metadata": {
    "id": "5Rrw4ygoVID3"
   },
   "outputs": [],
   "source": [
    "N = 4 #28 26 24 23 21 20\n",
    "plt.imshow(predictions[N])\n",
    "plt.show()\n",
    "plt.imshow(output_test[N])\n",
    "plt.show()"
   ]
  }
 ],
 "metadata": {
  "accelerator": "GPU",
  "colab": {
   "name": "Untitled10.ipynb",
   "private_outputs": true,
   "provenance": []
  },
  "kernelspec": {
   "display_name": "Python 3 (ipykernel)",
   "language": "python",
   "name": "python3"
  },
  "language_info": {
   "name": "python"
  }
 },
 "nbformat": 4,
 "nbformat_minor": 4
}
